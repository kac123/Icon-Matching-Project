{
 "cells": [
  {
   "cell_type": "code",
   "execution_count": 1,
   "id": "22f199fa",
   "metadata": {},
   "outputs": [],
   "source": [
    "## first block of code is just importing the requirements of the project\n",
    "\n",
    "import sys \n",
    "import os\n",
    "import h5py\n",
    "import pickle\n",
    "from matplotlib import pyplot as plt\n",
    "\n",
    "from scipy import ndimage as ndi\n",
    "from scipy import stats as sstats\n",
    "\n",
    "import math\n",
    "import numpy as np\n",
    "import pandas as pd\n",
    "from sklearn.linear_model import LogisticRegression\n",
    "from random import shuffle\n",
    "from tqdm import tqdm, tnrange, tqdm_notebook\n",
    "import collections\n",
    "import random\n",
    "import mahotas \n",
    "from sklearn.preprocessing import normalize\n",
    "from PIL import Image\n",
    "import imutils\n",
    "import logging\n",
    "\n",
    "from glob import glob"
   ]
  },
  {
   "cell_type": "code",
   "execution_count": 2,
   "id": "4b41c169",
   "metadata": {},
   "outputs": [],
   "source": [
    "# this block of code is importing all the various parts of the project from their respective modules\n",
    "from icon_util_v2 import *\n",
    "from methods_v2 import *\n",
    "from aberrations import *"
   ]
  },
  {
   "cell_type": "code",
   "execution_count": 3,
   "id": "28295625",
   "metadata": {},
   "outputs": [
    {
     "name": "stdout",
     "output_type": "stream",
     "text": [
      "100\n"
     ]
    }
   ],
   "source": [
    "hdf5_file = h5py.File('LLD-icon.hdf5', 'r')\n",
    "images, _ = (hdf5_file['data'], hdf5_file['labels/resnet/rc_64'])\n",
    "images = images[:100]\n",
    "# transpose the images because they're stored in a weird color channel first format, as indicated by shape[0] being 3\n",
    "images = [np.transpose(i) if i.shape[0] == 3 else i for i in images]\n",
    "print(len(images))"
   ]
  },
  {
   "cell_type": "code",
   "execution_count": 13,
   "id": "ebcb84df",
   "metadata": {},
   "outputs": [
    {
     "name": "stdout",
     "output_type": "stream",
     "text": [
      "0\n",
      "50\n",
      "0\n",
      "50\n",
      "Chunk: 1\n",
      "0\n",
      "10\n",
      "20\n",
      "30\n",
      "40\n",
      "50\n",
      "60\n",
      "70\n",
      "80\n",
      "90\n",
      "0\n",
      "10\n",
      "20\n",
      "30\n",
      "40\n",
      "50\n",
      "60\n",
      "70\n",
      "80\n",
      "90\n",
      "0\n",
      "10\n",
      "20\n",
      "30\n",
      "40\n",
      "50\n",
      "60\n",
      "70\n",
      "80\n",
      "90\n",
      "0\n",
      "10\n",
      "20\n",
      "30\n",
      "40\n",
      "50\n",
      "60\n",
      "70\n",
      "80\n",
      "90\n",
      "0\n",
      "10\n",
      "20\n",
      "30\n",
      "40\n",
      "50\n",
      "60\n",
      "70\n",
      "80\n",
      "90\n",
      "0\n",
      "10\n",
      "20\n",
      "30\n",
      "40\n",
      "50\n",
      "60\n",
      "70\n",
      "80\n",
      "90\n",
      "0\n",
      "10\n",
      "20\n",
      "30\n",
      "40\n",
      "50\n",
      "60\n",
      "70\n",
      "80\n",
      "90\n",
      "0\n",
      "10\n",
      "20\n",
      "30\n",
      "40\n",
      "50\n",
      "60\n",
      "70\n",
      "80\n",
      "90\n",
      "0\n",
      "10\n",
      "20\n",
      "30\n",
      "40\n",
      "50\n",
      "60\n",
      "70\n",
      "80\n",
      "90\n",
      "0\n",
      "10\n",
      "20\n",
      "30\n",
      "40\n",
      "50\n",
      "60\n",
      "70\n",
      "80\n",
      "90\n",
      "0\n",
      "10\n",
      "20\n",
      "30\n",
      "40\n",
      "50\n",
      "60\n",
      "70\n",
      "80\n",
      "90\n",
      "Done\n"
     ]
    }
   ],
   "source": [
    "image_set_name = \"icon100\"\n",
    "\n",
    "logdir = \"Logs20211001_7\"\n",
    "if not os.path.exists(\"Logs\"):\n",
    "    os.mkdir(\"Logs\")\n",
    "if not os.path.exists(\"Logs/\"+logdir):\n",
    "        os.mkdir(\"Logs/\"+logdir)\n",
    "\n",
    "method_classes = [zernike_method, orb_method, neural_method, small_neural_method]\n",
    "timm_names=['vit_small_r26_s32_224',\n",
    "            'cspdarknet53',\n",
    "            'tf_efficientnetv2_l',\n",
    "            'resnet50',\n",
    "            'ecaresnetlight',\n",
    "            'mixnet_s',\n",
    "            'res2next50',\n",
    "            'wide_resnet50_2']\n",
    "methods = [timm_method(modelname=i,cuda=True) for i in timm_names[:2]] + [i() for i in method_classes]\n",
    "create_databases(images,methods,image_set_name)\n",
    "run_in_chunks2(methods, images, aberrations, chunk_size=100, weights=[],          \n",
    "    logdir=logdir)\n",
    "print(\"Done\")\n",
    "#method_classes = [zernike_method, orb_method, neural_method, small_neural_method]\n",
    "#methods=[m() for m in method_classes]"
   ]
  },
  {
   "cell_type": "code",
   "execution_count": 20,
   "id": "cdac615e",
   "metadata": {},
   "outputs": [
    {
     "name": "stdout",
     "output_type": "stream",
     "text": [
      "['Logs/Logs20211001_3\\\\results_1.csv', 'Logs/Logs20211001_3\\\\results_10.csv', 'Logs/Logs20211001_3\\\\results_100.csv', 'Logs/Logs20211001_3\\\\results_101.csv', 'Logs/Logs20211001_3\\\\results_102.csv', 'Logs/Logs20211001_3\\\\results_103.csv', 'Logs/Logs20211001_3\\\\results_104.csv', 'Logs/Logs20211001_3\\\\results_105.csv', 'Logs/Logs20211001_3\\\\results_106.csv', 'Logs/Logs20211001_3\\\\results_107.csv', 'Logs/Logs20211001_3\\\\results_108.csv', 'Logs/Logs20211001_3\\\\results_109.csv', 'Logs/Logs20211001_3\\\\results_11.csv', 'Logs/Logs20211001_3\\\\results_110.csv', 'Logs/Logs20211001_3\\\\results_12.csv', 'Logs/Logs20211001_3\\\\results_13.csv', 'Logs/Logs20211001_3\\\\results_14.csv', 'Logs/Logs20211001_3\\\\results_15.csv', 'Logs/Logs20211001_3\\\\results_16.csv', 'Logs/Logs20211001_3\\\\results_17.csv', 'Logs/Logs20211001_3\\\\results_18.csv', 'Logs/Logs20211001_3\\\\results_19.csv', 'Logs/Logs20211001_3\\\\results_2.csv', 'Logs/Logs20211001_3\\\\results_20.csv', 'Logs/Logs20211001_3\\\\results_21.csv', 'Logs/Logs20211001_3\\\\results_22.csv', 'Logs/Logs20211001_3\\\\results_23.csv', 'Logs/Logs20211001_3\\\\results_24.csv', 'Logs/Logs20211001_3\\\\results_25.csv', 'Logs/Logs20211001_3\\\\results_26.csv', 'Logs/Logs20211001_3\\\\results_27.csv', 'Logs/Logs20211001_3\\\\results_28.csv', 'Logs/Logs20211001_3\\\\results_29.csv', 'Logs/Logs20211001_3\\\\results_3.csv', 'Logs/Logs20211001_3\\\\results_30.csv', 'Logs/Logs20211001_3\\\\results_31.csv', 'Logs/Logs20211001_3\\\\results_32.csv', 'Logs/Logs20211001_3\\\\results_33.csv', 'Logs/Logs20211001_3\\\\results_34.csv', 'Logs/Logs20211001_3\\\\results_35.csv', 'Logs/Logs20211001_3\\\\results_36.csv', 'Logs/Logs20211001_3\\\\results_37.csv', 'Logs/Logs20211001_3\\\\results_38.csv', 'Logs/Logs20211001_3\\\\results_39.csv', 'Logs/Logs20211001_3\\\\results_4.csv', 'Logs/Logs20211001_3\\\\results_40.csv', 'Logs/Logs20211001_3\\\\results_41.csv', 'Logs/Logs20211001_3\\\\results_42.csv', 'Logs/Logs20211001_3\\\\results_43.csv', 'Logs/Logs20211001_3\\\\results_44.csv', 'Logs/Logs20211001_3\\\\results_45.csv', 'Logs/Logs20211001_3\\\\results_46.csv', 'Logs/Logs20211001_3\\\\results_47.csv', 'Logs/Logs20211001_3\\\\results_48.csv', 'Logs/Logs20211001_3\\\\results_49.csv', 'Logs/Logs20211001_3\\\\results_5.csv', 'Logs/Logs20211001_3\\\\results_50.csv', 'Logs/Logs20211001_3\\\\results_51.csv', 'Logs/Logs20211001_3\\\\results_52.csv', 'Logs/Logs20211001_3\\\\results_53.csv', 'Logs/Logs20211001_3\\\\results_54.csv', 'Logs/Logs20211001_3\\\\results_55.csv', 'Logs/Logs20211001_3\\\\results_56.csv', 'Logs/Logs20211001_3\\\\results_57.csv', 'Logs/Logs20211001_3\\\\results_58.csv', 'Logs/Logs20211001_3\\\\results_59.csv', 'Logs/Logs20211001_3\\\\results_6.csv', 'Logs/Logs20211001_3\\\\results_60.csv', 'Logs/Logs20211001_3\\\\results_61.csv', 'Logs/Logs20211001_3\\\\results_62.csv', 'Logs/Logs20211001_3\\\\results_63.csv', 'Logs/Logs20211001_3\\\\results_64.csv', 'Logs/Logs20211001_3\\\\results_65.csv', 'Logs/Logs20211001_3\\\\results_66.csv', 'Logs/Logs20211001_3\\\\results_67.csv', 'Logs/Logs20211001_3\\\\results_68.csv', 'Logs/Logs20211001_3\\\\results_69.csv', 'Logs/Logs20211001_3\\\\results_7.csv', 'Logs/Logs20211001_3\\\\results_70.csv', 'Logs/Logs20211001_3\\\\results_71.csv', 'Logs/Logs20211001_3\\\\results_72.csv', 'Logs/Logs20211001_3\\\\results_73.csv', 'Logs/Logs20211001_3\\\\results_74.csv', 'Logs/Logs20211001_3\\\\results_75.csv', 'Logs/Logs20211001_3\\\\results_76.csv', 'Logs/Logs20211001_3\\\\results_77.csv', 'Logs/Logs20211001_3\\\\results_78.csv', 'Logs/Logs20211001_3\\\\results_79.csv', 'Logs/Logs20211001_3\\\\results_8.csv', 'Logs/Logs20211001_3\\\\results_80.csv', 'Logs/Logs20211001_3\\\\results_81.csv', 'Logs/Logs20211001_3\\\\results_82.csv', 'Logs/Logs20211001_3\\\\results_83.csv', 'Logs/Logs20211001_3\\\\results_84.csv', 'Logs/Logs20211001_3\\\\results_85.csv', 'Logs/Logs20211001_3\\\\results_86.csv', 'Logs/Logs20211001_3\\\\results_87.csv', 'Logs/Logs20211001_3\\\\results_88.csv', 'Logs/Logs20211001_3\\\\results_89.csv', 'Logs/Logs20211001_3\\\\results_9.csv', 'Logs/Logs20211001_3\\\\results_90.csv', 'Logs/Logs20211001_3\\\\results_91.csv', 'Logs/Logs20211001_3\\\\results_92.csv', 'Logs/Logs20211001_3\\\\results_93.csv', 'Logs/Logs20211001_3\\\\results_94.csv', 'Logs/Logs20211001_3\\\\results_95.csv', 'Logs/Logs20211001_3\\\\results_96.csv', 'Logs/Logs20211001_3\\\\results_97.csv', 'Logs/Logs20211001_3\\\\results_98.csv', 'Logs/Logs20211001_3\\\\results_99.csv']\n",
      "       aberration                      method       score  rank      time\n",
      "0           ab_id                     Zernike  100.000000     1  0.008322\n",
      "1           ab_id                         Orb  100.000000     1  0.056768\n",
      "2           ab_id                      Neural  100.000000     1  0.034947\n",
      "3           ab_id                Small_Neural  100.000000     1  0.002440\n",
      "4           ab_id  Timm_vit_small_r26_s32_224   -1.000000     1  0.001611\n",
      "..            ...                         ...         ...   ...       ...\n",
      "695  ab_draw_warp                      Neural   89.120027     1  0.037114\n",
      "696  ab_draw_warp                Small_Neural   56.670123     1  0.002411\n",
      "697  ab_draw_warp  Timm_vit_small_r26_s32_224   -1.000000   100  0.002007\n",
      "698  ab_draw_warp             combined_method    0.000000   100  0.000353\n",
      "699  ab_draw_warp           uwcombined_method    0.000000   100  0.000364\n",
      "\n",
      "[77000 rows x 5 columns]\n"
     ]
    }
   ],
   "source": [
    "logdir = \"Logs20211001_3\"\n",
    "# Load all the logs into a single dataframe for processing\n",
    "log_files = glob(\"Logs/\"+logdir+\"/*\") # these are the logs that we're loading\n",
    "print(log_files)\n",
    "joined_logs = pd.concat([pd.read_csv(i) for i in log_files])\n",
    "print(joined_logs)"
   ]
  },
  {
   "cell_type": "code",
   "execution_count": null,
   "id": "e5edaaa6",
   "metadata": {},
   "outputs": [],
   "source": []
  },
  {
   "cell_type": "code",
   "execution_count": 21,
   "id": "2700e7ea",
   "metadata": {},
   "outputs": [
    {
     "name": "stdout",
     "output_type": "stream",
     "text": [
      "Ranking\n"
     ]
    },
    {
     "ename": "IndexError",
     "evalue": "index 2 is out of bounds for axis 0 with size 2",
     "output_type": "error",
     "traceback": [
      "\u001b[1;31m---------------------------------------------------------------------------\u001b[0m",
      "\u001b[1;31mIndexError\u001b[0m                                Traceback (most recent call last)",
      "\u001b[1;32m<ipython-input-21-198096a23476>\u001b[0m in \u001b[0;36m<module>\u001b[1;34m\u001b[0m\n\u001b[0;32m      8\u001b[0m \u001b[0mjoined_logs\u001b[0m\u001b[1;33m[\u001b[0m\u001b[0mjoined_logs\u001b[0m\u001b[1;33m[\u001b[0m\u001b[1;34m'method'\u001b[0m\u001b[1;33m]\u001b[0m\u001b[1;33m==\u001b[0m\u001b[0mmpref\u001b[0m\u001b[1;33m+\u001b[0m\u001b[1;34m'Neural'\u001b[0m\u001b[1;33m]\u001b[0m\u001b[1;33m[\u001b[0m\u001b[1;34m'rank'\u001b[0m\u001b[1;33m]\u001b[0m\u001b[1;33m.\u001b[0m\u001b[0mhist\u001b[0m\u001b[1;33m(\u001b[0m\u001b[0mbins\u001b[0m\u001b[1;33m=\u001b[0m\u001b[1;36m20\u001b[0m\u001b[1;33m,\u001b[0m \u001b[0mfigsize\u001b[0m\u001b[1;33m=\u001b[0m\u001b[1;33m(\u001b[0m\u001b[1;36m10\u001b[0m\u001b[1;33m,\u001b[0m\u001b[1;36m10\u001b[0m\u001b[1;33m)\u001b[0m\u001b[1;33m,\u001b[0m \u001b[0max\u001b[0m\u001b[1;33m=\u001b[0m\u001b[0maxes\u001b[0m\u001b[1;33m[\u001b[0m\u001b[1;36m1\u001b[0m\u001b[1;33m,\u001b[0m\u001b[1;36m1\u001b[0m\u001b[1;33m]\u001b[0m\u001b[1;33m)\u001b[0m\u001b[1;33m\u001b[0m\u001b[1;33m\u001b[0m\u001b[0m\n\u001b[0;32m      9\u001b[0m \u001b[0maxes\u001b[0m\u001b[1;33m[\u001b[0m\u001b[1;36m1\u001b[0m\u001b[1;33m,\u001b[0m\u001b[1;36m1\u001b[0m\u001b[1;33m]\u001b[0m\u001b[1;33m.\u001b[0m\u001b[0mset_title\u001b[0m\u001b[1;33m(\u001b[0m\u001b[1;34m'Neural'\u001b[0m\u001b[1;33m)\u001b[0m\u001b[1;33m\u001b[0m\u001b[1;33m\u001b[0m\u001b[0m\n\u001b[1;32m---> 10\u001b[1;33m \u001b[0mjoined_logs\u001b[0m\u001b[1;33m[\u001b[0m\u001b[0mjoined_logs\u001b[0m\u001b[1;33m[\u001b[0m\u001b[1;34m'method'\u001b[0m\u001b[1;33m]\u001b[0m\u001b[1;33m==\u001b[0m\u001b[1;34m'Zernike'\u001b[0m\u001b[1;33m]\u001b[0m\u001b[1;33m[\u001b[0m\u001b[1;34m'rank'\u001b[0m\u001b[1;33m]\u001b[0m\u001b[1;33m.\u001b[0m\u001b[0mhist\u001b[0m\u001b[1;33m(\u001b[0m\u001b[0mbins\u001b[0m\u001b[1;33m=\u001b[0m\u001b[1;36m20\u001b[0m\u001b[1;33m,\u001b[0m \u001b[0mfigsize\u001b[0m\u001b[1;33m=\u001b[0m\u001b[1;33m(\u001b[0m\u001b[1;36m10\u001b[0m\u001b[1;33m,\u001b[0m\u001b[1;36m10\u001b[0m\u001b[1;33m)\u001b[0m\u001b[1;33m,\u001b[0m \u001b[0max\u001b[0m\u001b[1;33m=\u001b[0m\u001b[0maxes\u001b[0m\u001b[1;33m[\u001b[0m\u001b[1;36m2\u001b[0m\u001b[1;33m,\u001b[0m\u001b[1;36m1\u001b[0m\u001b[1;33m]\u001b[0m\u001b[1;33m)\u001b[0m\u001b[1;33m\u001b[0m\u001b[1;33m\u001b[0m\u001b[0m\n\u001b[0m\u001b[0;32m     11\u001b[0m \u001b[0maxes\u001b[0m\u001b[1;33m[\u001b[0m\u001b[1;36m2\u001b[0m\u001b[1;33m,\u001b[0m\u001b[1;36m1\u001b[0m\u001b[1;33m]\u001b[0m\u001b[1;33m.\u001b[0m\u001b[0mset_title\u001b[0m\u001b[1;33m(\u001b[0m\u001b[1;34m'Your Ad Here'\u001b[0m\u001b[1;33m)\u001b[0m\u001b[1;33m\u001b[0m\u001b[1;33m\u001b[0m\u001b[0m\n\u001b[0;32m     12\u001b[0m \u001b[0mjoined_logs\u001b[0m\u001b[1;33m[\u001b[0m\u001b[0mjoined_logs\u001b[0m\u001b[1;33m[\u001b[0m\u001b[1;34m'method'\u001b[0m\u001b[1;33m]\u001b[0m\u001b[1;33m==\u001b[0m\u001b[0mmpref\u001b[0m\u001b[1;33m+\u001b[0m\u001b[1;34m'Small_Neural'\u001b[0m\u001b[1;33m]\u001b[0m\u001b[1;33m[\u001b[0m\u001b[1;34m'rank'\u001b[0m\u001b[1;33m]\u001b[0m\u001b[1;33m.\u001b[0m\u001b[0mhist\u001b[0m\u001b[1;33m(\u001b[0m\u001b[0mbins\u001b[0m\u001b[1;33m=\u001b[0m\u001b[1;36m20\u001b[0m\u001b[1;33m,\u001b[0m \u001b[0mfigsize\u001b[0m\u001b[1;33m=\u001b[0m\u001b[1;33m(\u001b[0m\u001b[1;36m10\u001b[0m\u001b[1;33m,\u001b[0m\u001b[1;36m10\u001b[0m\u001b[1;33m)\u001b[0m\u001b[1;33m,\u001b[0m \u001b[0max\u001b[0m\u001b[1;33m=\u001b[0m\u001b[0maxes\u001b[0m\u001b[1;33m[\u001b[0m\u001b[1;36m0\u001b[0m\u001b[1;33m,\u001b[0m\u001b[1;36m1\u001b[0m\u001b[1;33m]\u001b[0m\u001b[1;33m)\u001b[0m\u001b[1;33m\u001b[0m\u001b[1;33m\u001b[0m\u001b[0m\n",
      "\u001b[1;31mIndexError\u001b[0m: index 2 is out of bounds for axis 0 with size 2"
     ]
    },
    {
     "data": {
      "image/png": "[encoded data removed]",
      "text/plain": [
       "<Figure size 720x720 with 4 Axes>"
      ]
     },
     "metadata": {
      "needs_background": "light"
     },
     "output_type": "display_data"
    }
   ],
   "source": [
    "print(\"Ranking\")\n",
    "mpref=\"\"\n",
    "fig, axes = plt.subplots(nrows=2, ncols=2)\n",
    "joined_logs[joined_logs['method']==mpref+'Timm_vit_small_r26_s32_224']['rank'].hist(bins=20, figsize=(10,10), ax=axes[0,0])\n",
    "axes[0,0].set_title('Timm')\n",
    "joined_logs[joined_logs['method']==mpref+'Orb']['rank'].hist(bins=20, figsize=(10,10), ax=axes[1,0])\n",
    "axes[1,0].set_title('Orb')\n",
    "joined_logs[joined_logs['method']==mpref+'Neural']['rank'].hist(bins=20, figsize=(10,10), ax=axes[1,1])\n",
    "axes[1,1].set_title('Neural')\n",
    "joined_logs[joined_logs['method']=='Zernike']['rank'].hist(bins=20, figsize=(10,10), ax=axes[2,1])\n",
    "axes[2,1].set_title('Your Ad Here')\n",
    "joined_logs[joined_logs['method']==mpref+'Small_Neural']['rank'].hist(bins=20, figsize=(10,10), ax=axes[0,1])\n",
    "axes[0,1].set_title('Small Neural')\n",
    "#joined_logs[joined_logs['method']=='trained_neural_method']['rank'].hist(bins=20, figsize=(10,10), ax=axes[3,1])\n",
    "#axes[3,1].set_title('Trained Neural')"
   ]
  },
  {
   "cell_type": "code",
   "execution_count": 22,
   "id": "faf0f14c",
   "metadata": {},
   "outputs": [
    {
     "name": "stdout",
     "output_type": "stream",
     "text": [
      "['Logs/Logs20211001_7\\\\results_1.csv', 'Logs/Logs20211001_7\\\\results_10.csv', 'Logs/Logs20211001_7\\\\results_11.csv', 'Logs/Logs20211001_7\\\\results_2.csv', 'Logs/Logs20211001_7\\\\results_3.csv', 'Logs/Logs20211001_7\\\\results_4.csv', 'Logs/Logs20211001_7\\\\results_5.csv', 'Logs/Logs20211001_7\\\\results_6.csv', 'Logs/Logs20211001_7\\\\results_7.csv', 'Logs/Logs20211001_7\\\\results_8.csv', 'Logs/Logs20211001_7\\\\results_9.csv']\n",
      "    aberration                      method        score  rank      time\n",
      "0        ab_id  Timm_vit_small_r26_s32_224  2146.305176     1  0.017212\n",
      "1        ab_id           Timm_cspdarknet53    31.527924     1  0.016321\n",
      "2        ab_id             combined_method   927.034546    79  0.000702\n",
      "3        ab_id           uwcombined_method   927.034546    79  0.000643\n",
      "4        ab_id  Timm_vit_small_r26_s32_224  1926.591797     1  0.018167\n",
      "..         ...                         ...          ...   ...       ...\n",
      "395    ab_draw           uwcombined_method   644.779175    98  0.000639\n",
      "396    ab_draw  Timm_vit_small_r26_s32_224  2229.426270     1  0.016830\n",
      "397    ab_draw           Timm_cspdarknet53    16.577770    34  0.015425\n",
      "398    ab_draw             combined_method  1023.176575    80  0.000562\n",
      "399    ab_draw           uwcombined_method  1023.176575    80  0.000535\n",
      "\n",
      "[4400 rows x 5 columns]\n",
      "Ranking\n"
     ]
    },
    {
     "ename": "IndexError",
     "evalue": "index 2 is out of bounds for axis 0 with size 2",
     "output_type": "error",
     "traceback": [
      "\u001b[1;31m---------------------------------------------------------------------------\u001b[0m",
      "\u001b[1;31mIndexError\u001b[0m                                Traceback (most recent call last)",
      "\u001b[1;32m<ipython-input-22-7710c797af5a>\u001b[0m in \u001b[0;36m<module>\u001b[1;34m\u001b[0m\n\u001b[0;32m     14\u001b[0m \u001b[0mjoined_logs\u001b[0m\u001b[1;33m[\u001b[0m\u001b[0mjoined_logs\u001b[0m\u001b[1;33m[\u001b[0m\u001b[1;34m'method'\u001b[0m\u001b[1;33m]\u001b[0m\u001b[1;33m==\u001b[0m\u001b[0mmpref\u001b[0m\u001b[1;33m+\u001b[0m\u001b[1;34m'Neural'\u001b[0m\u001b[1;33m]\u001b[0m\u001b[1;33m[\u001b[0m\u001b[1;34m'rank'\u001b[0m\u001b[1;33m]\u001b[0m\u001b[1;33m.\u001b[0m\u001b[0mhist\u001b[0m\u001b[1;33m(\u001b[0m\u001b[0mbins\u001b[0m\u001b[1;33m=\u001b[0m\u001b[1;36m20\u001b[0m\u001b[1;33m,\u001b[0m \u001b[0mfigsize\u001b[0m\u001b[1;33m=\u001b[0m\u001b[1;33m(\u001b[0m\u001b[1;36m10\u001b[0m\u001b[1;33m,\u001b[0m\u001b[1;36m10\u001b[0m\u001b[1;33m)\u001b[0m\u001b[1;33m,\u001b[0m \u001b[0max\u001b[0m\u001b[1;33m=\u001b[0m\u001b[0maxes\u001b[0m\u001b[1;33m[\u001b[0m\u001b[1;36m1\u001b[0m\u001b[1;33m,\u001b[0m\u001b[1;36m1\u001b[0m\u001b[1;33m]\u001b[0m\u001b[1;33m)\u001b[0m\u001b[1;33m\u001b[0m\u001b[1;33m\u001b[0m\u001b[0m\n\u001b[0;32m     15\u001b[0m \u001b[0maxes\u001b[0m\u001b[1;33m[\u001b[0m\u001b[1;36m1\u001b[0m\u001b[1;33m,\u001b[0m\u001b[1;36m1\u001b[0m\u001b[1;33m]\u001b[0m\u001b[1;33m.\u001b[0m\u001b[0mset_title\u001b[0m\u001b[1;33m(\u001b[0m\u001b[1;34m'Neural'\u001b[0m\u001b[1;33m)\u001b[0m\u001b[1;33m\u001b[0m\u001b[1;33m\u001b[0m\u001b[0m\n\u001b[1;32m---> 16\u001b[1;33m \u001b[0mjoined_logs\u001b[0m\u001b[1;33m[\u001b[0m\u001b[0mjoined_logs\u001b[0m\u001b[1;33m[\u001b[0m\u001b[1;34m'method'\u001b[0m\u001b[1;33m]\u001b[0m\u001b[1;33m==\u001b[0m\u001b[1;34m'Zernike'\u001b[0m\u001b[1;33m]\u001b[0m\u001b[1;33m[\u001b[0m\u001b[1;34m'rank'\u001b[0m\u001b[1;33m]\u001b[0m\u001b[1;33m.\u001b[0m\u001b[0mhist\u001b[0m\u001b[1;33m(\u001b[0m\u001b[0mbins\u001b[0m\u001b[1;33m=\u001b[0m\u001b[1;36m20\u001b[0m\u001b[1;33m,\u001b[0m \u001b[0mfigsize\u001b[0m\u001b[1;33m=\u001b[0m\u001b[1;33m(\u001b[0m\u001b[1;36m10\u001b[0m\u001b[1;33m,\u001b[0m\u001b[1;36m10\u001b[0m\u001b[1;33m)\u001b[0m\u001b[1;33m,\u001b[0m \u001b[0max\u001b[0m\u001b[1;33m=\u001b[0m\u001b[0maxes\u001b[0m\u001b[1;33m[\u001b[0m\u001b[1;36m2\u001b[0m\u001b[1;33m,\u001b[0m\u001b[1;36m1\u001b[0m\u001b[1;33m]\u001b[0m\u001b[1;33m)\u001b[0m\u001b[1;33m\u001b[0m\u001b[1;33m\u001b[0m\u001b[0m\n\u001b[0m\u001b[0;32m     17\u001b[0m \u001b[0maxes\u001b[0m\u001b[1;33m[\u001b[0m\u001b[1;36m2\u001b[0m\u001b[1;33m,\u001b[0m\u001b[1;36m1\u001b[0m\u001b[1;33m]\u001b[0m\u001b[1;33m.\u001b[0m\u001b[0mset_title\u001b[0m\u001b[1;33m(\u001b[0m\u001b[1;34m'Your Ad Here'\u001b[0m\u001b[1;33m)\u001b[0m\u001b[1;33m\u001b[0m\u001b[1;33m\u001b[0m\u001b[0m\n\u001b[0;32m     18\u001b[0m \u001b[0mjoined_logs\u001b[0m\u001b[1;33m[\u001b[0m\u001b[0mjoined_logs\u001b[0m\u001b[1;33m[\u001b[0m\u001b[1;34m'method'\u001b[0m\u001b[1;33m]\u001b[0m\u001b[1;33m==\u001b[0m\u001b[0mmpref\u001b[0m\u001b[1;33m+\u001b[0m\u001b[1;34m'Small_Neural'\u001b[0m\u001b[1;33m]\u001b[0m\u001b[1;33m[\u001b[0m\u001b[1;34m'rank'\u001b[0m\u001b[1;33m]\u001b[0m\u001b[1;33m.\u001b[0m\u001b[0mhist\u001b[0m\u001b[1;33m(\u001b[0m\u001b[0mbins\u001b[0m\u001b[1;33m=\u001b[0m\u001b[1;36m20\u001b[0m\u001b[1;33m,\u001b[0m \u001b[0mfigsize\u001b[0m\u001b[1;33m=\u001b[0m\u001b[1;33m(\u001b[0m\u001b[1;36m10\u001b[0m\u001b[1;33m,\u001b[0m\u001b[1;36m10\u001b[0m\u001b[1;33m)\u001b[0m\u001b[1;33m,\u001b[0m \u001b[0max\u001b[0m\u001b[1;33m=\u001b[0m\u001b[0maxes\u001b[0m\u001b[1;33m[\u001b[0m\u001b[1;36m0\u001b[0m\u001b[1;33m,\u001b[0m\u001b[1;36m1\u001b[0m\u001b[1;33m]\u001b[0m\u001b[1;33m)\u001b[0m\u001b[1;33m\u001b[0m\u001b[1;33m\u001b[0m\u001b[0m\n",
      "\u001b[1;31mIndexError\u001b[0m: index 2 is out of bounds for axis 0 with size 2"
     ]
    },
    {
     "data": {
      "image/png": "[encoded data removed]",
      "text/plain": [
       "<Figure size 720x720 with 4 Axes>"
      ]
     },
     "metadata": {
      "needs_background": "light"
     },
     "output_type": "display_data"
    }
   ],
   "source": [
    "logdir = \"Logs20211001_7\"\n",
    "# Load all the logs into a single dataframe for processing\n",
    "log_files = glob(\"Logs/\"+logdir+\"/*\") # these are the logs that we're loading\n",
    "print(log_files)\n",
    "joined_logs = pd.concat([pd.read_csv(i) for i in log_files])\n",
    "print(joined_logs)\n",
    "print(\"Ranking\")\n",
    "mpref=\"\"\n",
    "fig, axes = plt.subplots(nrows=2, ncols=2)\n",
    "joined_logs[joined_logs['method']==mpref+'Timm_vit_small_r26_s32_224']['rank'].hist(bins=20, figsize=(10,10), ax=axes[0,0])\n",
    "axes[0,0].set_title('Timm')\n",
    "joined_logs[joined_logs['method']==mpref+'Orb']['rank'].hist(bins=20, figsize=(10,10), ax=axes[1,0])\n",
    "axes[1,0].set_title('Orb')\n",
    "joined_logs[joined_logs['method']==mpref+'Neural']['rank'].hist(bins=20, figsize=(10,10), ax=axes[1,1])\n",
    "axes[1,1].set_title('Neural')\n",
    "joined_logs[joined_logs['method']=='Zernike']['rank'].hist(bins=20, figsize=(10,10), ax=axes[2,1])\n",
    "axes[2,1].set_title('Your Ad Here')\n",
    "joined_logs[joined_logs['method']==mpref+'Small_Neural']['rank'].hist(bins=20, figsize=(10,10), ax=axes[0,1])\n",
    "axes[0,1].set_title('Small Neural')\n",
    "#joined_logs[joined_logs['method']=='trained_neural_method']['rank'].hist(bins=20, figsize=(10,10), ax=axes[3,1])\n",
    "#axes[3,1].set_title('Trained Neural')"
   ]
  },
  {
   "cell_type": "code",
   "execution_count": 12,
   "id": "b8e6d0cf",
   "metadata": {},
   "outputs": [],
   "source": [
    "class timm_method(method_base):\n",
    "    def __init__(self, database = None, modelname=timm_names[0], cuda=False):\n",
    "        self.model = timm.create_model(modelname,pretrained=True,num_classes=0)\n",
    "        if cuda:\n",
    "            self.model = self.model.cuda()\n",
    "        config = resolve_data_config({},model=self.model)\n",
    "        self.transform = create_transform(**config)\n",
    "        self.topil=transforms.ToPILImage()\n",
    "        self.nameval = 'Timm_'+modelname\n",
    "        self.cuda=cuda\n",
    "    def name(self):\n",
    "        return self.nameval\n",
    "    def create_query(self,img,**kwargs):\n",
    "        timg=self.topil(img)\n",
    "        timg=self.transform(timg).unsqueeze(0)\n",
    "        if self.cuda:\n",
    "            timg=timg.cuda()\n",
    "        return self.model(timg).squeeze().detach().cpu().numpy()\n",
    "    def compare_queries(self,v1,v2,**kwargs):\n",
    "        return np.dot(v1,v2)"
   ]
  },
  {
   "cell_type": "code",
   "execution_count": 28,
   "id": "ba91bdec",
   "metadata": {},
   "outputs": [
    {
     "data": {
      "text/plain": [
       "<matplotlib.image.AxesImage at 0x16482103608>"
      ]
     },
     "execution_count": 28,
     "metadata": {},
     "output_type": "execute_result"
    },
    {
     "data": {
      "image/png": "[encoded data removed]",
      "text/plain": [
       "<Figure size 432x288 with 1 Axes>"
      ]
     },
     "metadata": {
      "needs_background": "light"
     },
     "output_type": "display_data"
    }
   ],
   "source": [
    "plt.imshow(split_image(images[0])[1])"
   ]
  },
  {
   "cell_type": "code",
   "execution_count": 29,
   "id": "b964fe2b",
   "metadata": {},
   "outputs": [
    {
     "data": {
      "text/plain": [
       "<matplotlib.image.AxesImage at 0x16497012908>"
      ]
     },
     "execution_count": 29,
     "metadata": {},
     "output_type": "execute_result"
    },
    {
     "data": {
      "image/png": "[encoded data removed]",
      "text/plain": [
       "<Figure size 432x288 with 1 Axes>"
      ]
     },
     "metadata": {
      "needs_background": "light"
     },
     "output_type": "display_data"
    }
   ],
   "source": [
    "plt.imshow(images[0])"
   ]
  },
  {
   "cell_type": "code",
   "execution_count": 37,
   "id": "c3ce51d2",
   "metadata": {},
   "outputs": [],
   "source": [
    "cimg=cv2.imread('tdl.png')"
   ]
  },
  {
   "cell_type": "code",
   "execution_count": 38,
   "id": "1ab24d57",
   "metadata": {},
   "outputs": [
    {
     "data": {
      "text/plain": [
       "<matplotlib.image.AxesImage at 0x16456a32e48>"
      ]
     },
     "execution_count": 38,
     "metadata": {},
     "output_type": "execute_result"
    },
    {
     "data": {
      "image/png": "[encoded data removed]",
      "text/plain": [
       "<Figure size 432x288 with 1 Axes>"
      ]
     },
     "metadata": {
      "needs_background": "light"
     },
     "output_type": "display_data"
    }
   ],
   "source": [
    "plt.imshow(cimg)"
   ]
  },
  {
   "cell_type": "code",
   "execution_count": 44,
   "id": "d920776e",
   "metadata": {},
   "outputs": [
    {
     "ename": "IndexError",
     "evalue": "list index out of range",
     "output_type": "error",
     "traceback": [
      "\u001b[1;31m---------------------------------------------------------------------------\u001b[0m",
      "\u001b[1;31mIndexError\u001b[0m                                Traceback (most recent call last)",
      "\u001b[1;32m<ipython-input-44-9fd3c242f4d7>\u001b[0m in \u001b[0;36m<module>\u001b[1;34m\u001b[0m\n\u001b[1;32m----> 1\u001b[1;33m plt.imshow(split_image(cimg)[5\n\u001b[0m\u001b[0;32m      2\u001b[0m                             ])\n",
      "\u001b[1;31mIndexError\u001b[0m: list index out of range"
     ]
    }
   ],
   "source": []
  },
  {
   "cell_type": "code",
   "execution_count": 47,
   "id": "dffd0ea6",
   "metadata": {},
   "outputs": [
    {
     "data": {
      "text/plain": [
       "<matplotlib.image.AxesImage at 0x1645a5b4408>"
      ]
     },
     "execution_count": 47,
     "metadata": {},
     "output_type": "execute_result"
    },
    {
     "data": {
      "image/png": "[encoded data removed]",
      "text/plain": [
       "<Figure size 432x288 with 1 Axes>"
      ]
     },
     "metadata": {
      "needs_background": "light"
     },
     "output_type": "display_data"
    }
   ],
   "source": [
    "plt.imshow(images[0].transpose(1,0,2))"
   ]
  },
  {
   "cell_type": "code",
   "execution_count": null,
   "id": "ddd9644f",
   "metadata": {},
   "outputs": [],
   "source": []
  }
 ],
 "metadata": {
  "kernelspec": {
   "display_name": "Python 3",
   "language": "python",
   "name": "python3"
  },
  "language_info": {
   "codemirror_mode": {
    "name": "ipython",
    "version": 3
   },
   "file_extension": ".py",
   "mimetype": "text/x-python",
   "name": "python",
   "nbconvert_exporter": "python",
   "pygments_lexer": "ipython3",
   "version": "3.7.10"
  }
 },
 "nbformat": 4,
 "nbformat_minor": 5
}
