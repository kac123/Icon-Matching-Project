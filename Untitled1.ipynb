{
 "cells": [
  {
   "cell_type": "code",
   "execution_count": 1,
   "id": "b16232ca",
   "metadata": {},
   "outputs": [],
   "source": [
    "#external stuff\n",
    "import h5py\n",
    "import matplotlib.pyplot as plt\n",
    "import torch\n",
    "import torch.nn as nn\n",
    "import torchvision.models as models\n",
    "import torch.nn.functional as F\n",
    "import torchvision.transforms as transforms\n",
    "from torch.autograd import Variable\n",
    "import cv2\n",
    "import numpy as np\n",
    "import math\n",
    "import mahotas\n",
    "from sklearn.preprocessing import normalize\n",
    "from sklearn.decomposition import PCA\n",
    "from sklearn.feature_extraction.image import grid_to_graph\n",
    "from sklearn.cluster import KMeans, AgglomerativeClustering, AffinityPropagation, MeanShift, estimate_bandwidth, SpectralClustering\n",
    "import traceback\n",
    "from uuid import uuid4 as unique_identifier\n",
    "import random\n",
    "import os\n",
    "from time import perf_counter\n",
    "from glob import glob\n",
    "import pandas as pd\n",
    "from scipy.optimize import linear_sum_assignment\n",
    "\n",
    "from timm.data import resolve_data_config\n",
    "from timm.data.transforms_factory import create_transform\n",
    "import timm"
   ]
  },
  {
   "cell_type": "code",
   "execution_count": 2,
   "id": "05ec2a40",
   "metadata": {},
   "outputs": [],
   "source": [
    "#internal stuff\n",
    "from contour_impl import do_contour_create, do_contour_compare\n",
    "from imageprocessing import maybetogray,maybetocolor, image_preprocess, canny, recenter, prep_img\n",
    "from aberrations import aberrations"
   ]
  },
  {
   "cell_type": "code",
   "execution_count": 3,
   "id": "c2ab7ba3",
   "metadata": {},
   "outputs": [],
   "source": [
    "# some more stuff\n",
    "from math import cos, sin\n",
    "from PIL import Image, ImageDraw"
   ]
  },
  {
   "cell_type": "code",
   "execution_count": 4,
   "id": "edbb026b",
   "metadata": {},
   "outputs": [
    {
     "data": {
      "text/plain": [
       "<matplotlib.image.AxesImage at 0x1f34eeef4c8>"
      ]
     },
     "execution_count": 4,
     "metadata": {},
     "output_type": "execute_result"
    },
    {
     "data": {
      "image/png": "[encoded data removed]",
      "text/plain": [
       "<Figure size 432x288 with 1 Axes>"
      ]
     },
     "metadata": {
      "needs_background": "light"
     },
     "output_type": "display_data"
    }
   ],
   "source": [
    "# load some test images\n",
    "img_files=[\"stairtest.png\",\"stairtest2.png\",\"cornertest.png\",\"cornertest2.png\",\"cornertest3.png\",\"cornertest4.png\",\"tdl.png\",\"tdl2.png\",\"tokyo.png\",\"tokyo2.png\"]\n",
    "test_images=[cv2.cvtColor(cv2.imread(iname), cv2.COLOR_BGR2RGB) for iname in img_files]\n",
    "plt.imshow(test_images[0])"
   ]
  },
  {
   "cell_type": "code",
   "execution_count": 5,
   "id": "cce1c3a2",
   "metadata": {},
   "outputs": [],
   "source": [
    "timg=test_images[0]\n",
    "fimg=timg.reshape(-1)\n",
    "fimg[[1,16,37,64,55,12]] = [255,255,255,255,255,255]\n",
    "timg2=fimg.reshape(timg.shape)"
   ]
  },
  {
   "cell_type": "code",
   "execution_count": 6,
   "id": "a59e7b8f",
   "metadata": {},
   "outputs": [
    {
     "data": {
      "text/plain": [
       "<matplotlib.image.AxesImage at 0x1f34ffc25c8>"
      ]
     },
     "execution_count": 6,
     "metadata": {},
     "output_type": "execute_result"
    },
    {
     "data": {
      "image/png": "[encoded data removed]",
      "text/plain": [
       "<Figure size 432x288 with 1 Axes>"
      ]
     },
     "metadata": {
      "needs_background": "light"
     },
     "output_type": "display_data"
    }
   ],
   "source": [
    "plt.imshow(timg2)"
   ]
  },
  {
   "cell_type": "code",
   "execution_count": 7,
   "id": "31e6563e",
   "metadata": {},
   "outputs": [
    {
     "data": {
      "text/plain": [
       "array([12], dtype=int64)"
      ]
     },
     "execution_count": 7,
     "metadata": {},
     "output_type": "execute_result"
    }
   ],
   "source": [
    "np.ravel_multi_index([[2],[2]],[5,5])"
   ]
  },
  {
   "cell_type": "code",
   "execution_count": 8,
   "id": "d1336d42",
   "metadata": {},
   "outputs": [
    {
     "data": {
      "text/plain": [
       "<matplotlib.image.AxesImage at 0x1f35003b188>"
      ]
     },
     "execution_count": 8,
     "metadata": {},
     "output_type": "execute_result"
    },
    {
     "data": {
      "image/png": "[encoded data removed]",
      "text/plain": [
       "<Figure size 432x288 with 1 Axes>"
      ]
     },
     "metadata": {
      "needs_background": "light"
     },
     "output_type": "display_data"
    }
   ],
   "source": [
    "fimg=timg.reshape(-1,3)\n",
    "fimg[2,:]=[255,255,255]\n",
    "plt.imshow(fimg.reshape(32,32,3))"
   ]
  },
  {
   "cell_type": "code",
   "execution_count": 9,
   "id": "393eabe5",
   "metadata": {},
   "outputs": [
    {
     "data": {
      "text/plain": [
       "<matplotlib.image.AxesImage at 0x1f3500a5208>"
      ]
     },
     "execution_count": 9,
     "metadata": {},
     "output_type": "execute_result"
    },
    {
     "data": {
      "image/png": "[encoded data removed]",
      "text/plain": [
       "<Figure size 432x288 with 1 Axes>"
      ]
     },
     "metadata": {
      "needs_background": "light"
     },
     "output_type": "display_data"
    }
   ],
   "source": [
    "plt.imshow(timg)\n",
    "timg = test_images[7]\n",
    "plt.imshow(timg)"
   ]
  },
  {
   "cell_type": "code",
   "execution_count": 10,
   "id": "cbd9bcb9",
   "metadata": {},
   "outputs": [],
   "source": [
    "def adjacent(i, lims, selfinclude=True):\n",
    "    xl, yl = lims\n",
    "    c = np.unravel_index(i,lims)\n",
    "    xres = []\n",
    "    yres = []\n",
    "    dirs = [[1,0], [-1,0], [0,-1], [0,1]]\n",
    "    if selfinclude:\n",
    "        dirs += [[0,0]]\n",
    "    for d in np.array(dirs):\n",
    "        nc = c+d\n",
    "        if 0<=nc[0]<xl and 0<=nc[1]<yl:\n",
    "            xres.append(nc[0])\n",
    "            yres.append(nc[1])\n",
    "    return np.ravel_multi_index((xres,yres), lims)\n",
    "def dif(v1,v2):\n",
    "    return np.sum((v1-v2)**2)+.01\n",
    "def flow_matrix(img):\n",
    "    lims = img.shape[:-1]\n",
    "    flat_color = img.reshape(-1,3)\n",
    "    numelems = flat_color.shape[0]\n",
    "    mat = np.zeros((numelems,numelems), dtype=float)\n",
    "    for i in range(numelems):\n",
    "        adj = adjacent(i, lims)\n",
    "        vals = np.array([2**(-dif(flat_color[i,:], flat_color[j,:])) for j in adj])\n",
    "        vals /= sum(vals)\n",
    "        for j,v in zip(adj,vals):\n",
    "            mat[i,j] = v\n",
    "    return np.linalg.matrix_power(mat,16)\n",
    "k=flow_matrix(timg)"
   ]
  },
  {
   "cell_type": "code",
   "execution_count": 11,
   "id": "5438aa95",
   "metadata": {},
   "outputs": [],
   "source": [
    "bandwidth = estimate_bandwidth(k,quantile=0.2, n_samples=500)\n",
    "ms = MeanShift(bandwidth=bandwidth, bin_seeding=True)\n",
    "ms.fit(k)\n",
    "labels = ms.labels_.reshape(32,32)"
   ]
  },
  {
   "cell_type": "code",
   "execution_count": 12,
   "id": "96a33129",
   "metadata": {},
   "outputs": [
    {
     "name": "stderr",
     "output_type": "stream",
     "text": [
      "C:\\Users\\Ty\\Anaconda3\\envs\\icon\\lib\\site-packages\\sklearn\\cluster\\_spectral.py:504: UserWarning: The spectral clustering API has changed. ``fit``now constructs an affinity matrix from data. To use a custom affinity matrix, set ``affinity=precomputed``.\n",
      "  warnings.warn(\"The spectral clustering API has changed. ``fit``\"\n"
     ]
    }
   ],
   "source": [
    "sc = SpectralClustering(n_clusters=4, assign_labels='discretize', random_state=0).fit_predict(k)"
   ]
  },
  {
   "cell_type": "code",
   "execution_count": 13,
   "id": "62fe2e8c",
   "metadata": {},
   "outputs": [
    {
     "data": {
      "text/plain": [
       "(0, 5)"
      ]
     },
     "execution_count": 13,
     "metadata": {},
     "output_type": "execute_result"
    }
   ],
   "source": [
    "np.unravel_index(5, timg.shape[:-1])"
   ]
  },
  {
   "cell_type": "code",
   "execution_count": 14,
   "id": "75439a0f",
   "metadata": {},
   "outputs": [],
   "source": [
    "# image manipulation\n",
    "# for all the different methods we first make a copy of the image just in case\n",
    "# something decides to modify the original.\n",
    "# Thank God for gigabytes of RAM\n",
    "def stack(funcs):\n",
    "    #compose several image manipulations \n",
    "    def nf(img):\n",
    "        img=img[:]\n",
    "        for f in funcs:\n",
    "            img=f(img)\n",
    "        return img\n",
    "    return nf\n",
    "def noop(img):\n",
    "    return img\n",
    "def color_reduce_kmeans(img, n_colors=8):\n",
    "    img=img[:]\n",
    "    h,w,c=img.shape\n",
    "    fimg=np.clip(img.reshape(-1,3)/255,0.05,0.95)\n",
    "    km=KMeans(n_clusters=n_colors,random_state=0).fit(fimg)\n",
    "    means=np.clip(km.cluster_centers_,0.0,1.0)\n",
    "    labels=km.predict(fimg)\n",
    "    return (means[labels].reshape(img.shape)*255).astype(np.uint8)\n",
    "\n",
    "def smooth_median(img,ks=5,n=2):\n",
    "    img=img[:]\n",
    "    for i in range(n):\n",
    "        img=cv2.medianBlur(img,ks)\n",
    "    return img\n",
    "def std_size(img):\n",
    "    img=img[:]\n",
    "    return cv2.resize(img,(128,128),interpolation=cv2.INTER_AREA)\n",
    "\n",
    "def big_size(img):\n",
    "    return cv2.resize(img,None, fx=13, fy=13, interpolation=cv2.INTER_AREA)\n",
    "\n",
    "# segmentation\n",
    "def scast2(x,r):\n",
    "        xpad=np.pad(x,[[0,0],[0,1]],mode=\"constant\", constant_values=r)\n",
    "        return xpad/np.linalg.norm(x,axis=1,keepdims=True)\n",
    "def genkeys(n,d):\n",
    "    r=np.random.normal(size=(n,d))\n",
    "    r=r/np.linalg.norm(r,axis=1,keepdims=True)\n",
    "    r=np.pad(r,[[1,0],[0,1]],mode=\"constant\",constant_values=0)\n",
    "    r[0,-1]=1\n",
    "    return r\n",
    "def meancolor(img,b):\n",
    "    return np.floor(np.sum(img[b],(0)) / (0.01+np.sum(b))).astype(np.uint8)\n",
    "def clamp(x, m,M):\n",
    "    if x < m:\n",
    "        return m\n",
    "    if x > M:\n",
    "        return M\n",
    "    return x\n",
    "def gsb(s,margin=10):\n",
    "    h,w=s.shape\n",
    "    x,y=np.where(s)\n",
    "    x1=clamp(x.min()-margin,0,w)\n",
    "    y1=clamp(y.min()-margin,0,h)\n",
    "    x2=clamp(x.max()+margin,0,w)\n",
    "    y2=clamp(y.max()+margin,0,h)\n",
    "    return x1,y1,x2,y2\n",
    "    #return x.min()-margin, y.min()-margin, x.max()+margin, y.max()+margin\n",
    "def cropresize(img,b,bg=None,**kwargs):\n",
    "    try:\n",
    "        x1,y1,x2,y2=gsb(b)\n",
    "        if bg is not None:\n",
    "            img=img.copy()\n",
    "            img[b!=True]=bg\n",
    "        diff = max(x2-x1, y2-y1)\n",
    "        xc = (x2+x1)/2\n",
    "        yc = (y2+y1)/2\n",
    "        return cv2.resize(img[x1:x2,y1:y2,:],img.shape[:-1])\n",
    "    except:\n",
    "        log(kwargs,{'type':'Error', 'method':'Segmentation', 'fn':'cropresize'})\n",
    "        return None\n",
    "def segment_labels(img,labels,bg=None,rejection=0.0,**kwargs):\n",
    "    ulabels=np.unique(labels)\n",
    "    h,w=labels.shape\n",
    "    total=h*w\n",
    "    masks=[labels==i for i in ulabels]\n",
    "    # throw away any masks that cover less than 'rejection' percent of the image\n",
    "    masks=[m for m in masks if np.sum(m) >= (rejection*total)]\n",
    "    segs= [cropresize(img,b,bg,**kwargs) for b in masks]\n",
    "    return [s for s in segs if s is not None]\n",
    "def plot_many(imgs,n_c=3):\n",
    "    # convenience function to plot many images\n",
    "    n_r = (len(imgs)//n_c)+1\n",
    "    cc=1\n",
    "    fig=plt.figure(figsize=(10,10))\n",
    "    for i in imgs:\n",
    "        fig.add_subplot(n_r,n_c,cc)\n",
    "        plt.imshow(i)\n",
    "        cc+=1"
   ]
  },
  {
   "cell_type": "code",
   "execution_count": 15,
   "id": "66c0635d",
   "metadata": {},
   "outputs": [],
   "source": [
    "segimgs=segment_labels(timg,sc.reshape(32,32))"
   ]
  },
  {
   "cell_type": "code",
   "execution_count": 16,
   "id": "d0f22d04",
   "metadata": {},
   "outputs": [
    {
     "data": {
      "image/png": "[encoded data removed]",
      "text/plain": [
       "<Figure size 720x720 with 4 Axes>"
      ]
     },
     "metadata": {
      "needs_background": "light"
     },
     "output_type": "display_data"
    }
   ],
   "source": [
    "plot_many(segimgs)"
   ]
  },
  {
   "cell_type": "code",
   "execution_count": 17,
   "id": "bc470299",
   "metadata": {},
   "outputs": [],
   "source": [
    "def smooth_median(img,ks=5,n=2):\n",
    "    img=img[:]\n",
    "    for i in range(n):\n",
    "        img=cv2.medianBlur(img,ks)\n",
    "    return img"
   ]
  },
  {
   "cell_type": "code",
   "execution_count": 18,
   "id": "6c79507b",
   "metadata": {},
   "outputs": [
    {
     "data": {
      "text/plain": [
       "<matplotlib.image.AxesImage at 0x1f3502b8c48>"
      ]
     },
     "execution_count": 18,
     "metadata": {},
     "output_type": "execute_result"
    },
    {
     "data": {
      "image/png": "[encoded data removed]",
      "text/plain": [
       "<Figure size 432x288 with 1 Axes>"
      ]
     },
     "metadata": {
      "needs_background": "light"
     },
     "output_type": "display_data"
    }
   ],
   "source": [
    "plt.imshow(smooth_median(timg,3))"
   ]
  },
  {
   "cell_type": "code",
   "execution_count": null,
   "id": "1550fab5",
   "metadata": {},
   "outputs": [],
   "source": []
  },
  {
   "cell_type": "code",
   "execution_count": 19,
   "id": "55c86676",
   "metadata": {},
   "outputs": [
    {
     "data": {
      "text/plain": [
       "<matplotlib.image.AxesImage at 0x1f350334688>"
      ]
     },
     "execution_count": 19,
     "metadata": {},
     "output_type": "execute_result"
    },
    {
     "data": {
      "image/png": "[encoded data removed]",
      "text/plain": [
       "<Figure size 432x288 with 1 Axes>"
      ]
     },
     "metadata": {
      "needs_background": "light"
     },
     "output_type": "display_data"
    }
   ],
   "source": [
    "im = Image.new('RGB', (32,32))\n",
    "draw = ImageDraw.Draw(im)\n",
    "draw.line([(0,0), im.size], fill=\"white\")\n",
    "plt.imshow(im)"
   ]
  },
  {
   "cell_type": "code",
   "execution_count": 20,
   "id": "685f7d2e",
   "metadata": {},
   "outputs": [
    {
     "data": {
      "text/plain": [
       "<matplotlib.image.AxesImage at 0x1f35039ee88>"
      ]
     },
     "execution_count": 20,
     "metadata": {},
     "output_type": "execute_result"
    },
    {
     "data": {
      "image/png": "[encoded data removed]",
      "text/plain": [
       "<Figure size 432x288 with 1 Axes>"
      ]
     },
     "metadata": {
      "needs_background": "light"
     },
     "output_type": "display_data"
    }
   ],
   "source": [
    "im = Image.new('RGB', (32,32))\n",
    "draw = ImageDraw.Draw(im)\n",
    "poly=[(0,0), (0,16),(32,32)]\n",
    "draw.polygon(poly, fill=\"white\")\n",
    "plt.imshow(im)"
   ]
  },
  {
   "cell_type": "code",
   "execution_count": null,
   "id": "447831b9",
   "metadata": {},
   "outputs": [],
   "source": []
  },
  {
   "cell_type": "code",
   "execution_count": 21,
   "id": "4e8c4280",
   "metadata": {},
   "outputs": [
    {
     "ename": "NameError",
     "evalue": "name 'draw_poly' is not defined",
     "output_type": "error",
     "traceback": [
      "\u001b[1;31m---------------------------------------------------------------------------\u001b[0m",
      "\u001b[1;31mNameError\u001b[0m                                 Traceback (most recent call last)",
      "\u001b[1;32m<ipython-input-21-afe01920fc33>\u001b[0m in \u001b[0;36m<module>\u001b[1;34m\u001b[0m\n\u001b[0;32m      2\u001b[0m \u001b[0mim\u001b[0m \u001b[1;33m=\u001b[0m \u001b[0mImage\u001b[0m\u001b[1;33m.\u001b[0m\u001b[0mnew\u001b[0m\u001b[1;33m(\u001b[0m\u001b[1;34m'RGB'\u001b[0m\u001b[1;33m,\u001b[0m \u001b[1;33m(\u001b[0m\u001b[1;36m32\u001b[0m\u001b[1;33m,\u001b[0m\u001b[1;36m32\u001b[0m\u001b[1;33m)\u001b[0m\u001b[1;33m)\u001b[0m\u001b[1;33m\u001b[0m\u001b[1;33m\u001b[0m\u001b[0m\n\u001b[0;32m      3\u001b[0m \u001b[0mdc\u001b[0m \u001b[1;33m=\u001b[0m \u001b[0mImageDraw\u001b[0m\u001b[1;33m.\u001b[0m\u001b[0mDraw\u001b[0m\u001b[1;33m(\u001b[0m\u001b[0mim\u001b[0m\u001b[1;33m)\u001b[0m\u001b[1;33m\u001b[0m\u001b[1;33m\u001b[0m\u001b[0m\n\u001b[1;32m----> 4\u001b[1;33m \u001b[0mdraw_poly\u001b[0m\u001b[1;33m(\u001b[0m\u001b[0mdc\u001b[0m\u001b[1;33m,\u001b[0m\u001b[0mpoly2\u001b[0m\u001b[1;33m,\u001b[0m\u001b[0mscale\u001b[0m\u001b[1;33m=\u001b[0m\u001b[1;36m32\u001b[0m\u001b[1;33m,\u001b[0m\u001b[0mfill\u001b[0m\u001b[1;33m=\u001b[0m\u001b[1;34m\"white\"\u001b[0m\u001b[1;33m)\u001b[0m\u001b[1;33m\u001b[0m\u001b[1;33m\u001b[0m\u001b[0m\n\u001b[0m\u001b[0;32m      5\u001b[0m \u001b[0mplt\u001b[0m\u001b[1;33m.\u001b[0m\u001b[0mfigure\u001b[0m\u001b[1;33m\u001b[0m\u001b[1;33m\u001b[0m\u001b[0m\n\u001b[0;32m      6\u001b[0m \u001b[0mplt\u001b[0m\u001b[1;33m.\u001b[0m\u001b[0mimshow\u001b[0m\u001b[1;33m(\u001b[0m\u001b[0mim\u001b[0m\u001b[1;33m)\u001b[0m\u001b[1;33m\u001b[0m\u001b[1;33m\u001b[0m\u001b[0m\n",
      "\u001b[1;31mNameError\u001b[0m: name 'draw_poly' is not defined"
     ]
    }
   ],
   "source": [
    "poly2=np.array([[0.5+cos(x*6.14/20)/2,0.5+sin(x*6.14/20)/2] for x in range(20)])\n",
    "im = Image.new('RGB', (32,32))\n",
    "dc = ImageDraw.Draw(im)\n",
    "draw_poly(dc,poly2,scale=32,fill=\"white\")\n",
    "plt.figure\n",
    "plt.imshow(im)\n"
   ]
  },
  {
   "cell_type": "code",
   "execution_count": 22,
   "id": "6d0b477c",
   "metadata": {},
   "outputs": [
    {
     "data": {
      "image/png": "[encoded data removed]",
      "text/plain": [
       "<Figure size 432x288 with 1 Axes>"
      ]
     },
     "metadata": {
      "needs_background": "light"
     },
     "output_type": "display_data"
    },
    {
     "data": {
      "image/png": "[encoded data removed]",
      "text/plain": [
       "<Figure size 432x288 with 1 Axes>"
      ]
     },
     "metadata": {
      "needs_background": "light"
     },
     "output_type": "display_data"
    },
    {
     "data": {
      "image/png": "[encoded data removed]",
      "text/plain": [
       "<Figure size 432x288 with 1 Axes>"
      ]
     },
     "metadata": {
      "needs_background": "light"
     },
     "output_type": "display_data"
    },
    {
     "data": {
      "image/png": "[encoded data removed]",
      "text/plain": [
       "<Figure size 432x288 with 1 Axes>"
      ]
     },
     "metadata": {
      "needs_background": "light"
     },
     "output_type": "display_data"
    },
    {
     "data": {
      "image/png": "[encoded data removed]",
      "text/plain": [
       "<Figure size 432x288 with 1 Axes>"
      ]
     },
     "metadata": {
      "needs_background": "light"
     },
     "output_type": "display_data"
    }
   ],
   "source": [
    "def draw_poly(dc,poly, scale=1, **kwargs):\n",
    "    coords = (poly*scale).astype(int)\n",
    "    dc.polygon([tuple(i) for i in coords],**kwargs)\n",
    "polys=[# wedge\n",
    "       [[0,0], [0,0.5], [1,1]],\n",
    "       # circle\n",
    "       [[0.5+cos(x*6.14/20)/2,0.5+sin(x*6.14/20)/2] for x in range(20)],\n",
    "       # randomly perturbed circle\n",
    "       [[0.5+cos(x*6.14/20)*np.random.uniform(0.2,1.0)/2,0.5+sin(x*6.14/20)*np.random.uniform(0.2,1.0)/2] for x in range(20)],\n",
    "       # squished circle\n",
    "       [[0.43889485, 1.01199527],\n",
    "           [0.50584096, 1.03654858],\n",
    "           [0.56339267, 1.03823472],\n",
    "           [0.60616826, 1.01689601],\n",
    "           [0.63016773, 0.97452786],\n",
    "           [0.63314687, 0.91509216],\n",
    "           [0.61482709, 0.8441468 ],\n",
    "           [0.5769215 , 0.76832597],\n",
    "           [0.52297469, 0.69471975],\n",
    "           [0.45803129, 0.63021113],\n",
    "           [0.38816421, 0.58083239],\n",
    "           [0.31990682, 0.551201  ],\n",
    "           [0.25964192, 0.5440878 ],\n",
    "           [0.21300497, 0.56015797],\n",
    "           [0.18435702, 0.59790877],\n",
    "           [0.17637698, 0.65381007],\n",
    "           [0.18981107, 0.72263449],\n",
    "           [0.22340306, 0.79794618],\n",
    "           [0.27401172, 0.87270266],\n",
    "           [0.33690458, 0.93991338]],\n",
    "      # star thing\n",
    "      [[0.41807544, 0.87534801],\n",
    "       [0.46415562, 0.98536887],\n",
    "       [0.53947724, 0.94539019],\n",
    "       [0.59524502, 1.0083861 ],\n",
    "       [0.51879522, 0.89930979],\n",
    "       [0.48691866, 0.83740086],\n",
    "       [0.6054967 , 0.86355202],\n",
    "       [0.58552607, 0.83129026],\n",
    "       [0.41381491, 0.66344889],\n",
    "       [0.4658818 , 0.68867009],\n",
    "       [0.38576388, 0.62978679],\n",
    "       [0.32330981, 0.55634607],\n",
    "       [0.32094132, 0.70405591],\n",
    "       [0.32852805, 0.70085152],\n",
    "       [0.3041241 , 0.72073516],\n",
    "       [0.28525641, 0.71508238],\n",
    "       [0.22339421, 0.71973661],\n",
    "       [0.35555229, 0.82499804],\n",
    "       [0.33906122, 0.81146125],\n",
    "       [0.38112243, 0.83347015]]]\n",
    "polys=[np.array(p) for p in polys]\n",
    "colors=[[255,255,255], #white\n",
    "        [255,0,0], #red\n",
    "        [0,255,0], #green\n",
    "        [0,0,255], #blue\n",
    "       ]\n",
    "for poly in polys:\n",
    "    im = Image.new('RGB', (32,32))\n",
    "    dc = ImageDraw.Draw(im)\n",
    "    draw_poly(dc,poly,scale=32,fill=tuple(colors[np.random.choice(len(colors))]))\n",
    "    plt.figure()\n",
    "    plt.imshow(im)"
   ]
  },
  {
   "cell_type": "code",
   "execution_count": 26,
   "id": "c5c37aec",
   "metadata": {},
   "outputs": [
    {
     "data": {
      "image/png": "[encoded data removed]",
      "text/plain": [
       "<Figure size 432x288 with 1 Axes>"
      ]
     },
     "metadata": {
      "needs_background": "light"
     },
     "output_type": "display_data"
    },
    {
     "data": {
      "image/png": "[encoded data removed]",
      "text/plain": [
       "<Figure size 432x288 with 1 Axes>"
      ]
     },
     "metadata": {
      "needs_background": "light"
     },
     "output_type": "display_data"
    },
    {
     "data": {
      "image/png": "[encoded data removed]",
      "text/plain": [
       "<Figure size 432x288 with 1 Axes>"
      ]
     },
     "metadata": {
      "needs_background": "light"
     },
     "output_type": "display_data"
    },
    {
     "data": {
      "image/png": "[encoded data removed]",
      "text/plain": [
       "<Figure size 432x288 with 1 Axes>"
      ]
     },
     "metadata": {
      "needs_background": "light"
     },
     "output_type": "display_data"
    },
    {
     "data": {
      "image/png": "[encoded data removed]",
      "text/plain": [
       "<Figure size 432x288 with 1 Axes>"
      ]
     },
     "metadata": {
      "needs_background": "light"
     },
     "output_type": "display_data"
    },
    {
     "data": {
      "text/plain": [
       "<Figure size 432x288 with 0 Axes>"
      ]
     },
     "metadata": {},
     "output_type": "display_data"
    }
   ],
   "source": [
    "from math import sin, cos\n",
    "def draw_and_show_poly(poly, scale=32):\n",
    "    im=Image.new('RGB', (scale,scale))\n",
    "    dc = ImageDraw.Draw(im)\n",
    "    draw_poly(dc,poly,scale=scale,fill=\"white\")\n",
    "    plt.figure()\n",
    "    plt.imshow(im)\n",
    "def create_transform_random():\n",
    "    mat=np.random.uniform(0,1,(3,3))*0.5\n",
    "    mat[2,0]=0\n",
    "    mat[2,1]=0\n",
    "    mat[2,2]=1\n",
    "    return mat\n",
    "def create_transform_informed(scale=(1.0,1.0), rotation=(0.0,0.0), symmetry=False, transform=(0.0,0.0), heat=0):\n",
    "    res=np.eye(3)\n",
    "    scaleness=np.eye(3)*np.random.uniform(*scale)\n",
    "    res=res.dot(scaleness)\n",
    "    rotateness=np.random.uniform(*rotation)\n",
    "    if symmetry:\n",
    "        rotateness += np.random.choice([0,.25,.5,.75])\n",
    "    rotatarr=np.array([[ cos(rotateness*6.28), sin(rotateness*6.28), 0],\n",
    "                         [-sin(rotateness*6.28), cos(rotateness*6.28), 0],\n",
    "                         [0,0,1]])\n",
    "    res=res.dot(rotatarr)\n",
    "    hotness=create_transform_random()*heat\n",
    "    res=res+(hotness-heat/2)\n",
    "    res[0,2]=np.random.uniform(*transform)\n",
    "    res[1,2]=np.random.uniform(*transform)\n",
    "    return res\n",
    "    \n",
    "def transform(tform, points):\n",
    "    res = np.concatenate([points,np.ones([points.shape[0],1])], axis=1)\n",
    "    return res.dot(tform.transpose())[:,:2]\n",
    "\n",
    "def make_icon(shapes, colors):\n",
    "    im = Image.new('RGB', (32,32))\n",
    "    dc = ImageDraw.Draw(im)\n",
    "    shape1 = shapes[np.random.choice(len(shapes))]\n",
    "    shape2 = shapes[np.random.choice(len(shapes))]\n",
    "    tform=create_transform_informed(scale=(0.5,1.2), rotation=(0.0,1.0), symmetry=False, heat=0.2)\n",
    "    shape2=transform(tform,shape2)\n",
    "    shape3 = shapes[np.random.choice(len(shapes))]\n",
    "    tform=create_transform_informed(scale=(0.5,1.2), rotation=(0.0,1.0), symmetry=False, heat=0.2)\n",
    "    shape3=transform(tform,shape3)\n",
    "    draw_poly(dc,shape1,scale=32,fill=tuple(colors[np.random.choice(len(colors))]))\n",
    "    draw_poly(dc,shape2,scale=32,fill=tuple(colors[np.random.choice(len(colors))]))\n",
    "    draw_poly(dc,shape3,scale=32,fill=tuple(colors[np.random.choice(len(colors))]))\n",
    "    return im\n",
    "for i in range(5):\n",
    "    plt.imshow(make_icon(polys,colors))\n",
    "    plt.figure()"
   ]
  },
  {
   "cell_type": "code",
   "execution_count": 25,
   "id": "cee5b50e",
   "metadata": {},
   "outputs": [
    {
     "data": {
      "text/plain": [
       "1.0"
      ]
     },
     "execution_count": 25,
     "metadata": {},
     "output_type": "execute_result"
    }
   ],
   "source": [
    "scale=(1.0,1.0)\n",
    "np.random.uniform(*scale)"
   ]
  },
  {
   "cell_type": "code",
   "execution_count": 26,
   "id": "43b58cf6",
   "metadata": {},
   "outputs": [],
   "source": [
    "tmp=polys[1]"
   ]
  },
  {
   "cell_type": "code",
   "execution_count": 27,
   "id": "d596fcc7",
   "metadata": {},
   "outputs": [
    {
     "data": {
      "text/plain": [
       "array([[1.        , 0.5       ],\n",
       "       [0.97662223, 0.65110013],\n",
       "       [0.908675  , 0.78807073],\n",
       "       [0.80251213, 0.89810352],\n",
       "       [0.66806102, 0.97090922],\n",
       "       [0.51789434, 0.99967969],\n",
       "       [0.36605435, 0.98172457],\n",
       "       [0.22673975, 0.91872286],\n",
       "       [0.11297802, 0.81656593],\n",
       "       [0.03540714, 0.68480657],\n",
       "       [0.00128083, 0.53576576],\n",
       "       [0.01379029, 0.38338044],\n",
       "       [0.07176575, 0.24190035],\n",
       "       [0.16978586, 0.12455543],\n",
       "       [0.29868465, 0.04231875],\n",
       "       [0.44640865, 0.00288033],\n",
       "       [0.59914404, 0.00992811],\n",
       "       [0.74260837, 0.06280304],\n",
       "       [0.86338612, 0.15656074],\n",
       "       [0.95018324, 0.28243381]])"
      ]
     },
     "execution_count": 27,
     "metadata": {},
     "output_type": "execute_result"
    }
   ],
   "source": [
    "tmp"
   ]
  },
  {
   "cell_type": "code",
   "execution_count": 28,
   "id": "41a12eb2",
   "metadata": {},
   "outputs": [
    {
     "data": {
      "text/plain": [
       "array([[1.        , 0.5       , 1.        ],\n",
       "       [0.97662223, 0.65110013, 1.        ],\n",
       "       [0.908675  , 0.78807073, 1.        ],\n",
       "       [0.80251213, 0.89810352, 1.        ],\n",
       "       [0.66806102, 0.97090922, 1.        ],\n",
       "       [0.51789434, 0.99967969, 1.        ],\n",
       "       [0.36605435, 0.98172457, 1.        ],\n",
       "       [0.22673975, 0.91872286, 1.        ],\n",
       "       [0.11297802, 0.81656593, 1.        ],\n",
       "       [0.03540714, 0.68480657, 1.        ],\n",
       "       [0.00128083, 0.53576576, 1.        ],\n",
       "       [0.01379029, 0.38338044, 1.        ],\n",
       "       [0.07176575, 0.24190035, 1.        ],\n",
       "       [0.16978586, 0.12455543, 1.        ],\n",
       "       [0.29868465, 0.04231875, 1.        ],\n",
       "       [0.44640865, 0.00288033, 1.        ],\n",
       "       [0.59914404, 0.00992811, 1.        ],\n",
       "       [0.74260837, 0.06280304, 1.        ],\n",
       "       [0.86338612, 0.15656074, 1.        ],\n",
       "       [0.95018324, 0.28243381, 1.        ]])"
      ]
     },
     "execution_count": 28,
     "metadata": {},
     "output_type": "execute_result"
    }
   ],
   "source": [
    "np.concatenate([tmp,np.ones([tmp.shape[0],1])], axis=1)"
   ]
  },
  {
   "cell_type": "code",
   "execution_count": 29,
   "id": "775360e7",
   "metadata": {},
   "outputs": [
    {
     "data": {
      "text/plain": [
       "array([[1.],\n",
       "       [1.],\n",
       "       [1.],\n",
       "       [1.],\n",
       "       [1.],\n",
       "       [1.],\n",
       "       [1.],\n",
       "       [1.],\n",
       "       [1.],\n",
       "       [1.],\n",
       "       [1.],\n",
       "       [1.],\n",
       "       [1.],\n",
       "       [1.],\n",
       "       [1.],\n",
       "       [1.],\n",
       "       [1.],\n",
       "       [1.],\n",
       "       [1.],\n",
       "       [1.]])"
      ]
     },
     "execution_count": 29,
     "metadata": {},
     "output_type": "execute_result"
    }
   ],
   "source": [
    "np.ones([tmp.shape[0],1])"
   ]
  },
  {
   "cell_type": "code",
   "execution_count": 30,
   "id": "a0aeaa7c",
   "metadata": {},
   "outputs": [],
   "source": [
    "mat=np.random.uniform(0,1,(3,3))*0.5"
   ]
  },
  {
   "cell_type": "code",
   "execution_count": 31,
   "id": "92bd7375",
   "metadata": {},
   "outputs": [],
   "source": [
    "mat=np.random.uniform(0,1,(3,3))*0.5\n",
    "mat[2,0]=0\n",
    "mat[2,1]=0\n",
    "mat[2,2]=1"
   ]
  },
  {
   "cell_type": "code",
   "execution_count": 32,
   "id": "1885a49e",
   "metadata": {},
   "outputs": [
    {
     "name": "stdout",
     "output_type": "stream",
     "text": [
      "[[1. 0. 0.]\n",
      " [0. 1. 0.]\n",
      " [0. 0. 1.]]\n",
      "[[1. 0. 0.]\n",
      " [0. 1. 0.]\n",
      " [0. 0. 1.]]\n",
      "0.0\n",
      "[[1. 0. 0.]\n",
      " [0. 1. 0.]\n",
      " [0. 0. 1.]]\n",
      "[[1. 0. 0.]\n",
      " [0. 1. 0.]\n",
      " [0. 0. 1.]]\n",
      "[[1. 0. 0.]\n",
      " [0. 1. 0.]\n",
      " [0. 0. 1.]]\n"
     ]
    },
    {
     "data": {
      "text/plain": [
       "array([[1., 0., 0.],\n",
       "       [0., 1., 0.],\n",
       "       [0., 0., 1.]])"
      ]
     },
     "execution_count": 32,
     "metadata": {},
     "output_type": "execute_result"
    },
    {
     "data": {
      "image/png": "[encoded data removed]",
      "text/plain": [
       "<Figure size 432x288 with 1 Axes>"
      ]
     },
     "metadata": {
      "needs_background": "light"
     },
     "output_type": "display_data"
    },
    {
     "data": {
      "image/png": "[encoded data removed]",
      "text/plain": [
       "<Figure size 432x288 with 1 Axes>"
      ]
     },
     "metadata": {
      "needs_background": "light"
     },
     "output_type": "display_data"
    }
   ],
   "source": [
    "draw_and_show_poly(transform(mat,polys[2]))\n",
    "draw_and_show_poly(polys[3])\n",
    "create_transform_informed(symmetry=True)"
   ]
  },
  {
   "cell_type": "code",
   "execution_count": 33,
   "id": "81ab3f6c",
   "metadata": {},
   "outputs": [
    {
     "data": {
      "text/plain": [
       "array([[0.3319978 , 0.2625261 , 1.        ],\n",
       "       [0.32834754, 0.29611713, 1.        ],\n",
       "       [0.3105742 , 0.32416006, 1.        ],\n",
       "       [0.2803398 , 0.34403258, 1.        ],\n",
       "       [0.24047157, 0.35387638, 1.        ],\n",
       "       [0.19469765, 0.35277096, 1.        ],\n",
       "       [0.1472984 , 0.34081969, 1.        ],\n",
       "       [0.10270618, 0.31914014, 1.        ],\n",
       "       [0.06509085, 0.28975959, 1.        ],\n",
       "       [0.03796986, 0.25542545, 1.        ],\n",
       "       [0.02387933, 0.21934834, 1.        ],\n",
       "       [0.02413688, 0.18490187, 1.        ],\n",
       "       [0.03871842, 0.15530717, 1.        ],\n",
       "       [0.06626042, 0.13333167, 1.        ],\n",
       "       [0.1041874 , 0.12103032, 1.        ],\n",
       "       [0.14895276, 0.11955343, 1.        ],\n",
       "       [0.19637044, 0.12903912, 1.        ],\n",
       "       [0.24200637, 0.14860036, 1.        ],\n",
       "       [0.28159309, 0.17640796, 1.        ],\n",
       "       [0.31142879, 0.2098616 , 1.        ]])"
      ]
     },
     "execution_count": 33,
     "metadata": {},
     "output_type": "execute_result"
    }
   ],
   "source": [
    "mat.dot(np.concatenate([tmp,np.ones([tmp.shape[0],1])], axis=1).transpose()).transpose()"
   ]
  },
  {
   "cell_type": "code",
   "execution_count": 34,
   "id": "5a30d783",
   "metadata": {},
   "outputs": [
    {
     "data": {
      "text/plain": [
       "array([[0.3319978 , 0.2625261 , 1.        ],\n",
       "       [0.32834754, 0.29611713, 1.        ],\n",
       "       [0.3105742 , 0.32416006, 1.        ],\n",
       "       [0.2803398 , 0.34403258, 1.        ],\n",
       "       [0.24047157, 0.35387638, 1.        ],\n",
       "       [0.19469765, 0.35277096, 1.        ],\n",
       "       [0.1472984 , 0.34081969, 1.        ],\n",
       "       [0.10270618, 0.31914014, 1.        ],\n",
       "       [0.06509085, 0.28975959, 1.        ],\n",
       "       [0.03796986, 0.25542545, 1.        ],\n",
       "       [0.02387933, 0.21934834, 1.        ],\n",
       "       [0.02413688, 0.18490187, 1.        ],\n",
       "       [0.03871842, 0.15530717, 1.        ],\n",
       "       [0.06626042, 0.13333167, 1.        ],\n",
       "       [0.1041874 , 0.12103032, 1.        ],\n",
       "       [0.14895276, 0.11955343, 1.        ],\n",
       "       [0.19637044, 0.12903912, 1.        ],\n",
       "       [0.24200637, 0.14860036, 1.        ],\n",
       "       [0.28159309, 0.17640796, 1.        ],\n",
       "       [0.31142879, 0.2098616 , 1.        ]])"
      ]
     },
     "execution_count": 34,
     "metadata": {},
     "output_type": "execute_result"
    }
   ],
   "source": [
    "np.concatenate([tmp,np.ones([tmp.shape[0],1])], axis=1).dot(mat.transpose())"
   ]
  },
  {
   "cell_type": "code",
   "execution_count": 35,
   "id": "829ca4ea",
   "metadata": {},
   "outputs": [],
   "source": [
    "scale=(0.5,1.5)\n",
    "rotation=(0.0,1.0)\n",
    "transform=(0.0,0.0)\n",
    "heat=0\n",
    "res=np.eye(3)\n",
    "scaleness=np.eye(3)*np.random.uniform(*scale)\n",
    "scaleness[2,2]=1.0\n",
    "rotateness=np.random.uniform(*rotation)\n",
    "rotateness=np.array([[ cos(rotateness), sin(rotateness), 0],\n",
    "                     [-sin(rotateness), cos(rotateness), 0],\n",
    "                     [0,0,1]])\n",
    "\n",
    "hotness=create_transform_random()*heat\n"
   ]
  },
  {
   "cell_type": "code",
   "execution_count": 36,
   "id": "611acf53",
   "metadata": {},
   "outputs": [
    {
     "data": {
      "text/plain": [
       "array([[ 0.67206103,  0.74049576,  0.        ],\n",
       "       [-0.74049576,  0.67206103,  0.        ],\n",
       "       [ 0.        ,  0.        ,  1.        ]])"
      ]
     },
     "execution_count": 36,
     "metadata": {},
     "output_type": "execute_result"
    }
   ],
   "source": [
    "rotateness"
   ]
  },
  {
   "cell_type": "code",
   "execution_count": 37,
   "id": "27990d34",
   "metadata": {},
   "outputs": [],
   "source": [
    "rotateness=0.1"
   ]
  },
  {
   "cell_type": "code",
   "execution_count": 38,
   "id": "18b5be35",
   "metadata": {},
   "outputs": [
    {
     "data": {
      "text/plain": [
       "0.1"
      ]
     },
     "execution_count": 38,
     "metadata": {},
     "output_type": "execute_result"
    }
   ],
   "source": [
    "rotateness"
   ]
  },
  {
   "cell_type": "code",
   "execution_count": 39,
   "id": "d989ab9e",
   "metadata": {},
   "outputs": [],
   "source": [
    "rotatarr=np.array([[ cos(rotateness), sin(rotateness), 0],\n",
    "                     [-sin(rotateness), cos(rotateness), 0],\n",
    "                     [0,0,1]])\n",
    "nrotar=np.array([[ cos(-rotateness), sin(-rotateness), 0],\n",
    "                     [-sin(-rotateness), cos(-rotateness), 0],\n",
    "                     [0,0,1]])"
   ]
  },
  {
   "cell_type": "code",
   "execution_count": 40,
   "id": "b110f87f",
   "metadata": {},
   "outputs": [
    {
     "data": {
      "text/plain": [
       "array([[1., 0., 0.],\n",
       "       [0., 1., 0.],\n",
       "       [0., 0., 1.]])"
      ]
     },
     "execution_count": 40,
     "metadata": {},
     "output_type": "execute_result"
    }
   ],
   "source": [
    "res.dot(rotatarr.dot(nrotar))"
   ]
  },
  {
   "cell_type": "code",
   "execution_count": 41,
   "id": "d4a769bd",
   "metadata": {},
   "outputs": [
    {
     "data": {
      "text/plain": [
       "<matplotlib.image.AxesImage at 0x2450a0ebac8>"
      ]
     },
     "execution_count": 41,
     "metadata": {},
     "output_type": "execute_result"
    },
    {
     "data": {
      "image/png": "[encoded data removed]",
      "text/plain": [
       "<Figure size 432x288 with 1 Axes>"
      ]
     },
     "metadata": {
      "needs_background": "light"
     },
     "output_type": "display_data"
    }
   ],
   "source": [
    "plt.imshow(test_images[-3])"
   ]
  },
  {
   "cell_type": "code",
   "execution_count": 42,
   "id": "e01a3699",
   "metadata": {},
   "outputs": [],
   "source": [
    "cimg=test_images[-3][:]"
   ]
  },
  {
   "cell_type": "code",
   "execution_count": 43,
   "id": "fc416cf0",
   "metadata": {},
   "outputs": [
    {
     "data": {
      "text/plain": [
       "<matplotlib.image.AxesImage at 0x2450a0e5a88>"
      ]
     },
     "execution_count": 43,
     "metadata": {},
     "output_type": "execute_result"
    },
    {
     "data": {
      "image/png": "[encoded data removed]",
      "text/plain": [
       "<Figure size 432x288 with 1 Axes>"
      ]
     },
     "metadata": {
      "needs_background": "light"
     },
     "output_type": "display_data"
    }
   ],
   "source": [
    "plt.imshow(cimg)"
   ]
  },
  {
   "cell_type": "code",
   "execution_count": 44,
   "id": "0e09bb51",
   "metadata": {},
   "outputs": [
    {
     "name": "stdout",
     "output_type": "stream",
     "text": [
      "(205, 169, 162)\n"
     ]
    },
    {
     "data": {
      "text/plain": [
       "<matplotlib.image.AxesImage at 0x2450a1fd388>"
      ]
     },
     "execution_count": 44,
     "metadata": {},
     "output_type": "execute_result"
    },
    {
     "data": {
      "image/png": "[encoded data removed]",
      "text/plain": [
       "<Figure size 432x288 with 1 Axes>"
      ]
     },
     "metadata": {
      "needs_background": "light"
     },
     "output_type": "display_data"
    }
   ],
   "source": [
    "def provenance(img):\n",
    "    res=dict()\n",
    "    for i in img:\n",
    "        for j in i:\n",
    "            res.setdefault(tuple(j), [0])[0] += 1\n",
    "    return {r:res[r][0] for r in res}\n",
    "def sort_colors(provs):\n",
    "    psort = [p for p in provs]\n",
    "    psort.sort(key=lambda k: provs[k],reverse=True)\n",
    "    psort={p:provs[p] for p in psort}\n",
    "    return psort\n",
    "def pick_colors(psort, ts=0.1):\n",
    "    tot=0\n",
    "    res=[]\n",
    "    for p in psort:\n",
    "        if psort[p] > ts*tot:\n",
    "            res.append(p)\n",
    "            tot+=psort[p]\n",
    "        else:\n",
    "            break\n",
    "    return res\n",
    "def pick_n_colors(psort, n=1):\n",
    "    res=[]\n",
    "    colorseq=[k for k in psort.keys()]\n",
    "    while n > 1 and len(res) < len(colorseq):\n",
    "        res.append(colorseq[len(res)])\n",
    "        n-=1\n",
    "    if len(res) < len(colorseq) and n > 0:\n",
    "        multis=np.expand_dims(np.array([psort[colorseq[i]] for i in range(len(res), len(colorseq))]), 1)\n",
    "        aval=np.array([colorseq[i] for i in range(len(res), len(colorseq))])\n",
    "        #print(aval)\n",
    "        vals = aval*multis\n",
    "        ncol = np.sum(vals,axis=0)/np.sum(multis)\n",
    "        res.append(tuple(ncol.astype(int).tolist()))\n",
    "        print(res[-1])\n",
    "    return res\n",
    "def assign_colors(colors, img):\n",
    "    colors=np.array(colors)\n",
    "    ds = np.expand_dims(img,2)-colors\n",
    "    ds = abs(ds)\n",
    "    ds = np.sum(ds,axis=-1)\n",
    "    return colors[np.argmin(ds,axis=2)]\n",
    "\n",
    "def assign_colors2(colors, img):\n",
    "    colors=np.array(colors)\n",
    "    mcolor=np.mean(colors,axis=0)\n",
    "    cdirs=colors-mcolor\n",
    "    print(\"as2\",mcolor)\n",
    "    ds = img-mcolor\n",
    "    print(ds.shape)\n",
    "    ds=ds.dot(cdirs.transpose())\n",
    "    print('ayy lmao',ds.shape)\n",
    "    #print('wtf', np.argmin(ds,axis=2))\n",
    "    return colors[np.argmax(ds,axis=2)]\n",
    "\n",
    "def flatten_colors(img):\n",
    "    pimg=provenance(cimg)\n",
    "    #print(pimg)\n",
    "    psort = sort_colors(pimg)\n",
    "    return assign_colors(pick_n_colors(psort,10),img)\n",
    "#print(psort)\n",
    "plt.imshow(flatten_colors(cimg))\n",
    "#plt.imshow(assign_colors2(pick_n_colors(psort,6),cimg))"
   ]
  },
  {
   "cell_type": "code",
   "execution_count": 45,
   "id": "c1631902",
   "metadata": {},
   "outputs": [
    {
     "ename": "NameError",
     "evalue": "name 'psort' is not defined",
     "output_type": "error",
     "traceback": [
      "\u001b[1;31m---------------------------------------------------------------------------\u001b[0m",
      "\u001b[1;31mNameError\u001b[0m                                 Traceback (most recent call last)",
      "\u001b[1;32m<ipython-input-45-bbc46cd488ee>\u001b[0m in \u001b[0;36m<module>\u001b[1;34m\u001b[0m\n\u001b[1;32m----> 1\u001b[1;33m \u001b[0mpsort\u001b[0m\u001b[1;33m\u001b[0m\u001b[1;33m\u001b[0m\u001b[0m\n\u001b[0m",
      "\u001b[1;31mNameError\u001b[0m: name 'psort' is not defined"
     ]
    }
   ],
   "source": [
    "psort"
   ]
  },
  {
   "cell_type": "code",
   "execution_count": null,
   "id": "3aab9f8e",
   "metadata": {},
   "outputs": [],
   "source": []
  },
  {
   "cell_type": "code",
   "execution_count": null,
   "id": "7e39cfe5",
   "metadata": {},
   "outputs": [],
   "source": [
    "\n",
    "\n",
    "print(pick_colors(psort,0.01))\n",
    "print(pick_n_colors(psort, 4))\n",
    "plt.imshow()"
   ]
  },
  {
   "cell_type": "code",
   "execution_count": null,
   "id": "424dade5",
   "metadata": {},
   "outputs": [],
   "source": [
    "np.zeros(cimg.shape[:-1]).shape[0]"
   ]
  },
  {
   "cell_type": "code",
   "execution_count": null,
   "id": "5ab2e57c",
   "metadata": {},
   "outputs": [],
   "source": [
    "np.mean(c,axis=0)"
   ]
  },
  {
   "cell_type": "code",
   "execution_count": null,
   "id": "2cef0656",
   "metadata": {},
   "outputs": [],
   "source": [
    "smooth_median(flatten_colors(cimg))"
   ]
  },
  {
   "cell_type": "code",
   "execution_count": null,
   "id": "5babb1c3",
   "metadata": {},
   "outputs": [],
   "source": [
    "def upscale(img,d=(128,128)):\n",
    "    return cv2.resize(img,d,interpolation=cv2.INTER_NEAREST)\n",
    "ufimg=upscale(flatten_colors(cimg))\n",
    "plt.imshow(ufimg)\n",
    "plt.figure()\n",
    "print(flatten_colors(cimg).dtype)\n",
    "print(cimg.shape)\n",
    "print(ufimg.shape)\n",
    "plt.imshow(cv2.medianBlur(flatten_colors(cimg).astype('uint8'),3))\n"
   ]
  },
  {
   "cell_type": "code",
   "execution_count": null,
   "id": "9d507023",
   "metadata": {},
   "outputs": [],
   "source": [
    "\n",
    "from PIL import ImageOps\n",
    "#print(cimg)\n",
    "# Try this this week, see if it works better than median filtering\n",
    "pilimg=Image.fromarray(cimg)\n",
    "plt.imshow(pilimg)\n",
    "plt.figure()\n",
    "aiimg = ImageOps.fit(pilimg, np.array(cimg.shape[:-1])*4, Image.ANTIALIAS)\n",
    "plt.imshow(aiimg)\n",
    "plt.figure()\n",
    "plt.imshow(flatten_colors(aiimg))\n",
    "plt.figure()\n",
    "plt.imshow(cv2.medianBlur(np.array(aiimg),3))"
   ]
  },
  {
   "cell_type": "code",
   "execution_count": null,
   "id": "d03cfd6e",
   "metadata": {},
   "outputs": [],
   "source": [
    "cimg"
   ]
  },
  {
   "cell_type": "code",
   "execution_count": null,
   "id": "c72cad01",
   "metadata": {},
   "outputs": [],
   "source": [
    "from imageprocessing import image_preprocess\n",
    "_,_,_,_,_,_,pimg = image_preprocess(cimg)\n",
    "plt.imshow(pimg)"
   ]
  },
  {
   "cell_type": "code",
   "execution_count": null,
   "id": "523ae822",
   "metadata": {},
   "outputs": [],
   "source": [
    "ret, thresh = cv2.threshold(pimg,127,255,0)\n",
    "contours,h = cv2.findContours(thresh,cv2.RETR_TREE, cv2.CHAIN_APPROX_SIMPLE)"
   ]
  },
  {
   "cell_type": "code",
   "execution_count": null,
   "id": "dabcc619",
   "metadata": {},
   "outputs": [],
   "source": [
    "contours"
   ]
  },
  {
   "cell_type": "code",
   "execution_count": null,
   "id": "a12ea99e",
   "metadata": {},
   "outputs": [],
   "source": [
    "dimg=cimg[:]\n",
    "cv2.drawContours(dimg, contours, -1, (0,255,0),3)\n",
    "plt.imshow(dimg)"
   ]
  },
  {
   "cell_type": "code",
   "execution_count": 52,
   "id": "fb8253db",
   "metadata": {},
   "outputs": [
    {
     "ename": "error",
     "evalue": "OpenCV(4.5.2) C:\\Users\\runneradmin\\AppData\\Local\\Temp\\pip-req-build-dn5w5exm\\opencv\\modules\\imgproc\\src\\contours.cpp:197: error: (-210:Unsupported format or combination of formats) [Start]FindContours supports only CV_8UC1 images when mode != CV_RETR_FLOODFILL otherwise supports CV_32SC1 images only in function 'cvStartFindContours_Impl'\n",
     "output_type": "error",
     "traceback": [
      "\u001b[1;31m---------------------------------------------------------------------------\u001b[0m",
      "\u001b[1;31merror\u001b[0m                                     Traceback (most recent call last)",
      "\u001b[1;32m<ipython-input-52-11bcad5ee71b>\u001b[0m in \u001b[0;36m<module>\u001b[1;34m\u001b[0m\n\u001b[0;32m     16\u001b[0m     \u001b[1;32melse\u001b[0m\u001b[1;33m:\u001b[0m\u001b[1;33m\u001b[0m\u001b[1;33m\u001b[0m\u001b[0m\n\u001b[0;32m     17\u001b[0m         \u001b[1;32mreturn\u001b[0m \u001b[1;33m[\u001b[0m\u001b[0mmaskout\u001b[0m\u001b[1;33m(\u001b[0m\u001b[0mimg\u001b[0m\u001b[1;33m,\u001b[0m\u001b[0mb\u001b[0m\u001b[1;33m,\u001b[0m\u001b[0mbgcolor\u001b[0m\u001b[1;33m)\u001b[0m \u001b[1;32mfor\u001b[0m \u001b[0mb\u001b[0m \u001b[1;32min\u001b[0m \u001b[0mmasks\u001b[0m\u001b[1;33m]\u001b[0m\u001b[1;33m\u001b[0m\u001b[1;33m\u001b[0m\u001b[0m\n\u001b[1;32m---> 18\u001b[1;33m \u001b[0msplit_contour\u001b[0m\u001b[1;33m(\u001b[0m\u001b[0mcimg\u001b[0m\u001b[1;33m)\u001b[0m\u001b[1;33m\u001b[0m\u001b[1;33m\u001b[0m\u001b[0m\n\u001b[0m",
      "\u001b[1;32m<ipython-input-52-11bcad5ee71b>\u001b[0m in \u001b[0;36msplit_contour\u001b[1;34m(img, center)\u001b[0m\n\u001b[0;32m      8\u001b[0m     \u001b[0mimg2\u001b[0m\u001b[1;33m=\u001b[0m\u001b[0mprep_img\u001b[0m\u001b[1;33m(\u001b[0m\u001b[0mimg\u001b[0m\u001b[1;33m,\u001b[0m \u001b[1;32mFalse\u001b[0m\u001b[1;33m)\u001b[0m\u001b[1;33m\u001b[0m\u001b[1;33m\u001b[0m\u001b[0m\n\u001b[0;32m      9\u001b[0m     \u001b[0mimg2\u001b[0m\u001b[1;33m,\u001b[0m \u001b[0mthresh\u001b[0m \u001b[1;33m=\u001b[0m \u001b[0mcv2\u001b[0m\u001b[1;33m.\u001b[0m\u001b[0mthreshold\u001b[0m\u001b[1;33m(\u001b[0m\u001b[0mimg2\u001b[0m\u001b[1;33m,\u001b[0m\u001b[1;36m127\u001b[0m\u001b[1;33m,\u001b[0m\u001b[1;36m255\u001b[0m\u001b[1;33m,\u001b[0m\u001b[1;36m0\u001b[0m\u001b[1;33m)\u001b[0m\u001b[1;33m\u001b[0m\u001b[1;33m\u001b[0m\u001b[0m\n\u001b[1;32m---> 10\u001b[1;33m     \u001b[0mcontours\u001b[0m\u001b[1;33m,\u001b[0m\u001b[0mh\u001b[0m\u001b[1;33m=\u001b[0m\u001b[0mcv2\u001b[0m\u001b[1;33m.\u001b[0m\u001b[0mfindContours\u001b[0m\u001b[1;33m(\u001b[0m\u001b[0mimg2\u001b[0m\u001b[1;33m,\u001b[0m \u001b[0mcv2\u001b[0m\u001b[1;33m.\u001b[0m\u001b[0mRETR_TREE\u001b[0m\u001b[1;33m,\u001b[0m \u001b[0mcv2\u001b[0m\u001b[1;33m.\u001b[0m\u001b[0mCHAIN_APPROX_SIMPLE\u001b[0m\u001b[1;33m)\u001b[0m\u001b[1;33m\u001b[0m\u001b[1;33m\u001b[0m\u001b[0m\n\u001b[0m\u001b[0;32m     11\u001b[0m     \u001b[1;32mfor\u001b[0m \u001b[0mi\u001b[0m \u001b[1;32min\u001b[0m \u001b[0mrange\u001b[0m\u001b[1;33m(\u001b[0m\u001b[0mlen\u001b[0m\u001b[1;33m(\u001b[0m\u001b[0mcontours\u001b[0m\u001b[1;33m)\u001b[0m\u001b[1;33m)\u001b[0m\u001b[1;33m:\u001b[0m\u001b[1;33m\u001b[0m\u001b[1;33m\u001b[0m\u001b[0m\n\u001b[0;32m     12\u001b[0m         \u001b[0mmasks\u001b[0m \u001b[1;33m+=\u001b[0m \u001b[1;33m[\u001b[0m\u001b[0mcv2\u001b[0m\u001b[1;33m.\u001b[0m\u001b[0mdrawContours\u001b[0m\u001b[1;33m(\u001b[0m\u001b[0mnp\u001b[0m\u001b[1;33m.\u001b[0m\u001b[0mzeros_like\u001b[0m\u001b[1;33m(\u001b[0m\u001b[0mimg2\u001b[0m\u001b[1;33m)\u001b[0m\u001b[1;33m,\u001b[0m \u001b[0mcontours\u001b[0m\u001b[1;33m,\u001b[0m \u001b[0mi\u001b[0m\u001b[1;33m,\u001b[0m \u001b[1;36m1\u001b[0m\u001b[1;33m,\u001b[0m \u001b[1;33m-\u001b[0m\u001b[1;36m1\u001b[0m\u001b[1;33m)\u001b[0m\u001b[1;33m]\u001b[0m\u001b[1;33m\u001b[0m\u001b[1;33m\u001b[0m\u001b[0m\n",
      "\u001b[1;31merror\u001b[0m: OpenCV(4.5.2) C:\\Users\\runneradmin\\AppData\\Local\\Temp\\pip-req-build-dn5w5exm\\opencv\\modules\\imgproc\\src\\contours.cpp:197: error: (-210:Unsupported format or combination of formats) [Start]FindContours supports only CV_8UC1 images when mode != CV_RETR_FLOODFILL otherwise supports CV_32SC1 images only in function 'cvStartFindContours_Impl'\n"
     ]
    }
   ],
   "source": [
    "def split_contour(img,center=True):\n",
    "    # pass this an image, and it will return a list of sub-images.\n",
    "    # method: determines whether to split by color or using the contour method\n",
    "    # center: whether to center and resize the split parts, or to leave them in their original location in the image\n",
    "    # hulls: if true use the convex hull of the contour, otherwise use the raw contour \n",
    "    masks=[]\n",
    "    bgcolor=[0,0,0]\n",
    "    img2=prep_img(img, False)\n",
    "    img2, thresh = cv2.threshold(img2,127,255,0)\n",
    "    contours,h=cv2.findContours(img2, cv2.RETR_TREE, cv2.CHAIN_APPROX_SIMPLE)\n",
    "    for i in range(len(contours)):\n",
    "        masks += [cv2.drawContours(np.zeros_like(img2), contours, i, 1, -1)]\n",
    "    return masks\n",
    "    if center:\n",
    "        return [cropresize(img,b,bgcolor) for b in masks]\n",
    "    else:\n",
    "        return [maskout(img,b,bgcolor) for b in masks]    \n",
    "split_contour(cimg)"
   ]
  },
  {
   "cell_type": "code",
   "execution_count": null,
   "id": "b8eb1922",
   "metadata": {},
   "outputs": [],
   "source": []
  }
 ],
 "metadata": {
  "kernelspec": {
   "display_name": "Python 3",
   "language": "python",
   "name": "python3"
  },
  "language_info": {
   "codemirror_mode": {
    "name": "ipython",
    "version": 3
   },
   "file_extension": ".py",
   "mimetype": "text/x-python",
   "name": "python",
   "nbconvert_exporter": "python",
   "pygments_lexer": "ipython3",
   "version": "3.7.10"
  }
 },
 "nbformat": 4,
 "nbformat_minor": 5
}
