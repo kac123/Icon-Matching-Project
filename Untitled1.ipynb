{
 "cells": [
  {
   "cell_type": "code",
   "execution_count": 1,
   "id": "119daaef",
   "metadata": {},
   "outputs": [],
   "source": [
    "import h5py\n",
    "import matplotlib.pyplot as plt\n",
    "import torch\n",
    "import torch.nn as nn\n",
    "import torchvision.models as models\n",
    "import torch.nn.functional as F\n",
    "import torchvision.transforms as transforms\n",
    "from torch.autograd import Variable\n",
    "import cv2\n",
    "import numpy as np\n",
    "import math\n",
    "import mahotas\n",
    "from sklearn.preprocessing import normalize\n",
    "import traceback"
   ]
  },
  {
   "cell_type": "code",
   "execution_count": 2,
   "id": "75313880",
   "metadata": {},
   "outputs": [
    {
     "name": "stdout",
     "output_type": "stream",
     "text": [
      "100\n",
      "Loading Completed\n"
     ]
    }
   ],
   "source": [
    "image_set_name = \"icon1k\"\n",
    "logdir = \"Logs20210918\"\n",
    "\n",
    "hdf5_file = h5py.File('LLD-icon.hdf5', 'r')\n",
    "images, _ = (hdf5_file['data'], hdf5_file['labels/resnet/rc_64'])\n",
    "\n",
    "# transpose the images because they're stored in a weird color channel first format, as indicated by shape[0] being 3\n",
    "images = [np.transpose(i,(1,2,0)) if i.shape[0] == 3 else i for i in images[:100]]\n",
    "print(len(images))\n",
    "print(\"Loading Completed\")"
   ]
  },
  {
   "cell_type": "code",
   "execution_count": 8,
   "id": "07b5f857",
   "metadata": {},
   "outputs": [],
   "source": [
    "def log(kwargs,message):\n",
    "    if 'log' in kwargs:\n",
    "        if 'info' in kwargs:\n",
    "            message['info']=kwargs['info']\n",
    "        if 'type' in message and message['type']=='Error':\n",
    "            message['traceback']=traceback.format_exc()\n",
    "        kwargs['log'] += [message]\n",
    "\n",
    "def make_neural_method():\n",
    "    # Load the pretrained model\n",
    "    model = models.resnet18(pretrained=True)\n",
    "    #strip the final layer to get a feature vector\n",
    "    model = nn.Sequential(*list(model.children())[:-1])  \n",
    "    # Set model to evaluation mode\n",
    "    model.eval()\n",
    "\n",
    "    def create(img,**kwargs):\n",
    "        try:\n",
    "            scaler = transforms.Resize((224, 224))\n",
    "            normalize = transforms.Normalize(mean=[0.485, 0.456, 0.406], \n",
    "                std=[0.229, 0.224, 0.225])\n",
    "            to_tensor = transforms.ToTensor()\n",
    "            pillize = transforms.ToPILImage()\n",
    "            loader = transforms.Compose([pillize, scaler, to_tensor, normalize])\n",
    "            l_img = loader(img)\n",
    "            t_img = Variable(l_img).unsqueeze(0)\n",
    "            f_vec = model(t_img).squeeze()\n",
    "            n_vec = f_vec.detach().numpy()\n",
    "            n_vec = n_vec / np.linalg.norm(n_vec)\n",
    "            return n_vec\n",
    "        except:\n",
    "            log(kwargs,{'type':'Error', 'method':'Neural', 'fn':'create'})\n",
    "            return None\n",
    "\n",
    "    def compare(v1, v2,**kwargs):\n",
    "        try:\n",
    "            return np.dot(v1, v2)\n",
    "        except:\n",
    "            log(kwargs,{'type':'Error', 'method':'Neural', 'fn':'compare'})\n",
    "            return None   \n",
    "    return \"Neural\", create, compare\n",
    "\n",
    "def make_small_neural_method():\n",
    "    class IconEmbeddingNet(nn.Module):\n",
    "        def __init__(self):\n",
    "            super().__init__()\n",
    "            self.convnet = nn.Sequential(\n",
    "                nn.Conv2d(3, 32, 5),\n",
    "                nn.PReLU(),\n",
    "                nn.MaxPool2d(2, stride=2),\n",
    "                nn.Conv2d(32, 64, 5),\n",
    "                nn.PReLU(),\n",
    "                nn.MaxPool2d(2, stride=2))\n",
    "            self.fc = nn.Sequential(\n",
    "                nn.Linear(64 * 4 * 4, 256),\n",
    "                nn.PReLU(),\n",
    "                nn.Linear(256, 256),\n",
    "                nn.PReLU(),\n",
    "                nn.Linear(256, 8)\n",
    "                )\n",
    "        def forward(self, x):\n",
    "            output = self.convnet(x)\n",
    "            output = output.view(output.size()[0], -1)\n",
    "            output = self.fc(output)\n",
    "            return output\n",
    "\n",
    "        def get_embedding(self, x):\n",
    "            return self.forward(x)\n",
    "        \n",
    "    model = IconEmbeddingNet()\n",
    "    model.load_state_dict(torch.load(\"models/IconEmbeddingNet.pt\"))\n",
    "    model.eval()\n",
    "    \n",
    "    def create(img,**kwargs):\n",
    "        try:\n",
    "            scaler = transforms.Resize((28, 28))\n",
    "            normalize = transforms.Normalize(mean=[0.485, 0.456, 0.406], \n",
    "                std=[0.229, 0.224, 0.225])\n",
    "            to_tensor = transforms.ToTensor()\n",
    "            pillize = transforms.ToPILImage()\n",
    "            loader = transforms.Compose([pillize, scaler, to_tensor, normalize])\n",
    "            l_img = loader(img)\n",
    "            t_img = Variable(l_img).unsqueeze(0)\n",
    "            f_vec = model(t_img).squeeze()\n",
    "            n_vec = f_vec.detach().numpy()\n",
    "            return n_vec\n",
    "        except:\n",
    "            log(kwargs,{'type':'Error', 'method':'Small_Neural', 'fn':'create'})\n",
    "            return None\n",
    "\n",
    "    def compare(v1, v2,**kwargs):\n",
    "        try:\n",
    "            sim = 100.0/(np.linalg.norm(v1-v2)+1)\n",
    "            return sim\n",
    "        except:\n",
    "            log(kwargs,{'type':'Error', 'method':'Small_Neural', 'fn':'compare'})\n",
    "            return None\n",
    "    \n",
    "    return \"Small_Neural\", create, compare\n",
    "\n",
    "\n",
    "def make_orb_method():\n",
    "    orb = cv2.ORB_create()\n",
    "    matcher = cv2.BFMatcher(cv2.NORM_HAMMING, crossCheck=True)\n",
    "\n",
    "    def create(img, **kwargs):\n",
    "        try:\n",
    "            img = gray(img)\n",
    "            img = cv2.resize(img,None, fx=13, fy=13, interpolation=cv2.INTER_AREA)\n",
    "\n",
    "            # find the keypoints and descriptors with orb\n",
    "            kp1, des1 = orb.detectAndCompute(img,None)\n",
    "            if len(kp1) < 2:\n",
    "                des1 = None\n",
    "            return des1\n",
    "        except:\n",
    "            log(kwargs,{'type':'Error', 'method':'Orb', 'fn':'create'})\n",
    "            return None\n",
    "\n",
    "    def compare(img_kp1, img_kp2, **kwargs):\n",
    "        try:\n",
    "            matches = matcher.match(img_kp1,img_kp2)\n",
    "            score = len(matches)\n",
    "            return score\n",
    "        except:\n",
    "            log(kwargs,{'type':'Error', 'method':'Orb', 'fn':'compare'})\n",
    "            return 0\n",
    "    return \"Orb\",create,compare\n",
    "\n",
    "def make_zernike_method():\n",
    "    def create(img, **kwargs):\n",
    "        try:\n",
    "            _, _, min_x, min_y, max_x, max_y, edges1 = image_preprocess(img) \n",
    "            ## create zernike vector \n",
    "            edges2 = edges1[min_y:max_y+1, min_x:max_x+1]\n",
    "            edges2 = cv2.resize(edges2, dsize=(32, 32), interpolation=cv2.INTER_CUBIC)\n",
    "            zernike = mahotas.features.zernike_moments(edges2, 16)  \n",
    "            return normalize(zernike[:,np.newaxis], axis=0).ravel()\n",
    "        except:\n",
    "            log(kwargs,{'type':'Error', 'method':'Zernike', 'fn':'create'})\n",
    "            return None\n",
    "\n",
    "    def compare(x,y, **kwargs):\n",
    "        try:\n",
    "            return np.dot(x,y)\n",
    "        except:\n",
    "            log(kwargs,{'type':'Error', 'method':'Zernike', 'fn':'compare'})\n",
    "            return 0\n",
    "    return \"Zernike\",create,compare\n",
    "\n",
    "from contour_impl import do_contour_create, do_contour_compare\n",
    "def make_contour_method(fractions=[.05,.1,.15,.2,.25,.3,.35,.4,.45,.5,.55,.6,.65,.7,.75,.8,.85,.9,.95]):\n",
    "    def create(img, **kwargs):\n",
    "        try:\n",
    "            return do_contour_create(img,fractions,**kwargs)\n",
    "        except:\n",
    "            log(kwargs,{'type':'Error', 'method':'Contour', 'fn':'create'})\n",
    "            return None\n",
    "        \n",
    "    def compare(query1, query2, error=0.1, **kwargs):\n",
    "        try:\n",
    "            return do_contour_compare(query1, query2, fractions,error,**kwargs)\n",
    "        except:\n",
    "            log(kwargs,{'type':'Error', 'method':'Contour', 'fn':'compare'})\n",
    "            return 0\n",
    "    \n",
    "    return \"Contour\", create, compare"
   ]
  },
  {
   "cell_type": "code",
   "execution_count": 4,
   "id": "31ec532d",
   "metadata": {},
   "outputs": [],
   "source": []
  },
  {
   "cell_type": "code",
   "execution_count": 9,
   "id": "0547c695",
   "metadata": {},
   "outputs": [
    {
     "data": {
      "text/plain": [
       "<matplotlib.image.AxesImage at 0x1ba8d9345c8>"
      ]
     },
     "execution_count": 9,
     "metadata": {},
     "output_type": "execute_result"
    },
    {
     "data": {
      "image/png": "[encoded data removed]",
      "text/plain": [
       "<Figure size 432x288 with 1 Axes>"
      ]
     },
     "metadata": {
      "needs_background": "light"
     },
     "output_type": "display_data"
    }
   ],
   "source": [
    "cimg=cv2.cvtColor(cv2.imread('cornertest4.png'), cv2.COLOR_BGR2GRAY)\n",
    "plt.imshow(cimg)"
   ]
  },
  {
   "cell_type": "code",
   "execution_count": 14,
   "id": "9d5529a0",
   "metadata": {},
   "outputs": [
    {
     "data": {
      "text/plain": [
       "0"
      ]
     },
     "execution_count": 14,
     "metadata": {},
     "output_type": "execute_result"
    }
   ],
   "source": [
    "logs=[]\n",
    "m=make_orb_method()\n",
    "v1=m[1](images[0],log=logs)\n",
    "v2=m[1](cimg,log=logs)\n",
    "m[2](v1,v2,log=logs)"
   ]
  },
  {
   "cell_type": "code",
   "execution_count": 15,
   "id": "375e6326",
   "metadata": {},
   "outputs": [
    {
     "data": {
      "text/plain": [
       "[{'type': 'Error',\n",
       "  'method': 'Orb',\n",
       "  'fn': 'create',\n",
       "  'traceback': 'Traceback (most recent call last):\\n  File \"<ipython-input-8-9607575138be>\", line 108, in create\\n    img = gray(img)\\nNameError: name \\'gray\\' is not defined\\n'},\n",
       " {'type': 'Error',\n",
       "  'method': 'Orb',\n",
       "  'fn': 'create',\n",
       "  'traceback': 'Traceback (most recent call last):\\n  File \"<ipython-input-8-9607575138be>\", line 108, in create\\n    img = gray(img)\\nNameError: name \\'gray\\' is not defined\\n'}]"
      ]
     },
     "execution_count": 15,
     "metadata": {},
     "output_type": "execute_result"
    }
   ],
   "source": [
    "logs"
   ]
  },
  {
   "cell_type": "code",
   "execution_count": null,
   "id": "ff7bd2c8",
   "metadata": {},
   "outputs": [],
   "source": [
    "log(l1,None,{'howdy':'doody'})"
   ]
  },
  {
   "cell_type": "code",
   "execution_count": null,
   "id": "7d4b0b4a",
   "metadata": {},
   "outputs": [],
   "source": [
    "l1"
   ]
  },
  {
   "cell_type": "code",
   "execution_count": null,
   "id": "8727b17a",
   "metadata": {},
   "outputs": [],
   "source": [
    "m=make_zernike_method()\n",
    "logs=[]\n",
    "info={'hidey ho':'neighborooni'}\n",
    "v1=m[1](images[0])\n",
    "v2=m[1](None)\n",
    "m[2](v1,v2,log=logs,info=info)"
   ]
  },
  {
   "cell_type": "code",
   "execution_count": null,
   "id": "f59b0bb4",
   "metadata": {},
   "outputs": [],
   "source": [
    "logs"
   ]
  },
  {
   "cell_type": "code",
   "execution_count": null,
   "id": "d1cc7c76",
   "metadata": {},
   "outputs": [],
   "source": [
    "np.argmax([i for i in range(5)])"
   ]
  },
  {
   "cell_type": "code",
   "execution_count": null,
   "id": "c1e99fc2",
   "metadata": {},
   "outputs": [],
   "source": [
    "plt.imshow(cimg)"
   ]
  },
  {
   "cell_type": "code",
   "execution_count": null,
   "id": "0dc8d819",
   "metadata": {},
   "outputs": [],
   "source": []
  }
 ],
 "metadata": {
  "kernelspec": {
   "display_name": "Python 3",
   "language": "python",
   "name": "python3"
  },
  "language_info": {
   "codemirror_mode": {
    "name": "ipython",
    "version": 3
   },
   "file_extension": ".py",
   "mimetype": "text/x-python",
   "name": "python",
   "nbconvert_exporter": "python",
   "pygments_lexer": "ipython3",
   "version": "3.7.10"
  }
 },
 "nbformat": 4,
 "nbformat_minor": 5
}
