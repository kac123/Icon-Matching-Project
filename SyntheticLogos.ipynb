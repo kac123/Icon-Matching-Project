{
 "cells": [
  {
   "cell_type": "code",
   "execution_count": 7,
   "id": "739b4009",
   "metadata": {},
   "outputs": [],
   "source": [
    "#external stuff\n",
    "import h5py\n",
    "import matplotlib.pyplot as plt\n",
    "import torch\n",
    "import torch.nn as nn\n",
    "import torchvision.models as models\n",
    "import torch.nn.functional as F\n",
    "import torchvision.transforms as transforms\n",
    "from torch.autograd import Variable\n",
    "import cv2\n",
    "import numpy as np\n",
    "import math\n",
    "import mahotas\n",
    "from sklearn.preprocessing import normalize\n",
    "from sklearn.decomposition import PCA\n",
    "from sklearn.feature_extraction.image import grid_to_graph\n",
    "from sklearn.cluster import KMeans, AgglomerativeClustering, AffinityPropagation\n",
    "import traceback\n",
    "from uuid import uuid4 as unique_identifier\n",
    "import random\n",
    "import os\n",
    "from time import perf_counter\n",
    "from glob import glob\n",
    "import pandas as pd\n",
    "from scipy.optimize import linear_sum_assignment\n",
    "\n",
    "from timm.data import resolve_data_config\n",
    "from timm.data.transforms_factory import create_transform\n",
    "import timm\n",
    "from math import cos,sin"
   ]
  },
  {
   "cell_type": "code",
   "execution_count": 2,
   "id": "c0fd36c7",
   "metadata": {},
   "outputs": [],
   "source": [
    "#internal stuff\n",
    "from contour_impl import do_contour_create, do_contour_compare\n",
    "from imageprocessing import maybetogray,maybetocolor, image_preprocess, canny, recenter\n",
    "from aberrations import aberrations"
   ]
  },
  {
   "cell_type": "code",
   "execution_count": 3,
   "id": "ad31a10e",
   "metadata": {},
   "outputs": [
    {
     "data": {
      "text/plain": [
       "<matplotlib.image.AxesImage at 0x253cf2cd048>"
      ]
     },
     "execution_count": 3,
     "metadata": {},
     "output_type": "execute_result"
    },
    {
     "data": {
      "image/png": "[encoded data removed]",
      "text/plain": [
       "<Figure size 432x288 with 1 Axes>"
      ]
     },
     "metadata": {
      "needs_background": "light"
     },
     "output_type": "display_data"
    }
   ],
   "source": [
    "# load some test images\n",
    "img_files=[\"stairtest.png\",\"stairtest2.png\",\"cornertest.png\",\"cornertest2.png\",\"cornertest3.png\",\"cornertest4.png\",\"tdl.png\",\"tdl2.png\",\"tokyo.png\",\"tokyo2.png\"]\n",
    "test_images=[cv2.cvtColor(cv2.imread(iname), cv2.COLOR_BGR2RGB) for iname in img_files]\n",
    "plt.imshow(test_images[0])"
   ]
  },
  {
   "cell_type": "code",
   "execution_count": 8,
   "id": "3de9b8a6",
   "metadata": {},
   "outputs": [
    {
     "data": {
      "image/png": "[encoded data removed]",
      "text/plain": [
       "<Figure size 432x288 with 1 Axes>"
      ]
     },
     "metadata": {
      "needs_background": "light"
     },
     "output_type": "display_data"
    },
    {
     "data": {
      "image/png": "[encoded data removed]",
      "text/plain": [
       "<Figure size 432x288 with 1 Axes>"
      ]
     },
     "metadata": {
      "needs_background": "light"
     },
     "output_type": "display_data"
    },
    {
     "data": {
      "image/png": "[encoded data removed]",
      "text/plain": [
       "<Figure size 432x288 with 1 Axes>"
      ]
     },
     "metadata": {
      "needs_background": "light"
     },
     "output_type": "display_data"
    },
    {
     "data": {
      "image/png": "[encoded data removed]",
      "text/plain": [
       "<Figure size 432x288 with 1 Axes>"
      ]
     },
     "metadata": {
      "needs_background": "light"
     },
     "output_type": "display_data"
    },
    {
     "data": {
      "image/png": "[encoded data removed]",
      "text/plain": [
       "<Figure size 432x288 with 1 Axes>"
      ]
     },
     "metadata": {
      "needs_background": "light"
     },
     "output_type": "display_data"
    }
   ],
   "source": [
    "from PIL import Image, ImageDraw\n",
    "def draw_poly(dc,poly, scale=1, **kwargs):\n",
    "    coords = (poly*scale).astype(int)\n",
    "    dc.polygon([tuple(i) for i in coords],**kwargs)\n",
    "    def center(poly):\n",
    "    return (poly - np.mean(poly,axis=0) + np.array([0.5, 0.5])).tolist()\n",
    "def rescale(poly):\n",
    "    p2 = poly - np.array([0.5,0.5])\n",
    "    m = np.max(np.linalg.norm(p2,axis=1))\n",
    "    p3 = p2*(0.7071067811865476/m)\n",
    "    return (p3 + np.array([0.5,0.5])).tolist()\n",
    "def generate_components(nums=[(5,4),(5,6),(5,8)], tonp=False):\n",
    "    polys=[]\n",
    "    for c,v in nums:\n",
    "        for _ in range(c):\n",
    "            p=[[0.5+cos(x*6.14/20)*np.random.uniform(0.2,1.0)/2,0.5+sin(x*6.14/20)*np.random.uniform(0.2,1.0)/2] for x in range(v)]\n",
    "            p=center(p)\n",
    "            p=rescale(p)\n",
    "            polys.append(p)\n",
    "    if tonp:\n",
    "        return [np.array(i) for i in polys]\n",
    "    return polys\n",
    "polys=[# wedge\n",
    "       [[0,0], [0,0.5], [1,1]],\n",
    "       # circle\n",
    "       [[0.5+cos(x*6.14/20)/2,0.5+sin(x*6.14/20)/2] for x in range(20)],\n",
    "       # randomly perturbed circle\n",
    "       [[0.5+cos(x*6.14/20)*np.random.uniform(0.2,1.0)/2,0.5+sin(x*6.14/20)*np.random.uniform(0.2,1.0)/2] for x in range(20)],\n",
    "       # squished circle\n",
    "       [[0.43889485, 1.01199527],\n",
    "           [0.50584096, 1.03654858],\n",
    "           [0.56339267, 1.03823472],\n",
    "           [0.60616826, 1.01689601],\n",
    "           [0.63016773, 0.97452786],\n",
    "           [0.63314687, 0.91509216],\n",
    "           [0.61482709, 0.8441468 ],\n",
    "           [0.5769215 , 0.76832597],\n",
    "           [0.52297469, 0.69471975],\n",
    "           [0.45803129, 0.63021113],\n",
    "           [0.38816421, 0.58083239],\n",
    "           [0.31990682, 0.551201  ],\n",
    "           [0.25964192, 0.5440878 ],\n",
    "           [0.21300497, 0.56015797],\n",
    "           [0.18435702, 0.59790877],\n",
    "           [0.17637698, 0.65381007],\n",
    "           [0.18981107, 0.72263449],\n",
    "           [0.22340306, 0.79794618],\n",
    "           [0.27401172, 0.87270266],\n",
    "           [0.33690458, 0.93991338]],\n",
    "      # star thing\n",
    "      [[0.41807544, 0.87534801],\n",
    "       [0.46415562, 0.98536887],\n",
    "       [0.53947724, 0.94539019],\n",
    "       [0.59524502, 1.0083861 ],\n",
    "       [0.51879522, 0.89930979],\n",
    "       [0.48691866, 0.83740086],\n",
    "       [0.6054967 , 0.86355202],\n",
    "       [0.58552607, 0.83129026],\n",
    "       [0.41381491, 0.66344889],\n",
    "       [0.4658818 , 0.68867009],\n",
    "       [0.38576388, 0.62978679],\n",
    "       [0.32330981, 0.55634607],\n",
    "       [0.32094132, 0.70405591],\n",
    "       [0.32852805, 0.70085152],\n",
    "       [0.3041241 , 0.72073516],\n",
    "       [0.28525641, 0.71508238],\n",
    "       [0.22339421, 0.71973661],\n",
    "       [0.35555229, 0.82499804],\n",
    "       [0.33906122, 0.81146125],\n",
    "       [0.38112243, 0.83347015]]]\n",
    "polys=[np.array(p) for p in polys]\n",
    "colors=[[255,255,255], #white\n",
    "        [255,0,0], #red\n",
    "        [0,255,0], #green\n",
    "        [0,0,255], #blue\n",
    "        [102,0,204], #purple\n",
    "        [128,128,128], #gray\n",
    "        [255,153,153], #pink\n",
    "        [153,153,0], #puke green\n",
    "        [102,102,0], #camo green\n",
    "        [255,128,0], #orange\n",
    "        [204,255,153], #light green\n",
    "        [255,255,51], #lemon yellow\n",
    "        [255,255,0], #yellow\n",
    "       ]\n",
    "for poly in polys:\n",
    "    im = Image.new('RGB', (32,32))\n",
    "    dc = ImageDraw.Draw(im)\n",
    "    draw_poly(dc,poly,scale=32,fill=tuple(colors[np.random.choice(len(colors))]))\n",
    "    plt.figure()\n",
    "    plt.imshow(im)"
   ]
  },
  {
   "cell_type": "code",
   "execution_count": null,
   "id": "ccdcccaf",
   "metadata": {},
   "outputs": [],
   "source": []
  },
  {
   "cell_type": "code",
   "execution_count": 45,
   "id": "106fa8dd",
   "metadata": {},
   "outputs": [],
   "source": [
    "extrapolys = [np.array(i) for i in \n",
    "              [[[0.6418244038727151, 0.2998061868582428],\n",
    "                [0.4686347285507535, 0.343719548648612],\n",
    "                [0.538938997157498, 0.5484336730942655],\n",
    "                [0.542681652704277, 0.450468227715067],\n",
    "                [0.43109533978422987, 0.6070484675470792],\n",
    "                [0.3768248779305259, 0.7505238961367339]],\n",
    "               [[0.7551090088368116, 0.3251183354923094],\n",
    "                [0.47828368692752177, 0.3965994485653471],\n",
    "                [0.6092142376958286, 0.6016242032921474],\n",
    "                [0.4316982732063379, 0.6707721033472805],\n",
    "                [0.399862175097046, 0.5350890404631552],\n",
    "                [0.32583261823645393, 0.4707968688397598]],\n",
    "               [[0.515389669457967, 0.2818596661713876],\n",
    "                [0.651050007044704, 0.35248958600744784],\n",
    "                [0.5344039566627392, 0.35101235200083813],\n",
    "                [0.5307715126552366, 0.6608543520782878],\n",
    "                [0.458693432679527, 0.6142634014250895],\n",
    "                [0.30969142149982576, 0.7395206423169486]],\n",
    "               [[0.7159505013889395, 0.3009783869496805],\n",
    "                [0.6637907407843163, 0.3318392884634721],\n",
    "                [0.5505329020343993, 0.5764471642040447],\n",
    "                [0.3955281025968944, 0.5022422023308493],\n",
    "                [0.40290678721412976, 0.7070247292741323],\n",
    "                [0.27129096598132074, 0.5814682287778206]],\n",
    "               [[0.6622552572497098, 0.3531104710774633],\n",
    "                [0.38125580389168034, 0.5008884838980432],\n",
    "                [0.6275181515964631, 0.5421191321479667],\n",
    "                [0.4713014681032167, 0.49403328856466466],\n",
    "                [0.35766931915892997, 0.6098486243118619]],\n",
    "               [[0.5418676102104842, 0.37277505232563524],\n",
    "                [0.6375963533712182, 0.4244772677023234],\n",
    "                [0.5879446917833321, 0.5361349301961581],\n",
    "                [0.3760970022568636, 0.5168697665454319],\n",
    "                [0.3564943423781022, 0.6497429832304513]],\n",
    "               [[0.5929718054541705, 0.3881219851179716],\n",
    "                [0.5759230333160092, 0.5126711736974675],\n",
    "                [0.4044049510210801, 0.4795509972942713],\n",
    "                [0.5330257440876567, 0.5622092012693746],\n",
    "                [0.3936744661210836, 0.5574466426209147]],\n",
    "               [[0.48541929309082743, 0.32768060751560224],\n",
    "                [0.47509976114220076, 0.45643829870378894],\n",
    "                [0.7294407587245033, 0.4392070096193348],\n",
    "                [0.4230331213751821, 0.6618874068539375],\n",
    "                [0.3870070656672866, 0.6147866773073363]],\n",
    "               [[0.6609532006899512, 0.3344483978948014],\n",
    "                [0.8713724436702532, 0.4829653192676955],\n",
    "                [0.7012391375113879, 0.44445004499719365],\n",
    "                [0.5530251550253507, 0.4646999329457697],\n",
    "                [0.6019219974611618, 0.7010735186469367],\n",
    "                [0.4789796152826973, 0.6631687044697621],\n",
    "                [0.33835719580613455, 0.5480210762197315],\n",
    "                [0.2927224597540182, 0.48237566698821976],\n",
    "                [0.3701417391669003, 0.4783405644960057],\n",
    "                [0.13128705563214438, 0.4004567740738836]],\n",
    "               [[0.8577553339584751, 0.2976398314466867],\n",
    "                [0.7691299309786327, 0.3947263351872622],\n",
    "                [0.521913906804508, 0.5318671657174288],\n",
    "                [0.6593530893331545, 0.5089094111359661],\n",
    "                [0.5335649652336962, 0.6709952691519542],\n",
    "                [0.44573133089511885, 0.5353144647279369],\n",
    "                [0.3795276384266304, 0.4621699907853024],\n",
    "                [0.26028436833773155, 0.5534893382165454],\n",
    "                [0.26389690169644087, 0.6099680570978998],\n",
    "                [0.30884253433561154, 0.43492013653301764]],\n",
    "               [[0.629652104965897, 0.2725377037274951],\n",
    "                [0.8592940610388403, 0.37215300166879084],\n",
    "                [0.8457396167513952, 0.5102197374461156],\n",
    "                [0.6179564771638816, 0.4414912523778187],\n",
    "                [0.552246637268459, 0.486298727786322],\n",
    "                [0.4507369637787937, 0.7439972130183611],\n",
    "                [0.3517756933913417, 0.7142100367746026],\n",
    "                [0.37172081455856637, 0.581360158283005],\n",
    "                [0.17600917345280387, 0.5661104034064136],\n",
    "                [0.14486845763002193, 0.31162176551107545]],\n",
    "               [[0.8592291385847213, -0.007073882076366278],\n",
    "                [0.4205544381889242, 0.1041549240920791],\n",
    "                [0.5986291641232275, 0.6226783697942568],\n",
    "                [0.6081089919340702, 0.37454023845952367],\n",
    "                [0.32547036294262166, 0.771144653061714],\n",
    "                [0.18800790422643376, 1.1345556966687935]],\n",
    "               [[1.0832249154448208, 0.10018917222718754],\n",
    "                [0.45035261626698864, 0.2636078077274028],\n",
    "                [0.7496833210083366, 0.7323311420574868],\n",
    "                [0.3438500113516152, 0.8904156344347808],\n",
    "                [0.27106698533248264, 0.5802198352401366],\n",
    "                [0.10182215059575572, 0.43323640831300414]],\n",
    "               [[0.5355717627503136, -0.004210712414523976],\n",
    "                [0.8491377789953641, 0.15904365496120598],\n",
    "                [0.5795214859826296, 0.15562916852578668],\n",
    "                [0.5711254358405786, 0.8717995935593092],\n",
    "                [0.4045237835181016, 0.764109025709643],\n",
    "                [0.060119752913011415, 1.0536292696585776]],\n",
    "               [[1.0199651250159878, 0.020796213738760116],\n",
    "                [0.894374972322895, 0.09510302206065374],\n",
    "                [0.6216730063358995, 0.6840693077201152],\n",
    "                [0.24845280356155963, 0.5053987696614392],\n",
    "                [0.266219183564282, 0.9984736712629768],\n",
    "                [-0.05068509080062378, 0.6961590155560536]],\n",
    "               [[1.0242048722832013, 0.025437831391341814],\n",
    "                [0.116368139865345, 0.5028704622345926],\n",
    "                [0.9119782465263289, 0.6360760487059267],\n",
    "                [0.4072824480225242, 0.4807230948387882],\n",
    "                [0.040166293302600076, 0.8548925628293499]],\n",
    "               [[0.6427394268533342, 0.06625142870139922],\n",
    "                [0.9691078501633293, 0.24252001801935524],\n",
    "                [0.7998302228581093, 0.6231949757737364],\n",
    "                [0.07757696715069595, 0.5575141689659066],\n",
    "                [0.010745532974532346, 1.0105194085396025]],\n",
    "               [[0.9519327870910503, -0.043835228678793525],\n",
    "                [0.86905928505201, 0.5615941447714934],\n",
    "                [0.03531571527407856, 0.4005980927133018],\n",
    "                [0.6605370197812045, 0.8023968134751911],\n",
    "                [-0.016844807198342804, 0.7792461777188054]],\n",
    "               [[0.45656302272993937, -0.013351895841667738],\n",
    "                [0.4258203929327399, 0.37022655068539],\n",
    "                [1.1835205647863394, 0.3188932979866185],\n",
    "                [0.2707101186383115, 0.9822742584174604],\n",
    "                [0.16338590091267047, 0.8419577887521982]],\n",
    "               [[0.7980021241417895, 0.1934840135458975],\n",
    "                [1.1875897875100285, 0.4684605772327403],\n",
    "                [0.8725908536256859, 0.397150199462603],\n",
    "                [0.5981751761553427, 0.43464252391741975],\n",
    "                [0.6887068514947312, 0.8722842131041377],\n",
    "                [0.46108111383196054, 0.8021040918541285],\n",
    "                [0.20072108665426092, 0.5889102090279104],\n",
    "                [0.11622914601632861, 0.4673688460274237],\n",
    "                [0.25956963017984713, 0.45989792212746367],\n",
    "                [-0.18266576960997583, 0.3156974037002747]],\n",
    "               [[1.1154698475564726, 0.15186659633293959],\n",
    "                [0.9630017832565122, 0.318890844429653],\n",
    "                [0.537699923942721, 0.5548231647845655],\n",
    "                [0.7741455187105986, 0.515327441391293],\n",
    "                [0.5577440000881136, 0.7941743204031355],\n",
    "                [0.4066380670512918, 0.560753778237628],\n",
    "                [0.29274353454940705, 0.43491856642133986],\n",
    "                [0.08760155538811704, 0.5920211991636021],\n",
    "                [0.09381643227332254, 0.6891852249671329],\n",
    "                [0.1711393371834431, 0.3880388638687108]],\n",
    "               [[0.728053889922325, 0.0999011239404583],\n",
    "                [1.131986717588962, 0.2751212346919143],\n",
    "                [1.1081448852770195, 0.5179761900447706],\n",
    "                [0.7074816561276258, 0.3970849914605572],\n",
    "                [0.5919001574834968, 0.4758999020799869],\n",
    "                [0.4133479009647735, 0.9291832637324311],\n",
    "                [0.2392782036818044, 0.8767885770902218],\n",
    "                [0.2743610314411695, 0.6431099062064272],\n",
    "                [-0.06988946159163634, 0.6162860769991544],\n",
    "                [-0.12466498089553912, 0.1686487337540783]]\n",
    "              ]\n",
    "             ]\n"
   ]
  },
  {
   "cell_type": "code",
   "execution_count": 46,
   "id": "9bef1a37",
   "metadata": {},
   "outputs": [
    {
     "data": {
      "image/png": "[encoded data removed]",
      "text/plain": [
       "<Figure size 432x288 with 1 Axes>"
      ]
     },
     "metadata": {
      "needs_background": "light"
     },
     "output_type": "display_data"
    },
    {
     "data": {
      "image/png": "[encoded data removed]",
      "text/plain": [
       "<Figure size 432x288 with 1 Axes>"
      ]
     },
     "metadata": {
      "needs_background": "light"
     },
     "output_type": "display_data"
    },
    {
     "data": {
      "image/png": "[encoded data removed]",
      "text/plain": [
       "<Figure size 432x288 with 1 Axes>"
      ]
     },
     "metadata": {
      "needs_background": "light"
     },
     "output_type": "display_data"
    },
    {
     "data": {
      "image/png": "[encoded data removed]",
      "text/plain": [
       "<Figure size 432x288 with 1 Axes>"
      ]
     },
     "metadata": {
      "needs_background": "light"
     },
     "output_type": "display_data"
    },
    {
     "data": {
      "image/png": "[encoded data removed]",
      "text/plain": [
       "<Figure size 432x288 with 1 Axes>"
      ]
     },
     "metadata": {
      "needs_background": "light"
     },
     "output_type": "display_data"
    },
    {
     "data": {
      "image/png": "[encoded data removed]",
      "text/plain": [
       "<Figure size 432x288 with 1 Axes>"
      ]
     },
     "metadata": {
      "needs_background": "light"
     },
     "output_type": "display_data"
    },
    {
     "data": {
      "image/png": "[encoded data removed]",
      "text/plain": [
       "<Figure size 432x288 with 1 Axes>"
      ]
     },
     "metadata": {
      "needs_background": "light"
     },
     "output_type": "display_data"
    },
    {
     "data": {
      "image/png": "[encoded data removed]",
      "text/plain": [
       "<Figure size 432x288 with 1 Axes>"
      ]
     },
     "metadata": {
      "needs_background": "light"
     },
     "output_type": "display_data"
    },
    {
     "data": {
      "image/png": "[encoded data removed]",
      "text/plain": [
       "<Figure size 432x288 with 1 Axes>"
      ]
     },
     "metadata": {
      "needs_background": "light"
     },
     "output_type": "display_data"
    },
    {
     "data": {
      "image/png": "[encoded data removed]",
      "text/plain": [
       "<Figure size 432x288 with 1 Axes>"
      ]
     },
     "metadata": {
      "needs_background": "light"
     },
     "output_type": "display_data"
    },
    {
     "data": {
      "image/png": "[encoded data removed]",
      "text/plain": [
       "<Figure size 432x288 with 1 Axes>"
      ]
     },
     "metadata": {
      "needs_background": "light"
     },
     "output_type": "display_data"
    }
   ],
   "source": [
    "for poly in extrapolys:\n",
    "    im = Image.new('RGB', (32,32))\n",
    "    dc = ImageDraw.Draw(im)\n",
    "    draw_poly(dc,poly,scale=32,fill=tuple(colors[np.random.choice(len(colors))]))\n",
    "    plt.figure()\n",
    "    plt.imshow(im)"
   ]
  },
  {
   "cell_type": "code",
   "execution_count": 59,
   "id": "d5bf17c4",
   "metadata": {},
   "outputs": [
    {
     "data": {
      "text/plain": [
       "[[[0.8592291385847213, -0.007073882076366278],\n",
       "  [0.4205544381889242, 0.1041549240920791],\n",
       "  [0.5986291641232275, 0.6226783697942568],\n",
       "  [0.6081089919340702, 0.37454023845952367],\n",
       "  [0.32547036294262166, 0.771144653061714],\n",
       "  [0.18800790422643376, 1.1345556966687935]],\n",
       " [[1.0832249154448208, 0.10018917222718754],\n",
       "  [0.45035261626698864, 0.2636078077274028],\n",
       "  [0.7496833210083366, 0.7323311420574868],\n",
       "  [0.3438500113516152, 0.8904156344347808],\n",
       "  [0.27106698533248264, 0.5802198352401366],\n",
       "  [0.10182215059575572, 0.43323640831300414]],\n",
       " [[0.5355717627503136, -0.004210712414523976],\n",
       "  [0.8491377789953641, 0.15904365496120598],\n",
       "  [0.5795214859826296, 0.15562916852578668],\n",
       "  [0.5711254358405786, 0.8717995935593092],\n",
       "  [0.4045237835181016, 0.764109025709643],\n",
       "  [0.060119752913011415, 1.0536292696585776]],\n",
       " [[1.0199651250159878, 0.020796213738760116],\n",
       "  [0.894374972322895, 0.09510302206065374],\n",
       "  [0.6216730063358995, 0.6840693077201152],\n",
       "  [0.24845280356155963, 0.5053987696614392],\n",
       "  [0.266219183564282, 0.9984736712629768],\n",
       "  [-0.05068509080062378, 0.6961590155560536]],\n",
       " [[1.0242048722832013, 0.025437831391341814],\n",
       "  [0.116368139865345, 0.5028704622345926],\n",
       "  [0.9119782465263289, 0.6360760487059267],\n",
       "  [0.4072824480225242, 0.4807230948387882],\n",
       "  [0.040166293302600076, 0.8548925628293499]],\n",
       " [[0.6427394268533342, 0.06625142870139922],\n",
       "  [0.9691078501633293, 0.24252001801935524],\n",
       "  [0.7998302228581093, 0.6231949757737364],\n",
       "  [0.07757696715069595, 0.5575141689659066],\n",
       "  [0.010745532974532346, 1.0105194085396025]],\n",
       " [[0.9519327870910503, -0.043835228678793525],\n",
       "  [0.86905928505201, 0.5615941447714934],\n",
       "  [0.03531571527407856, 0.4005980927133018],\n",
       "  [0.6605370197812045, 0.8023968134751911],\n",
       "  [-0.016844807198342804, 0.7792461777188054]],\n",
       " [[0.45656302272993937, -0.013351895841667738],\n",
       "  [0.4258203929327399, 0.37022655068539],\n",
       "  [1.1835205647863394, 0.3188932979866185],\n",
       "  [0.2707101186383115, 0.9822742584174604],\n",
       "  [0.16338590091267047, 0.8419577887521982]],\n",
       " [[0.7980021241417895, 0.1934840135458975],\n",
       "  [1.1875897875100285, 0.4684605772327403],\n",
       "  [0.8725908536256859, 0.397150199462603],\n",
       "  [0.5981751761553427, 0.43464252391741975],\n",
       "  [0.6887068514947312, 0.8722842131041377],\n",
       "  [0.46108111383196054, 0.8021040918541285],\n",
       "  [0.20072108665426092, 0.5889102090279104],\n",
       "  [0.11622914601632861, 0.4673688460274237],\n",
       "  [0.25956963017984713, 0.45989792212746367],\n",
       "  [-0.18266576960997583, 0.3156974037002747]],\n",
       " [[1.1154698475564726, 0.15186659633293959],\n",
       "  [0.9630017832565122, 0.318890844429653],\n",
       "  [0.537699923942721, 0.5548231647845655],\n",
       "  [0.7741455187105986, 0.515327441391293],\n",
       "  [0.5577440000881136, 0.7941743204031355],\n",
       "  [0.4066380670512918, 0.560753778237628],\n",
       "  [0.29274353454940705, 0.43491856642133986],\n",
       "  [0.08760155538811704, 0.5920211991636021],\n",
       "  [0.09381643227332254, 0.6891852249671329],\n",
       "  [0.1711393371834431, 0.3880388638687108]],\n",
       " [[0.728053889922325, 0.0999011239404583],\n",
       "  [1.131986717588962, 0.2751212346919143],\n",
       "  [1.1081448852770195, 0.5179761900447706],\n",
       "  [0.7074816561276258, 0.3970849914605572],\n",
       "  [0.5919001574834968, 0.4758999020799869],\n",
       "  [0.4133479009647735, 0.9291832637324311],\n",
       "  [0.2392782036818044, 0.8767885770902218],\n",
       "  [0.2743610314411695, 0.6431099062064272],\n",
       "  [-0.06988946159163634, 0.6162860769991544],\n",
       "  [-0.12466498089553912, 0.1686487337540783]]]"
      ]
     },
     "execution_count": 59,
     "metadata": {},
     "output_type": "execute_result"
    }
   ],
   "source": []
  },
  {
   "cell_type": "code",
   "execution_count": 60,
   "id": "77dad11d",
   "metadata": {},
   "outputs": [],
   "source": [
    "ep2=[np.array(i) for i in\n",
    "    []]"
   ]
  },
  {
   "cell_type": "code",
   "execution_count": 61,
   "id": "43371846",
   "metadata": {},
   "outputs": [
    {
     "data": {
      "image/png": "[encoded data removed]",
      "text/plain": [
       "<Figure size 432x288 with 1 Axes>"
      ]
     },
     "metadata": {
      "needs_background": "light"
     },
     "output_type": "display_data"
    },
    {
     "data": {
      "image/png": "[encoded data removed]",
      "text/plain": [
       "<Figure size 432x288 with 1 Axes>"
      ]
     },
     "metadata": {
      "needs_background": "light"
     },
     "output_type": "display_data"
    },
    {
     "data": {
      "image/png": "[encoded data removed]",
      "text/plain": [
       "<Figure size 432x288 with 1 Axes>"
      ]
     },
     "metadata": {
      "needs_background": "light"
     },
     "output_type": "display_data"
    },
    {
     "data": {
      "image/png": "[encoded data removed]",
      "text/plain": [
       "<Figure size 432x288 with 1 Axes>"
      ]
     },
     "metadata": {
      "needs_background": "light"
     },
     "output_type": "display_data"
    },
    {
     "data": {
      "image/png": "[encoded data removed]",
      "text/plain": [
       "<Figure size 432x288 with 1 Axes>"
      ]
     },
     "metadata": {
      "needs_background": "light"
     },
     "output_type": "display_data"
    },
    {
     "data": {
      "image/png": "[encoded data removed]",
      "text/plain": [
       "<Figure size 432x288 with 1 Axes>"
      ]
     },
     "metadata": {
      "needs_background": "light"
     },
     "output_type": "display_data"
    },
    {
     "data": {
      "image/png": "[encoded data removed]",
      "text/plain": [
       "<Figure size 432x288 with 1 Axes>"
      ]
     },
     "metadata": {
      "needs_background": "light"
     },
     "output_type": "display_data"
    },
    {
     "data": {
      "image/png": "[encoded data removed]",
      "text/plain": [
       "<Figure size 432x288 with 1 Axes>"
      ]
     },
     "metadata": {
      "needs_background": "light"
     },
     "output_type": "display_data"
    },
    {
     "data": {
      "image/png": "[encoded data removed]",
      "text/plain": [
       "<Figure size 432x288 with 1 Axes>"
      ]
     },
     "metadata": {
      "needs_background": "light"
     },
     "output_type": "display_data"
    },
    {
     "data": {
      "image/png": "[encoded data removed]",
      "text/plain": [
       "<Figure size 432x288 with 1 Axes>"
      ]
     },
     "metadata": {
      "needs_background": "light"
     },
     "output_type": "display_data"
    },
    {
     "data": {
      "image/png": "[encoded data removed]",
      "text/plain": [
       "<Figure size 432x288 with 1 Axes>"
      ]
     },
     "metadata": {
      "needs_background": "light"
     },
     "output_type": "display_data"
    }
   ],
   "source": [
    "for poly in ep2:\n",
    "    im = Image.new('RGB', (32,32))\n",
    "    dc = ImageDraw.Draw(im)\n",
    "    draw_poly(dc,poly,scale=32,fill=tuple(colors[np.random.choice(len(colors))]))\n",
    "    plt.figure()\n",
    "    plt.imshow(im)"
   ]
  },
  {
   "cell_type": "code",
   "execution_count": 64,
   "id": "88b0d8ca",
   "metadata": {},
   "outputs": [],
   "source": []
  },
  {
   "cell_type": "code",
   "execution_count": 65,
   "id": "acb3e0cd",
   "metadata": {},
   "outputs": [
    {
     "data": {
      "text/plain": [
       "[array([[ 0.89888334, -0.04216091],\n",
       "        [ 0.56576408,  0.28111057],\n",
       "        [ 0.52858923,  0.75437725],\n",
       "        [ 0.00676335,  1.00667308]]),\n",
       " array([[0.56456974, 0.01092062],\n",
       "        [1.00892357, 0.14342165],\n",
       "        [0.00290573, 0.64269032],\n",
       "        [0.42360095, 1.20296741]]),\n",
       " array([[ 0.36255677, -0.15119398],\n",
       "        [ 1.07522328,  0.77728989],\n",
       "        [ 0.6540629 ,  0.48696493],\n",
       "        [-0.09184295,  0.88693917]]),\n",
       " array([[ 0.84986438,  0.22849654],\n",
       "        [ 0.7349652 ,  0.35923745],\n",
       "        [ 0.61880714,  0.84229912],\n",
       "        [-0.20363672,  0.56996689]]),\n",
       " array([[ 0.07988453, -0.06877324],\n",
       "        [ 0.58222672,  0.44170609],\n",
       "        [ 0.76457935,  1.04018634],\n",
       "        [ 0.57330939,  0.58688081]]),\n",
       " array([[ 0.97106416, -0.0273505 ],\n",
       "        [ 0.81150137,  0.06556497],\n",
       "        [ 0.35594565,  0.55290855],\n",
       "        [ 0.52849516,  0.69614957],\n",
       "        [ 0.30774389,  0.94373455],\n",
       "        [ 0.02524977,  0.76899287]]),\n",
       " array([[0.49186693, 0.16584314],\n",
       "        [0.93550076, 0.30424609],\n",
       "        [0.6752338 , 0.35277061],\n",
       "        [0.59805774, 0.47580191],\n",
       "        [0.27053706, 0.67410579],\n",
       "        [0.02880372, 1.02723246]]),\n",
       " array([[ 0.61286618, -0.05362998],\n",
       "        [ 0.99261067,  0.22379327],\n",
       "        [ 0.3959519 ,  0.54373205],\n",
       "        [ 0.592902  ,  0.95382404],\n",
       "        [ 0.40195657,  0.3285953 ],\n",
       "        [ 0.00371269,  1.00368532]]),\n",
       " array([[0.68590766, 0.11197883],\n",
       "        [0.63567483, 0.22467439],\n",
       "        [0.47843115, 0.58565118],\n",
       "        [0.69296848, 0.37325255],\n",
       "        [0.35828359, 0.5907555 ],\n",
       "        [0.14873429, 1.11368754]]),\n",
       " array([[0.51814606, 0.03878984],\n",
       "        [0.95255599, 0.17713802],\n",
       "        [0.66535104, 0.34482131],\n",
       "        [0.3556212 , 0.68847058],\n",
       "        [0.37421697, 0.64569878],\n",
       "        [0.13410874, 1.10508147]]),\n",
       " array([[ 1.08038072,  0.09607152],\n",
       "        [ 0.67661212,  0.16678315],\n",
       "        [ 0.93355465,  0.52532232],\n",
       "        [ 0.55061501,  0.65321237],\n",
       "        [ 0.35483597,  0.48953771],\n",
       "        [ 0.30190552,  0.95288259],\n",
       "        [ 0.13255319,  0.83178442],\n",
       "        [-0.03045718,  0.28440593]]),\n",
       " array([[1.11724116e+00, 1.55016878e-01],\n",
       "        [6.78174442e-01, 2.57896173e-01],\n",
       "        [6.21811069e-01, 5.98686226e-01],\n",
       "        [6.29949004e-01, 6.75452402e-01],\n",
       "        [4.65591003e-01, 3.17955410e-01],\n",
       "        [3.43817894e-01, 9.31273296e-01],\n",
       "        [1.43299996e-01, 6.29316082e-01],\n",
       "        [1.15435587e-04, 4.34403532e-01]]),\n",
       " array([[ 1.06854167,  0.07957121],\n",
       "        [ 0.55518953,  0.21052303],\n",
       "        [ 0.7295802 ,  0.43802064],\n",
       "        [ 0.72421005,  0.69607882],\n",
       "        [ 0.44425089,  0.58147577],\n",
       "        [ 0.33793061,  0.82129693],\n",
       "        [ 0.22679636,  0.92716809],\n",
       "        [-0.08649931,  0.24586553]]),\n",
       " array([[ 0.72531025, -0.05364398],\n",
       "        [ 0.81851266,  0.14392224],\n",
       "        [ 0.83031653,  0.25343253],\n",
       "        [ 0.56143084,  0.5342676 ],\n",
       "        [ 0.70243384,  0.68425935],\n",
       "        [ 0.3446341 ,  1.06755264],\n",
       "        [ 0.22176223,  0.80840346],\n",
       "        [-0.20440045,  0.56180616]]),\n",
       " array([[ 1.02530342,  0.02665412],\n",
       "        [ 0.82049374,  0.17997932],\n",
       "        [ 0.84745223,  0.36558795],\n",
       "        [ 0.42441555,  0.6955731 ],\n",
       "        [ 0.58594205,  0.97234651],\n",
       "        [ 0.26702155,  0.73148802],\n",
       "        [ 0.15055428,  0.43411397],\n",
       "        [-0.12118282,  0.594257  ]])]"
      ]
     },
     "execution_count": 65,
     "metadata": {},
     "output_type": "execute_result"
    }
   ],
   "source": [
    "generate_components()"
   ]
  },
  {
   "cell_type": "code",
   "execution_count": null,
   "id": "8e1372f2",
   "metadata": {},
   "outputs": [],
   "source": []
  }
 ],
 "metadata": {
  "kernelspec": {
   "display_name": "Python 3",
   "language": "python",
   "name": "python3"
  },
  "language_info": {
   "codemirror_mode": {
    "name": "ipython",
    "version": 3
   },
   "file_extension": ".py",
   "mimetype": "text/x-python",
   "name": "python",
   "nbconvert_exporter": "python",
   "pygments_lexer": "ipython3",
   "version": "3.7.10"
  }
 },
 "nbformat": 4,
 "nbformat_minor": 5
}
