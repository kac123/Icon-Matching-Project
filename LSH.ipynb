{
 "cells": [
  {
   "cell_type": "code",
   "execution_count": 1,
   "metadata": {},
   "outputs": [],
   "source": [
    "## first block of code is just importing the requirements of the project\n",
    "\n",
    "import sys \n",
    "import os\n",
    "import h5py\n",
    "import pickle\n",
    "from matplotlib import pyplot as plt\n",
    "\n",
    "from scipy import ndimage as ndi\n",
    "from scipy import stats as sstats\n",
    "\n",
    "import math\n",
    "import numpy as np\n",
    "import pandas as pd\n",
    "from sklearn.linear_model import LogisticRegression\n",
    "from random import shuffle\n",
    "from tqdm import tqdm, tnrange, tqdm_notebook\n",
    "import collections\n",
    "import random\n",
    "import mahotas \n",
    "from sklearn.preprocessing import normalize\n",
    "from PIL import Image\n",
    "import imutils\n",
    "import logging\n",
    "\n",
    "from glob import glob\n",
    "\n",
    "# this block of code is importing all the various parts of the project from their respective modules\n",
    "from icon_util import *\n",
    "from methods import *\n",
    "from aberrations import *\n",
    "from hyperion import hyperion"
   ]
  },
  {
   "cell_type": "code",
   "execution_count": 10,
   "metadata": {},
   "outputs": [
    {
     "name": "stdout",
     "output_type": "stream",
     "text": [
      "100\n",
      "Loading Completed\n"
     ]
    }
   ],
   "source": [
    "image_set_name = \"icon1k\"\n",
    "\n",
    "hdf5_file = h5py.File('LLD-icon.hdf5', 'r')\n",
    "images, _ = (hdf5_file['data'], hdf5_file['labels/resnet/rc_64'])\n",
    "\n",
    "# transpose the images because they're stored in a weird color channel first format, as indicated by shape[0] being 3\n",
    "images = [np.transpose(i) if i.shape[0] == 3 else i for i in images[:100]]\n",
    "print(len(images))\n",
    "print(\"Loading Completed\")"
   ]
  },
  {
   "cell_type": "code",
   "execution_count": 11,
   "metadata": {},
   "outputs": [
    {
     "name": "stdout",
     "output_type": "stream",
     "text": [
      "1\n",
      "2\n",
      "3\n",
      "4\n",
      "5\n",
      "6\n",
      "7\n",
      "8\n",
      "9\n",
      "10\n",
      "11\n",
      "12\n",
      "13\n",
      "14\n",
      "15\n",
      "16\n",
      "17\n",
      "18\n",
      "19\n",
      "20\n",
      "21\n",
      "22\n",
      "23\n",
      "24\n",
      "25\n",
      "26\n",
      "27\n",
      "28\n",
      "29\n",
      "30\n",
      "31\n",
      "32\n",
      "33\n",
      "34\n",
      "35\n",
      "36\n",
      "37\n",
      "38\n",
      "39\n",
      "40\n",
      "41\n",
      "42\n",
      "43\n",
      "44\n",
      "45\n",
      "46\n",
      "47\n",
      "48\n",
      "49\n",
      "50\n",
      "51\n",
      "52\n",
      "53\n",
      "54\n",
      "55\n",
      "56\n",
      "57\n",
      "58\n",
      "59\n",
      "60\n",
      "61\n",
      "62\n",
      "63\n",
      "64\n",
      "65\n",
      "66\n",
      "67\n",
      "68\n",
      "69\n",
      "70\n",
      "71\n",
      "72\n",
      "73\n",
      "74\n",
      "75\n",
      "76\n",
      "77\n",
      "78\n",
      "79\n",
      "80\n",
      "81\n",
      "82\n",
      "83\n",
      "84\n",
      "85\n",
      "86\n",
      "87\n",
      "88\n",
      "89\n",
      "90\n",
      "91\n",
      "92\n",
      "93\n",
      "94\n",
      "95\n",
      "96\n",
      "97\n",
      "98\n",
      "99\n",
      "100\n"
     ]
    }
   ],
   "source": [
    "# get image vectors using the neural method\n",
    "nm = neural_method()\n",
    "vecs=[]\n",
    "c = 0\n",
    "for i in images:\n",
    "    c += 1\n",
    "    print(c)\n",
    "    vecs.append([nm.create_query(ab(i)) for ab in aberrations])"
   ]
  },
  {
   "cell_type": "code",
   "execution_count": 13,
   "metadata": {},
   "outputs": [
    {
     "name": "stdout",
     "output_type": "stream",
     "text": [
      "(5.273125, 0.280625)\n"
     ]
    }
   ],
   "source": [
    "# get precision and recall for various numbers of hyperplanes\n",
    "def prec_recall(vecs, num_planes):\n",
    "    #create a hyperplane dictionary\n",
    "    hyp = hyperion(num_hyperpros=1, num_planes=num_planes)\n",
    "    #learn the input set, that is the unmodified image vectors\n",
    "    for idx, vs in enumerate(vecs):\n",
    "        hyp.learn(idx, vs[0])\n",
    "    # average number of results is the precision\n",
    "    # number of queries that contain the input / total queries is the recall\n",
    "    precision = 0\n",
    "    hits = 0\n",
    "    total = 0\n",
    "    for idx, vs in enumerate(vecs):\n",
    "        for v in vs:\n",
    "            total += 1\n",
    "            res = hyp(v)\n",
    "            precision += len(res)\n",
    "            if idx in res:\n",
    "                hits += 1\n",
    "    precision /= total\n",
    "    recall = hits/total\n",
    "    return precision, recall\n",
    "print(prec_recall(vecs, 10))"
   ]
  },
  {
   "cell_type": "code",
   "execution_count": 28,
   "metadata": {},
   "outputs": [
    {
     "data": {
      "text/plain": [
       "<matplotlib.axes._subplots.AxesSubplot at 0x1ac2ca23be0>"
      ]
     },
     "execution_count": 28,
     "metadata": {},
     "output_type": "execute_result"
    },
    {
     "data": {
      "image/png": "[encoded data removed]",
      "text/plain": [
       "<Figure size 432x288 with 1 Axes>"
      ]
     },
     "metadata": {
      "needs_background": "light"
     },
     "output_type": "display_data"
    }
   ],
   "source": [
    "data = {}\n",
    "for i in range(20):\n",
    "    data.setdefault(\"planes\",[]).append(i)\n",
    "    p,r = prec_recall(vecs, i)\n",
    "    data.setdefault(\"precision\",[]).append(p)\n",
    "    data.setdefault(\"recall\",[]).append(r)\n",
    "prdata = pd.DataFrame(data = data)\n",
    "prdata.plot(x=\"planes\", y=\"recall\")"
   ]
  },
  {
   "cell_type": "code",
   "execution_count": null,
   "metadata": {},
   "outputs": [],
   "source": []
  },
  {
   "cell_type": "code",
   "execution_count": null,
   "metadata": {},
   "outputs": [],
   "source": []
  }
 ],
 "metadata": {
  "kernelspec": {
   "display_name": "Python 3",
   "language": "python",
   "name": "python3"
  },
  "language_info": {
   "codemirror_mode": {
    "name": "ipython",
    "version": 3
   },
   "file_extension": ".py",
   "mimetype": "text/x-python",
   "name": "python",
   "nbconvert_exporter": "python",
   "pygments_lexer": "ipython3",
   "version": "3.7.3"
  }
 },
 "nbformat": 4,
 "nbformat_minor": 2
}
