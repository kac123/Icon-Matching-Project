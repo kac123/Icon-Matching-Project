{
 "cells": [
  {
   "cell_type": "code",
   "execution_count": 1,
   "id": "b16232ca",
   "metadata": {},
   "outputs": [],
   "source": [
    "#external stuff\n",
    "import h5py\n",
    "import matplotlib.pyplot as plt\n",
    "import torch\n",
    "import torch.nn as nn\n",
    "import torchvision.models as models\n",
    "import torch.nn.functional as F\n",
    "import torchvision.transforms as transforms\n",
    "from torch.autograd import Variable\n",
    "import cv2\n",
    "import numpy as np\n",
    "import math\n",
    "import mahotas\n",
    "from sklearn.preprocessing import normalize\n",
    "from sklearn.decomposition import PCA\n",
    "from sklearn.feature_extraction.image import grid_to_graph\n",
    "from sklearn.cluster import KMeans, AgglomerativeClustering, AffinityPropagation, MeanShift, estimate_bandwidth, SpectralClustering\n",
    "import traceback\n",
    "from uuid import uuid4 as unique_identifier\n",
    "import random\n",
    "import os\n",
    "from time import perf_counter\n",
    "from glob import glob\n",
    "import pandas as pd\n",
    "from scipy.optimize import linear_sum_assignment\n",
    "\n",
    "from timm.data import resolve_data_config\n",
    "from timm.data.transforms_factory import create_transform\n",
    "import timm"
   ]
  },
  {
   "cell_type": "code",
   "execution_count": 2,
   "id": "05ec2a40",
   "metadata": {},
   "outputs": [],
   "source": [
    "#internal stuff\n",
    "from contour_impl import do_contour_create, do_contour_compare\n",
    "from imageprocessing import maybetogray,maybetocolor, image_preprocess, canny, recenter, prep_img\n",
    "from aberrations import aberrations"
   ]
  },
  {
   "cell_type": "code",
   "execution_count": 3,
   "id": "c2ab7ba3",
   "metadata": {},
   "outputs": [],
   "source": [
    "# some more stuff\n",
    "from math import cos, sin\n",
    "from PIL import Image, ImageDraw"
   ]
  },
  {
   "cell_type": "code",
   "execution_count": 12,
   "id": "edbb026b",
   "metadata": {},
   "outputs": [
    {
     "data": {
      "text/plain": [
       "<matplotlib.image.AxesImage at 0x1f972bce548>"
      ]
     },
     "execution_count": 12,
     "metadata": {},
     "output_type": "execute_result"
    },
    {
     "data": {
      "image/png": "[encoded data removed]",
      "text/plain": [
       "<Figure size 432x288 with 1 Axes>"
      ]
     },
     "metadata": {
      "needs_background": "light"
     },
     "output_type": "display_data"
    }
   ],
   "source": [
    "# load some test images\n",
    "img_files=[\"stairtest.png\",\"stairtest2.png\",\"cornertest.png\",\"cornertest2.png\",\"cornertest3.png\",\"cornertest4.png\",\"tdl.png\",\"tdl2.png\",\"tokyo.png\",\"tokyo2.png\"]\n",
    "test_images=[cv2.cvtColor(cv2.imread(iname), cv2.COLOR_BGR2RGB) for iname in img_files]\n",
    "timg = test_images[0]\n",
    "plt.imshow(timg)"
   ]
  },
  {
   "cell_type": "code",
   "execution_count": 25,
   "id": "cce1c3a2",
   "metadata": {},
   "outputs": [],
   "source": [
    "def image5dfeats(img,w1=1.0,w2=1.0):\n",
    "    coords = []\n",
    "    vals = []\n",
    "    for i in range(img.shape[0]):\n",
    "        for j in range(img.shape[1]):\n",
    "            coords.append([i,j,1.0])\n",
    "            vals.append([*img[i,j],1.0])\n",
    "    coords2 = coords/(np.linalg.norm(coords,axis=1, keepdims=True)/w1)\n",
    "    vals2 = vals/(np.linalg.norm(vals,axis=1,keepdims=True)/w2)\n",
    "    return np.concatenate([coords2,vals2],axis=1), np.array(coords)[:,:-1], np.array(vals)[:,:-1]\n",
    "feats,_,vals=image5dfeats(timg)"
   ]
  },
  {
   "cell_type": "code",
   "execution_count": 28,
   "id": "a59e7b8f",
   "metadata": {},
   "outputs": [
    {
     "data": {
      "text/plain": [
       "AgglomerativeClustering(n_clusters=4)"
      ]
     },
     "execution_count": 28,
     "metadata": {},
     "output_type": "execute_result"
    }
   ],
   "source": [
    "clustering=AgglomerativeClustering(n_clusters=4)\n",
    "clustering.fit(feats)"
   ]
  },
  {
   "cell_type": "code",
   "execution_count": 30,
   "id": "31e6563e",
   "metadata": {},
   "outputs": [
    {
     "data": {
      "text/plain": [
       "array([0, 1, 2, 3], dtype=int64)"
      ]
     },
     "execution_count": 30,
     "metadata": {},
     "output_type": "execute_result"
    }
   ],
   "source": [
    "np.unique(clustering.labels_)"
   ]
  },
  {
   "cell_type": "code",
   "execution_count": 35,
   "id": "d1336d42",
   "metadata": {},
   "outputs": [
    {
     "data": {
      "text/plain": [
       "<matplotlib.image.AxesImage at 0x1f931369688>"
      ]
     },
     "execution_count": 35,
     "metadata": {},
     "output_type": "execute_result"
    },
    {
     "data": {
      "image/png": "[encoded data removed]",
      "text/plain": [
       "<Figure size 432x288 with 1 Axes>"
      ]
     },
     "metadata": {
      "needs_background": "light"
     },
     "output_type": "display_data"
    }
   ],
   "source": [
    "plt.imshow((clustering.labels_==0).reshape(32,32))"
   ]
  },
  {
   "cell_type": "code",
   "execution_count": 40,
   "id": "393eabe5",
   "metadata": {},
   "outputs": [
    {
     "data": {
      "text/plain": [
       "<matplotlib.image.AxesImage at 0x1f93137d148>"
      ]
     },
     "execution_count": 40,
     "metadata": {},
     "output_type": "execute_result"
    },
    {
     "data": {
      "image/png": "[encoded data removed]",
      "text/plain": [
       "<Figure size 432x288 with 1 Axes>"
      ]
     },
     "metadata": {
      "needs_background": "light"
     },
     "output_type": "display_data"
    }
   ],
   "source": [
    "timg2=test_images[-3]\n",
    "plt.imshow(timg2)"
   ]
  },
  {
   "cell_type": "code",
   "execution_count": 105,
   "id": "cbd9bcb9",
   "metadata": {},
   "outputs": [
    {
     "data": {
      "text/plain": [
       "AgglomerativeClustering(connectivity=<1024x1024 sparse matrix of type '<class 'numpy.int32'>'\n",
       "\twith 4992 stored elements in COOrdinate format>,\n",
       "                        n_clusters=5)"
      ]
     },
     "execution_count": 105,
     "metadata": {},
     "output_type": "execute_result"
    }
   ],
   "source": [
    "feats,_,vals=image5dfeats(timg2,0.5,5)\n",
    "connectivity=grid_to_graph(*timg2.shape[:2])\n",
    "clustering=AgglomerativeClustering(n_clusters=5,connectivity=connectivity)\n",
    "clustering.fit(feats)"
   ]
  },
  {
   "cell_type": "code",
   "execution_count": 111,
   "id": "5438aa95",
   "metadata": {},
   "outputs": [
    {
     "data": {
      "text/plain": [
       "<matplotlib.image.AxesImage at 0x1f978d50508>"
      ]
     },
     "execution_count": 111,
     "metadata": {},
     "output_type": "execute_result"
    },
    {
     "data": {
      "image/png": "[encoded data removed]",
      "text/plain": [
       "<Figure size 432x288 with 1 Axes>"
      ]
     },
     "metadata": {
      "needs_background": "light"
     },
     "output_type": "display_data"
    }
   ],
   "source": [
    "plt.imshow((clustering.labels_==4).reshape(32,32))"
   ]
  },
  {
   "cell_type": "code",
   "execution_count": 112,
   "id": "96a33129",
   "metadata": {},
   "outputs": [
    {
     "data": {
      "text/plain": [
       "AgglomerativeClustering(connectivity=<1024x1024 sparse matrix of type '<class 'numpy.int32'>'\n",
       "\twith 4992 stored elements in COOrdinate format>,\n",
       "                        n_clusters=5)"
      ]
     },
     "execution_count": 112,
     "metadata": {},
     "output_type": "execute_result"
    }
   ],
   "source": [
    "feats = timg2.reshape(-1,3)\n",
    "connectivity=grid_to_graph(*timg2.shape[:2])\n",
    "clustering=AgglomerativeClustering(n_clusters=5,connectivity=connectivity)\n",
    "clustering.fit(feats)"
   ]
  },
  {
   "cell_type": "code",
   "execution_count": 118,
   "id": "62fe2e8c",
   "metadata": {},
   "outputs": [
    {
     "data": {
      "text/plain": [
       "<matplotlib.image.AxesImage at 0x1f978ec6608>"
      ]
     },
     "execution_count": 118,
     "metadata": {},
     "output_type": "execute_result"
    },
    {
     "data": {
      "image/png": "[encoded data removed]",
      "text/plain": [
       "<Figure size 432x288 with 1 Axes>"
      ]
     },
     "metadata": {
      "needs_background": "light"
     },
     "output_type": "display_data"
    }
   ],
   "source": [
    "plt.imshow((clustering.labels_==0).reshape(32,32))"
   ]
  },
  {
   "cell_type": "code",
   "execution_count": 132,
   "id": "75439a0f",
   "metadata": {},
   "outputs": [],
   "source": [
    "# image manipulation\n",
    "# for all the different methods we first make a copy of the image just in case\n",
    "# something decides to modify the original.\n",
    "# Thank God for gigabytes of RAM\n",
    "def stack(funcs):\n",
    "    #compose several image manipulations \n",
    "    def nf(img):\n",
    "        img=img[:]\n",
    "        for f in funcs:\n",
    "            img=f(img)\n",
    "        return img\n",
    "    return nf\n",
    "def noop(img):\n",
    "    return img\n",
    "def color_reduce_kmeans(img, n_colors=8):\n",
    "    img=img[:]\n",
    "    h,w,c=img.shape\n",
    "    fimg=np.clip(img.reshape(-1,3)/255,0.05,0.95)\n",
    "    km=KMeans(n_clusters=n_colors,random_state=0).fit(fimg)\n",
    "    means=np.clip(km.cluster_centers_,0.0,1.0)\n",
    "    labels=km.predict(fimg)\n",
    "    return (means[labels].reshape(img.shape)*255).astype(np.uint8)\n",
    "\n",
    "def smooth_median(img,ks=5,n=2):\n",
    "    img=img[:]\n",
    "    for i in range(n):\n",
    "        img=cv2.medianBlur(img,ks)\n",
    "    return img\n",
    "def std_size(img):\n",
    "    img=img[:]\n",
    "    return cv2.resize(img,(128,128),interpolation=cv2.INTER_AREA)\n",
    "\n",
    "def big_size(img):\n",
    "    return cv2.resize(img,None, fx=13, fy=13, interpolation=cv2.INTER_AREA)\n",
    "\n",
    "# segmentation\n",
    "def scast2(x,r):\n",
    "        xpad=np.pad(x,[[0,0],[0,1]],mode=\"constant\", constant_values=r)\n",
    "        return xpad/np.linalg.norm(x,axis=1,keepdims=True)\n",
    "def genkeys(n,d):\n",
    "    r=np.random.normal(size=(n,d))\n",
    "    r=r/np.linalg.norm(r,axis=1,keepdims=True)\n",
    "    r=np.pad(r,[[1,0],[0,1]],mode=\"constant\",constant_values=0)\n",
    "    r[0,-1]=1\n",
    "    return r\n",
    "def meancolor(img,b):\n",
    "    return np.floor(np.sum(img[b],(0)) / (0.01+np.sum(b))).astype(np.uint8)\n",
    "def clamp(x, m,M):\n",
    "    if x < m:\n",
    "        return m\n",
    "    if x > M:\n",
    "        return M\n",
    "    return x\n",
    "def gsb(s,margin=10):\n",
    "    h,w=s.shape\n",
    "    x,y=np.where(s)\n",
    "    x1=clamp(x.min()-margin,0,w)\n",
    "    y1=clamp(y.min()-margin,0,h)\n",
    "    x2=clamp(x.max()+margin,0,w)\n",
    "    y2=clamp(y.max()+margin,0,h)\n",
    "    return x1,y1,x2,y2\n",
    "    #return x.min()-margin, y.min()-margin, x.max()+margin, y.max()+margin\n",
    "def cropresize(img,b,bg=None,**kwargs):\n",
    "    try:\n",
    "        x1,y1,x2,y2=gsb(b)\n",
    "        if bg is not None:\n",
    "            img=img.copy()\n",
    "            img[b!=True]=bg\n",
    "        diff = max(x2-x1, y2-y1)\n",
    "        xc = (x2+x1)/2\n",
    "        yc = (y2+y1)/2\n",
    "        return cv2.resize(img[x1:x2,y1:y2,:],img.shape[:-1])\n",
    "    except:\n",
    "        log(kwargs,{'type':'Error', 'method':'Segmentation', 'fn':'cropresize'})\n",
    "        return None\n",
    "def segment_labels(img,labels,bg=None,rejection=0.0,**kwargs):\n",
    "    ulabels=np.unique(labels)\n",
    "    h,w=labels.shape\n",
    "    total=h*w\n",
    "    masks=[labels==i for i in ulabels]\n",
    "    # throw away any masks that cover less than 'rejection' percent of the image\n",
    "    masks=[m for m in masks if np.sum(m) >= (rejection*total)]\n",
    "    segs= [cropresize(img,b,bg,**kwargs) for b in masks]\n",
    "    return [s for s in segs if s is not None]\n",
    "def plot_many(imgs,n_c=3):\n",
    "    # convenience function to plot many images\n",
    "    n_r = (len(imgs)//n_c)+1\n",
    "    cc=1\n",
    "    fig=plt.figure(figsize=(10,10))\n",
    "    for i in imgs:\n",
    "        fig.add_subplot(n_r,n_c,cc)\n",
    "        plt.imshow(i)\n",
    "        cc+=1\n",
    "def segment_agglomerative(img,n_clusters=5,**kwargs):\n",
    "    feats = img.reshape(-1,3)\n",
    "    connectivity=grid_to_graph(*img.shape[:2])\n",
    "    clustering=AgglomerativeClustering(n_clusters=n_clusters,connectivity=connectivity)\n",
    "    clustering.fit(feats)\n",
    "    return segment_labels(img,clustering.labels_.reshape(img.shape[:2]),**kwargs)"
   ]
  },
  {
   "cell_type": "code",
   "execution_count": 141,
   "id": "66c0635d",
   "metadata": {},
   "outputs": [],
   "source": [
    "segimgs=segment_agglomerative(timg2,bg=[255,255,255])"
   ]
  },
  {
   "cell_type": "code",
   "execution_count": 142,
   "id": "d0f22d04",
   "metadata": {},
   "outputs": [
    {
     "data": {
      "image/png": "[encoded data removed]",
      "text/plain": [
       "<Figure size 720x720 with 5 Axes>"
      ]
     },
     "metadata": {
      "needs_background": "light"
     },
     "output_type": "display_data"
    }
   ],
   "source": [
    "segimgs=segment_agglomerative(timg2,bg=[255,255,255])\n",
    "plot_many(segimgs)"
   ]
  },
  {
   "cell_type": "code",
   "execution_count": 143,
   "id": "bc470299",
   "metadata": {},
   "outputs": [
    {
     "data": {
      "text/plain": [
       "<matplotlib.image.AxesImage at 0x1f97926fa48>"
      ]
     },
     "execution_count": 143,
     "metadata": {},
     "output_type": "execute_result"
    },
    {
     "data": {
      "image/png": "[encoded data removed]",
      "text/plain": [
       "<Figure size 432x288 with 1 Axes>"
      ]
     },
     "metadata": {
      "needs_background": "light"
     },
     "output_type": "display_data"
    }
   ],
   "source": [
    "plt.imshow(timg2)"
   ]
  },
  {
   "cell_type": "code",
   "execution_count": 18,
   "id": "6c79507b",
   "metadata": {},
   "outputs": [
    {
     "data": {
      "text/plain": [
       "<matplotlib.image.AxesImage at 0x18dcca05ec8>"
      ]
     },
     "execution_count": 18,
     "metadata": {},
     "output_type": "execute_result"
    },
    {
     "data": {
      "image/png": "[encoded data removed]",
      "text/plain": [
       "<Figure size 432x288 with 1 Axes>"
      ]
     },
     "metadata": {
      "needs_background": "light"
     },
     "output_type": "display_data"
    }
   ],
   "source": []
  },
  {
   "cell_type": "code",
   "execution_count": null,
   "id": "1550fab5",
   "metadata": {},
   "outputs": [],
   "source": []
  },
  {
   "cell_type": "code",
   "execution_count": 19,
   "id": "55c86676",
   "metadata": {},
   "outputs": [
    {
     "data": {
      "text/plain": [
       "<matplotlib.image.AxesImage at 0x18dcc9bac08>"
      ]
     },
     "execution_count": 19,
     "metadata": {},
     "output_type": "execute_result"
    },
    {
     "data": {
      "image/png": "[encoded data removed]",
      "text/plain": [
       "<Figure size 432x288 with 1 Axes>"
      ]
     },
     "metadata": {
      "needs_background": "light"
     },
     "output_type": "display_data"
    }
   ],
   "source": []
  },
  {
   "cell_type": "code",
   "execution_count": 20,
   "id": "685f7d2e",
   "metadata": {},
   "outputs": [
    {
     "data": {
      "text/plain": [
       "<matplotlib.image.AxesImage at 0x18dcca6aec8>"
      ]
     },
     "execution_count": 20,
     "metadata": {},
     "output_type": "execute_result"
    },
    {
     "data": {
      "image/png": "[encoded data removed]",
      "text/plain": [
       "<Figure size 432x288 with 1 Axes>"
      ]
     },
     "metadata": {
      "needs_background": "light"
     },
     "output_type": "display_data"
    }
   ],
   "source": []
  },
  {
   "cell_type": "code",
   "execution_count": null,
   "id": "447831b9",
   "metadata": {},
   "outputs": [],
   "source": []
  },
  {
   "cell_type": "code",
   "execution_count": null,
   "id": "4e8c4280",
   "metadata": {},
   "outputs": [],
   "source": [
    "\n"
   ]
  },
  {
   "cell_type": "code",
   "execution_count": 5,
   "id": "6d0b477c",
   "metadata": {},
   "outputs": [
    {
     "data": {
      "image/png": "[encoded data removed]",
      "text/plain": [
       "<Figure size 432x288 with 1 Axes>"
      ]
     },
     "metadata": {
      "needs_background": "light"
     },
     "output_type": "display_data"
    },
    {
     "data": {
      "image/png": "[encoded data removed]",
      "text/plain": [
       "<Figure size 432x288 with 1 Axes>"
      ]
     },
     "metadata": {
      "needs_background": "light"
     },
     "output_type": "display_data"
    },
    {
     "data": {
      "image/png": "[encoded data removed]",
      "text/plain": [
       "<Figure size 432x288 with 1 Axes>"
      ]
     },
     "metadata": {
      "needs_background": "light"
     },
     "output_type": "display_data"
    },
    {
     "data": {
      "image/png": "[encoded data removed]",
      "text/plain": [
       "<Figure size 432x288 with 1 Axes>"
      ]
     },
     "metadata": {
      "needs_background": "light"
     },
     "output_type": "display_data"
    },
    {
     "data": {
      "image/png": "[encoded data removed]",
      "text/plain": [
       "<Figure size 432x288 with 1 Axes>"
      ]
     },
     "metadata": {
      "needs_background": "light"
     },
     "output_type": "display_data"
    }
   ],
   "source": [
    "def draw_poly(dc,poly, scale=1, **kwargs):\n",
    "    coords = (poly*scale).astype(int)\n",
    "    dc.polygon([tuple(i) for i in coords],**kwargs)\n",
    "polys=[# wedge\n",
    "       [[0,0], [0,0.5], [1,1]],\n",
    "       # circle\n",
    "       [[0.5+cos(x*6.14/20)/2,0.5+sin(x*6.14/20)/2] for x in range(20)],\n",
    "       # randomly perturbed circle\n",
    "       [[0.5+cos(x*6.14/20)*np.random.uniform(0.2,1.0)/2,0.5+sin(x*6.14/20)*np.random.uniform(0.2,1.0)/2] for x in range(20)],\n",
    "       # squished circle\n",
    "       [[0.43889485, 1.01199527],\n",
    "           [0.50584096, 1.03654858],\n",
    "           [0.56339267, 1.03823472],\n",
    "           [0.60616826, 1.01689601],\n",
    "           [0.63016773, 0.97452786],\n",
    "           [0.63314687, 0.91509216],\n",
    "           [0.61482709, 0.8441468 ],\n",
    "           [0.5769215 , 0.76832597],\n",
    "           [0.52297469, 0.69471975],\n",
    "           [0.45803129, 0.63021113],\n",
    "           [0.38816421, 0.58083239],\n",
    "           [0.31990682, 0.551201  ],\n",
    "           [0.25964192, 0.5440878 ],\n",
    "           [0.21300497, 0.56015797],\n",
    "           [0.18435702, 0.59790877],\n",
    "           [0.17637698, 0.65381007],\n",
    "           [0.18981107, 0.72263449],\n",
    "           [0.22340306, 0.79794618],\n",
    "           [0.27401172, 0.87270266],\n",
    "           [0.33690458, 0.93991338]],\n",
    "      # star thing\n",
    "      [[0.41807544, 0.87534801],\n",
    "       [0.46415562, 0.98536887],\n",
    "       [0.53947724, 0.94539019],\n",
    "       [0.59524502, 1.0083861 ],\n",
    "       [0.51879522, 0.89930979],\n",
    "       [0.48691866, 0.83740086],\n",
    "       [0.6054967 , 0.86355202],\n",
    "       [0.58552607, 0.83129026],\n",
    "       [0.41381491, 0.66344889],\n",
    "       [0.4658818 , 0.68867009],\n",
    "       [0.38576388, 0.62978679],\n",
    "       [0.32330981, 0.55634607],\n",
    "       [0.32094132, 0.70405591],\n",
    "       [0.32852805, 0.70085152],\n",
    "       [0.3041241 , 0.72073516],\n",
    "       [0.28525641, 0.71508238],\n",
    "       [0.22339421, 0.71973661],\n",
    "       [0.35555229, 0.82499804],\n",
    "       [0.33906122, 0.81146125],\n",
    "       [0.38112243, 0.83347015]]]\n",
    "polys=[np.array(p) for p in polys]\n",
    "colors=[[255,255,255], #white\n",
    "        [255,0,0], #red\n",
    "        [0,255,0], #green\n",
    "        [0,0,255], #blue\n",
    "        [102,0,204], #purple\n",
    "        [128,128,128], #gray\n",
    "        [255,153,153], #pink\n",
    "        [153,153,0], #puke green\n",
    "        [102,102,0], #camo green\n",
    "        [255,128,0], #orange\n",
    "        [204,255,153], #light green\n",
    "        [255,255,51], #lemon yellow\n",
    "        [255,255,0], #yellow\n",
    "       ]\n",
    "for poly in polys:\n",
    "    im = Image.new('RGB', (32,32))\n",
    "    dc = ImageDraw.Draw(im)\n",
    "    draw_poly(dc,poly,scale=32,fill=tuple(colors[np.random.choice(len(colors))]))\n",
    "    plt.figure()\n",
    "    plt.imshow(im)"
   ]
  },
  {
   "cell_type": "code",
   "execution_count": 6,
   "id": "c5c37aec",
   "metadata": {},
   "outputs": [
    {
     "data": {
      "image/png": "[encoded data removed]",
      "text/plain": [
       "<Figure size 432x288 with 1 Axes>"
      ]
     },
     "metadata": {
      "needs_background": "light"
     },
     "output_type": "display_data"
    },
    {
     "data": {
      "image/png": "[encoded data removed]",
      "text/plain": [
       "<Figure size 432x288 with 1 Axes>"
      ]
     },
     "metadata": {
      "needs_background": "light"
     },
     "output_type": "display_data"
    },
    {
     "data": {
      "image/png": "[encoded data removed]",
      "text/plain": [
       "<Figure size 432x288 with 1 Axes>"
      ]
     },
     "metadata": {
      "needs_background": "light"
     },
     "output_type": "display_data"
    },
    {
     "data": {
      "image/png": "[encoded data removed]",
      "text/plain": [
       "<Figure size 432x288 with 1 Axes>"
      ]
     },
     "metadata": {
      "needs_background": "light"
     },
     "output_type": "display_data"
    },
    {
     "data": {
      "image/png": "[encoded data removed]",
      "text/plain": [
       "<Figure size 432x288 with 1 Axes>"
      ]
     },
     "metadata": {
      "needs_background": "light"
     },
     "output_type": "display_data"
    },
    {
     "data": {
      "text/plain": [
       "<Figure size 432x288 with 0 Axes>"
      ]
     },
     "metadata": {},
     "output_type": "display_data"
    }
   ],
   "source": [
    "from math import sin, cos\n",
    "def draw_and_show_poly(poly, scale=32):\n",
    "    im=Image.new('RGB', (scale,scale))\n",
    "    dc = ImageDraw.Draw(im)\n",
    "    draw_poly(dc,poly,scale=scale,fill=\"white\")\n",
    "    plt.figure()\n",
    "    plt.imshow(im)\n",
    "def create_transform_random():\n",
    "    mat=np.random.uniform(0,1,(3,3))*0.5\n",
    "    mat[2,0]=0\n",
    "    mat[2,1]=0\n",
    "    mat[2,2]=1\n",
    "    return mat\n",
    "\n",
    "def create_transform_identity():\n",
    "    return np.eye(3,3)\n",
    "\n",
    "def create_transform_informed(scale=(1.0,1.0), rotation=(0.0,0.0), symmetry=False, transform=(0.0,0.0), heat=0):\n",
    "    res=np.eye(3)\n",
    "    scaleness=np.eye(3)*np.random.uniform(*scale)\n",
    "    res=res.dot(scaleness)\n",
    "    rotateness=np.random.uniform(*rotation)\n",
    "    if symmetry:\n",
    "        rotateness += np.random.choice([0,.25,.5,.75])\n",
    "    rotatarr=np.array([[ cos(rotateness*6.28), sin(rotateness*6.28), 0],\n",
    "                         [-sin(rotateness*6.28), cos(rotateness*6.28), 0],\n",
    "                         [0,0,1]])\n",
    "    res=res.dot(rotatarr)\n",
    "    hotness=create_transform_random()*heat\n",
    "    res=res+(hotness-heat/2)\n",
    "    res[0,2]=np.random.uniform(*transform)\n",
    "    res[1,2]=np.random.uniform(*transform)\n",
    "    return res\n",
    "    \n",
    "def transform(tform, points):\n",
    "    res = np.concatenate([points,np.ones([points.shape[0],1])], axis=1)\n",
    "    return res.dot(tform.transpose())[:,:2]\n",
    "\n",
    "def render(dc,scale,tforms, shapes,colors):\n",
    "    for t,sh,c in zip(tforms, shapes,colors):\n",
    "        draw_poly(dc,transform(t,sh),scale=scale, fill=c)\n",
    "        \n",
    "def render_image(scale,tforms,shapes,colors):\n",
    "    im = Image.new('RGB', (scale,scale))\n",
    "    dc = ImageDraw.Draw(im)\n",
    "    render(dc,scale,tforms,shapes,colors)\n",
    "    return im\n",
    "        \n",
    "def create_random_icon(shapes, colors):\n",
    "    structure = [create_transform_identity(),\n",
    "                create_transform_informed(scale=(0.5,1.2), rotation=(0.0,1.0), symmetry=False, heat=0.2),\n",
    "                create_transform_informed(scale=(0.5,1.2), rotation=(0.0,1.0), symmetry=False, heat=0.2),]\n",
    "    colors = [tuple(colors[np.random.choice(len(colors))]),\n",
    "              tuple(colors[np.random.choice(len(colors))]),\n",
    "              tuple(colors[np.random.choice(len(colors))])]\n",
    "    s = [shapes[np.random.choice(len(shapes))],\n",
    "         shapes[np.random.choice(len(shapes))],\n",
    "         shapes[np.random.choice(len(shapes))]]\n",
    "    return structure,colors,s\n",
    "\n",
    "\n",
    "def make_icon3(shapes, colors):\n",
    "    im = Image.new('RGB', (32,32))\n",
    "    dc = ImageDraw.Draw(im)\n",
    "    shape1 = shapes[np.random.choice(len(shapes))]\n",
    "    shape2 = shapes[np.random.choice(len(shapes))]\n",
    "    tform=create_transform_identity()\n",
    "    shape2=transform(tform,shape2)\n",
    "    draw_poly(dc,shape2,scale=32,fill=tuple(colors[np.random.choice(len(colors))]))\n",
    "    return im\n",
    "\n",
    "def make_icon(shapes, colors):\n",
    "    im = Image.new('RGB', (32,32))\n",
    "    dc = ImageDraw.Draw(im)\n",
    "    shape1 = shapes[np.random.choice(len(shapes))]\n",
    "    shape2 = shapes[np.random.choice(len(shapes))]\n",
    "    tform=create_transform_informed(scale=(0.5,1.2), rotation=(0.0,1.0), symmetry=False, heat=0.2)\n",
    "    shape2=transform(tform,shape2)\n",
    "    shape3 = shapes[np.random.choice(len(shapes))]\n",
    "    tform=create_transform_informed(scale=(0.5,1.2), rotation=(0.0,1.0), symmetry=False, heat=0.2)\n",
    "    shape3=transform(tform,shape3)\n",
    "    draw_poly(dc,shape1,scale=32,fill=tuple(colors[np.random.choice(len(colors))]))\n",
    "    draw_poly(dc,shape2,scale=32,fill=tuple(colors[np.random.choice(len(colors))]))\n",
    "    draw_poly(dc,shape3,scale=32,fill=tuple(colors[np.random.choice(len(colors))]))\n",
    "    return im\n",
    "\n",
    "def make_icon2(scale,shapes, colors):\n",
    "    structure,colors,s=create_random_icon(shapes,colors)\n",
    "    return render_image(scale,structure,s,colors)\n",
    "for i in range(5):\n",
    "    plt.imshow(make_icon2(512,polys,colors))\n",
    "    plt.figure()"
   ]
  },
  {
   "cell_type": "code",
   "execution_count": 7,
   "id": "cee5b50e",
   "metadata": {},
   "outputs": [
    {
     "data": {
      "text/plain": [
       "1000"
      ]
     },
     "execution_count": 7,
     "metadata": {},
     "output_type": "execute_result"
    }
   ],
   "source": [
    "synthetic_image_data = [create_random_icon(polys,colors) for _ in range(1000)]\n",
    "len(synthetic_image_data)"
   ]
  },
  {
   "cell_type": "code",
   "execution_count": 8,
   "id": "43b58cf6",
   "metadata": {},
   "outputs": [],
   "source": [
    "low_res_renders = [render_image(32,i[0],i[2],i[1]) for i in synthetic_image_data]\n",
    "high_res_renders = [render_image(512,i[0],i[2],i[1]) for i in synthetic_image_data]"
   ]
  },
  {
   "cell_type": "code",
   "execution_count": 14,
   "id": "d596fcc7",
   "metadata": {},
   "outputs": [
    {
     "data": {
      "image/png": "[encoded data removed]",
      "text/plain": [
       "<Figure size 432x288 with 1 Axes>"
      ]
     },
     "metadata": {
      "needs_background": "light"
     },
     "output_type": "display_data"
    },
    {
     "data": {
      "image/png": "[encoded data removed]",
      "text/plain": [
       "<Figure size 432x288 with 1 Axes>"
      ]
     },
     "metadata": {
      "needs_background": "light"
     },
     "output_type": "display_data"
    },
    {
     "data": {
      "image/png": "[encoded data removed]",
      "text/plain": [
       "<Figure size 432x288 with 1 Axes>"
      ]
     },
     "metadata": {
      "needs_background": "light"
     },
     "output_type": "display_data"
    },
    {
     "data": {
      "image/png": "[encoded data removed]",
      "text/plain": [
       "<Figure size 432x288 with 1 Axes>"
      ]
     },
     "metadata": {
      "needs_background": "light"
     },
     "output_type": "display_data"
    },
    {
     "data": {
      "image/png": "[encoded data removed]",
      "text/plain": [
       "<Figure size 432x288 with 1 Axes>"
      ]
     },
     "metadata": {
      "needs_background": "light"
     },
     "output_type": "display_data"
    },
    {
     "data": {
      "image/png": "[encoded data removed]",
      "text/plain": [
       "<Figure size 432x288 with 1 Axes>"
      ]
     },
     "metadata": {
      "needs_background": "light"
     },
     "output_type": "display_data"
    },
    {
     "data": {
      "image/png": "[encoded data removed]",
      "text/plain": [
       "<Figure size 432x288 with 1 Axes>"
      ]
     },
     "metadata": {
      "needs_background": "light"
     },
     "output_type": "display_data"
    },
    {
     "data": {
      "image/png": "[encoded data removed]",
      "text/plain": [
       "<Figure size 432x288 with 1 Axes>"
      ]
     },
     "metadata": {
      "needs_background": "light"
     },
     "output_type": "display_data"
    },
    {
     "data": {
      "image/png": "[encoded data removed]",
      "text/plain": [
       "<Figure size 432x288 with 1 Axes>"
      ]
     },
     "metadata": {
      "needs_background": "light"
     },
     "output_type": "display_data"
    },
    {
     "data": {
      "image/png": "[encoded data removed]",
      "text/plain": [
       "<Figure size 432x288 with 1 Axes>"
      ]
     },
     "metadata": {
      "needs_background": "light"
     },
     "output_type": "display_data"
    },
    {
     "data": {
      "text/plain": [
       "<Figure size 432x288 with 0 Axes>"
      ]
     },
     "metadata": {},
     "output_type": "display_data"
    }
   ],
   "source": [
    "for i in low_res_renders[:10]:\n",
    "    plt.imshow(i)\n",
    "    plt.figure()"
   ]
  },
  {
   "cell_type": "code",
   "execution_count": 26,
   "id": "41a12eb2",
   "metadata": {},
   "outputs": [
    {
     "ename": "NameError",
     "evalue": "name 'tmp' is not defined",
     "output_type": "error",
     "traceback": [
      "\u001b[1;31m---------------------------------------------------------------------------\u001b[0m",
      "\u001b[1;31mNameError\u001b[0m                                 Traceback (most recent call last)",
      "\u001b[1;32m<ipython-input-26-b7409e65230d>\u001b[0m in \u001b[0;36m<module>\u001b[1;34m\u001b[0m\n\u001b[1;32m----> 1\u001b[1;33m \u001b[0mnp\u001b[0m\u001b[1;33m.\u001b[0m\u001b[0mconcatenate\u001b[0m\u001b[1;33m(\u001b[0m\u001b[1;33m[\u001b[0m\u001b[0mtmp\u001b[0m\u001b[1;33m,\u001b[0m\u001b[0mnp\u001b[0m\u001b[1;33m.\u001b[0m\u001b[0mones\u001b[0m\u001b[1;33m(\u001b[0m\u001b[1;33m[\u001b[0m\u001b[0mtmp\u001b[0m\u001b[1;33m.\u001b[0m\u001b[0mshape\u001b[0m\u001b[1;33m[\u001b[0m\u001b[1;36m0\u001b[0m\u001b[1;33m]\u001b[0m\u001b[1;33m,\u001b[0m\u001b[1;36m1\u001b[0m\u001b[1;33m]\u001b[0m\u001b[1;33m)\u001b[0m\u001b[1;33m]\u001b[0m\u001b[1;33m,\u001b[0m \u001b[0maxis\u001b[0m\u001b[1;33m=\u001b[0m\u001b[1;36m1\u001b[0m\u001b[1;33m)\u001b[0m\u001b[1;33m\u001b[0m\u001b[1;33m\u001b[0m\u001b[0m\n\u001b[0m",
      "\u001b[1;31mNameError\u001b[0m: name 'tmp' is not defined"
     ]
    }
   ],
   "source": [
    "# experiment config\n",
    "exp_config = {\n",
    "    'images':test_images\n",
    "    'methods':[]\n",
    "}"
   ]
  },
  {
   "cell_type": "code",
   "execution_count": null,
   "id": "775360e7",
   "metadata": {},
   "outputs": [],
   "source": []
  },
  {
   "cell_type": "code",
   "execution_count": null,
   "id": "a0aeaa7c",
   "metadata": {},
   "outputs": [],
   "source": []
  },
  {
   "cell_type": "code",
   "execution_count": null,
   "id": "92bd7375",
   "metadata": {},
   "outputs": [],
   "source": []
  },
  {
   "cell_type": "code",
   "execution_count": 27,
   "id": "1885a49e",
   "metadata": {},
   "outputs": [
    {
     "ename": "NameError",
     "evalue": "name 'mat' is not defined",
     "output_type": "error",
     "traceback": [
      "\u001b[1;31m---------------------------------------------------------------------------\u001b[0m",
      "\u001b[1;31mNameError\u001b[0m                                 Traceback (most recent call last)",
      "\u001b[1;32m<ipython-input-27-407f2db0c9d7>\u001b[0m in \u001b[0;36m<module>\u001b[1;34m\u001b[0m\n\u001b[1;32m----> 1\u001b[1;33m \u001b[0mdraw_and_show_poly\u001b[0m\u001b[1;33m(\u001b[0m\u001b[0mtransform\u001b[0m\u001b[1;33m(\u001b[0m\u001b[0mmat\u001b[0m\u001b[1;33m,\u001b[0m\u001b[0mpolys\u001b[0m\u001b[1;33m[\u001b[0m\u001b[1;36m2\u001b[0m\u001b[1;33m]\u001b[0m\u001b[1;33m)\u001b[0m\u001b[1;33m)\u001b[0m\u001b[1;33m\u001b[0m\u001b[1;33m\u001b[0m\u001b[0m\n\u001b[0m\u001b[0;32m      2\u001b[0m \u001b[0mdraw_and_show_poly\u001b[0m\u001b[1;33m(\u001b[0m\u001b[0mpolys\u001b[0m\u001b[1;33m[\u001b[0m\u001b[1;36m3\u001b[0m\u001b[1;33m]\u001b[0m\u001b[1;33m)\u001b[0m\u001b[1;33m\u001b[0m\u001b[1;33m\u001b[0m\u001b[0m\n\u001b[0;32m      3\u001b[0m \u001b[0mcreate_transform_informed\u001b[0m\u001b[1;33m(\u001b[0m\u001b[0msymmetry\u001b[0m\u001b[1;33m=\u001b[0m\u001b[1;32mTrue\u001b[0m\u001b[1;33m)\u001b[0m\u001b[1;33m\u001b[0m\u001b[1;33m\u001b[0m\u001b[0m\n",
      "\u001b[1;31mNameError\u001b[0m: name 'mat' is not defined"
     ]
    }
   ],
   "source": []
  },
  {
   "cell_type": "code",
   "execution_count": null,
   "id": "81ab3f6c",
   "metadata": {},
   "outputs": [],
   "source": []
  },
  {
   "cell_type": "code",
   "execution_count": null,
   "id": "5a30d783",
   "metadata": {},
   "outputs": [],
   "source": []
  },
  {
   "cell_type": "code",
   "execution_count": null,
   "id": "829ca4ea",
   "metadata": {},
   "outputs": [],
   "source": []
  },
  {
   "cell_type": "code",
   "execution_count": null,
   "id": "611acf53",
   "metadata": {},
   "outputs": [],
   "source": []
  },
  {
   "cell_type": "code",
   "execution_count": null,
   "id": "27990d34",
   "metadata": {},
   "outputs": [],
   "source": []
  },
  {
   "cell_type": "code",
   "execution_count": null,
   "id": "18b5be35",
   "metadata": {},
   "outputs": [],
   "source": []
  },
  {
   "cell_type": "code",
   "execution_count": null,
   "id": "d989ab9e",
   "metadata": {},
   "outputs": [],
   "source": []
  },
  {
   "cell_type": "code",
   "execution_count": null,
   "id": "b110f87f",
   "metadata": {},
   "outputs": [],
   "source": []
  },
  {
   "cell_type": "code",
   "execution_count": 28,
   "id": "d4a769bd",
   "metadata": {},
   "outputs": [
    {
     "data": {
      "text/plain": [
       "<matplotlib.image.AxesImage at 0x18d93627ec8>"
      ]
     },
     "execution_count": 28,
     "metadata": {},
     "output_type": "execute_result"
    },
    {
     "data": {
      "image/png": "[encoded data removed]",
      "text/plain": [
       "<Figure size 432x288 with 1 Axes>"
      ]
     },
     "metadata": {
      "needs_background": "light"
     },
     "output_type": "display_data"
    }
   ],
   "source": [
    "plt.imshow(test_images[-3])"
   ]
  },
  {
   "cell_type": "code",
   "execution_count": 30,
   "id": "e01a3699",
   "metadata": {},
   "outputs": [],
   "source": [
    "cimg=test_images[-3].copy()"
   ]
  },
  {
   "cell_type": "code",
   "execution_count": 31,
   "id": "fc416cf0",
   "metadata": {},
   "outputs": [
    {
     "data": {
      "text/plain": [
       "<matplotlib.image.AxesImage at 0x18d9368ba88>"
      ]
     },
     "execution_count": 31,
     "metadata": {},
     "output_type": "execute_result"
    },
    {
     "data": {
      "image/png": "[encoded data removed]",
      "text/plain": [
       "<Figure size 432x288 with 1 Axes>"
      ]
     },
     "metadata": {
      "needs_background": "light"
     },
     "output_type": "display_data"
    }
   ],
   "source": [
    "plt.imshow(cimg)"
   ]
  },
  {
   "cell_type": "code",
   "execution_count": null,
   "id": "0e09bb51",
   "metadata": {},
   "outputs": [],
   "source": [
    "def provenance(img):\n",
    "    res=dict()\n",
    "    for i in img:\n",
    "        for j in i:\n",
    "            res.setdefault(tuple(j), [0])[0] += 1\n",
    "    return {r:res[r][0] for r in res}\n",
    "def sort_colors(provs):\n",
    "    psort = [p for p in provs]\n",
    "    psort.sort(key=lambda k: provs[k],reverse=True)\n",
    "    psort={p:provs[p] for p in psort}\n",
    "    return psort\n",
    "def pick_colors(psort, ts=0.1):\n",
    "    tot=0\n",
    "    res=[]\n",
    "    for p in psort:\n",
    "        if psort[p] > ts*tot:\n",
    "            res.append(p)\n",
    "            tot+=psort[p]\n",
    "        else:\n",
    "            break\n",
    "    return res\n",
    "def pick_n_colors(psort, n=1):\n",
    "    res=[]\n",
    "    colorseq=[k for k in psort.keys()]\n",
    "    while n > 1 and len(res) < len(colorseq):\n",
    "        res.append(colorseq[len(res)])\n",
    "        n-=1\n",
    "    if len(res) < len(colorseq) and n > 0:\n",
    "        multis=np.expand_dims(np.array([psort[colorseq[i]] for i in range(len(res), len(colorseq))]), 1)\n",
    "        aval=np.array([colorseq[i] for i in range(len(res), len(colorseq))])\n",
    "        #print(aval)\n",
    "        vals = aval*multis\n",
    "        ncol = np.sum(vals,axis=0)/np.sum(multis)\n",
    "        res.append(tuple(ncol.astype(int).tolist()))\n",
    "        print(res[-1])\n",
    "    return res\n",
    "def assign_colors(colors, img):\n",
    "    colors=np.array(colors)\n",
    "    ds = np.expand_dims(img,2)-colors\n",
    "    ds = abs(ds)\n",
    "    ds = np.sum(ds,axis=-1)\n",
    "    return colors[np.argmin(ds,axis=2)]\n",
    "\n",
    "def assign_colors2(colors, img):\n",
    "    colors=np.array(colors)\n",
    "    mcolor=np.mean(colors,axis=0)\n",
    "    cdirs=colors-mcolor\n",
    "    print(\"as2\",mcolor)\n",
    "    ds = img-mcolor\n",
    "    print(ds.shape)\n",
    "    ds=ds.dot(cdirs.transpose())\n",
    "    print('ayy lmao',ds.shape)\n",
    "    #print('wtf', np.argmin(ds,axis=2))\n",
    "    return colors[np.argmax(ds,axis=2)]\n",
    "\n",
    "def flatten_colors(img):\n",
    "    pimg=provenance(cimg)\n",
    "    #print(pimg)\n",
    "    psort = sort_colors(pimg)\n",
    "    return assign_colors(pick_n_colors(psort,10),img)\n",
    "#print(psort)\n",
    "plt.imshow(flatten_colors(cimg))\n",
    "#plt.imshow(assign_colors2(pick_n_colors(psort,6),cimg))"
   ]
  },
  {
   "cell_type": "code",
   "execution_count": null,
   "id": "c1631902",
   "metadata": {},
   "outputs": [],
   "source": [
    "psort"
   ]
  },
  {
   "cell_type": "code",
   "execution_count": null,
   "id": "3aab9f8e",
   "metadata": {},
   "outputs": [],
   "source": []
  },
  {
   "cell_type": "code",
   "execution_count": null,
   "id": "7e39cfe5",
   "metadata": {},
   "outputs": [],
   "source": [
    "\n",
    "\n",
    "print(pick_colors(psort,0.01))\n",
    "print(pick_n_colors(psort, 4))\n",
    "plt.imshow()"
   ]
  },
  {
   "cell_type": "code",
   "execution_count": null,
   "id": "424dade5",
   "metadata": {},
   "outputs": [],
   "source": [
    "np.zeros(cimg.shape[:-1]).shape[0]"
   ]
  },
  {
   "cell_type": "code",
   "execution_count": null,
   "id": "5ab2e57c",
   "metadata": {},
   "outputs": [],
   "source": [
    "np.mean(c,axis=0)"
   ]
  },
  {
   "cell_type": "code",
   "execution_count": null,
   "id": "2cef0656",
   "metadata": {},
   "outputs": [],
   "source": [
    "smooth_median(flatten_colors(cimg))"
   ]
  },
  {
   "cell_type": "code",
   "execution_count": null,
   "id": "5babb1c3",
   "metadata": {},
   "outputs": [],
   "source": [
    "def upscale(img,d=(128,128)):\n",
    "    return cv2.resize(img,d,interpolation=cv2.INTER_NEAREST)\n",
    "ufimg=upscale(flatten_colors(cimg))\n",
    "plt.imshow(ufimg)\n",
    "plt.figure()\n",
    "print(flatten_colors(cimg).dtype)\n",
    "print(cimg.shape)\n",
    "print(ufimg.shape)\n",
    "plt.imshow(cv2.medianBlur(flatten_colors(cimg).astype('uint8'),3))\n"
   ]
  },
  {
   "cell_type": "code",
   "execution_count": null,
   "id": "9d507023",
   "metadata": {},
   "outputs": [],
   "source": [
    "\n",
    "from PIL import ImageOps\n",
    "#print(cimg)\n",
    "# Try this this week, see if it works better than median filtering\n",
    "pilimg=Image.fromarray(cimg)\n",
    "plt.imshow(pilimg)\n",
    "plt.figure()\n",
    "aiimg = ImageOps.fit(pilimg, np.array(cimg.shape[:-1])*4, Image.ANTIALIAS)\n",
    "plt.imshow(aiimg)\n",
    "plt.figure()\n",
    "plt.imshow(flatten_colors(aiimg))\n",
    "plt.figure()\n",
    "plt.imshow(cv2.medianBlur(np.array(aiimg),3))"
   ]
  },
  {
   "cell_type": "code",
   "execution_count": 53,
   "id": "d03cfd6e",
   "metadata": {},
   "outputs": [
    {
     "data": {
      "text/plain": [
       "<matplotlib.image.AxesImage at 0x234e765a208>"
      ]
     },
     "execution_count": 53,
     "metadata": {},
     "output_type": "execute_result"
    },
    {
     "data": {
      "image/png": "[encoded data removed]",
      "text/plain": [
       "<Figure size 432x288 with 1 Axes>"
      ]
     },
     "metadata": {
      "needs_background": "light"
     },
     "output_type": "display_data"
    }
   ],
   "source": [
    "cimg=high_res_renders[105]\n",
    "cimg=np.array(cimg)\n",
    "plt.imshow(cimg)"
   ]
  },
  {
   "cell_type": "code",
   "execution_count": 60,
   "id": "2ea1ea02",
   "metadata": {},
   "outputs": [
    {
     "data": {
      "text/plain": [
       "<matplotlib.image.AxesImage at 0x234e7edaf88>"
      ]
     },
     "execution_count": 60,
     "metadata": {},
     "output_type": "execute_result"
    },
    {
     "data": {
      "image/png": "[encoded data removed]",
      "text/plain": [
       "<Figure size 432x288 with 1 Axes>"
      ]
     },
     "metadata": {
      "needs_background": "light"
     },
     "output_type": "display_data"
    }
   ],
   "source": [
    "plt.imshow(cimg)"
   ]
  },
  {
   "cell_type": "code",
   "execution_count": 96,
   "id": "c72cad01",
   "metadata": {},
   "outputs": [
    {
     "data": {
      "text/plain": [
       "<matplotlib.image.AxesImage at 0x234f190a988>"
      ]
     },
     "execution_count": 96,
     "metadata": {},
     "output_type": "execute_result"
    },
    {
     "data": {
      "image/png": "[encoded data removed]",
      "text/plain": [
       "<Figure size 432x288 with 1 Axes>"
      ]
     },
     "metadata": {
      "needs_background": "light"
     },
     "output_type": "display_data"
    }
   ],
   "source": [
    "from imageprocessing import image_preprocess\n",
    "gimg=cv2.cvtColor(cimg, cv2.COLOR_BGR2GRAY)\n",
    "bimg=cv2.blur(gimg,(3,3))\n",
    "#_,_,_,_,_,_,pimg = image_preprocess(bimg)\n",
    "plt.imshow(pimg)"
   ]
  },
  {
   "cell_type": "code",
   "execution_count": 89,
   "id": "523ae822",
   "metadata": {},
   "outputs": [],
   "source": [
    "ret, thresh = cv2.threshold(pimg,127,255,0)\n",
    "contours,h = cv2.findContours(bimg,cv2.RETR_TREE, cv2.CHAIN_APPROX_SIMPLE)"
   ]
  },
  {
   "cell_type": "code",
   "execution_count": 97,
   "id": "dabcc619",
   "metadata": {},
   "outputs": [
    {
     "data": {
      "image/png": "[encoded data removed]",
      "text/plain": [
       "<Figure size 432x288 with 1 Axes>"
      ]
     },
     "metadata": {
      "needs_background": "light"
     },
     "output_type": "display_data"
    },
    {
     "data": {
      "text/plain": [
       "<Figure size 432x288 with 0 Axes>"
      ]
     },
     "metadata": {},
     "output_type": "display_data"
    }
   ],
   "source": [
    "gimg=cv2.cvtColor(cimg, cv2.COLOR_BGR2GRAY)\n",
    "plt.imshow(gimg)\n",
    "plt.figure()\n",
    "#ret, thresh = cv2.threshold(gimg,127,255,0)\n",
    "contours,h = cv2.findContours(bimg,cv2.RETR_TREE, cv2.CHAIN_APPROX_SIMPLE)\n",
    "#plt.imshow(thresh)"
   ]
  },
  {
   "cell_type": "code",
   "execution_count": 106,
   "id": "a12ea99e",
   "metadata": {},
   "outputs": [
    {
     "data": {
      "text/plain": [
       "<matplotlib.image.AxesImage at 0x234f400ae88>"
      ]
     },
     "execution_count": 106,
     "metadata": {},
     "output_type": "execute_result"
    },
    {
     "data": {
      "image/png": "[encoded data removed]",
      "text/plain": [
       "<Figure size 432x288 with 1 Axes>"
      ]
     },
     "metadata": {
      "needs_background": "light"
     },
     "output_type": "display_data"
    }
   ],
   "source": [
    "dimg=cimg.copy()\n",
    "dimg=np.zeros(dimg.shape)\n",
    "#cv2.drawContours(dimg, contours, 5, (0,255,0),3)\n",
    "cv2.drawContours(dimg, contours, -1, (0,1,0), -1)\n",
    "#cv2.fillPoly(dimg,pts=contours[5],color=1)\n",
    "#cv2.fillPoly(dimg,pts=contours[5][:500],color=1)\n",
    "plt.imshow(dimg)"
   ]
  },
  {
   "cell_type": "code",
   "execution_count": 46,
   "id": "fb8253db",
   "metadata": {},
   "outputs": [
    {
     "data": {
      "image/png": "[encoded data removed]",
      "text/plain": [
       "<Figure size 432x288 with 1 Axes>"
      ]
     },
     "metadata": {
      "needs_background": "light"
     },
     "output_type": "display_data"
    },
    {
     "data": {
      "image/png": "[encoded data removed]",
      "text/plain": [
       "<Figure size 432x288 with 1 Axes>"
      ]
     },
     "metadata": {
      "needs_background": "light"
     },
     "output_type": "display_data"
    },
    {
     "data": {
      "text/plain": [
       "<Figure size 432x288 with 0 Axes>"
      ]
     },
     "metadata": {},
     "output_type": "display_data"
    }
   ],
   "source": [
    "def split_contour(img,center=True):\n",
    "    # pass this an image, and it will return a list of sub-images.\n",
    "    # method: determines whether to split by color or using the contour method\n",
    "    # center: whether to center and resize the split parts, or to leave them in their original location in the image\n",
    "    # hulls: if true use the convex hull of the contour, otherwise use the raw contour \n",
    "    masks=[]\n",
    "    bgcolor=[0,0,0]\n",
    "    gimg=maybetogray(img)\n",
    "    ret, thresh = cv2.threshold(gimg,127,255,0)\n",
    "    plt.imshow(thresh)\n",
    "    plt.figure()\n",
    "    contours,h=cv2.findContours(thresh, cv2.RETR_TREE, cv2.CHAIN_APPROX_SIMPLE)\n",
    "    for i in range(len(contours)):\n",
    "        masks += [cv2.drawContours(np.zeros_like(pimg), [cv2.convexHull(i) for i in contours], i, 1, -1)]\n",
    "    if center:\n",
    "        return [cropresize(img,b,bgcolor) for b in masks]\n",
    "    else:\n",
    "        return [maskout(img,b,bgcolor) for b in masks]    \n",
    "splits=split_contour(cimg)\n",
    "for s in splits:\n",
    "    plt.imshow(s)\n",
    "    plt.figure()"
   ]
  },
  {
   "cell_type": "code",
   "execution_count": null,
   "id": "b8eb1922",
   "metadata": {},
   "outputs": [],
   "source": [
    "cv2.FILLED"
   ]
  },
  {
   "cell_type": "code",
   "execution_count": null,
   "id": "55f7280f",
   "metadata": {},
   "outputs": [],
   "source": [
    "cnt=np.array([[50,50],[50,150],[150,150],[150,50]])\n",
    "image=np.zeros((200,200))"
   ]
  },
  {
   "cell_type": "code",
   "execution_count": null,
   "id": "c0e4c055",
   "metadata": {},
   "outputs": [],
   "source": [
    "cv2.fillPoly(image,pts=cnt,color=(255,255,255))\n",
    "cv2.imshow(\"ggg\",image)"
   ]
  },
  {
   "cell_type": "code",
   "execution_count": 153,
   "id": "90de9ef8",
   "metadata": {},
   "outputs": [
    {
     "data": {
      "image/png": "[encoded data removed]",
      "text/plain": [
       "<Figure size 432x288 with 1 Axes>"
      ]
     },
     "metadata": {
      "needs_background": "light"
     },
     "output_type": "display_data"
    }
   ],
   "source": [
    "plt.imshow(high_res_renders[4])\n",
    "timg3=np.array(high_res_renders[4])"
   ]
  },
  {
   "cell_type": "code",
   "execution_count": 154,
   "id": "72c0de13",
   "metadata": {},
   "outputs": [
    {
     "data": {
      "image/png": "[encoded data removed]",
      "text/plain": [
       "<Figure size 720x720 with 5 Axes>"
      ]
     },
     "metadata": {
      "needs_background": "light"
     },
     "output_type": "display_data"
    }
   ],
   "source": [
    "segimgs=segment_agglomerative(timg3,bg=[255,255,255])\n",
    "plot_many(segimgs)"
   ]
  },
  {
   "cell_type": "code",
   "execution_count": 155,
   "id": "c343b29f",
   "metadata": {},
   "outputs": [
    {
     "name": "stdout",
     "output_type": "stream",
     "text": [
      "100\n"
     ]
    }
   ],
   "source": [
    "hdf5_file = h5py.File('LLD-icon.hdf5', 'r')\n",
    "images, _ = (hdf5_file['data'], hdf5_file['labels/resnet/rc_64'])\n",
    "# transpose the images because they're stored in a weird color channel first format, as indicated by shape[0] being 3\n",
    "images = [np.transpose(i) if i.shape[0] == 3 else i for i in images[:100]]\n",
    "print(len(images))\n"
   ]
  },
  {
   "cell_type": "code",
   "execution_count": 216,
   "id": "d8c6e72a",
   "metadata": {},
   "outputs": [
    {
     "data": {
      "text/plain": [
       "<matplotlib.image.AxesImage at 0x1f90377f2c8>"
      ]
     },
     "execution_count": 216,
     "metadata": {},
     "output_type": "execute_result"
    },
    {
     "data": {
      "image/png": "[encoded data removed]",
      "text/plain": [
       "<Figure size 432x288 with 1 Axes>"
      ]
     },
     "metadata": {
      "needs_background": "light"
     },
     "output_type": "display_data"
    }
   ],
   "source": [
    "plt.imshow(images[66])"
   ]
  },
  {
   "cell_type": "code",
   "execution_count": 217,
   "id": "2bd69755",
   "metadata": {},
   "outputs": [
    {
     "data": {
      "image/png": "[encoded data removed]",
      "text/plain": [
       "<Figure size 720x720 with 4 Axes>"
      ]
     },
     "metadata": {
      "needs_background": "light"
     },
     "output_type": "display_data"
    }
   ],
   "source": [
    "segimgs=segment_agglomerative(images[66],bg=[255,255,255],n_clusters=4)\n",
    "plot_many(segimgs)"
   ]
  },
  {
   "cell_type": "markdown",
   "id": "a80ff667",
   "metadata": {},
   "source": [
    "###### "
   ]
  }
 ],
 "metadata": {
  "kernelspec": {
   "display_name": "Python 3",
   "language": "python",
   "name": "python3"
  },
  "language_info": {
   "codemirror_mode": {
    "name": "ipython",
    "version": 3
   },
   "file_extension": ".py",
   "mimetype": "text/x-python",
   "name": "python",
   "nbconvert_exporter": "python",
   "pygments_lexer": "ipython3",
   "version": "3.7.10"
  }
 },
 "nbformat": 4,
 "nbformat_minor": 5
}
