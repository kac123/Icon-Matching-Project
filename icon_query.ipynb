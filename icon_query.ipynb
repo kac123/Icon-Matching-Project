{
 "cells": [
  {
   "cell_type": "code",
   "execution_count": 7,
   "metadata": {},
   "outputs": [
    {
     "name": "stdout",
     "output_type": "stream",
     "text": [
      "Done\n"
     ]
    }
   ],
   "source": [
    "import sys \n",
    "import os\n",
    "import h5py\n",
    "import pickle\n",
    "from matplotlib import pyplot as plt\n",
    "import numpy as np\n",
    "from scipy import ndimage as ndi\n",
    "import cv2\n",
    "import math\n",
    "import numpy as np\n",
    "import pandas as pd\n",
    "from sklearn.linear_model import LogisticRegression\n",
    "from random import shuffle\n",
    "from tqdm import tqdm, tnrange, tqdm_notebook\n",
    "import collections\n",
    "import random\n",
    "import mahotas \n",
    "from sklearn.preprocessing import normalize\n",
    "import image\n",
    "import imutils\n",
    "import logging\n",
    "\n",
    "# save and load pickle objects \n",
    "def save_obj(obj, name ):\n",
    "    with open('obj/'+ name + '.pkl', 'wb') as f:\n",
    "        pickle.dump(obj, f, pickle.HIGHEST_PROTOCOL)\n",
    "\t\t\n",
    "def load_obj(name ):\n",
    "    with open('obj/' + name + '.pkl', 'rb') as f:\n",
    "        return pickle.load(f)\t\t\n",
    "\n",
    "# create grayscale image from database image\n",
    "def gray( img ):\n",
    "\tarray =  np.dot( np.transpose( img, (1,2,0)), [0.299, 0.587, 0.114] )\n",
    "\treturn array.astype(np.uint8)\n",
    "\n",
    "# find max distance given a list of points \n",
    "def find_max( point_list):\n",
    "\n",
    "\tmax_dist = 0.000\n",
    "\tfirst_point = point_list[0]\n",
    "\tsecond_point = point_list[1]\n",
    "\n",
    "\tfor i in range(0, len(point_list)-1):\n",
    "\t\tfor j in range(i+1, len(point_list)):\n",
    "\t\t\t\n",
    "\t\t\tdist_sq =  (point_list[i][0] - point_list[j][0])**2 + (point_list[i][1] - point_list[j][1])**2 \n",
    "\t\t\t\n",
    "\t\t\tif dist_sq > max_dist:\n",
    "\t\t\t\tmax_dist = dist_sq\n",
    "\t\t\t\tfirst_point = point_list[i]\n",
    "\t\t\t\tsecond_point = point_list[j]\n",
    "\t\t\t\t\n",
    "\treturn first_point, second_point, math.sqrt(max_dist)\n",
    "\t\n",
    "# if object is a circle, find max distance which also has the closest slope to the best fit slope \n",
    "def find_tiebreaker( x, y, best_slope, max_dist ):\n",
    "\n",
    "\tfirst_point = (x[0], y[0])\n",
    "\tsecond_point = (x[1], y[1])\n",
    "\tmin_slope_diff = 999999.999\n",
    "\t\n",
    "\tfor i in range(0, len(x)-1):\n",
    "\t\tfor j in range(i+1,len(x)+i):\n",
    "\t\t\n",
    "\t\t\tif j >= len(x):\n",
    "\t\t\t\tj = j % len(x)\n",
    "\t\t\t\n",
    "\t\t\tdist = math.sqrt( (x[i] - x[j])**2 + (y[i] - y[j])**2 )\n",
    "\t\t\tif (max_dist - dist)/max_dist <= 0.08 and (x[i] - x[j]) != 0 :\n",
    "\t\t\t\tslope_diff = abs( (y[i] - y[j])/(x[i] - x[j]) - best_slope )\n",
    "\t\t\t\t\n",
    "\t\t\t\tif slope_diff < min_slope_diff:\n",
    "\t\t\t\t\tmin_slope_diff = slope_diff\n",
    "\t\t\t\t\tfirst_point = (x[i], y[i])\n",
    "\t\t\t\t\tsecond_point = (x[j], y[j])\t\n",
    "\n",
    "\treturn first_point, second_point\n",
    "\t\n",
    "\n",
    "# find midpoints between two points given a set of fractions  \n",
    "def get_midway (p1, p2, fractions):\n",
    "\t\n",
    "\tmidpts = []\n",
    "\tdx = p2[0] - p1[0]\n",
    "\tdy = p2[1] - p1[1]\n",
    "\t\n",
    "\tfor n, fract in enumerate(fractions):\n",
    "\t\tx = p1[0] + fract * dx \n",
    "\t\ty = p1[1] + fract * dy \n",
    "\t\tmidpts.append( (x,y) )\n",
    "\t\t\t\n",
    "\treturn midpts\n",
    "\n",
    "# find intersection of 2 lines \t\n",
    "def line_intersect(line1, line2):\n",
    "\txdiff = (line1[0][0] - line1[1][0], line2[0][0] - line2[1][0])\n",
    "\tydiff = (line1[0][1] - line1[1][1], line2[0][1] - line2[1][1]) \n",
    "\t\n",
    "\tdef det(a, b):\n",
    "\t\treturn a[0] * b[1] - a[1] * b[0]\n",
    "\t\n",
    "\tdiv = det(xdiff, ydiff)\n",
    "\tif div == 0:\n",
    "\t\treturn (-999999,-999999) \n",
    "\n",
    "\td = (det(*line1), det(*line2))\n",
    "\tx = det(d, xdiff) / div\n",
    "\ty = det(d, ydiff) / div\n",
    "\treturn x, y\t\n",
    "\t\n",
    "# find points of intersection between normal line and all possible line segments in contour \n",
    "def find_intersect( x1, y1, x2, y2):\n",
    "\t\n",
    "\tintersect = []\n",
    "\t\n",
    "\tfor i in range(0,len(x2)):\n",
    "\t\tj = i + 1\n",
    "\t\tif j == len(x2):\n",
    "\t\t\tj = 0\n",
    "\t\t\n",
    "\t\t# find point of intersection\n",
    "\t\tpoint = line_intersect( ((x1[0], y1[0]), (x1[-1], y1[-1])), ((x2[i], y2[i]), (x2[j], y2[j])) )\n",
    "\t\t\n",
    "\t\t# check that the point lies on the contour \n",
    "\t\tdotproduct = (point[0] - x2[i]) * (x2[j] - x2[i]) + (point[1] - y2[i])*(y2[j] - y2[i])\n",
    "\t\tsquaredlength = (x2[j] - x2[i])**2 + (y2[j] - y2[i])**2\n",
    "\t\t\n",
    "\t\tif dotproduct >= 0 and dotproduct <= squaredlength and point not in intersect:\n",
    "\t\t\tintersect.append( point )\n",
    "\n",
    "\treturn intersect\n",
    "\n",
    "def ab_random(img, n=1):\n",
    "\t# This function takes an input image (32 by 32) and applies a random aberration to it, either some affine transformation or an occlusion N times.\n",
    "\t# Note that the input image is mutated.\n",
    "\t\n",
    "\t# To add a new aberration, define a function that takes an image, applies an aberration, and returns the modified image.\n",
    "\t# Once this new function is defined, add it to the 'aberrations' array so that it can be chosen randomly.\n",
    "\t\n",
    "\tdef ab_translate(img):\n",
    "\t\trows,cols = img.shape\n",
    "\t\tM = np.float32([[1,0,-6],[0,1,6]])\n",
    "\t\timg = cv2.warpAffine(img,M,(cols,rows),borderMode=cv2.BORDER_REPLICATE)\n",
    "\t\treturn img\n",
    "\n",
    "\tdef ab_rotate(img):\n",
    "\t\trows,cols = img.shape\n",
    "\t\tM = cv2.getRotationMatrix2D(((cols-1)/2.0,(rows-1)/2.0),random.randint(0,360),1)\n",
    "\t\timg = cv2.warpAffine(img,M,(cols,rows),borderMode=cv2.BORDER_REPLICATE)\n",
    "\t\treturn img\n",
    "    \n",
    "\tdef ab_affine(img):\n",
    "\t\t# cv2.getAffineTransform takes 3 input points and 3 output points, and returns the affine transformation matrix mapping the input points to the output.\n",
    "\t\trows,cols = img.shape\n",
    "\t\tpts1 = np.float32([[0,0],[0,30],[30,30]])\n",
    "\t\tpts2 = np.float32([[5,5],[6,20],[22,21]])\n",
    "\t\tM = cv2.getAffineTransform(pts1,pts2)\n",
    "\t\timg = cv2.warpAffine(img,M,(cols,rows),borderMode=cv2.BORDER_REPLICATE)\n",
    "\t\treturn img\n",
    "        \n",
    "\tdef ab_scale(img):\n",
    "\t\trows,cols = img.shape\n",
    "\t\tM = cv2.getRotationMatrix2D(((cols-1)/2.0,(rows-1)/2.0),0,random.uniform(.8, 1.25))\n",
    "\t\timg = cv2.warpAffine(img,M,(cols,rows),borderMode=cv2.BORDER_REPLICATE)\n",
    "\t\treturn img\n",
    "    \n",
    "\tdef ab_flip(img):\n",
    "\t\timg = cv2.flip(img, random.randint(0,1))\n",
    "\t\treturn img\n",
    "    \n",
    "\tdef ab_line(img):\n",
    "\t\tcv2.line(img,(16,20),(21,19),(0,300,300),2)\n",
    "\t\tcv2.line(img,(23,22),(18,20),(0,300,300),2)\n",
    "\t\treturn img\n",
    "\t\n",
    "\tdef ab_circle(img):\n",
    "\t\tcv2.circle(img, (14,18), 3, (0,300,300), 2)\n",
    "\t\tcv2.circle(img, (19,13), 3, (0,300,300), 3)\n",
    "\t\treturn img\n",
    "    \n",
    "\tdef ab_line_circle(img):\n",
    "\t\tcv2.line(img,(11,10),(15,8),(0,300,300),2)        \n",
    "\t\tcv2.circle(img, (14,18), 3, (0,300,300), 2)\n",
    "\t\treturn img   \n",
    "    \n",
    "\tdef ab_two_line_circle(img):\n",
    "\t\tcv2.line(img,(6,20),(6,12),(0,300,300),2)  \n",
    "\t\tcv2.line(img,(10,25),(18,25),(0,300,300),2) \n",
    "\t\tcv2.circle(img, (14,18), 3, (0,300,300), 2)\n",
    "\t\tcv2.circle(img, (19,12), 3, (0,300,300), 2)        \n",
    "\t\treturn img \n",
    "    \n",
    "\tdef ab_trans_rot(img):\n",
    "\t\treturn(ab_translate(ab_rotate(img)))\n",
    "    \n",
    "\tdef ab_affine_rot(img):\n",
    "\t\treturn(ab_affine(ab_rotate(img)))\n",
    "    \n",
    "\tdef ab_scale_lc(img):\n",
    "\t\treturn(ab_scale(ab_two_line_circle(img)))\n",
    "    \n",
    "\t# Add any additional aberrations to this array so that they can be chosen at random.\n",
    "\t#aberrations = [ab_translate, ab_rotate, ab_affine, ab_scale, ab_flip, ab_line, ab_circle]\n",
    "\taberrations = [ab_translate, ab_rotate,ab_affine,ab_scale,ab_flip,ab_line,ab_circle, ab_line_circle,ab_two_line_circle\n",
    "                  ,ab_trans_rot,ab_affine_rot, ab_scale_lc]\n",
    "\t# Choose the given number of aberrations from the array to apply.\n",
    "\tab = aberrations[n]\n",
    "\timg = ab(img)\n",
    "\treturn img, ab\n",
    "\n",
    "def plot_results (img, combined_method):\t\n",
    "\t\n",
    "\t# create plot of original image and best matches \n",
    "\tfig, ( (ax1, ax2, ax3, ax4, ax5, ax6), (ax7, ax8, ax9, ax10, ax11, ax12) ) = plt.subplots(nrows=2, ncols=6, figsize=(32, 32),sharex=False, sharey=False)\n",
    "\t\n",
    "\tax1.imshow(img, cmap=plt.cm.gray)\n",
    "\tax1.set_title('Query Image', fontsize=20, y = 1.0)\n",
    "\t\n",
    "\tax2.imshow(gray(images[combined_method[0][0]]), cmap=plt.cm.gray)\n",
    "\tax2.set_xlim([0,32])\n",
    "\tax2.set_ylim([32,0])\n",
    "\tax2.set_title('% Match: ' + str(combined_method[0][3]), fontsize=20, y = 1.0)\n",
    "\t\n",
    "\tax3.imshow(gray(images[combined_method[1][0]]), cmap=plt.cm.gray)\n",
    "\tax3.set_xlim([0,32])\n",
    "\tax3.set_ylim([32,0])\n",
    "\tax3.set_title('% Match: ' + str(combined_method[1][3]), fontsize=20, y = 1.0)\n",
    "\t\n",
    "\tax4.imshow(gray(images[combined_method[2][0]]), cmap=plt.cm.gray)\n",
    "\tax4.set_xlim([0,32])\n",
    "\tax4.set_ylim([32,0])\n",
    "\tax4.set_title('% Match: ' + str(combined_method[2][3]), fontsize=20, y = 1.0)\n",
    "\t\n",
    "\tax5.imshow(gray(images[combined_method[3][0]]), cmap=plt.cm.gray)\n",
    "\tax5.set_xlim([0,32])\n",
    "\tax5.set_ylim([32,0])\n",
    "\tax5.set_title('% Match: ' + str(combined_method[3][3]), fontsize=20, y = 1.0)\n",
    "\t\n",
    "\tax6.imshow(gray(images[combined_method[4][0]]), cmap=plt.cm.gray)\n",
    "\tax6.set_xlim([0,32])\n",
    "\tax6.set_ylim([32,0])\n",
    "\tax6.set_title('% Match: ' + str(combined_method[4][3]), fontsize=20, y = 1.0)\n",
    "\t\n",
    "\tax7.imshow(gray(images[combined_method[5][0]]), cmap=plt.cm.gray)\n",
    "\tax7.set_xlim([0,32])\n",
    "\tax7.set_ylim([32,0])\n",
    "\tax7.set_title('% Match: ' + str(combined_method[5][3]), fontsize=20, y = 1.0)\n",
    "\t\n",
    "\tax8.imshow(gray(images[combined_method[6][0]]), cmap=plt.cm.gray)\n",
    "\tax8.set_xlim([0,32])\n",
    "\tax8.set_ylim([32,0])\n",
    "\tax8.set_title('% Match: ' + str(combined_method[6][3]), fontsize=20, y = 1.0)\n",
    "\t\n",
    "\tax9.imshow(gray(images[combined_method[7][0]]), cmap=plt.cm.gray)\n",
    "\tax9.set_xlim([0,32])\n",
    "\tax9.set_ylim([32,0])\n",
    "\tax9.set_title('% Match: ' + str(combined_method[7][3]), fontsize=20, y = 1.0)\n",
    "\t\n",
    "\tax10.imshow(gray(images[combined_method[8][0]]), cmap=plt.cm.gray)\n",
    "\tax10.set_xlim([0,32])\n",
    "\tax10.set_ylim([32,0])\n",
    "\tax10.set_title('% Match: ' + str(combined_method[8][3]), fontsize=20, y = 1.0)\n",
    "\t\n",
    "\tax11.imshow(gray(images[combined_method[9][0]]), cmap=plt.cm.gray)\n",
    "\tax11.set_xlim([0,32])\n",
    "\tax11.set_ylim([32,0])\n",
    "\tax11.set_title('% Match: ' + str(combined_method[9][3]), fontsize=20, y = 1.0)\n",
    "\t\n",
    "\tax12.imshow(gray(images[combined_method[10][0]]), cmap=plt.cm.gray)\n",
    "\tax12.set_xlim([0,32])\n",
    "\tax12.set_ylim([32,0])\n",
    "\tax12.set_title('% Match: ' + str(combined_method[10][3]), fontsize=20, y = 1.0)\n",
    "\t\n",
    "\t# maximize the window and display plots \n",
    "\tfig.tight_layout()\n",
    "\t#mng = plt.get_current_fig_manager()\n",
    "\t#mng.window.state('zoomed')\t\n",
    "\tplt.show()\t\n",
    "\t\n",
    "def create_query( img, fractions ):\n",
    "\n",
    "\tquery_obj = {}\n",
    "\n",
    "\trows,cols = img.shape[:2]\n",
    "\t# create grayscale image and use Canny edge detection\n",
    "\tedges1 = cv2.Canny(img,100,200)\n",
    "\tif np.amax(edges1,axis=(0,1)) == 0:\n",
    "\t\tedges1 = cv2.Canny(img,20,100)\n",
    "\tif np.amax(edges1,axis=(0,1)) == 0:\n",
    "\t\tedges1 = cv2.Canny(img,5,20)\n",
    "\tif np.amax(edges1,axis=(0,1)) == 0:\n",
    "\t\tedges1 = cv2.Canny(img,1,5)\t\n",
    "\t\n",
    "\trows,cols = img.shape[:2]\n",
    "\tmin_x = cols \n",
    "\tmin_y = rows\n",
    "\tmax_x = 0 \n",
    "\tmax_y = 0 \t\n",
    "\t\n",
    "\t# fill in any diagonals in the edges \n",
    "\tfor i in range(0, rows):\n",
    "\t\tfor j in range(0, cols):\n",
    "\t\t\tif  i >= 1 and i <= rows - 2 and j >= 1 and j <= cols - 2: \n",
    "\t\t\t\tif edges1[i,j] == 255 and edges1[i,j-1] == 0 and edges1[i+1,j] == 0 and edges1[i+1,j-1] == 255:\n",
    "\t\t\t\t\tedges1[i+1,j] = 255 \n",
    "\t\t\t\telif edges1[i,j] == 255 and edges1[i,j+1] == 0 and edges1[i+1,j] == 0 and edges1[i+1,j+1] == 255:\n",
    "\t\t\t\t\tedges1[i+1,j] = 255 \n",
    "\t\t\t\n",
    "\t\t\tif edges1[i,j] == 255:\n",
    "\t\t\t\tif j > max_x:\n",
    "\t\t\t\t\tmax_x = j \n",
    "\t\t\t\tif j < min_x:\n",
    "\t\t\t\t\tmin_x = j\n",
    "\t\t\t\tif i > max_y:\n",
    "\t\t\t\t\tmax_y = i \n",
    "\t\t\t\tif i < min_y: \n",
    "\t\t\t\t\tmin_y = i\n",
    "\t\n",
    "\t## create zernike vector \n",
    "\tedges2 = edges1[min_y:max_y+1, min_x:max_x+1]\n",
    "\tedges2 = cv2.resize(edges2, dsize=(32, 32), interpolation=cv2.INTER_CUBIC)\n",
    "\tzernike = mahotas.features.zernike_moments(edges2, 16)\t\n",
    "\tzernike = normalize(zernike[:,np.newaxis], axis=0).ravel() \t\t\n",
    "\t\n",
    "\t# find contours from edge image, sort by length and take top 5 \n",
    "\timage, contours, hierarchy = cv2.findContours(edges1,cv2.RETR_LIST,cv2.CHAIN_APPROX_NONE)\n",
    "\tcontours = sorted(contours, key = lambda x:cv2.contourArea(x,False), reverse = True)[:10]\n",
    "\t\n",
    "\t# set min length of contour to 11\n",
    "\tn = 0\n",
    "\twhile n < len(contours) and cv2.arcLength(contours[n],False) >= 11:\n",
    "\t\tn += 1\n",
    "\t\t\n",
    "\tcontours = contours[:n]\n",
    "\t\n",
    "\tdist_append = []\n",
    "\t\n",
    "\t# find hull and defects of the contour \n",
    "\tfor n in range(0,len(contours)):\n",
    "\t\n",
    "\t\tcnt = contours[n]\n",
    "\t\thull = cv2.convexHull(cnt,returnPoints = False)\n",
    "\t\tdefects = cv2.convexityDefects(cnt,hull)\n",
    "\t\t\n",
    "\t\t# initialize list to track all points on the hull as well as points with defects \n",
    "\t\tpoint_track = []\n",
    "\t\t\n",
    "\t\tfor j in range (hull.shape[0]):\t\n",
    "\t\t\ti = hull[j]\n",
    "\t\t\tpoint = tuple(cnt[i][0][0])\n",
    "\t\t\tpoint_track.append(point)\n",
    "\t\t\n",
    "\t\tif defects is not None:\n",
    "\t\t\tfor i in range(defects.shape[0]):\n",
    "\t\t\t\ts,e,f,d = defects[i,0]\n",
    "\t\t\t\tfar = tuple(cnt[f][0])\n",
    "\t\t\t\tpoint_track.append(far)\n",
    "\t\t\n",
    "\t\t# 4b. find max distance and plot 2 points along with longest line \n",
    "\t\tif len(point_track) >= 2:\n",
    "\t\t\t[point1, point2, max_dist] = find_max(point_track)\n",
    "\t\t\t\n",
    "\t\t\t# find area of contour and enclosing circle\n",
    "\t\t\tarea = cv2.contourArea(cnt)\n",
    "\t\t\t(cx, cy), radius = cv2.minEnclosingCircle(cnt)\n",
    "\t\t\tcircleArea = round(radius**2 * np.pi,1)\n",
    "\t\t\t# if contour is a circle, then find best fit line, then find points which have a max distance and the same slope\n",
    "\t\t\tif abs(circleArea - area)/circleArea <= .25:\n",
    "\t\t\t\tcoordinates = np.where(edges1 == 255)\n",
    "\t\t\t\tif len(coordinates[1]) > 0:\n",
    "\t\t\t\t\tcoef = np.polyfit(coordinates[1], coordinates[0], 1, rcond=None, full=False, w=None, cov=False)\n",
    "\t\t\t\t\t[point1, point2] = find_tiebreaker(cnt[:,0,0], cnt[:,0,1], coef[0], max_dist)\n",
    "\t\t\n",
    "\t\t\t# find midway points along line segment  \n",
    "\t\t\tmidpts = get_midway( point1, point2, fractions ) \n",
    "\t\t\t\n",
    "\t\t\t# slope of normal line \n",
    "\t\t\tif (point2[0]-point1[0]) == 0:\n",
    "\t\t\t\tslope = 0\n",
    "\t\t\telif (point2[1]-point1[1]) == 0:\n",
    "\t\t\t\tslope = 10000\n",
    "\t\t\telse:\n",
    "\t\t\t\tslope = -1 / ( (point2[1]-point1[1]) / (point2[0]-point1[0]) )\n",
    "\t\t\n",
    "\t\t\t# 4d. loop through the middle/quarter/eighth points and plot the normal lines \n",
    "\t\t\tfor m, pt in enumerate(midpts):\n",
    "\t\n",
    "\t\t\t\tx = np.linspace(0.0,cols,3)\n",
    "\t\t\t\ty = [float(slope * i - slope * pt[0] + pt[1]) for i in x]  \n",
    "\t\t\t\t\n",
    "\t\t\t\tif n == 0:\n",
    "\t\t\t\t\tfor n1 in range(0,len(contours)):\n",
    "\t\t\t\t\t\tcnt1 = contours[n1]\t\n",
    "\t\t\t\t\t\n",
    "\t\t\t\t\t\t# find points of intersection between normal line and contour, plot those points\n",
    "\t\t\t\t\t\tintersect = find_intersect(x, y, cnt1[:,0,0], cnt1[:,0,1])\n",
    "\t\t\t\t\t\t\n",
    "\t\t\t\t\t\t# distance between middle point and intersect points, normalize using length of longest line\n",
    "\t\t\t\t\t\tdist = [ round( math.sqrt( (i[0] - pt[0])**2 + (i[1] - pt[1])**2 ) / max_dist , 3 ) for i in intersect ]\n",
    "\t\t\t\t\t\tfor d in dist:\n",
    "\t\t\t\t\t\t\tif (fractions[m],d) not in dist_append:\n",
    "\t\t\t\t\t\t\t\tdist_append.append((fractions[m],d))\n",
    "\t\t\t\t\t\t\t\t\n",
    "\t\t\t\telse:\n",
    "\t\t\t\t\t# find points of intersection between normal line and contour, plot those points\n",
    "\t\t\t\t\tintersect = find_intersect(x, y, cnt[:,0,0], cnt[:,0,1])\n",
    "\t\t\t\t\t\n",
    "\t\t\t\t\t# distance between middle point and intersect points, normalize using length of longest line\n",
    "\t\t\t\t\tdist = [ round( math.sqrt( (i[0] - pt[0])**2 + (i[1] - pt[1])**2 ) / max_dist , 3 ) for i in intersect ]\n",
    "\t\t\t\t\tfor d in dist:\n",
    "\t\t\t\t\t\tif (fractions[m],d) not in dist_append:\n",
    "\t\t\t\t\t\t\tdist_append.append((fractions[m],d))\n",
    "\n",
    "\t\n",
    "\t## create final dictionary for contour method distances \n",
    "\tfor d in dist_append:\n",
    "\t\tquery_obj.setdefault(d[0],[]).append(d[1])\t\n",
    "\t\n",
    "\treturn query_obj, zernike \n",
    "\n",
    "\t\n",
    "def test_zernike( z ):\n",
    "\n",
    "\tzernike_list = []\n",
    "\tfor w in tqdm_notebook( range(len(hash_zernike)) ):\n",
    "\t\n",
    "\t\tdot_prod = sum(i[0] * i[1] for i in zip(hash_zernike.get(w), z ))\n",
    "\t\tzernike_list.append(( w,round(666.667 * (dot_prod - .850),1) ))\n",
    "\t\t\n",
    "\treturn zernike_list\t\n",
    "\t\n",
    "def test_contour( image_query, error, fractions ):\n",
    "\t\n",
    "\t# track all of the matched images\n",
    "\ttotal_list = list(range(0,len(hash_obj),1))\n",
    "\tmatched_list = []\n",
    "\n",
    "\t# loop through each of the fractions (key of the dictionary)\n",
    "\tfor f in tqdm_notebook(fractions):\n",
    "\t\n",
    "\t\t# loop through each distance in the database and check if the distance matches with the image query\n",
    "\t\tfor hash_dist in  hash_obj.get(f) :\n",
    "\t\n",
    "\t\t\ttotal_list.append(hash_dist[1])\n",
    "\t\t\t\n",
    "\t\t\t# loop through each distance in the image query\n",
    "\t\t\tfor query_dist in image_query.get(f):\n",
    "\t\t\n",
    "\t\t\t\tif query_dist >= hash_dist[0] - error and query_dist <= hash_dist[0] + error:\n",
    "\t\t\t\t\tmatched_list.append(hash_dist[1])\n",
    "\t\n",
    "\t# count the number of matches for each image and find the top hits \t\n",
    "\tcounted_list =  collections.Counter(matched_list)\n",
    "\ttotal_count = collections.Counter(total_list)\n",
    "\tmatch = dict((k, round(float(counted_list[k])*100/total_count[k],1)) for k in total_count)\n",
    "\tmatch = sorted(match.items(), key=lambda t: t[0])\n",
    "\treturn match \n",
    "\t\n",
    "def test_combined( weights, method1, method2, method3 = [], method4 = [] ):\n",
    "\n",
    "\t# check all 3 methods and average the scores \n",
    "\tmatched_combined = []\n",
    "\tN = 2\n",
    "\tif len(method3) > 0:\n",
    "\t\tN = N + 1\n",
    "\tif len(method4) > 0:\n",
    "\t\tN = N + 1\n",
    "\t\n",
    "\tfor w in  range(len(method1)):\n",
    "\t\t\t\n",
    "\t\tif N == 3:\n",
    "\t\t\tmatched_combined.append( (w, method1[w][1] , method2[w][1], method3[w][1], round(weights[0]* method1[w][1] + weights[1]*method2[w][1] + weights[2]*method3[w][1],1)) )\n",
    "\t\telif N == 2:\n",
    "\t\t\tmatched_combined.append( (w, method1[w][1] , method2[w][1], 0, round(weights[0]*method1[w][1] + weights[1]*method2[w][1],1)) )\n",
    "\t\telif N == 4:            \n",
    "\t\t\tmatched_combined.append( (w, method1[w][1] , method2[w][1], method3[w][1], method4[w][1], round(weights[0]* method1[w][1] + weights[1]*method2[w][1] + weights[2]*method3[w][1] + weights[3]*method4[w][1],1)) )\n",
    "\tmatched_combined = sorted(matched_combined, key = lambda tup: tup[N+1], reverse = True )\t\n",
    "\treturn matched_combined\n",
    "\n",
    "def sift_score(img_kp1, img_kp2, matcher):\n",
    "\t\t\n",
    "\tif img_kp1 is None:\n",
    "\t\treturn 0\n",
    "\tif img_kp2 is None:\n",
    "\t\treturn 0\n",
    "\t\n",
    "\ttry:\n",
    "\t\tmatches = matcher.knnMatch(img_kp1, img_kp2, k=2)\n",
    "\texcept:\n",
    "\t\treturn 0\n",
    "\t\t\n",
    "\tscore = 0\n",
    "\tfor i,(m,n) in enumerate(matches):\n",
    "\t\tif m.distance < 0.7*n.distance:\n",
    "\t\t\tscore += 1\n",
    "\treturn score\n",
    "\n",
    "def query_sift_kp_database(img_kp, database):\n",
    "\tFLANN_INDEX_KDTREE = 0\n",
    "\tindex_params = dict(algorithm = FLANN_INDEX_KDTREE, trees = 5)\n",
    "\tsearch_params = dict(checks=50)   # or pass empty dictionary\n",
    "\n",
    "\tmatcher = cv2.FlannBasedMatcher(index_params,search_params)\n",
    "\t\n",
    "\tquery_results = [sift_score(img_kp, db_kp, matcher) for db_kp in tqdm_notebook(database)]\n",
    "\tquery_results = [(i,j) for i,j in enumerate(query_results)]\n",
    "\tsorted_results = query_results#.sort(reverse=True, key=lambda x:x[1])\n",
    "\tbest = 1\n",
    "\tfor i in sorted_results:\n",
    "\t\tif i[1] > best:\n",
    "\t\t\tbest = i[1]\n",
    "\tnormalized_results = [(x[0],round(100 * x[1]/best,1)) for x in sorted_results]\n",
    "\treturn normalized_results\n",
    "\n",
    "def run_sift_image(img, database):\n",
    "\tsift = cv2.xfeatures2d.SIFT_create()\n",
    "\t#img = gray(img) # queryImage\n",
    "\timg = cv2.resize(img,None, fx=4,fy=4)\n",
    "\t# find the keypoints and descriptors with SIFT\n",
    "\tkp1, des1 = sift.detectAndCompute(img,None)\n",
    "\n",
    "\tif len(kp1) < 2:\n",
    "\t\tdes1 = None\n",
    "\t\n",
    "\treturn query_sift_kp_database(des1, database)\t\n",
    "\t\n",
    "def orb_score(img_kp1, img_kp2, matcher):\n",
    "\tif img_kp1 is None:\n",
    "\t\treturn 0\n",
    "\tif img_kp2 is None:\n",
    "\t\treturn 0\n",
    "\tmatches = matcher.match(img_kp1,img_kp2)\n",
    "\tscore=len(matches)\n",
    "\treturn score\n",
    "\n",
    "def query_orb_kp_database(img_kp, database):\n",
    "\tmatcher = cv2.BFMatcher(cv2.NORM_HAMMING, crossCheck=True)\n",
    "    \n",
    "\tquery_results = [orb_score(img_kp, db_kp, matcher) for db_kp in tqdm_notebook(database)]\n",
    "\tquery_results = [(i,j) for i,j in enumerate(query_results)]\n",
    "\tsorted_results = query_results#.sort(reverse=True, key=lambda x:x[1])\n",
    "\tbest = 1\n",
    "\tfor i in sorted_results:\n",
    "\t\tif i[1] > best:\n",
    "\t\t\tbest = i[1]\n",
    "\tnormalized_results = [(x[0],round(100 * x[1]/best)) for x in sorted_results]\n",
    "\treturn normalized_results\n",
    "\n",
    "def run_orb_image(img, database):\n",
    "\torb = cv2.ORB_create()\n",
    "\t#img = gray(img)    # queryImage\n",
    "\timg = cv2.resize(img,None, fx=13, fy=13, interpolation=cv2.INTER_AREA)\n",
    "\t# find the keypoints and descriptors with orb\n",
    "\tkp1, des1 = orb.detectAndCompute(img,None)\n",
    "\n",
    "\tif len(kp1) < 2:\n",
    "\t\tdes1 = None\n",
    "    \n",
    "\treturn query_orb_kp_database(des1, database)    \n",
    "    \n",
    "def log_results ( index, mutation, combined_method, method1, method2, method3=[], method4=[] ):\n",
    "\n",
    "\tlogger = logging.getLogger()\n",
    "\tfhandler = logging.FileHandler(filename='./Logs/query_' + str(image_index) + '.log', mode='a')\n",
    "\tif (logger.hasHandlers()):\n",
    "\t\tlogger.handlers.clear()\n",
    "\tlogger.addHandler(fhandler)\n",
    "\tlogger.setLevel(logging.DEBUG)\n",
    "\n",
    "\tcontour_sort = sorted(method1, key=lambda t: t[1], reverse=True)\n",
    "\tzernike_sort = sorted(method2, key = lambda tup: tup[1], reverse = True)\n",
    "\tif len(method3) > 0:\n",
    "\t\tsift_sort = sorted(method3, key = lambda tup: tup[1], reverse = True)\n",
    "\t\tlogging.info('SIFT Method: %s', sift_sort[0:1000])\n",
    "\tif len(method4) > 0:\n",
    "\t\torb_sort = sorted(method4, key = lambda tup: tup[1], reverse = True)\n",
    "\t\tlogging.info('ORB Method: %s', orb_sort[0:1000])        \n",
    "\t\t\n",
    "\tlogging.info('Contour Method: %s', contour_sort[0:1000])\n",
    "\tlogging.info(' ')\n",
    "\tlogging.info('Zernike Method: %s', zernike_sort[0:1000])\n",
    "\tlogging.info(' ')\n",
    "\tlogging.info('Comb Method: %s', combined_method[0:10000])\n",
    "\tlogging.info('Mutations: %s', mutation)\n",
    "    \n",
    "\tlogging.shutdown()\n",
    "    \n",
    "print('Done')    "
   ]
  },
  {
   "cell_type": "code",
   "execution_count": 8,
   "metadata": {},
   "outputs": [
    {
     "name": "stdout",
     "output_type": "stream",
     "text": [
      "Loading Orb Database\n",
      "Loading Contour Dictionary\n",
      "Loading Zernike Vectors\n",
      "Loading Sift Database\n",
      "Loading Completed\n"
     ]
    }
   ],
   "source": [
    "# simple way to load the complete dataset (for a more sophisticated generator example, see LLD-logo script)\n",
    "# open hdf5 file\n",
    "hdf5_file = h5py.File('LLD-icon.hdf5', 'r')\n",
    "# load data into memory as numpy array\n",
    "#images, labels = (hdf5_file['data'][:], hdf5_file['labels/resnet/rc_64'][:])\n",
    "\n",
    "# alternatively, h5py objects can be used like numpy arrays without loading the whole dataset into memory:\n",
    "images, labels = (hdf5_file['data'], hdf5_file['labels/resnet/rc_64'])\n",
    "# here, images[0] will be again returned as a numpy array and can eg. be viewed with matplotlib using\n",
    "\n",
    "# load the dictionaries with full database results \n",
    "# fraction1: (dist1, logo ID), (dist2, logoID), ...\n",
    "print(\"Loading Orb Database\")\n",
    "hash_orb = load_obj(\"orb_database_small\")\n",
    "print(\"Loading Contour Dictionary\")\n",
    "hash_obj = load_obj('Contour_Database_Small')\n",
    "print(\"Loading Zernike Vectors\")\n",
    "hash_zernike = load_obj('Zernike_Database_Small')\n",
    "print(\"Loading Sift Database\")\n",
    "hash_sift = load_obj(\"sift_database_small\")\n",
    "\n",
    "print(\"Loading Completed\")"
   ]
  },
  {
   "cell_type": "code",
   "execution_count": 11,
   "metadata": {
    "scrolled": true
   },
   "outputs": [
    {
     "name": "stdout",
     "output_type": "stream",
     "text": [
      "<function ab_random.<locals>.ab_translate at 0x000001D9F5C88488>\n"
     ]
    },
    {
     "data": {
      "application/vnd.jupyter.widget-view+json": {
       "model_id": "c210c27eb29b48a5a52adc786be9c591",
       "version_major": 2,
       "version_minor": 0
      },
      "text/plain": [
       "HBox(children=(IntProgress(value=0, max=10000), HTML(value='')))"
      ]
     },
     "metadata": {},
     "output_type": "display_data"
    },
    {
     "name": "stdout",
     "output_type": "stream",
     "text": [
      "Orb score:  (114, 11)\n"
     ]
    },
    {
     "data": {
      "application/vnd.jupyter.widget-view+json": {
       "model_id": "05a5cc16fd124b30b456d9fcda0fdf8a",
       "version_major": 2,
       "version_minor": 0
      },
      "text/plain": [
       "HBox(children=(IntProgress(value=0, max=10000), HTML(value='')))"
      ]
     },
     "metadata": {},
     "output_type": "display_data"
    },
    {
     "name": "stdout",
     "output_type": "stream",
     "text": [
      "Sift score:  (114, 0.0)\n"
     ]
    },
    {
     "data": {
      "application/vnd.jupyter.widget-view+json": {
       "model_id": "811bd70c7db4493bb00ecb347f7ae673",
       "version_major": 2,
       "version_minor": 0
      },
      "text/plain": [
       "HBox(children=(IntProgress(value=0, max=10000), HTML(value='')))"
      ]
     },
     "metadata": {},
     "output_type": "display_data"
    },
    {
     "name": "stdout",
     "output_type": "stream",
     "text": [
      "Zernike score:  (114, -88.0)\n"
     ]
    },
    {
     "data": {
      "application/vnd.jupyter.widget-view+json": {
       "model_id": "e2b47477e2014c8b830dd6f9c2c0e592",
       "version_major": 2,
       "version_minor": 0
      },
      "text/plain": [
       "HBox(children=(IntProgress(value=0, max=9), HTML(value='')))"
      ]
     },
     "metadata": {},
     "output_type": "display_data"
    },
    {
     "name": "stdout",
     "output_type": "stream",
     "text": [
      "Contour score:  (114, 12.6)\n",
      "Final ranking:  9676 (114, 12.6, -88.0, 0.0, 11, -16.1)\n",
      "<function ab_random.<locals>.ab_rotate at 0x000001DA0DCCE158>\n"
     ]
    },
    {
     "data": {
      "application/vnd.jupyter.widget-view+json": {
       "model_id": "5c18256a0bf449e5a1fcf65500310fd9",
       "version_major": 2,
       "version_minor": 0
      },
      "text/plain": [
       "HBox(children=(IntProgress(value=0, max=10000), HTML(value='')))"
      ]
     },
     "metadata": {},
     "output_type": "display_data"
    },
    {
     "name": "stdout",
     "output_type": "stream",
     "text": [
      "Orb score:  (114, 3)\n"
     ]
    },
    {
     "data": {
      "application/vnd.jupyter.widget-view+json": {
       "model_id": "75aaf3ef3ac64ff8888168c387cf1777",
       "version_major": 2,
       "version_minor": 0
      },
      "text/plain": [
       "HBox(children=(IntProgress(value=0, max=10000), HTML(value='')))"
      ]
     },
     "metadata": {},
     "output_type": "display_data"
    },
    {
     "name": "stdout",
     "output_type": "stream",
     "text": [
      "Sift score:  (114, 50.0)\n"
     ]
    },
    {
     "data": {
      "application/vnd.jupyter.widget-view+json": {
       "model_id": "9d77e223987946619753cda501d464d5",
       "version_major": 2,
       "version_minor": 0
      },
      "text/plain": [
       "HBox(children=(IntProgress(value=0, max=10000), HTML(value='')))"
      ]
     },
     "metadata": {},
     "output_type": "display_data"
    },
    {
     "name": "stdout",
     "output_type": "stream",
     "text": [
      "Zernike score:  (114, -18.1)\n"
     ]
    },
    {
     "data": {
      "application/vnd.jupyter.widget-view+json": {
       "model_id": "a237b6c615c941b99332db1421070326",
       "version_major": 2,
       "version_minor": 0
      },
      "text/plain": [
       "HBox(children=(IntProgress(value=0, max=9), HTML(value='')))"
      ]
     },
     "metadata": {},
     "output_type": "display_data"
    },
    {
     "name": "stdout",
     "output_type": "stream",
     "text": [
      "Contour score:  (114, 36.8)\n",
      "Final ranking:  1252 (114, 36.8, -18.1, 50.0, 3, 17.9)\n",
      "<function ab_random.<locals>.ab_affine at 0x000001DA0C4217B8>\n"
     ]
    },
    {
     "data": {
      "application/vnd.jupyter.widget-view+json": {
       "model_id": "b3709602a93d40f59f60edba733d2499",
       "version_major": 2,
       "version_minor": 0
      },
      "text/plain": [
       "HBox(children=(IntProgress(value=0, max=10000), HTML(value='')))"
      ]
     },
     "metadata": {},
     "output_type": "display_data"
    },
    {
     "name": "stdout",
     "output_type": "stream",
     "text": [
      "Orb score:  (114, 4)\n"
     ]
    },
    {
     "data": {
      "application/vnd.jupyter.widget-view+json": {
       "model_id": "915b934d3bfc421983560c55dbb4ce9d",
       "version_major": 2,
       "version_minor": 0
      },
      "text/plain": [
       "HBox(children=(IntProgress(value=0, max=10000), HTML(value='')))"
      ]
     },
     "metadata": {},
     "output_type": "display_data"
    },
    {
     "name": "stdout",
     "output_type": "stream",
     "text": [
      "Sift score:  (114, 50.0)\n"
     ]
    },
    {
     "data": {
      "application/vnd.jupyter.widget-view+json": {
       "model_id": "830d90e271a74cbdaef6fe2576aba0f8",
       "version_major": 2,
       "version_minor": 0
      },
      "text/plain": [
       "HBox(children=(IntProgress(value=0, max=10000), HTML(value='')))"
      ]
     },
     "metadata": {},
     "output_type": "display_data"
    },
    {
     "name": "stdout",
     "output_type": "stream",
     "text": [
      "Zernike score:  (114, -144.9)\n"
     ]
    },
    {
     "data": {
      "application/vnd.jupyter.widget-view+json": {
       "model_id": "5b92f462700e49d9935c140622ad9819",
       "version_major": 2,
       "version_minor": 0
      },
      "text/plain": [
       "HBox(children=(IntProgress(value=0, max=9), HTML(value='')))"
      ]
     },
     "metadata": {},
     "output_type": "display_data"
    },
    {
     "name": "stdout",
     "output_type": "stream",
     "text": [
      "Contour score:  (114, 8.0)\n",
      "Final ranking:  9009 (114, 8.0, -144.9, 50.0, 4, -20.7)\n",
      "<function ab_random.<locals>.ab_scale at 0x000001DA0C421598>\n"
     ]
    },
    {
     "data": {
      "application/vnd.jupyter.widget-view+json": {
       "model_id": "9dfb2b2cb21a43d9ba27ce065ffd5a69",
       "version_major": 2,
       "version_minor": 0
      },
      "text/plain": [
       "HBox(children=(IntProgress(value=0, max=10000), HTML(value='')))"
      ]
     },
     "metadata": {},
     "output_type": "display_data"
    },
    {
     "name": "stdout",
     "output_type": "stream",
     "text": [
      "Orb score:  (114, 0)\n"
     ]
    },
    {
     "data": {
      "application/vnd.jupyter.widget-view+json": {
       "model_id": "f06319f51e39463bb4f4d2ac0d434eb1",
       "version_major": 2,
       "version_minor": 0
      },
      "text/plain": [
       "HBox(children=(IntProgress(value=0, max=10000), HTML(value='')))"
      ]
     },
     "metadata": {},
     "output_type": "display_data"
    },
    {
     "name": "stdout",
     "output_type": "stream",
     "text": [
      "Sift score:  (114, 0.0)\n"
     ]
    },
    {
     "data": {
      "application/vnd.jupyter.widget-view+json": {
       "model_id": "c1790195268e4a02b28deb26fdb6fd1f",
       "version_major": 2,
       "version_minor": 0
      },
      "text/plain": [
       "HBox(children=(IntProgress(value=0, max=10000), HTML(value='')))"
      ]
     },
     "metadata": {},
     "output_type": "display_data"
    },
    {
     "name": "stdout",
     "output_type": "stream",
     "text": [
      "Zernike score:  (114, -204.8)\n"
     ]
    },
    {
     "data": {
      "application/vnd.jupyter.widget-view+json": {
       "model_id": "bf3224f658d644b6b9b776da32a822b6",
       "version_major": 2,
       "version_minor": 0
      },
      "text/plain": [
       "HBox(children=(IntProgress(value=0, max=9), HTML(value='')))"
      ]
     },
     "metadata": {},
     "output_type": "display_data"
    },
    {
     "name": "stdout",
     "output_type": "stream",
     "text": [
      "Contour score:  (114, 14.9)\n",
      "Final ranking:  9052 (114, 14.9, -204.8, 0.0, 0, -47.5)\n",
      "<function ab_random.<locals>.ab_flip at 0x000001DA0C421268>\n"
     ]
    },
    {
     "data": {
      "application/vnd.jupyter.widget-view+json": {
       "model_id": "4791fd2bcb714abea881c04029167686",
       "version_major": 2,
       "version_minor": 0
      },
      "text/plain": [
       "HBox(children=(IntProgress(value=0, max=10000), HTML(value='')))"
      ]
     },
     "metadata": {},
     "output_type": "display_data"
    },
    {
     "name": "stdout",
     "output_type": "stream",
     "text": [
      "Orb score:  (114, 100)\n"
     ]
    },
    {
     "data": {
      "application/vnd.jupyter.widget-view+json": {
       "model_id": "5367836c1850460fad03a210cfa72fba",
       "version_major": 2,
       "version_minor": 0
      },
      "text/plain": [
       "HBox(children=(IntProgress(value=0, max=10000), HTML(value='')))"
      ]
     },
     "metadata": {},
     "output_type": "display_data"
    },
    {
     "name": "stdout",
     "output_type": "stream",
     "text": [
      "Sift score:  (114, 100.0)\n"
     ]
    },
    {
     "data": {
      "application/vnd.jupyter.widget-view+json": {
       "model_id": "c581a52e49284ec69c348e261788cb46",
       "version_major": 2,
       "version_minor": 0
      },
      "text/plain": [
       "HBox(children=(IntProgress(value=0, max=10000), HTML(value='')))"
      ]
     },
     "metadata": {},
     "output_type": "display_data"
    },
    {
     "name": "stdout",
     "output_type": "stream",
     "text": [
      "Zernike score:  (114, 99.9)\n"
     ]
    },
    {
     "data": {
      "application/vnd.jupyter.widget-view+json": {
       "model_id": "5704de2261e344afafa7d906d8fabb3c",
       "version_major": 2,
       "version_minor": 0
      },
      "text/plain": [
       "HBox(children=(IntProgress(value=0, max=9), HTML(value='')))"
      ]
     },
     "metadata": {},
     "output_type": "display_data"
    },
    {
     "name": "stdout",
     "output_type": "stream",
     "text": [
      "Contour score:  (114, 93.1)\n",
      "Final ranking:  1 (114, 93.1, 99.9, 100.0, 100, 98.2)\n",
      "<function ab_random.<locals>.ab_two_line_circle at 0x000001DA0C421048>\n"
     ]
    },
    {
     "data": {
      "application/vnd.jupyter.widget-view+json": {
       "model_id": "8b74ae85226d49e185db27162ba57df1",
       "version_major": 2,
       "version_minor": 0
      },
      "text/plain": [
       "HBox(children=(IntProgress(value=0, max=10000), HTML(value='')))"
      ]
     },
     "metadata": {},
     "output_type": "display_data"
    },
    {
     "name": "stdout",
     "output_type": "stream",
     "text": [
      "Orb score:  (114, 5)\n"
     ]
    },
    {
     "data": {
      "application/vnd.jupyter.widget-view+json": {
       "model_id": "5ac9f5dfd71f48f9938b9794a2ac233f",
       "version_major": 2,
       "version_minor": 0
      },
      "text/plain": [
       "HBox(children=(IntProgress(value=0, max=10000), HTML(value='')))"
      ]
     },
     "metadata": {},
     "output_type": "display_data"
    },
    {
     "name": "stdout",
     "output_type": "stream",
     "text": [
      "Sift score:  (114, 33.3)\n"
     ]
    },
    {
     "data": {
      "application/vnd.jupyter.widget-view+json": {
       "model_id": "b9a02bba8ddc46588a2b921268ca857d",
       "version_major": 2,
       "version_minor": 0
      },
      "text/plain": [
       "HBox(children=(IntProgress(value=0, max=10000), HTML(value='')))"
      ]
     },
     "metadata": {},
     "output_type": "display_data"
    },
    {
     "name": "stdout",
     "output_type": "stream",
     "text": [
      "Zernike score:  (114, -27.7)\n"
     ]
    },
    {
     "data": {
      "application/vnd.jupyter.widget-view+json": {
       "model_id": "c5ac30a7f47941268a35f8e51b074717",
       "version_major": 2,
       "version_minor": 0
      },
      "text/plain": [
       "HBox(children=(IntProgress(value=0, max=9), HTML(value='')))"
      ]
     },
     "metadata": {},
     "output_type": "display_data"
    },
    {
     "name": "stdout",
     "output_type": "stream",
     "text": [
      "Contour score:  (114, 27.6)\n",
      "Final ranking:  5881 (114, 27.6, -27.7, 33.3, 5, 9.6)\n",
      "<function ab_random.<locals>.ab_trans_rot at 0x000001DA0C4210D0>\n"
     ]
    },
    {
     "data": {
      "application/vnd.jupyter.widget-view+json": {
       "model_id": "28ac9b19de874a2f8d51b8408e96cacb",
       "version_major": 2,
       "version_minor": 0
      },
      "text/plain": [
       "HBox(children=(IntProgress(value=0, max=10000), HTML(value='')))"
      ]
     },
     "metadata": {},
     "output_type": "display_data"
    },
    {
     "name": "stdout",
     "output_type": "stream",
     "text": [
      "Orb score:  (114, 3)\n"
     ]
    },
    {
     "data": {
      "application/vnd.jupyter.widget-view+json": {
       "model_id": "2219325d8e92421495e43fe1e1572f18",
       "version_major": 2,
       "version_minor": 0
      },
      "text/plain": [
       "HBox(children=(IntProgress(value=0, max=10000), HTML(value='')))"
      ]
     },
     "metadata": {},
     "output_type": "display_data"
    },
    {
     "name": "stdout",
     "output_type": "stream",
     "text": [
      "Sift score:  (114, 0.0)\n"
     ]
    },
    {
     "data": {
      "application/vnd.jupyter.widget-view+json": {
       "model_id": "3475db6be2f74f3d92be2bfe72347bb1",
       "version_major": 2,
       "version_minor": 0
      },
      "text/plain": [
       "HBox(children=(IntProgress(value=0, max=10000), HTML(value='')))"
      ]
     },
     "metadata": {},
     "output_type": "display_data"
    },
    {
     "name": "stdout",
     "output_type": "stream",
     "text": [
      "Zernike score:  (114, -136.1)\n"
     ]
    },
    {
     "data": {
      "application/vnd.jupyter.widget-view+json": {
       "model_id": "84dd834fa9364f1baa88b1145488b31d",
       "version_major": 2,
       "version_minor": 0
      },
      "text/plain": [
       "HBox(children=(IntProgress(value=0, max=9), HTML(value='')))"
      ]
     },
     "metadata": {},
     "output_type": "display_data"
    },
    {
     "name": "stdout",
     "output_type": "stream",
     "text": [
      "Contour score:  (114, 21.8)\n",
      "Final ranking:  9564 (114, 21.8, -136.1, 0.0, 3, -27.8)\n",
      "<function ab_random.<locals>.ab_affine_rot at 0x000001DA0C421488>\n"
     ]
    },
    {
     "data": {
      "application/vnd.jupyter.widget-view+json": {
       "model_id": "082af4e7a1a8464cbb2da98b3eee9c59",
       "version_major": 2,
       "version_minor": 0
      },
      "text/plain": [
       "HBox(children=(IntProgress(value=0, max=10000), HTML(value='')))"
      ]
     },
     "metadata": {},
     "output_type": "display_data"
    },
    {
     "name": "stdout",
     "output_type": "stream",
     "text": [
      "Orb score:  (114, 4)\n"
     ]
    },
    {
     "data": {
      "application/vnd.jupyter.widget-view+json": {
       "model_id": "967d6ec289b94ad1a1289a87d6723346",
       "version_major": 2,
       "version_minor": 0
      },
      "text/plain": [
       "HBox(children=(IntProgress(value=0, max=10000), HTML(value='')))"
      ]
     },
     "metadata": {},
     "output_type": "display_data"
    },
    {
     "name": "stdout",
     "output_type": "stream",
     "text": [
      "Sift score:  (114, 50.0)\n"
     ]
    },
    {
     "data": {
      "application/vnd.jupyter.widget-view+json": {
       "model_id": "5b4bca728b0a4101821ecf629f4baee8",
       "version_major": 2,
       "version_minor": 0
      },
      "text/plain": [
       "HBox(children=(IntProgress(value=0, max=10000), HTML(value='')))"
      ]
     },
     "metadata": {},
     "output_type": "display_data"
    },
    {
     "name": "stdout",
     "output_type": "stream",
     "text": [
      "Zernike score:  (114, -61.5)\n"
     ]
    },
    {
     "data": {
      "application/vnd.jupyter.widget-view+json": {
       "model_id": "b530485636a74b3fa4ca141fa3bf6327",
       "version_major": 2,
       "version_minor": 0
      },
      "text/plain": [
       "HBox(children=(IntProgress(value=0, max=9), HTML(value='')))"
      ]
     },
     "metadata": {},
     "output_type": "display_data"
    },
    {
     "name": "stdout",
     "output_type": "stream",
     "text": [
      "Contour score:  (114, 14.9)\n",
      "Final ranking:  8444 (114, 14.9, -61.5, 50.0, 4, 1.8)\n",
      "<function ab_random.<locals>.ab_scale_lc at 0x000001DA0C421400>\n"
     ]
    },
    {
     "data": {
      "application/vnd.jupyter.widget-view+json": {
       "model_id": "b6753d383a3a41678535f8bbeba7baf2",
       "version_major": 2,
       "version_minor": 0
      },
      "text/plain": [
       "HBox(children=(IntProgress(value=0, max=10000), HTML(value='')))"
      ]
     },
     "metadata": {},
     "output_type": "display_data"
    },
    {
     "name": "stdout",
     "output_type": "stream",
     "text": [
      "Orb score:  (114, 3)\n"
     ]
    },
    {
     "data": {
      "application/vnd.jupyter.widget-view+json": {
       "model_id": "ed8881e7bb1f48df8fb2fa56960e3b14",
       "version_major": 2,
       "version_minor": 0
      },
      "text/plain": [
       "HBox(children=(IntProgress(value=0, max=10000), HTML(value='')))"
      ]
     },
     "metadata": {},
     "output_type": "display_data"
    },
    {
     "name": "stdout",
     "output_type": "stream",
     "text": [
      "Sift score:  (114, 0.0)\n"
     ]
    },
    {
     "data": {
      "application/vnd.jupyter.widget-view+json": {
       "model_id": "2e6c58da464e420b9f7acb07c6fa555f",
       "version_major": 2,
       "version_minor": 0
      },
      "text/plain": [
       "HBox(children=(IntProgress(value=0, max=10000), HTML(value='')))"
      ]
     },
     "metadata": {},
     "output_type": "display_data"
    },
    {
     "name": "stdout",
     "output_type": "stream",
     "text": [
      "Zernike score:  (114, -101.1)\n"
     ]
    },
    {
     "data": {
      "application/vnd.jupyter.widget-view+json": {
       "model_id": "e24e038c28784ced9a1fac953f91b6dd",
       "version_major": 2,
       "version_minor": 0
      },
      "text/plain": [
       "HBox(children=(IntProgress(value=0, max=9), HTML(value='')))"
      ]
     },
     "metadata": {},
     "output_type": "display_data"
    },
    {
     "name": "stdout",
     "output_type": "stream",
     "text": [
      "Contour score:  (114, 5.7)\n",
      "Final ranking:  9538 (114, 5.7, -101.1, 0.0, 3, -23.1)\n"
     ]
    }
   ],
   "source": [
    "#####################\n",
    "# main loop \t#####\n",
    "#####################\n",
    "mutations =  [0,1,2,3,4,8,9, 10, 11]\n",
    "\n",
    "# load image  and apply random mutation \n",
    "for m in mutations:\n",
    "\timage_index = 114\n",
    "\tData = gray(images[image_index])\n",
    "\tData, mutation = ab_random( Data, n = m )\n",
    "\tprint (mutation)\n",
    "\n",
    "\t# define fractions along line segment to be used \n",
    "\tfractions = [.1,.2,.3,.4,.5,.6,.7,.8,.9]\n",
    "\n",
    "\t# create queries from the image \n",
    "\tcontour_query, zernike_query = create_query( Data, fractions)\n",
    "\n",
    "\t# obtain results from ORB  \n",
    "\torb_list = run_orb_image(Data, hash_orb)\n",
    "\tprint(\"Orb score: \",orb_list[image_index]) \n",
    "\n",
    "\t# obtain results from SIFT  \n",
    "\tsift_list = run_sift_image(Data, hash_sift)\n",
    "\tprint(\"Sift score: \",sift_list[image_index]) \n",
    "\n",
    "\t# obtain results from contour method and zernike method \n",
    "\tzernike_list = test_zernike( zernike_query )\t\n",
    "\tprint(\"Zernike score: \",zernike_list[image_index])\n",
    "\tcontour_list = test_contour( contour_query, 0.002, fractions )\n",
    "\tprint(\"Contour score: \",contour_list[image_index])\n",
    "\n",
    "\t# combine scores of each method and log the results, input the weights along with the results from each method  \n",
    "\tweights = [.25,.25,.25,.25]\n",
    "\tmatched_list_v2 = test_combined(weights, contour_list, zernike_list, sift_list, orb_list)\n",
    "\n",
    "\t# create a log file of the results \n",
    "\tlog_results ( image_index, mutation, matched_list_v2, contour_list, zernike_list, sift_list, orb_list )\n",
    "\n",
    "\t# find the rank of the original image, just for checking purposes \t\n",
    "\trank = 0\n",
    "\tfor hit in matched_list_v2:\n",
    "\t\trank += 1\n",
    "\t\tif hit[0] == image_index:\n",
    "\t\t\tprint(\"Final ranking: \",rank,hit)\n",
    "\t\t\tbreak "
   ]
  },
  {
   "cell_type": "code",
   "execution_count": 6,
   "metadata": {},
   "outputs": [
    {
     "data": {
      "image/png": "[encoded data removed]",
      "text/plain": [
       "<Figure size 2304x2304 with 12 Axes>"
      ]
     },
     "metadata": {
      "needs_background": "light"
     },
     "output_type": "display_data"
    }
   ],
   "source": [
    "## plot query image and top 11 hits, just for checking purposes  \n",
    "plot_results(Data, matched_list_v2)"
   ]
  },
  {
   "cell_type": "code",
   "execution_count": 12,
   "metadata": {},
   "outputs": [
    {
     "data": {
      "application/vnd.jupyter.widget-view+json": {
       "model_id": "9b2f44b476fc44639090f57c10931903",
       "version_major": 2,
       "version_minor": 0
      },
      "text/plain": [
       "HBox(children=(IntProgress(value=0, max=115), HTML(value='')))"
      ]
     },
     "metadata": {},
     "output_type": "display_data"
    }
   ],
   "source": [
    "## load scores from log files\n",
    "success = []\n",
    "contour_score = []\n",
    "zernike_score = []\n",
    "sift_score = []\n",
    "orb_score = []\n",
    "image = []\n",
    "indices = []\n",
    "mutation = []\n",
    "\n",
    "# loop through image indices of existing queries \n",
    "for fname in tqdm_notebook(os.listdir('.\\Logs')):\n",
    "\tx1 = fname.find('_')+1\n",
    "\tx2 = fname.find('.')\n",
    "\ti = int(fname[x1:x2])\n",
    "\tindices.append(i)\n",
    "\n",
    "\tj = 0\n",
    "\t#open log file of query\n",
    "\twith open('C:/Users/kchad/Documents/Logo Project/Logs/' + fname,\"r\") as myfile:\n",
    "\t\tfor line in myfile:\n",
    "\t\t\tj += 1\n",
    "\t\t\tif j % 8 == 0:\n",
    "\t\t\t\tfor k in range(0,result_len):\n",
    "\t\t\t\t\tmutation.append(line[40:])\n",
    "\t\t\tif j % 8 == 1:\n",
    "\t\t\t\tresult_len = 0           \n",
    "\t\t\t#  line has the results \n",
    "\t\t\tif j % 8 == 7:\n",
    "\t\t\t\tresult = eval(line[13:])\n",
    "\t\t\t\tresult_len = len(result)\n",
    "\t\t\t\tfirst_contour = result[0][1]\n",
    "\t\t\t\tfirst_zernike = result[0][2]\n",
    "\t\t\t\tfirst_sift = result[0][3]\n",
    "\t\t\t\tfirst_orb = result[0][4]\n",
    "\t\t\t\t\n",
    "\t\t\t\t# check if the given query result was the original image, 1 for correct, 0 for incorrect\n",
    "\t\t\t\tfor elem in result:\n",
    "\t\t\t\t\tif elem[0] == i:\n",
    "\t\t\t\t\t\tsuccess.append(1)\n",
    "\t\t\t\t\telse:\n",
    "\t\t\t\t\t\tsuccess.append(0)\n",
    "\t\t\t\t\t\t\n",
    "\t\t\t\t\t# normalize the contour/zernike scores\n",
    "\t\t\t\t\tif first_contour > 0:                    \n",
    "\t\t\t\t\t\tcontour_score.append( round(elem[1]/first_contour, 3) )\n",
    "\t\t\t\t\telse:\n",
    "\t\t\t\t\t\tcontour_score.append(0)    \n",
    "                        \n",
    "\t\t\t\t\tif first_zernike > 0:                         \n",
    "\t\t\t\t\t\tzernike_score.append( round(elem[2]/first_zernike, 3) )\n",
    "\t\t\t\t\telse:\n",
    "\t\t\t\t\t\tzernike_score.append(0)                        \n",
    "\t\t\t\t\tif first_sift > 0:\n",
    "\t\t\t\t\t\tsift_score.append( round(elem[3]/first_sift, 3) )\n",
    "\t\t\t\t\telse:\n",
    "\t\t\t\t\t\tsift_score.append(0)\n",
    "                        \n",
    "\t\t\t\t\tif first_orb > 0:\n",
    "\t\t\t\t\t\torb_score.append( round(elem[4]/first_orb, 3) )\n",
    "\t\t\t\t\telse:\n",
    "\t\t\t\t\t\torb_score.append(0)                        \n",
    "\n",
    "\t\t\t\t\timage.append(i)\n",
    "                    \n",
    "input_score = np.array(list(zip(contour_score,zernike_score,sift_score,orb_score,image,success,mutation)))\n",
    "input_score = pd.DataFrame(input_score,columns = ['contour_score','zernike_score','sift_score','orb_score','image','success','mutation'])\n",
    "                    "
   ]
  },
  {
   "cell_type": "code",
   "execution_count": 13,
   "metadata": {},
   "outputs": [
    {
     "name": "stdout",
     "output_type": "stream",
     "text": [
      "[0.17072422 0.44185922 0.17043928 0.21697728]\n",
      "(2.6, 1.0, 9, 10)\n",
      "(1.0, 1.0, 5, 5)\n"
     ]
    }
   ],
   "source": [
    "###### logsitic regression for weights of 4 methods\n",
    "numbers = [i for i in range(100,115)]\n",
    "random.shuffle(numbers)\n",
    "training = numbers[0:10]\n",
    "testing = numbers[10:15]\n",
    "\n",
    "### search for a particular mutation\n",
    "mutation_string = 'ab_flip'\n",
    "\n",
    "mutation_string = mutation_string + ' at'\n",
    "input_score_mutation = input_score[(input_score[\"mutation\"].str.find(mutation_string) > -1) & (input_score[\"image\"].astype(float).isin(training))]\n",
    "input_score_mutation = input_score_mutation.values\n",
    "\n",
    "### create test data set, not used for training\n",
    "input_score_test = input_score[(input_score[\"mutation\"].str.find(mutation_string) > -1) & (input_score[\"image\"].astype(float).isin(testing) )]\n",
    "input_score_test = pd.DataFrame(input_score_test,columns = ['contour_score','zernike_score','sift_score','orb_score','image','success','mutation'])\n",
    "\n",
    "### run logistic regression on training data\n",
    "clf = LogisticRegression(random_state = 0, solver = 'lbfgs', multi_class = 'multinomial').fit(input_score_mutation[:,(0,1,2,3)], input_score_mutation[:,5])\n",
    "logistic_weights = clf.coef_[0]/sum(clf.coef_[0])\n",
    "print(logistic_weights)\n",
    "\n",
    "### use weights to calculate weighted score and rank on training set\n",
    "input_score_mutation = pd.DataFrame(input_score_mutation,columns = ['contour_score','zernike_score','sift_score','orb_score','image','success','mutation'])\n",
    "\n",
    "input_score_mutation[\"contour_score\"] = input_score_mutation[\"contour_score\"].astype(float)\n",
    "input_score_mutation[\"zernike_score\"] = input_score_mutation[\"zernike_score\"].astype(float)\n",
    "input_score_mutation[\"sift_score\"] = input_score_mutation[\"sift_score\"].astype(float)\n",
    "input_score_mutation[\"orb_score\"] = input_score_mutation[\"orb_score\"].astype(float)\n",
    "\n",
    "input_score_mutation[\"avg_score\"] = .25*input_score_mutation[\"contour_score\"] + .25*input_score_mutation[\"zernike_score\"] + .25*input_score_mutation[\"sift_score\"] + .25*input_score_mutation[\"orb_score\"]\n",
    "input_score_mutation[\"weight_score\"] = logistic_weights[0]*input_score_mutation[\"contour_score\"] + logistic_weights[1]*input_score_mutation[\"zernike_score\"] + logistic_weights[2]*input_score_mutation[\"sift_score\"] + logistic_weights[3]*input_score_mutation[\"orb_score\"]\n",
    "input_score_mutation['Avg_Rank'] = input_score_mutation.groupby(['image','mutation'])['avg_score'].rank(ascending=False)\t\n",
    "input_score_mutation['Weight_Rank'] = input_score_mutation.groupby(['image','mutation'])['weight_score'].rank(ascending=False)\t\n",
    "\n",
    "### use weights to calculate weighted score and rank on test set\n",
    "input_score_test[\"contour_score\"] = input_score_test[\"contour_score\"].astype(float)\n",
    "input_score_test[\"zernike_score\"] = input_score_test[\"zernike_score\"].astype(float)\n",
    "input_score_test[\"sift_score\"] = input_score_test[\"sift_score\"].astype(float)\n",
    "input_score_test[\"orb_score\"] = input_score_test[\"orb_score\"].astype(float)\n",
    "\n",
    "input_score_test[\"avg_score\"] = .25*input_score_test[\"contour_score\"] + .25*input_score_test[\"zernike_score\"] + .25*input_score_test[\"sift_score\"] + .25*input_score_test[\"orb_score\"]\n",
    "input_score_test[\"weight_score\"] = logistic_weights[0]*input_score_test[\"contour_score\"] + logistic_weights[1]*input_score_test[\"zernike_score\"] + logistic_weights[2]*input_score_test[\"sift_score\"] + logistic_weights[3]*input_score_test[\"orb_score\"]\n",
    "input_score_test['Avg_Rank'] = input_score_test.groupby(['image','mutation'])['avg_score'].rank(ascending=False)\t\n",
    "input_score_test['Weight_Rank'] = input_score_test.groupby(['image','mutation'])['weight_score'].rank(ascending=False)\t\n",
    "\n",
    "### check the rank of the original image, see if image was within the top 10 search results\n",
    "successes = input_score_mutation[input_score_mutation[\"success\"].astype(float) == 1]\n",
    "\n",
    "avg_rank = sum(successes['Avg_Rank'])/successes.shape[0]\n",
    "weight_rank = sum(successes['Weight_Rank'])/successes.shape[0]\n",
    "top10_avg_rank = len( successes[(successes['Avg_Rank'] < 11)] )\n",
    "top10_weight_rank = len( successes[(successes['Weight_Rank'] < 11)] )\n",
    "\n",
    "print((avg_rank,weight_rank,top10_avg_rank,top10_weight_rank))\n",
    "\n",
    "successes_t = input_score_test[input_score_test[\"success\"].astype(float) == 1]\n",
    "\n",
    "avg_rank_t = sum(successes_t['Avg_Rank'])/successes_t.shape[0]\n",
    "weight_rank_t = sum(successes_t['Weight_Rank'])/successes_t.shape[0]\n",
    "top10_avg_rank_t = len( successes_t[(successes_t['Avg_Rank'] < 11)] )\n",
    "top10_weight_rank_t = len( successes_t[(successes_t['Weight_Rank'] < 11)] )\n",
    "\n",
    "print((avg_rank_t,weight_rank_t,top10_avg_rank_t,top10_weight_rank_t))\n",
    "\n",
    "#input_score.to_csv(path_or_buf='./score_result_2.csv', sep=',',index = False)"
   ]
  },
  {
   "cell_type": "code",
   "execution_count": 5,
   "metadata": {},
   "outputs": [
    {
     "name": "stdout",
     "output_type": "stream",
     "text": [
      "[0.13248331 0.02651655 0.84100015]\n",
      "(1974.1943359375, 2480.30078125, 111, 122)\n",
      "(2216.609144542773, 2391.7374631268435, 69, 83)\n"
     ]
    }
   ],
   "source": [
    "###### logsitic regression for weights of 3 methods, removing SIFT\n",
    "numbers = [i for i in range(0,100)]\n",
    "random.shuffle(numbers)\n",
    "training = numbers[0:60]\n",
    "testing = numbers[60:100]\n",
    "\n",
    "### search for a particular mutation\n",
    "mutation_string = 'ab_'\n",
    "\n",
    "#mutation_string = mutation_string + ' at'\n",
    "input_score_mutation = input_score[(input_score[\"mutation\"].str.find(mutation_string) > -1) & (input_score[\"image\"].astype(float).isin(training))]\n",
    "input_score_mutation = input_score_mutation.values\n",
    "\n",
    "### create test data set, not used for training\n",
    "input_score_test = input_score[(input_score[\"mutation\"].str.find(mutation_string) > -1) & (input_score[\"image\"].astype(float).isin(testing) )]\n",
    "input_score_test = pd.DataFrame(input_score_test,columns = ['contour_score','zernike_score','sift_score','orb_score','image','success','mutation'])\n",
    "\n",
    "### run logistic regression on training data\n",
    "clf = LogisticRegression(random_state = 0, solver = 'lbfgs', multi_class = 'multinomial').fit(input_score_mutation[:,(0,1,3)], input_score_mutation[:,5])\n",
    "logistic_weights = clf.coef_[0]/sum(clf.coef_[0])\n",
    "print(logistic_weights)\n",
    "\n",
    "### use weights to calculate weighted score and rank on training set\n",
    "input_score_mutation = pd.DataFrame(input_score_mutation,columns = ['contour_score','zernike_score','sift_score','orb_score','image','success','mutation'])\n",
    "\n",
    "input_score_mutation[\"contour_score\"] = input_score_mutation[\"contour_score\"].astype(float)\n",
    "input_score_mutation[\"zernike_score\"] = input_score_mutation[\"zernike_score\"].astype(float)\n",
    "input_score_mutation[\"sift_score\"] = input_score_mutation[\"sift_score\"].astype(float)\n",
    "input_score_mutation[\"orb_score\"] = input_score_mutation[\"orb_score\"].astype(float)\n",
    "\n",
    "input_score_mutation[\"avg_score\"] = .3333*input_score_mutation[\"contour_score\"] + .3333*input_score_mutation[\"zernike_score\"] + .0*input_score_mutation[\"sift_score\"] + .3333*input_score_mutation[\"orb_score\"]\n",
    "input_score_mutation[\"weight_score\"] = logistic_weights[0]*input_score_mutation[\"contour_score\"] + logistic_weights[1]*input_score_mutation[\"zernike_score\"] + 0*input_score_mutation[\"sift_score\"] + logistic_weights[2]*input_score_mutation[\"orb_score\"]\n",
    "input_score_mutation['Avg_Rank'] = input_score_mutation.groupby(['image','mutation'])['avg_score'].rank(ascending=False)\t\n",
    "input_score_mutation['Weight_Rank'] = input_score_mutation.groupby(['image','mutation'])['weight_score'].rank(ascending=False)\t\n",
    "\n",
    "### use weights to calculate weighted score and rank on test set\n",
    "input_score_test[\"contour_score\"] = input_score_test[\"contour_score\"].astype(float)\n",
    "input_score_test[\"zernike_score\"] = input_score_test[\"zernike_score\"].astype(float)\n",
    "input_score_test[\"sift_score\"] = input_score_test[\"sift_score\"].astype(float)\n",
    "input_score_test[\"orb_score\"] = input_score_test[\"orb_score\"].astype(float)\n",
    "\n",
    "input_score_test[\"avg_score\"] = .3333*input_score_test[\"contour_score\"] + .3333*input_score_test[\"zernike_score\"] + .0*input_score_test[\"sift_score\"] + .3333*input_score_test[\"orb_score\"]\n",
    "input_score_test[\"weight_score\"] = logistic_weights[0]*input_score_test[\"contour_score\"] + logistic_weights[1]*input_score_test[\"zernike_score\"] + 0*input_score_test[\"sift_score\"] + logistic_weights[2]*input_score_test[\"orb_score\"]\n",
    "input_score_test['Avg_Rank'] = input_score_test.groupby(['image','mutation'])['avg_score'].rank(ascending=False)\t\n",
    "input_score_test['Weight_Rank'] = input_score_test.groupby(['image','mutation'])['weight_score'].rank(ascending=False)\t\n",
    "\n",
    "### check the rank of the original image, see if image was within the top 10 search results\n",
    "successes = input_score_mutation[input_score_mutation[\"success\"].astype(float) == 1]\n",
    "\n",
    "avg_rank = sum(successes['Avg_Rank'])/successes.shape[0]\n",
    "weight_rank = sum(successes['Weight_Rank'])/successes.shape[0]\n",
    "top10_avg_rank = len( successes[(successes['Avg_Rank'] < 11)] )\n",
    "top10_weight_rank = len( successes[(successes['Weight_Rank'] < 11)] )\n",
    "\n",
    "print((avg_rank,weight_rank,top10_avg_rank,top10_weight_rank))\n",
    "\n",
    "successes_t = input_score_test[input_score_test[\"success\"].astype(float) == 1]\n",
    "\n",
    "avg_rank_t = sum(successes_t['Avg_Rank'])/successes_t.shape[0]\n",
    "weight_rank_t = sum(successes_t['Weight_Rank'])/successes_t.shape[0]\n",
    "top10_avg_rank_t = len( successes_t[(successes_t['Avg_Rank'] < 11)] )\n",
    "top10_weight_rank_t = len( successes_t[(successes_t['Weight_Rank'] < 11)] )\n",
    "\n",
    "print((avg_rank_t,weight_rank_t,top10_avg_rank_t,top10_weight_rank_t))\n",
    "\n",
    "#input_score.to_csv(path_or_buf='./score_result_2.csv', sep=',',index = False)"
   ]
  },
  {
   "cell_type": "code",
   "execution_count": 41,
   "metadata": {},
   "outputs": [
    {
     "data": {
      "image/png": "[encoded data removed]",
      "text/plain": [
       "<Figure size 432x288 with 1 Axes>"
      ]
     },
     "metadata": {
      "needs_background": "light"
     },
     "output_type": "display_data"
    }
   ],
   "source": [
    "### display an image\n",
    "image_index = 50\n",
    "Data = gray(images[image_index])\n",
    "Data, mutation = ab_random(Data, n = 9)\n",
    "\n",
    "imgplot = plt.imshow(Data, cmap=plt.cm.gray)\n",
    "plt.axis('off')\n",
    "plt.show()"
   ]
  },
  {
   "cell_type": "code",
   "execution_count": null,
   "metadata": {},
   "outputs": [],
   "source": []
  },
  {
   "cell_type": "code",
   "execution_count": null,
   "metadata": {},
   "outputs": [],
   "source": []
  }
 ],
 "metadata": {
  "kernelspec": {
   "display_name": "Python 3",
   "language": "python",
   "name": "python3"
  },
  "language_info": {
   "codemirror_mode": {
    "name": "ipython",
    "version": 3
   },
   "file_extension": ".py",
   "mimetype": "text/x-python",
   "name": "python",
   "nbconvert_exporter": "python",
   "pygments_lexer": "ipython3",
   "version": "3.7.0"
  }
 },
 "nbformat": 4,
 "nbformat_minor": 2
}
