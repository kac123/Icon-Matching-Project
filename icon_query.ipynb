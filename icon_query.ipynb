{
 "cells": [
  {
   "cell_type": "code",
   "execution_count": 1,
   "metadata": {},
   "outputs": [],
   "source": [
    "## first block of code is just importing the requirements of the project\n",
    "\n",
    "import sys \n",
    "import os\n",
    "import h5py\n",
    "import pickle\n",
    "from matplotlib import pyplot as plt\n",
    "\n",
    "from scipy import ndimage as ndi\n",
    "from scipy import stats as sstats\n",
    "\n",
    "import math\n",
    "import numpy as np\n",
    "import pandas as pd\n",
    "from sklearn.linear_model import LogisticRegression\n",
    "from random import shuffle\n",
    "from tqdm import tqdm, tnrange, tqdm_notebook\n",
    "import collections\n",
    "import random\n",
    "import mahotas \n",
    "from sklearn.preprocessing import normalize\n",
    "from PIL import Image\n",
    "import imutils\n",
    "import logging\n",
    "\n",
    "from glob import glob"
   ]
  },
  {
   "cell_type": "code",
   "execution_count": 2,
   "metadata": {},
   "outputs": [],
   "source": [
    "# this block of code is importing all the various parts of the project from their respective modules\n",
    "from icon_util import *\n",
    "from methods import *\n",
    "from aberrations import *"
   ]
  },
  {
   "cell_type": "code",
   "execution_count": 3,
   "metadata": {},
   "outputs": [
    {
     "name": "stdout",
     "output_type": "stream",
     "text": [
      "10\n"
     ]
    }
   ],
   "source": [
    "image_set_name = \"icon10\"\n",
    "\n",
    "# simple way to load the complete dataset (for a more sophisticated generator example, see LLD-logo script)\n",
    "# open hdf5 file\n",
    "hdf5_file = h5py.File('LLD-icon.hdf5', 'r')\n",
    "# load data into memory as numpy array\n",
    "#images, labels = (hdf5_file['data'][:], hdf5_file['labels/resnet/rc_64'][:])\n",
    "\n",
    "# alternatively, h5py objects can be used like numpy arrays without loading the whole dataset into memory:\n",
    "images, _ = (hdf5_file['data'], hdf5_file['labels/resnet/rc_64'])\n",
    "# here, images[0] will be again returned as a numpy array and can eg. be viewed with matplotlib using\n",
    "images = [np.transpose(i) if i.shape[0] == 3 else i for i in images[:10]]\n",
    "print(len(images))\n",
    "\n",
    "method_classes = [zernike_method, orb_method, neural_method, sift_method, contour_method]\n",
    "#method_classes = [orb_method]"
   ]
  },
  {
   "cell_type": "code",
   "execution_count": 4,
   "metadata": {},
   "outputs": [
    {
     "name": "stdout",
     "output_type": "stream",
     "text": [
      "Loading Completed\n",
      "Chunk: 1\n",
      "Done\n"
     ]
    }
   ],
   "source": [
    "# uncomment this if you want to generate the databases\n",
    "#generate_databases(images, method_classes, image_set_name)\n",
    "methods = load_databases(method_classes, image_set_name)\n",
    "print(\"Loading Completed\")\n",
    "#####################\n",
    "# main loop \t#####\n",
    "#####################\n",
    "#results, scores = run(methods, images)\n",
    "run_in_chunks(methods, images, aberrations[:1], chunk_size=100, weights=[0.10353353, 0.17799655, 0.05596501, 0.35731078, 0.30519413])\n",
    "print(\"Done\")"
   ]
  },
  {
   "cell_type": "code",
   "execution_count": 5,
   "metadata": {},
   "outputs": [
    {
     "name": "stdout",
     "output_type": "stream",
     "text": [
      "['Logs\\\\results_1.csv', 'Logs\\\\results_2.csv', 'Logs\\\\results_3.csv']\n",
      "   aberration             method  score  rank      time\n",
      "0       ab_id     zernike_method -566.7     1  0.029781\n",
      "1       ab_id         orb_method  100.0     1  0.420283\n",
      "2       ab_id      neural_method  100.0     1  0.147290\n",
      "3       ab_id        sift_method  100.0     1  0.064784\n",
      "4       ab_id     contour_method  100.0     1  0.122328\n",
      "..        ...                ...    ...   ...       ...\n",
      "65      ab_id      neural_method  100.0     1  0.126140\n",
      "66      ab_id        sift_method  100.0     1  0.036471\n",
      "67      ab_id     contour_method  100.0     1  0.088220\n",
      "68      ab_id    combined_method -566.7    10  0.000031\n",
      "69      ab_id  uwcombined_method -566.7    10  0.000020\n",
      "\n",
      "[210 rows x 5 columns]\n"
     ]
    }
   ],
   "source": [
    "# Load all the logs into a single dataframe for processing\n",
    "log_files = glob(\"Logs/*\") # these are the logs that we're loading\n",
    "print(log_files)\n",
    "joined_logs = pd.concat([pd.read_csv(i) for i in log_files])\n",
    "print(joined_logs)"
   ]
  },
  {
   "cell_type": "code",
   "execution_count": 6,
   "metadata": {},
   "outputs": [
    {
     "name": "stdout",
     "output_type": "stream",
     "text": [
      "Ranking\n"
     ]
    },
    {
     "data": {
      "text/plain": [
       "Text(0.5, 1.0, 'Combined')"
      ]
     },
     "execution_count": 6,
     "metadata": {},
     "output_type": "execute_result"
    },
    {
     "data": {
      "image/png": "[encoded data removed]",
      "text/plain": [
       "<Figure size 720x720 with 6 Axes>"
      ]
     },
     "metadata": {
      "needs_background": "light"
     },
     "output_type": "display_data"
    }
   ],
   "source": [
    "print(\"Ranking\")\n",
    "fig, axes = plt.subplots(nrows=3, ncols=2)\n",
    "joined_logs[joined_logs['method']=='zernike_method']['rank'].hist(bins=20, figsize=(10,10), ax=axes[0,0])\n",
    "axes[0,0].set_title('Zernike')\n",
    "joined_logs[joined_logs['method']=='sift_method']['rank'].hist(bins=20, figsize=(10,10), ax=axes[0,1])\n",
    "axes[0,1].set_title('Sift')\n",
    "joined_logs[joined_logs['method']=='orb_method']['rank'].hist(bins=20, figsize=(10,10), ax=axes[1,0])\n",
    "axes[1,0].set_title('Orb')\n",
    "joined_logs[joined_logs['method']=='neural_method']['rank'].hist(bins=20, figsize=(10,10), ax=axes[1,1])\n",
    "axes[1,1].set_title('Neural')\n",
    "joined_logs[joined_logs['method']=='contour_method']['rank'].hist(bins=20, figsize=(10,10), ax=axes[2,0])\n",
    "axes[2,0].set_title('Contour')\n",
    "joined_logs[joined_logs['method']=='combined_method']['rank'].hist(bins=20, figsize=(10,10), ax=axes[2,1])\n",
    "axes[2,1].set_title('Combined')"
   ]
  },
  {
   "cell_type": "code",
   "execution_count": 7,
   "metadata": {},
   "outputs": [
    {
     "name": "stdout",
     "output_type": "stream",
     "text": [
      "Timing\n"
     ]
    },
    {
     "data": {
      "text/plain": [
       "[(0, 0.2)]"
      ]
     },
     "execution_count": 7,
     "metadata": {},
     "output_type": "execute_result"
    },
    {
     "data": {
      "image/png": "[encoded data removed]",
      "text/plain": [
       "<Figure size 720x720 with 6 Axes>"
      ]
     },
     "metadata": {
      "needs_background": "light"
     },
     "output_type": "display_data"
    }
   ],
   "source": [
    "print(\"Timing\")\n",
    "fig, axes = plt.subplots(nrows=3, ncols=2)\n",
    "joined_logs[joined_logs['method']=='zernike_method']['time'].hist(bins=20, figsize=(10,10), ax=axes[0,0])\n",
    "axes[0,0].set_title('Zernike')\n",
    "axes[0,0].set(xlim=(0,0.2))\n",
    "joined_logs[joined_logs['method']=='sift_method']['time'].hist(bins=20, figsize=(10,10), ax=axes[0,1])\n",
    "axes[0,1].set_title('Sift')\n",
    "#axes[0,1].set(xlim=(0,0.2))\n",
    "joined_logs[joined_logs['method']=='orb_method']['time'].hist(bins=20, figsize=(10,10), ax=axes[1,0])\n",
    "axes[1,0].set_title('Orb')\n",
    "axes[1,0].set(xlim=(0,0.2))\n",
    "joined_logs[joined_logs['method']=='neural_method']['time'].hist(bins=20, figsize=(10,10), ax=axes[1,1])\n",
    "axes[1,1].set_title('Neural')\n",
    "axes[1,1].set(xlim=(0,0.2))\n",
    "joined_logs[joined_logs['method']=='contour_method']['time'].hist(bins=20, figsize=(10,10), ax=axes[2,0])\n",
    "axes[2,0].set_title('Contour')\n",
    "#axes[2,0].set(xlim=(0,0.2))\n",
    "joined_logs[joined_logs['method']=='combined_method']['time'].hist(bins=20, figsize=(10,10), ax=axes[2,1])\n",
    "axes[2,1].set_title('Combined')\n",
    "axes[2,1].set(xlim=(0,0.2))"
   ]
  },
  {
   "cell_type": "code",
   "execution_count": 8,
   "metadata": {},
   "outputs": [
    {
     "data": {
      "text/plain": [
       "Text(0.5, 1.0, 'Unweighted Combined')"
      ]
     },
     "execution_count": 8,
     "metadata": {},
     "output_type": "execute_result"
    },
    {
     "data": {
      "image/png": "[encoded data removed]",
      "text/plain": [
       "<Figure size 720x720 with 2 Axes>"
      ]
     },
     "metadata": {
      "needs_background": "light"
     },
     "output_type": "display_data"
    }
   ],
   "source": [
    "# joined_logs[joined_logs['method']=='neural_method']['rank'].plot.hist(bins=100)\n",
    "# joined_logs.plot.kde()\n",
    "# pd.plotting.andrews_curves(joined_logs['rank'], 'method')\n",
    "# print(list('ABCD'))\n",
    "\n",
    "#joined_logs.groupby('method').plot.hist()\n",
    "#joined_logs[['method', 'rank']].hist(by='method')\n",
    "#joined_logs[['method','rank','aberration']].groupby('method').plot.hist(bins=100, label='method')\n",
    "#joined_logs.groupby('method').plot(kind='hist', subplots=True, figsize=(6,6))\n",
    "#joined_logs[joined_logs['method']=='zernike_method'].hist(bins=20, figsize=(20,20))\n",
    "#joined_logs[(joined_logs['method']=='zernike_method') & (joined_logs['aberration']=='ab_id')]\n",
    "fig, axes = plt.subplots(nrows=1, ncols=2)\n",
    "joined_logs[joined_logs['method']=='combined_method']['rank'].hist(bins=20, figsize=(10,10), ax=axes[0])\n",
    "axes[0].set_title('Weighted Combined')\n",
    "joined_logs[joined_logs['method']=='uwcombined_method']['rank'].hist(bins=20, figsize=(10,10), ax=axes[1])\n",
    "axes[1].set_title('Unweighted Combined')"
   ]
  },
  {
   "cell_type": "code",
   "execution_count": 9,
   "metadata": {
    "scrolled": true
   },
   "outputs": [],
   "source": [
    "# ## plot query image and top 11 hits, just for checking purposes  \n",
    "# plot_results(Data, matched_list_v2)"
   ]
  },
  {
   "cell_type": "code",
   "execution_count": 26,
   "metadata": {},
   "outputs": [
    {
     "name": "stdout",
     "output_type": "stream",
     "text": [
      "['Training\\\\results_1.csv']\n",
      "    zernike_method  orb_method  neural_method  sift_method  contour_method  \\\n",
      "0           -566.7         100      99.999994          100           100.0   \n",
      "1           -566.7          18      78.829914            0            17.1   \n",
      "2           -566.7          40      78.518021            0            13.7   \n",
      "3           -566.7          40      84.642372            2            10.8   \n",
      "4           -566.7          27      77.657568            2            13.3   \n",
      "..             ...         ...            ...          ...             ...   \n",
      "95          -566.7          58      82.636783           13             6.7   \n",
      "96          -566.7          31      82.004482           10             7.1   \n",
      "97          -566.7          36      84.590650            0             7.4   \n",
      "98          -566.7          39      81.811634           13             7.1   \n",
      "99          -566.7         100     100.000000          100           100.0   \n",
      "\n",
      "    labels  idx  \n",
      "0        1    9  \n",
      "1        0    9  \n",
      "2        0    9  \n",
      "3        0    9  \n",
      "4        0    9  \n",
      "..     ...  ...  \n",
      "95       0    3  \n",
      "96       0    3  \n",
      "97       0    3  \n",
      "98       0    3  \n",
      "99       1    3  \n",
      "\n",
      "[100 rows x 7 columns]\n",
      "8 training images\n",
      "2 test images\n",
      "Logistic Weights\n",
      "[0.10353353 0.17799655 0.05596501 0.35731078 0.30519413]\n"
     ]
    }
   ],
   "source": [
    "# Logistic regression\n",
    "\n",
    "# Load all the Training data into a single dataframe for processing\n",
    "log_files = glob(\"Training/*\") # these are the logs that we're loading\n",
    "print(log_files)\n",
    "training_logs = pd.concat([pd.read_csv(i) for i in log_files])\n",
    "print(training_logs)\n",
    "\n",
    "numbers = [i for i in range(len(images))]\n",
    "random.shuffle(numbers)\n",
    "training = numbers[0:int(0.8*len(images))]\n",
    "test = numbers[len(training):]\n",
    "print(str(len(training))+\" training images\")\n",
    "print(str(len(test))+\" test images\")\n",
    "\n",
    "training_set = training_logs[training_logs[\"idx\"].astype(int).isin(training)]\n",
    "training_data = training_set[training_set.columns[:5]].to_numpy()\n",
    "training_labels = training_set[training_set.columns[5]].to_numpy()\n",
    "\n",
    "clf = LogisticRegression(random_state = 0, solver = 'lbfgs', multi_class = 'multinomial').fit(training_data, training_labels)\n",
    "logistic_weights = clf.coef_[0]/sum(clf.coef_[0])\n",
    "print('Logistic Weights')\n",
    "print(logistic_weights)"
   ]
  },
  {
   "cell_type": "code",
   "execution_count": 11,
   "metadata": {},
   "outputs": [
    {
     "name": "stdout",
     "output_type": "stream",
     "text": [
      "ab_line_circle\n"
     ]
    },
    {
     "ename": "NameError",
     "evalue": "name 'input_score' is not defined",
     "output_type": "error",
     "traceback": [
      "\u001b[1;31m---------------------------------------------------------------------------\u001b[0m",
      "\u001b[1;31mNameError\u001b[0m                                 Traceback (most recent call last)",
      "\u001b[1;32m<ipython-input-11-36421191276d>\u001b[0m in \u001b[0;36m<module>\u001b[1;34m\u001b[0m\n\u001b[0;32m     17\u001b[0m \u001b[1;33m\u001b[0m\u001b[0m\n\u001b[0;32m     18\u001b[0m \u001b[1;31m### create training set, filter for mutation name and thresholds\u001b[0m\u001b[1;33m\u001b[0m\u001b[1;33m\u001b[0m\u001b[1;33m\u001b[0m\u001b[0m\n\u001b[1;32m---> 19\u001b[1;33m \u001b[0minput_score_mutation\u001b[0m \u001b[1;33m=\u001b[0m \u001b[0minput_score\u001b[0m\u001b[1;33m[\u001b[0m\u001b[1;33m(\u001b[0m\u001b[0minput_score\u001b[0m\u001b[1;33m[\u001b[0m\u001b[1;34m\"mutation\"\u001b[0m\u001b[1;33m]\u001b[0m\u001b[1;33m.\u001b[0m\u001b[0mstr\u001b[0m\u001b[1;33m.\u001b[0m\u001b[0mfind\u001b[0m\u001b[1;33m(\u001b[0m\u001b[0mmutation_string\u001b[0m\u001b[1;33m)\u001b[0m \u001b[1;33m>\u001b[0m \u001b[1;33m-\u001b[0m\u001b[1;36m1\u001b[0m\u001b[1;33m)\u001b[0m \u001b[1;33m&\u001b[0m \u001b[1;33m(\u001b[0m\u001b[0minput_score\u001b[0m\u001b[1;33m[\u001b[0m\u001b[1;34m\"image\"\u001b[0m\u001b[1;33m]\u001b[0m\u001b[1;33m.\u001b[0m\u001b[0mastype\u001b[0m\u001b[1;33m(\u001b[0m\u001b[0mfloat\u001b[0m\u001b[1;33m)\u001b[0m\u001b[1;33m.\u001b[0m\u001b[0misin\u001b[0m\u001b[1;33m(\u001b[0m\u001b[0mtraining\u001b[0m\u001b[1;33m)\u001b[0m\u001b[1;33m)\u001b[0m \u001b[1;33m&\u001b[0m \u001b[1;33m(\u001b[0m\u001b[1;33m(\u001b[0m\u001b[0minput_score\u001b[0m\u001b[1;33m[\u001b[0m\u001b[1;34m\"contour_orig\"\u001b[0m\u001b[1;33m]\u001b[0m\u001b[1;33m.\u001b[0m\u001b[0mastype\u001b[0m\u001b[1;33m(\u001b[0m\u001b[0mfloat\u001b[0m\u001b[1;33m)\u001b[0m \u001b[1;33m>=\u001b[0m \u001b[0mcontour_thresh\u001b[0m\u001b[1;33m)\u001b[0m \u001b[1;33m&\u001b[0m \u001b[1;33m(\u001b[0m\u001b[0minput_score\u001b[0m\u001b[1;33m[\u001b[0m\u001b[1;34m\"sift_orig\"\u001b[0m\u001b[1;33m]\u001b[0m\u001b[1;33m.\u001b[0m\u001b[0mastype\u001b[0m\u001b[1;33m(\u001b[0m\u001b[0mfloat\u001b[0m\u001b[1;33m)\u001b[0m \u001b[1;33m>=\u001b[0m \u001b[0msift_thresh\u001b[0m\u001b[1;33m)\u001b[0m\u001b[1;33m)\u001b[0m\u001b[1;33m]\u001b[0m\u001b[1;33m\u001b[0m\u001b[1;33m\u001b[0m\u001b[0m\n\u001b[0m\u001b[0;32m     20\u001b[0m \u001b[0minput_score_mutation\u001b[0m \u001b[1;33m=\u001b[0m \u001b[0minput_score_mutation\u001b[0m\u001b[1;33m.\u001b[0m\u001b[0mvalues\u001b[0m\u001b[1;33m\u001b[0m\u001b[1;33m\u001b[0m\u001b[0m\n\u001b[0;32m     21\u001b[0m \u001b[1;33m\u001b[0m\u001b[0m\n",
      "\u001b[1;31mNameError\u001b[0m: name 'input_score' is not defined"
     ]
    }
   ],
   "source": [
    "###### logsitic regression for weights of 4 methods\n",
    "numbers = [i for i in range(100,200)]\n",
    "\n",
    "### randomly create training and test set\n",
    "random.shuffle(numbers)\n",
    "training = numbers[0:60]\n",
    "testing = numbers[60:100]\n",
    "\n",
    "### search for a particular mutation\n",
    "mutation_string = 'ab_line_circle'\n",
    "print(mutation_string)\n",
    "\n",
    "### set threshold for contour and sift, set accuracy cutoff (top 10 or top 20)\n",
    "contour_thresh = 0\n",
    "sift_thresh = 0\n",
    "rank_cutoff = 20\n",
    "\n",
    "### create training set, filter for mutation name and thresholds \n",
    "input_score_mutation = input_score[(input_score[\"mutation\"].str.find(mutation_string) > -1) & (input_score[\"image\"].astype(float).isin(training)) & ((input_score[\"contour_orig\"].astype(float) >= contour_thresh) & (input_score[\"sift_orig\"].astype(float) >= sift_thresh))]\n",
    "input_score_mutation = input_score_mutation.values\n",
    "\n",
    "### create test data set, not used for training\n",
    "input_score_test = input_score[(input_score[\"mutation\"].str.find(mutation_string) > -1) & (input_score[\"image\"].astype(float).isin(testing) ) & ((input_score[\"contour_orig\"].astype(float) >= contour_thresh) & (input_score[\"sift_orig\"].astype(float) >= sift_thresh))]\n",
    "input_score_test = pd.DataFrame(input_score_test,columns = ['contour_score','zernike_score','sift_score','orb_score','image','success','mutation','contour_orig','sift_orig'])\n",
    "\n",
    "### run logistic regression on training data\n",
    "clf = LogisticRegression(random_state = 0, solver = 'lbfgs', multi_class = 'multinomial').fit(input_score_mutation[:,(0,1,2,3)], input_score_mutation[:,5])\n",
    "logistic_weights = clf.coef_[0]/sum(clf.coef_[0])\n",
    "print('Logistic Weights')\n",
    "print(logistic_weights)\n",
    "\n",
    "### use weights to calculate weighted score and rank on training set\n",
    "input_score_mutation = pd.DataFrame(input_score_mutation,columns = ['contour_score','zernike_score','sift_score','orb_score','image','success','mutation','contour_orig','sift_orig'])\n",
    "\n",
    "input_score_mutation[\"contour_score\"] = input_score_mutation[\"contour_score\"].astype(float)\n",
    "input_score_mutation[\"zernike_score\"] = input_score_mutation[\"zernike_score\"].astype(float)\n",
    "input_score_mutation[\"sift_score\"] = input_score_mutation[\"sift_score\"].astype(float)\n",
    "input_score_mutation[\"orb_score\"] = input_score_mutation[\"orb_score\"].astype(float)\n",
    "\n",
    "input_score_mutation[\"avg_score\"] = .25*input_score_mutation[\"contour_score\"] + .25*input_score_mutation[\"zernike_score\"] + .25*input_score_mutation[\"sift_score\"] + .25*input_score_mutation[\"orb_score\"]\n",
    "input_score_mutation[\"weight_score\"] = logistic_weights[0]*input_score_mutation[\"contour_score\"] + logistic_weights[1]*input_score_mutation[\"zernike_score\"] + logistic_weights[2]*input_score_mutation[\"sift_score\"] + logistic_weights[3]*input_score_mutation[\"orb_score\"]\n",
    "input_score_mutation['Avg_Rank'] = input_score_mutation.groupby(['image','mutation'])['avg_score'].rank(ascending=False)\t\n",
    "input_score_mutation['Weight_Rank'] = input_score_mutation.groupby(['image','mutation'])['weight_score'].rank(ascending=False)\t\n",
    "\n",
    "### use weights to calculate weighted score and rank on test set\n",
    "input_score_test[\"contour_score\"] = input_score_test[\"contour_score\"].astype(float)\n",
    "input_score_test[\"zernike_score\"] = input_score_test[\"zernike_score\"].astype(float)\n",
    "input_score_test[\"sift_score\"] = input_score_test[\"sift_score\"].astype(float)\n",
    "input_score_test[\"orb_score\"] = input_score_test[\"orb_score\"].astype(float)\n",
    "\n",
    "input_score_test[\"avg_score\"] = .25*input_score_test[\"contour_score\"] + .25*input_score_test[\"zernike_score\"] + .25*input_score_test[\"sift_score\"] + .25*input_score_test[\"orb_score\"]\n",
    "input_score_test[\"weight_score\"] = logistic_weights[0]*input_score_test[\"contour_score\"] + logistic_weights[1]*input_score_test[\"zernike_score\"] + logistic_weights[2]*input_score_test[\"sift_score\"] + logistic_weights[3]*input_score_test[\"orb_score\"]\n",
    "input_score_test['Avg_Rank'] = input_score_test.groupby(['image','mutation'])['avg_score'].rank(ascending=False)\t\n",
    "input_score_test['Weight_Rank'] = input_score_test.groupby(['image','mutation'])['weight_score'].rank(ascending=False)\t\n",
    "\n",
    "### check the rank of the original image, see if image was within the top 10 or top 20 search results\n",
    "successes = input_score_mutation[input_score_mutation[\"success\"].astype(float) == 1]\n",
    "\n",
    "avg_rank = sum(successes['Avg_Rank'])/successes.shape[0]\n",
    "weight_rank = sum(successes['Weight_Rank'])/successes.shape[0]\n",
    "top10_avg_rank = len( successes[(successes['Avg_Rank'] <= rank_cutoff)] )\n",
    "top10_weight_rank = len( successes[(successes['Weight_Rank'] <= rank_cutoff)] )\n",
    "\n",
    "print('Training Accuracy')\n",
    "print((top10_avg_rank,top10_weight_rank))\n",
    "\n",
    "successes_t = input_score_test[input_score_test[\"success\"].astype(float) == 1]\n",
    "\n",
    "avg_rank_t = sum(successes_t['Avg_Rank'])/successes_t.shape[0]\n",
    "weight_rank_t = sum(successes_t['Weight_Rank'])/successes_t.shape[0]\n",
    "top10_avg_rank_t = len( successes_t[(successes_t['Avg_Rank'] <= rank_cutoff)] )\n",
    "top10_weight_rank_t = len( successes_t[(successes_t['Weight_Rank'] <= rank_cutoff)] )\n",
    "\n",
    "print('Testing Accuracy')\n",
    "print((top10_avg_rank_t,top10_weight_rank_t))\n",
    "\n",
    "#input_score.to_csv(path_or_buf='./score_result_2.csv', sep=',',index = False)"
   ]
  },
  {
   "cell_type": "code",
   "execution_count": null,
   "metadata": {},
   "outputs": [],
   "source": [
    "# ### display an image\n",
    "# image_index = 50\n",
    "# Data = gray(images[image_index])\n",
    "# Data, mutation = ab_random(Data, n = 9)\n",
    "\n",
    "# imgplot = plt.imshow(Data, cmap=plt.cm.gray)\n",
    "# plt.axis('off')\n",
    "# plt.show()"
   ]
  },
  {
   "cell_type": "code",
   "execution_count": null,
   "metadata": {},
   "outputs": [],
   "source": []
  }
 ],
 "metadata": {
  "kernelspec": {
   "display_name": "Python 3",
   "language": "python",
   "name": "python3"
  },
  "language_info": {
   "codemirror_mode": {
    "name": "ipython",
    "version": 3
   },
   "file_extension": ".py",
   "mimetype": "text/x-python",
   "name": "python",
   "nbconvert_exporter": "python",
   "pygments_lexer": "ipython3",
   "version": "3.7.3"
  }
 },
 "nbformat": 4,
 "nbformat_minor": 2
}
