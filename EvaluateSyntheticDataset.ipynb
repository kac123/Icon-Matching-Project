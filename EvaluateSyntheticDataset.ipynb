{
 "cells": [
  {
   "cell_type": "code",
   "execution_count": 1,
   "id": "119daaef",
   "metadata": {},
   "outputs": [],
   "source": [
    "#external stuff\n",
    "import h5py\n",
    "import matplotlib.pyplot as plt\n",
    "import torch\n",
    "import torch.nn as nn\n",
    "import torchvision.models as models\n",
    "import torch.nn.functional as F\n",
    "import torchvision.transforms as transforms\n",
    "from torch.autograd import Variable\n",
    "import cv2\n",
    "import numpy as np\n",
    "import math\n",
    "import mahotas\n",
    "from sklearn.preprocessing import normalize\n",
    "from sklearn.decomposition import PCA\n",
    "from sklearn.feature_extraction.image import grid_to_graph\n",
    "from sklearn.cluster import KMeans, AgglomerativeClustering, AffinityPropagation\n",
    "import traceback\n",
    "from uuid import uuid4 as unique_identifier\n",
    "import random\n",
    "import os\n",
    "from time import perf_counter\n",
    "from glob import glob\n",
    "import pandas as pd\n",
    "from scipy.optimize import linear_sum_assignment\n",
    "\n",
    "from timm.data import resolve_data_config\n",
    "from timm.data.transforms_factory import create_transform\n",
    "import timm"
   ]
  },
  {
   "cell_type": "code",
   "execution_count": 2,
   "id": "7483e815",
   "metadata": {},
   "outputs": [],
   "source": [
    "#internal stuff\n",
    "from contour_impl import do_contour_create, do_contour_compare\n",
    "from imageprocessing import maybetogray,maybetocolor, image_preprocess, canny, recenter\n",
    "from aberrations import aberrations"
   ]
  },
  {
   "cell_type": "code",
   "execution_count": 3,
   "id": "fa285c05",
   "metadata": {},
   "outputs": [
    {
     "data": {
      "text/plain": [
       "<matplotlib.image.AxesImage at 0x24ae32b8208>"
      ]
     },
     "execution_count": 3,
     "metadata": {},
     "output_type": "execute_result"
    },
    {
     "data": {
      "image/png": "[encoded data removed]",
      "text/plain": [
       "<Figure size 432x288 with 1 Axes>"
      ]
     },
     "metadata": {
      "needs_background": "light"
     },
     "output_type": "display_data"
    }
   ],
   "source": [
    "# load some test images\n",
    "img_files=[\"stairtest.png\",\"stairtest2.png\",\"cornertest.png\",\"cornertest2.png\",\"cornertest3.png\",\"cornertest4.png\",\"tdl.png\",\"tdl2.png\",\"tokyo.png\",\"tokyo2.png\"]\n",
    "test_images=[cv2.cvtColor(cv2.imread(iname), cv2.COLOR_BGR2RGB) for iname in img_files]\n",
    "plt.imshow(test_images[0])"
   ]
  },
  {
   "cell_type": "code",
   "execution_count": 4,
   "id": "75313880",
   "metadata": {},
   "outputs": [
    {
     "name": "stderr",
     "output_type": "stream",
     "text": [
      "C:\\Users\\Ty\\Anaconda3\\envs\\icon\\lib\\site-packages\\torchvision\\transforms\\transforms.py:258: UserWarning: Argument interpolation should be of type InterpolationMode instead of int. Please, use InterpolationMode enum.\n",
      "  \"Argument interpolation should be of type InterpolationMode instead of int. \"\n"
     ]
    }
   ],
   "source": [
    "def log(kwargs,message):\n",
    "    if 'log' in kwargs:\n",
    "        if 'info' in kwargs:\n",
    "            message['info']=kwargs['info']\n",
    "        if 'type' in message and message['type']=='Error':\n",
    "            message['traceback']=traceback.format_exc()\n",
    "        kwargs['log'] += [message]\n",
    "\n",
    "        \n",
    "# each method is a triple of (name, create, compare),\n",
    "# where\n",
    "# name: describes the name of the method,\n",
    "# create: creates a descriptor for a given image\n",
    "# compare: returns a number indicating the similarity of two images\n",
    "# each method naturally works on either color or black and white images,\n",
    "# however we have the adapters grayto3 and gray which turn grayscale images into\n",
    "# 3 channel images, and color images to grayscale respectively, so everything should work\n",
    "# with either type of image.\n",
    "\n",
    "# from the timm library we load multiple neural networks to use as image descriptors\n",
    "timm_names=['cspdarknet53',\n",
    "            'tf_efficientnetv2_l',\n",
    "            'resnet50',\n",
    "            'ecaresnetlight',\n",
    "            'mixnet_s',\n",
    "            'res2next50',\n",
    "            'vit_small_r26_s32_224',\n",
    "            'wide_resnet50_2']\n",
    "# given a model name, load the model and return the method triple\n",
    "def make_timm_method(modelname=timm_names[0], cuda=False):\n",
    "    model = timm.create_model(modelname,pretrained=True,num_classes=0)\n",
    "    if cuda:\n",
    "        model = model.cuda()\n",
    "    config = resolve_data_config({},model=model)\n",
    "    transform = create_transform(**config)\n",
    "    topil=transforms.ToPILImage()\n",
    "    def create(img,**kwargs):\n",
    "        try:\n",
    "            img=maybetocolor(img)\n",
    "            timg=topil(img)\n",
    "            timg=transform(timg).unsqueeze(0)\n",
    "            if cuda:\n",
    "                timg=timg.cuda()\n",
    "            res=model(timg).squeeze().detach()\n",
    "            if cuda:\n",
    "                res=res.cpu()\n",
    "            return res.numpy()\n",
    "        except:\n",
    "            log(kwargs,{'type':'Error', 'method':'Timm_'+modelname, 'fn':'create'})\n",
    "            return None\n",
    "    def compare(v1,v2,**kwargs):\n",
    "        try:\n",
    "            return np.dot(v1,v2)\n",
    "        except:\n",
    "            log(kwargs,{'type':'Error', 'method':'Timm_'+modelname, 'fn':'compare'})\n",
    "            \n",
    "    return {\"name\":'Timm_'+modelname, \"create\":create, \"compare\":compare}\n",
    "        \n",
    "# neural and small neural work on color images\n",
    "def make_neural_method():\n",
    "    # Load the pretrained model\n",
    "    model = models.resnet18(pretrained=True)\n",
    "    #strip the final layer to get a feature vector\n",
    "    model = nn.Sequential(*list(model.children())[:-1])  \n",
    "    # Set model to evaluation mode\n",
    "    model.eval()\n",
    "\n",
    "    def create(img,**kwargs):\n",
    "        try:\n",
    "            img=maybetocolor(img)\n",
    "            scaler = transforms.Resize((224, 224))\n",
    "            normalize = transforms.Normalize(mean=[0.485, 0.456, 0.406], \n",
    "                std=[0.229, 0.224, 0.225])\n",
    "            to_tensor = transforms.ToTensor()\n",
    "            pillize = transforms.ToPILImage()\n",
    "            loader = transforms.Compose([pillize, scaler, to_tensor, normalize])\n",
    "            l_img = loader(img)\n",
    "            t_img = Variable(l_img).unsqueeze(0)\n",
    "            f_vec = model(t_img).squeeze()\n",
    "            n_vec = f_vec.detach().numpy()\n",
    "            n_vec = n_vec / np.linalg.norm(n_vec)\n",
    "            return n_vec\n",
    "        except:\n",
    "            log(kwargs,{'type':'Error', 'method':'Neural', 'fn':'create'})\n",
    "            return None\n",
    "\n",
    "    def compare(v1, v2,**kwargs):\n",
    "        try:\n",
    "            return np.dot(v1, v2)\n",
    "        except:\n",
    "            log(kwargs,{'type':'Error', 'method':'Neural', 'fn':'compare'})\n",
    "            return None   \n",
    "        \n",
    "    return {\"name\":\"Neural\", \"create\":create, \"compare\":compare}\n",
    "\n",
    "def make_small_neural_method():\n",
    "    class IconEmbeddingNet(nn.Module):\n",
    "        def __init__(self):\n",
    "            super().__init__()\n",
    "            self.convnet = nn.Sequential(\n",
    "                nn.Conv2d(3, 32, 5),\n",
    "                nn.PReLU(),\n",
    "                nn.MaxPool2d(2, stride=2),\n",
    "                nn.Conv2d(32, 64, 5),\n",
    "                nn.PReLU(),\n",
    "                nn.MaxPool2d(2, stride=2))\n",
    "            self.fc = nn.Sequential(\n",
    "                nn.Linear(64 * 4 * 4, 256),\n",
    "                nn.PReLU(),\n",
    "                nn.Linear(256, 256),\n",
    "                nn.PReLU(),\n",
    "                nn.Linear(256, 8)\n",
    "                )\n",
    "        def forward(self, x):\n",
    "            output = self.convnet(x)\n",
    "            output = output.view(output.size()[0], -1)\n",
    "            output = self.fc(output)\n",
    "            return output\n",
    "\n",
    "        def get_embedding(self, x):\n",
    "            return self.forward(x)\n",
    "        \n",
    "    model = IconEmbeddingNet()\n",
    "    model.load_state_dict(torch.load(\"models/IconEmbeddingNet.pt\"))\n",
    "    model.eval()\n",
    "    \n",
    "    def create(img,**kwargs):\n",
    "        try:\n",
    "            img=maybetocolor(img)\n",
    "            scaler = transforms.Resize((28, 28))\n",
    "            normalize = transforms.Normalize(mean=[0.485, 0.456, 0.406], \n",
    "                std=[0.229, 0.224, 0.225])\n",
    "            to_tensor = transforms.ToTensor()\n",
    "            pillize = transforms.ToPILImage()\n",
    "            loader = transforms.Compose([pillize, scaler, to_tensor, normalize])\n",
    "            l_img = loader(img)\n",
    "            t_img = Variable(l_img).unsqueeze(0)\n",
    "            f_vec = model(t_img).squeeze()\n",
    "            n_vec = f_vec.detach().numpy()\n",
    "            return n_vec\n",
    "        except:\n",
    "            log(kwargs,{'type':'Error', 'method':'Small_Neural', 'fn':'create'})\n",
    "            return None\n",
    "\n",
    "    def compare(v1, v2,**kwargs):\n",
    "        try:\n",
    "            sim = 100.0/(np.linalg.norm(v1-v2)+1)\n",
    "            return sim\n",
    "        except:\n",
    "            log(kwargs,{'type':'Error', 'method':'Small_Neural', 'fn':'compare'})\n",
    "            return None\n",
    "    \n",
    "    return {\"name\":\"Small_Neural\", \"create\":create, \"compare\":compare}\n",
    "\n",
    "\n",
    "def make_orb_method():\n",
    "    orb = cv2.ORB_create()\n",
    "    matcher = cv2.BFMatcher(cv2.NORM_HAMMING, crossCheck=True)\n",
    "\n",
    "    def create(img, **kwargs):\n",
    "        try:\n",
    "            img = maybetogray(img)\n",
    "            # old image preprocessing\n",
    "            # this will be moved to the more general framework\n",
    "            img = cv2.resize(img,None, fx=13, fy=13, interpolation=cv2.INTER_AREA)\n",
    "\n",
    "            # find the keypoints and descriptors with orb\n",
    "            kp1, des1 = orb.detectAndCompute(img,None)\n",
    "            if len(kp1) < 2:\n",
    "                des1 = None\n",
    "            return des1\n",
    "        except:\n",
    "            log(kwargs,{'type':'Error', 'method':'Orb', 'fn':'create'})\n",
    "            return None\n",
    "\n",
    "    def compare(img_kp1, img_kp2, **kwargs):\n",
    "        try:\n",
    "            matches = matcher.match(img_kp1,img_kp2)\n",
    "            score = len(matches)\n",
    "            return score\n",
    "        except:\n",
    "            log(kwargs,{'type':'Error', 'method':'Orb', 'fn':'compare'})\n",
    "            return 0\n",
    "        \n",
    "    return {\"name\":\"Orb\", \"create\":create, \"compare\":compare}\n",
    "\n",
    "def make_zernike_method():\n",
    "    # image preprocessing\n",
    "    def zcenter(img):\n",
    "        _, _, min_x, min_y, max_x, max_y, edges1 = image_preprocess(img) \n",
    "        edges2 = edges1[min_y:max_y+1, min_x:max_x+1]\n",
    "        edges2 = cv2.resize(edges2, dsize=(32, 32), interpolation=cv2.INTER_CUBIC)\n",
    "        return edges2\n",
    "    def create(img, **kwargs):\n",
    "        try:\n",
    "            img = maybetogray(img)\n",
    "            #zcenter is the image preprocessing code that was here before,\n",
    "            #but zernike_moments is the real functional part of the method\n",
    "            # this will be moved to the more general framework\n",
    "            edges2=zcenter(img)\n",
    "            zernike = mahotas.features.zernike_moments(edges2, 16)  \n",
    "            return normalize(zernike[:,np.newaxis], axis=0).ravel()\n",
    "        except:\n",
    "            log(kwargs,{'type':'Error', 'method':'Zernike', 'fn':'create'})\n",
    "            return None\n",
    "\n",
    "    def compare(x,y, **kwargs):\n",
    "        try:\n",
    "            return np.dot(x,y)\n",
    "        except:\n",
    "            log(kwargs,{'type':'Error', 'method':'Zernike', 'fn':'compare'})\n",
    "            return 0\n",
    "    return {\"name\":\"Zernike\", \"create\":create, \"compare\":compare}\n",
    "\n",
    "def make_center_zernike_method():\n",
    "    def create(img, **kwargs):\n",
    "        try:\n",
    "            img = recenter(img)\n",
    "            img = maybetogray(img)\n",
    "           \n",
    "            zernike = mahotas.features.zernike_moments(img, 16)  \n",
    "            return normalize(zernike[:,np.newaxis], axis=0).ravel()\n",
    "        except:\n",
    "            log(kwargs,{'type':'Error', 'method':'CenterZernike', 'fn':'create'})\n",
    "            return None\n",
    "\n",
    "    def compare(x,y, **kwargs):\n",
    "        try:\n",
    "            return np.dot(x,y)\n",
    "        except:\n",
    "            log(kwargs,{'type':'Error', 'method':'CenterZernike', 'fn':'compare'})\n",
    "            return 0\n",
    "    return {\"name\":\"CenterZernike\", \"create\":create, \"compare\":compare}\n",
    "\n",
    "def make_color_zernike_method():\n",
    "    def create(img, **kwargs):\n",
    "        try:\n",
    "            img = recenter(img)\n",
    "            gimg = maybetogray(img)\n",
    "           \n",
    "            zernikes = np.array([mahotas.features.zernike_moments(gimg, 16)]+[mahotas.features.zernike_moments(img[:,:,i], 16) for i in range(img.shape[-1])])\n",
    "            zernikes = normalize(zernikes, axis=1)\n",
    "            return zernikes.ravel()/4\n",
    "        except:\n",
    "            log(kwargs,{'type':'Error', 'method':'ColorZernike', 'fn':'create'})\n",
    "            return None\n",
    "\n",
    "    def compare(x,y, **kwargs):\n",
    "        try:\n",
    "            return np.dot(x,y)\n",
    "        except:\n",
    "            log(kwargs,{'type':'Error', 'method':'ColorZernike', 'fn':'compare'})\n",
    "            return 0\n",
    "    return {\"name\":\"ColorZernike\", \"create\":create, \"compare\":compare}\n",
    "\n",
    "def make_contour_method(fractions=[.05,.1,.15,.2,.25,.3,.35,.4,.45,.5,.55,.6,.65,.7,.75,.8,.85,.9,.95]):\n",
    "    def create(img, **kwargs):\n",
    "        try:\n",
    "            return do_contour_create(img,fractions,**kwargs)\n",
    "        except:\n",
    "            log(kwargs,{'type':'Error', 'method':'Contour', 'fn':'create'})\n",
    "            return None\n",
    "        \n",
    "    def compare(query1, query2, error=0.1, **kwargs):\n",
    "        try:\n",
    "            return do_contour_compare(query1, query2, fractions,error,**kwargs)\n",
    "        except:\n",
    "            log(kwargs,{'type':'Error', 'method':'Contour', 'fn':'compare'})\n",
    "            return 0\n",
    "    \n",
    "    return {\"name\":\"Contour\", \"create\":create, \"compare\":compare}\n",
    "\n",
    "our_methods=[make_neural_method, make_small_neural_method, make_zernike_method, make_center_zernike_method, make_color_zernike_method, make_orb_method, make_contour_method]\n",
    "made_timms = [make_timm_method(i) for i in timm_names]\n",
    "def method_split_hungarian(method, splitter):\n",
    "    def create(img, **kwargs):\n",
    "        try:\n",
    "            imgs = splitter(img, **kwargs)\n",
    "            #print('creating ',len(imgs))\n",
    "            return [method[\"create\"](i, **kwargs) for i in imgs]\n",
    "        except:\n",
    "            log(kwargs,{'type':'Error', 'method':'SplitWrapped_'+method[\"name\"], 'fn':'create'})\n",
    "            return None\n",
    "\n",
    "    def compare(x,y, **kwargs):\n",
    "        try:\n",
    "            #print('xlen ',len(x))\n",
    "            #print('ylen ',len(y))\n",
    "            vals = np.array([[method[\"compare\"](i,j,**kwargs) for i in x] for j in y])\n",
    "            #print(vals)\n",
    "            rows, cols = linear_sum_assignment(-vals)\n",
    "            if len(rows)==0:\n",
    "                print('zero comp ',rows,cols)\n",
    "                #a=[]\n",
    "                #a.lower()\n",
    "                return 0\n",
    "            x=vals[rows,cols].sum()/len(rows)\n",
    "            #print('comparing ',x)\n",
    "            return x\n",
    "        except:\n",
    "            log(kwargs,{'type':'Error', 'method':'SplitWrapped_'+method[\"name\"], 'fn':'compare'})\n",
    "            return 0\n",
    "    return {\"name\":'SplitWrapped_'+method[\"name\"], \"create\":create, \"compare\":compare}\n",
    "def method_presplit_hungarian(method, splitter):\n",
    "    def create(imgs, **kwargs):\n",
    "        try:\n",
    "            return [method[\"create\"](i, **kwargs) for i in imgs]\n",
    "        except:\n",
    "            log(kwargs,{'type':'Error', 'method':'SplitWrapped_'+method[\"name\"], 'fn':'create'})\n",
    "            return None\n",
    "\n",
    "    def compare(x,y, **kwargs):\n",
    "        try:\n",
    "            vals = np.array([[method[\"compare\"](i,j,**kwargs) for i in x] for j in y])\n",
    "            rows, cols = linear_sum_assignment(vals)\n",
    "            if len(rows==0):\n",
    "                print(\"divide by zero incoming\")\n",
    "            return vals[rows,cols].sum()/len(rows)\n",
    "        except:\n",
    "            log(kwargs,{'type':'Error', 'method':'SplitWrapped_'+method[\"name\"], 'fn':'compare'})\n",
    "            return 0\n",
    "    return {\"name\":'SplitWrapped_'+method[\"name\"], \"create\":create, \"compare\":compare}\n",
    "class database:\n",
    "    def __init__(self, method, images=[], preprocess=None, **kwargs):\n",
    "        self.name = method[\"name\"]\n",
    "        self.create = method[\"create\"]\n",
    "        self.compare = method[\"compare\"]\n",
    "        self.preprocess = preprocess[1] if preprocess is not None else noop\n",
    "        self.preprocessing_name = preprocess[0] if preprocess is not None else \"None\"\n",
    "        self.db = {i:self.create(self.preprocess(images[i]), **kwargs) for i in range(len(images))}\n",
    "        \n",
    "    def find(self, img, candidates=None, others=[], should_sort=True, **kwargs):\n",
    "        imgq = self.create(self.preprocess(img), **kwargs)\n",
    "        candidates = candidates or self.db.keys()\n",
    "        tmp_db = {-i:self.create(others[i], **kwargs) for i in range(len(others))}\n",
    "        results = [(i, self.compare(imgq, self.db[i], **kwargs)) for i in candidates]\n",
    "        tmp_results = [(i, self.compare(imgq, tmp_db[i], **kwargs)) for i in tmp_db.keys()]\n",
    "        if should_sort:\n",
    "            return sorted(results+tmp_results, key=lambda x: -x[1])\n",
    "        else:\n",
    "            return results+tmp_results"
   ]
  },
  {
   "cell_type": "code",
   "execution_count": null,
   "id": "e2e9a44e",
   "metadata": {},
   "outputs": [],
   "source": []
  },
  {
   "cell_type": "code",
   "execution_count": null,
   "id": "39d4ca02",
   "metadata": {},
   "outputs": [],
   "source": []
  },
  {
   "cell_type": "code",
   "execution_count": 5,
   "id": "e22f0a19",
   "metadata": {
    "scrolled": true
   },
   "outputs": [
    {
     "name": "stdout",
     "output_type": "stream",
     "text": [
      "[]\n"
     ]
    },
    {
     "data": {
      "image/png": "[encoded data removed]",
      "text/plain": [
       "<Figure size 720x720 with 6 Axes>"
      ]
     },
     "metadata": {
      "needs_background": "light"
     },
     "output_type": "display_data"
    },
    {
     "data": {
      "image/png": "[encoded data removed]",
      "text/plain": [
       "<Figure size 720x720 with 3 Axes>"
      ]
     },
     "metadata": {
      "needs_background": "light"
     },
     "output_type": "display_data"
    },
    {
     "data": {
      "image/png": "[encoded data removed]",
      "text/plain": [
       "<Figure size 720x720 with 3 Axes>"
      ]
     },
     "metadata": {
      "needs_background": "light"
     },
     "output_type": "display_data"
    }
   ],
   "source": [
    "# image manipulation\n",
    "# for all the different methods we first make a copy of the image just in case\n",
    "# something decides to modify the original.\n",
    "# Thank God for gigabytes of RAM\n",
    "def stack(funcs):\n",
    "    #compose several image manipulations \n",
    "    def nf(img):\n",
    "        img=img[:]\n",
    "        for f in funcs:\n",
    "            img=f(img)\n",
    "        return img\n",
    "    return nf\n",
    "def noop(img):\n",
    "    return img\n",
    "def color_reduce_kmeans(img, n_colors=8):\n",
    "    img=img[:]\n",
    "    h,w,c=img.shape\n",
    "    fimg=np.clip(img.reshape(-1,3)/255,0.05,0.95)\n",
    "    km=KMeans(n_clusters=n_colors,random_state=0).fit(fimg)\n",
    "    means=np.clip(km.cluster_centers_,0.0,1.0)\n",
    "    labels=km.predict(fimg)\n",
    "    return (means[labels].reshape(img.shape)*255).astype(np.uint8)\n",
    "\n",
    "def smooth_median(img,ks=5,n=2):\n",
    "    img=img[:]\n",
    "    for i in range(n):\n",
    "        img=cv2.medianBlur(img,ks)\n",
    "    return img\n",
    "def std_size(img):\n",
    "    img=img[:]\n",
    "    return cv2.resize(img,(128,128),interpolation=cv2.INTER_AREA)\n",
    "\n",
    "def big_size(img):\n",
    "    return cv2.resize(img,None, fx=13, fy=13, interpolation=cv2.INTER_AREA)\n",
    "\n",
    "# segmentation\n",
    "def scast2(x,r):\n",
    "        xpad=np.pad(x,[[0,0],[0,1]],mode=\"constant\", constant_values=r)\n",
    "        return xpad/np.linalg.norm(x,axis=1,keepdims=True)\n",
    "def genkeys(n,d):\n",
    "    r=np.random.normal(size=(n,d))\n",
    "    r=r/np.linalg.norm(r,axis=1,keepdims=True)\n",
    "    r=np.pad(r,[[1,0],[0,1]],mode=\"constant\",constant_values=0)\n",
    "    r[0,-1]=1\n",
    "    return r\n",
    "def meancolor(img,b):\n",
    "    return np.floor(np.sum(img[b],(0)) / (0.01+np.sum(b))).astype(np.uint8)\n",
    "def clamp(x, m,M):\n",
    "    if x < m:\n",
    "        return m\n",
    "    if x > M:\n",
    "        return M\n",
    "    return x\n",
    "def gsb(s,margin=10):\n",
    "    h,w=s.shape\n",
    "    x,y=np.where(s)\n",
    "    x1=clamp(x.min()-margin,0,w)\n",
    "    y1=clamp(y.min()-margin,0,h)\n",
    "    x2=clamp(x.max()+margin,0,w)\n",
    "    y2=clamp(y.max()+margin,0,h)\n",
    "    return x1,y1,x2,y2\n",
    "    #return x.min()-margin, y.min()-margin, x.max()+margin, y.max()+margin\n",
    "def cropresize(img,b,bg=None,**kwargs):\n",
    "    try:\n",
    "        x1,y1,x2,y2=gsb(b)\n",
    "        if bg is not None:\n",
    "            img=img.copy()\n",
    "            img[b!=True]=bg\n",
    "        diff = max(x2-x1, y2-y1)\n",
    "        xc = (x2+x1)/2\n",
    "        yc = (y2+y1)/2\n",
    "        return cv2.resize(img[x1:x2,y1:y2,:],img.shape[:-1])\n",
    "    except:\n",
    "        log(kwargs,{'type':'Error', 'method':'Segmentation', 'fn':'cropresize'})\n",
    "        return None\n",
    "def segment_labels(img,labels,bg=None,rejection=0.0,**kwargs):\n",
    "    ulabels=np.unique(labels)\n",
    "    h,w=labels.shape\n",
    "    total=h*w\n",
    "    masks=[labels==i for i in ulabels]\n",
    "    # throw away any masks that cover less than 'rejection' percent of the image\n",
    "    masks=[m for m in masks if np.sum(m) >= (rejection*total)]\n",
    "    segs= [cropresize(img,b,bg,**kwargs) for b in masks]\n",
    "    return [s for s in segs if s is not None]\n",
    "\n",
    "def segment_agglomerative(img,n_clusters=5,**kwargs):\n",
    "    feats = img.reshape(-1,3)\n",
    "    connectivity=grid_to_graph(*img.shape[:2])\n",
    "    clustering=AgglomerativeClustering(n_clusters=n_clusters,connectivity=connectivity)\n",
    "    clustering.fit(feats)\n",
    "    return segment_labels(img,clustering.labels_.reshape(img.shape[:2]),**kwargs)\n",
    "\n",
    "def segment_kmeans(img, n_colors=10, n_shapes=10,bg=None,**kwargs):\n",
    "    img=img[:]\n",
    "    h,w,c=img.shape\n",
    "    fimg=np.clip(img.reshape(-1,3)/255,0.05,0.95)\n",
    "    km=KMeans(n_clusters=n_colors,random_state=0).fit(fimg)\n",
    "    means=np.clip(km.cluster_centers_,0.0,1.0)\n",
    "    labels=np.array(km.predict(fimg)).reshape(*img.shape[:-1])\n",
    "    return segment_labels(img,labels,bg=bg,**kwargs)\n",
    "\n",
    "def segment_colors(img, threshold=.98,bg=None,**kwargs):\n",
    "    # image is assumed to be HxWx3\n",
    "    v=np.reshape(img,(-1,3))/255\n",
    "    n=scast2(v-np.mean(v,0),0.01)\n",
    "    r=genkeys(200,3)\n",
    "\n",
    "    ids=np.argmax(n.dot(r.transpose()), axis=1)\n",
    "    uids=np.unique(ids)\n",
    "    w=np.array([np.sum(ids==i) for i in uids])/ids.size\n",
    "    ws=np.argsort(-w)\n",
    "    sids=uids[ws]\n",
    "    csm=np.cumsum(w[ws])\n",
    "    iids=np.array([sids[i] for i in range(1,len(sids)) if csm[i-1]<threshold])\n",
    "    rids=ids.reshape(img.shape[:-1])\n",
    "    return segment_labels(img,rids,bg=bg,**kwargs)\n",
    "\n",
    "def segment_noop(imgs, **kwargs):\n",
    "    # if the image set is already given as the decompositions\n",
    "    return imgs\n",
    "\n",
    "def plot_many(imgs,n_c=3):\n",
    "    # convenience function to plot many images\n",
    "    n_r = (len(imgs)//n_c)+1\n",
    "    cc=1\n",
    "    fig=plt.figure(figsize=(10,10))\n",
    "    for i in imgs:\n",
    "        fig.add_subplot(n_r,n_c,cc)\n",
    "        plt.imshow(i)\n",
    "        cc+=1\n",
    "        \n",
    "processing_pipelines = [\n",
    "    None,\n",
    "    (\"color_reduce_kmeans\", color_reduce_kmeans),\n",
    "    (\"smooth_median\", smooth_median),\n",
    "    (\"recenter\", recenter),\n",
    "    (\"recenter, reduce, smooth\", stack([recenter, color_reduce_kmeans, smooth_median]))\n",
    "]\n",
    "        \n",
    "#plt.imshow(smooth_median(test_images[8],3,1))\n",
    "#plt.imshow(smooth_median(color_reduce_kmeans(test_images[8],2),3,1))\n",
    "rimg=std_size(test_images[8])\n",
    "#rimg=color_reduce_kmeans(rimg,4)\n",
    "#rimg=smooth_median(rimg,5,2)\n",
    "#plt.imshow(rimg)\n",
    "l=[]\n",
    "segs=segment_agglomerative(rimg,log=l,bg=[128,128,128],rejection=0.001)\n",
    "plot_many([rimg]+segs)\n",
    "segs=segment_colors(rimg,log=l,bg=[128,128,128],rejection=0.02)\n",
    "plot_many([rimg]+segs)\n",
    "segs=segment_kmeans(rimg,log=l,bg=[128,128,128],rejection=0.02)\n",
    "plot_many([rimg]+segs)\n",
    "print(l)\n",
    "#plt.imshow(smooth_median(color_reduce_kmeans(images[0])))"
   ]
  },
  {
   "cell_type": "code",
   "execution_count": 6,
   "id": "4495b89e",
   "metadata": {},
   "outputs": [],
   "source": [
    "# how to run your images\n",
    "def chunks(x, n=100):\n",
    "    for i in range(0, len(x), n):\n",
    "        yield x[i:i+n]\n",
    "def run(dbs,images,aberrations,candidates=None,logdir=\"Logs\",report_every=10):\n",
    "    print(\"starting\")\n",
    "    if not os.path.exists(\"Logs\"):\n",
    "        os.mkdir(\"Logs\")\n",
    "    if not os.path.exists(\"Logs/\"+logdir):\n",
    "        os.mkdir(\"Logs/\"+logdir)\n",
    "    candidates=candidates or [i for i in range(len(images))]\n",
    "    results={}\n",
    "    imgs_so_far=0\n",
    "    for img_idx in candidates:\n",
    "        print(\"nimg\")\n",
    "        imgs_so_far+=1\n",
    "        if imgs_so_far % report_every == 0:\n",
    "            print(imgs_so_far)\n",
    "        cimg=images[img_idx][:]\n",
    "        for aber in aberrations:\n",
    "            qimg=aber(cimg) if aber is not None else cimg\n",
    "            for d in dbs:\n",
    "                start_time=perf_counter()\n",
    "                xl = d.find(qimg)\n",
    "                rank=0\n",
    "                for hit in xl:\n",
    "                    rank+=1\n",
    "                    if hit[0]==img_idx:\n",
    "                        break\n",
    "                duration = perf_counter() - start_time\n",
    "                results.setdefault(\"aberration\",[]).append(aber.__name__ if aber is not None else \"ab_id\")\n",
    "                results.setdefault(\"method\",[]).append(d.name)\n",
    "                results.setdefault(\"preprocess\",[]).append(d.preprocessing_name)\n",
    "                results.setdefault(\"rank\",[]).append(rank)\n",
    "                results.setdefault(\"time\",[]).append(duration)\n",
    "    # save everything to file and return the dataframes\n",
    "    results_pd = pd.DataFrame(data=results)\n",
    "    log_num = len(glob(\"Logs/\"+logdir+\"/*\")) + 1\n",
    "    results_pd.to_csv(\"Logs/\"+logdir+'/results_'+str(log_num)+'.csv', index = None, header=True)\n",
    "    print(\"logging\")\n",
    "    return results_pd\n",
    "\n",
    "def run_in_chunks(dbs,images,aberrations,chunksize=100,logdir=\"Logs\"):\n",
    "    candidates = [i for i in range(len(images))]\n",
    "    random.shuffle(candidates)\n",
    "    for chunk_num, candidate_chunk in enumerate(chunks(candidates,chunksize)):\n",
    "        print(\"Chunk: \" + str(chunk_num+1))\n",
    "        run(dbs,images,aberrations,candidates=candidate_chunk,logdir=logdir)"
   ]
  },
  {
   "cell_type": "code",
   "execution_count": 7,
   "id": "a5a8b56e",
   "metadata": {},
   "outputs": [],
   "source": [
    "# how to run your images 2, electric boogaloo\n",
    "def make_aberimgs(imgs,abers):\n",
    "    res=[]\n",
    "    for idx,im in enumerate(imgs):\n",
    "        for a in abers:\n",
    "            res+=[[idx,a(im) if a is not None else im, a.__name__ if a is not None else \"ab_id\"]]\n",
    "    return res\n",
    "def run(db,aber_images,logdir=\"Logs\",report_every=10):\n",
    "    print(\"starting\")\n",
    "    if not os.path.exists(\"Logs\"):\n",
    "        os.mkdir(\"Logs\")\n",
    "    if not os.path.exists(\"Logs/\"+logdir):\n",
    "        os.mkdir(\"Logs/\"+logdir)\n",
    "    candidates= [i for i in range(len(aber_images))]\n",
    "    results={}\n",
    "    imgs_so_far=0\n",
    "    for idx,aberimg,abername in aber_images:\n",
    "        imgs_so_far+=1\n",
    "        if imgs_so_far % report_every == 0:\n",
    "            print(imgs_so_far, \"img idx \", idx)\n",
    "        \n",
    "        start_time=perf_counter()\n",
    "        xl = db.find(aberimg)\n",
    "        rank=0\n",
    "        for hit in xl:\n",
    "            rank+=1\n",
    "            if hit[0]==idx:\n",
    "                break\n",
    "        duration = perf_counter() - start_time\n",
    "        results.setdefault(\"aberration\",[]).append(abername)\n",
    "        results.setdefault(\"method\",[]).append(db.name)\n",
    "        results.setdefault(\"preprocess\",[]).append(db.preprocessing_name)\n",
    "        results.setdefault(\"rank\",[]).append(rank)\n",
    "        results.setdefault(\"time\",[]).append(duration)\n",
    "    # save everything to file and return the dataframes\n",
    "    results_pd = pd.DataFrame(data=results)\n",
    "    log_num = len(glob(\"Logs/\"+logdir+\"/*\")) + 1\n",
    "    results_pd.to_csv(\"Logs/\"+logdir+'/results_'+str(log_num)+'.csv', index = None, header=True)\n",
    "    print(\"logging\")\n",
    "    return results_pd\n",
    "\n",
    "def run_all(methods,images,aberrations,pipelines,logdir=\"Logs\",loglist=[]):\n",
    "    aberimgs=make_aberimgs(images,aberrations)\n",
    "    for m in methods:\n",
    "        print('starting new method')\n",
    "        for p in pipelines:\n",
    "            print('making db')\n",
    "            db=database(m, images, log=loglist, preprocess=p)\n",
    "            print('db made, running')\n",
    "            run(db,aberimgs,logdir=logdir)\n",
    "            print('ran')\n",
    "    if loglist != []:\n",
    "        print(\"we had errors please check the return value\")\n",
    "    return loglist"
   ]
  },
  {
   "cell_type": "code",
   "execution_count": null,
   "id": "0d794b13",
   "metadata": {},
   "outputs": [],
   "source": []
  },
  {
   "cell_type": "code",
   "execution_count": 8,
   "id": "a4052446",
   "metadata": {},
   "outputs": [
    {
     "data": {
      "image/png": "[encoded data removed]",
      "text/plain": [
       "<Figure size 432x288 with 1 Axes>"
      ]
     },
     "metadata": {
      "needs_background": "light"
     },
     "output_type": "display_data"
    },
    {
     "data": {
      "image/png": "[encoded data removed]",
      "text/plain": [
       "<Figure size 432x288 with 1 Axes>"
      ]
     },
     "metadata": {
      "needs_background": "light"
     },
     "output_type": "display_data"
    },
    {
     "data": {
      "image/png": "[encoded data removed]",
      "text/plain": [
       "<Figure size 432x288 with 1 Axes>"
      ]
     },
     "metadata": {
      "needs_background": "light"
     },
     "output_type": "display_data"
    },
    {
     "data": {
      "image/png": "[encoded data removed]",
      "text/plain": [
       "<Figure size 432x288 with 1 Axes>"
      ]
     },
     "metadata": {
      "needs_background": "light"
     },
     "output_type": "display_data"
    },
    {
     "data": {
      "image/png": "[encoded data removed]",
      "text/plain": [
       "<Figure size 432x288 with 1 Axes>"
      ]
     },
     "metadata": {
      "needs_background": "light"
     },
     "output_type": "display_data"
    }
   ],
   "source": [
    "from PIL import Image, ImageDraw\n",
    "from math import sin,cos\n",
    "def draw_poly(dc,poly, scale=1, **kwargs):\n",
    "    coords = (poly*scale).astype(int)\n",
    "    dc.polygon([tuple(i) for i in coords],**kwargs)\n",
    "polys=[# wedge\n",
    "       [[0,0], [0,0.5], [1,1]],\n",
    "       # circle\n",
    "       [[0.5+cos(x*6.14/20)/2,0.5+sin(x*6.14/20)/2] for x in range(20)],\n",
    "       # randomly perturbed circle\n",
    "       [[0.5+cos(x*6.14/20)*np.random.uniform(0.2,1.0)/2,0.5+sin(x*6.14/20)*np.random.uniform(0.2,1.0)/2] for x in range(20)],\n",
    "       # squished circle\n",
    "       [[0.43889485, 1.01199527],\n",
    "           [0.50584096, 1.03654858],\n",
    "           [0.56339267, 1.03823472],\n",
    "           [0.60616826, 1.01689601],\n",
    "           [0.63016773, 0.97452786],\n",
    "           [0.63314687, 0.91509216],\n",
    "           [0.61482709, 0.8441468 ],\n",
    "           [0.5769215 , 0.76832597],\n",
    "           [0.52297469, 0.69471975],\n",
    "           [0.45803129, 0.63021113],\n",
    "           [0.38816421, 0.58083239],\n",
    "           [0.31990682, 0.551201  ],\n",
    "           [0.25964192, 0.5440878 ],\n",
    "           [0.21300497, 0.56015797],\n",
    "           [0.18435702, 0.59790877],\n",
    "           [0.17637698, 0.65381007],\n",
    "           [0.18981107, 0.72263449],\n",
    "           [0.22340306, 0.79794618],\n",
    "           [0.27401172, 0.87270266],\n",
    "           [0.33690458, 0.93991338]],\n",
    "      # star thing\n",
    "      [[0.41807544, 0.87534801],\n",
    "       [0.46415562, 0.98536887],\n",
    "       [0.53947724, 0.94539019],\n",
    "       [0.59524502, 1.0083861 ],\n",
    "       [0.51879522, 0.89930979],\n",
    "       [0.48691866, 0.83740086],\n",
    "       [0.6054967 , 0.86355202],\n",
    "       [0.58552607, 0.83129026],\n",
    "       [0.41381491, 0.66344889],\n",
    "       [0.4658818 , 0.68867009],\n",
    "       [0.38576388, 0.62978679],\n",
    "       [0.32330981, 0.55634607],\n",
    "       [0.32094132, 0.70405591],\n",
    "       [0.32852805, 0.70085152],\n",
    "       [0.3041241 , 0.72073516],\n",
    "       [0.28525641, 0.71508238],\n",
    "       [0.22339421, 0.71973661],\n",
    "       [0.35555229, 0.82499804],\n",
    "       [0.33906122, 0.81146125],\n",
    "       [0.38112243, 0.83347015]]]\n",
    "polys=[np.array(p) for p in polys]\n",
    "colors=[[255,255,255], #white\n",
    "        [255,0,0], #red\n",
    "        [0,255,0], #green\n",
    "        [0,0,255], #blue\n",
    "        [102,0,204], #purple\n",
    "        [128,128,128], #gray\n",
    "        [255,153,153], #pink\n",
    "        [153,153,0], #puke green\n",
    "        [102,102,0], #camo green\n",
    "        [255,128,0], #orange\n",
    "        [204,255,153], #light green\n",
    "        [255,255,51], #lemon yellow\n",
    "        [255,255,0], #yellow\n",
    "       ]\n",
    "for poly in polys:\n",
    "    im = Image.new('RGB', (32,32))\n",
    "    dc = ImageDraw.Draw(im)\n",
    "    draw_poly(dc,poly,scale=32,fill=tuple(colors[np.random.choice(len(colors))]))\n",
    "    plt.figure()\n",
    "    plt.imshow(im)"
   ]
  },
  {
   "cell_type": "code",
   "execution_count": 9,
   "id": "3a6b879f",
   "metadata": {},
   "outputs": [
    {
     "data": {
      "image/png": "[encoded data removed]",
      "text/plain": [
       "<Figure size 432x288 with 1 Axes>"
      ]
     },
     "metadata": {
      "needs_background": "light"
     },
     "output_type": "display_data"
    },
    {
     "data": {
      "image/png": "[encoded data removed]",
      "text/plain": [
       "<Figure size 432x288 with 1 Axes>"
      ]
     },
     "metadata": {
      "needs_background": "light"
     },
     "output_type": "display_data"
    },
    {
     "data": {
      "image/png": "[encoded data removed]",
      "text/plain": [
       "<Figure size 432x288 with 1 Axes>"
      ]
     },
     "metadata": {
      "needs_background": "light"
     },
     "output_type": "display_data"
    },
    {
     "data": {
      "image/png": "[encoded data removed]",
      "text/plain": [
       "<Figure size 432x288 with 1 Axes>"
      ]
     },
     "metadata": {
      "needs_background": "light"
     },
     "output_type": "display_data"
    },
    {
     "data": {
      "image/png": "[encoded data removed]",
      "text/plain": [
       "<Figure size 432x288 with 1 Axes>"
      ]
     },
     "metadata": {
      "needs_background": "light"
     },
     "output_type": "display_data"
    },
    {
     "data": {
      "text/plain": [
       "<Figure size 432x288 with 0 Axes>"
      ]
     },
     "metadata": {},
     "output_type": "display_data"
    }
   ],
   "source": [
    "\n",
    "def draw_and_show_poly(poly, scale=32):\n",
    "    im=Image.new('RGB', (scale,scale))\n",
    "    dc = ImageDraw.Draw(im)\n",
    "    draw_poly(dc,poly,scale=scale,fill=\"white\")\n",
    "    plt.figure()\n",
    "    plt.imshow(im)\n",
    "def create_transform_random():\n",
    "    mat=np.random.uniform(0,1,(3,3))*0.5\n",
    "    mat[2,0]=0\n",
    "    mat[2,1]=0\n",
    "    mat[2,2]=1\n",
    "    return mat\n",
    "\n",
    "def create_transform_identity():\n",
    "    return np.eye(3,3)\n",
    "\n",
    "def create_transform_informed(scale=(1.0,1.0), rotation=(0.0,0.0), symmetry=False, transform=(0.0,0.0), heat=0):\n",
    "    res=np.eye(3)\n",
    "    scaleness=np.eye(3)*np.random.uniform(*scale)\n",
    "    res=res.dot(scaleness)\n",
    "    rotateness=np.random.uniform(*rotation)\n",
    "    if symmetry:\n",
    "        rotateness += np.random.choice([0,.25,.5,.75])\n",
    "    rotatarr=np.array([[ cos(rotateness*6.28), sin(rotateness*6.28), 0],\n",
    "                         [-sin(rotateness*6.28), cos(rotateness*6.28), 0],\n",
    "                         [0,0,1]])\n",
    "    res=res.dot(rotatarr)\n",
    "    hotness=create_transform_random()*heat\n",
    "    res=res+(hotness-heat/2)\n",
    "    res[0,2]=np.random.uniform(*transform)\n",
    "    res[1,2]=np.random.uniform(*transform)\n",
    "    return res\n",
    "    \n",
    "def transform(tform, points):\n",
    "    res = np.concatenate([points,np.ones([points.shape[0],1])], axis=1)\n",
    "    return res.dot(tform.transpose())[:,:2]\n",
    "\n",
    "def render(dc,scale,tforms, shapes,colors):\n",
    "    for t,sh,c in zip(tforms, shapes,colors):\n",
    "        draw_poly(dc,transform(t,sh),scale=scale, fill=c)\n",
    "        \n",
    "def render_image_split(scale,tforms,shapes,colors):\n",
    "    res=[]\n",
    "    for t,sh,c in zip(tforms, shapes,colors):\n",
    "        im = Image.new('RGB', (scale,scale))\n",
    "        dc = ImageDraw.Draw(im)\n",
    "        draw_poly(dc,transform(t,sh),scale=scale, fill=c)\n",
    "        res.append(im.copy())\n",
    "    return res\n",
    "\n",
    "def render_image(scale,tforms,shapes,colors):\n",
    "    im = Image.new('RGB', (scale,scale))\n",
    "    dc = ImageDraw.Draw(im)\n",
    "    render(dc,scale,tforms,shapes,colors)\n",
    "    return im\n",
    "        \n",
    "def create_random_icon(shapes, colors):\n",
    "    structure = [create_transform_identity(),\n",
    "                create_transform_informed(scale=(0.5,1.2), rotation=(0.0,1.0), symmetry=False, heat=0.2),\n",
    "                create_transform_informed(scale=(0.5,1.2), rotation=(0.0,1.0), symmetry=False, heat=0.2),]\n",
    "    colors = [tuple(colors[np.random.choice(len(colors))]),\n",
    "              tuple(colors[np.random.choice(len(colors))]),\n",
    "              tuple(colors[np.random.choice(len(colors))])]\n",
    "    s = [shapes[np.random.choice(len(shapes))],\n",
    "         shapes[np.random.choice(len(shapes))],\n",
    "         shapes[np.random.choice(len(shapes))]]\n",
    "    return structure,colors,s\n",
    "\n",
    "\n",
    "def make_icon3(shapes, colors):\n",
    "    im = Image.new('RGB', (32,32))\n",
    "    dc = ImageDraw.Draw(im)\n",
    "    shape1 = shapes[np.random.choice(len(shapes))]\n",
    "    shape2 = shapes[np.random.choice(len(shapes))]\n",
    "    tform=create_transform_identity()\n",
    "    shape2=transform(tform,shape2)\n",
    "    draw_poly(dc,shape2,scale=32,fill=tuple(colors[np.random.choice(len(colors))]))\n",
    "    return im\n",
    "\n",
    "def make_icon(shapes, colors):\n",
    "    im = Image.new('RGB', (32,32))\n",
    "    dc = ImageDraw.Draw(im)\n",
    "    shape1 = shapes[np.random.choice(len(shapes))]\n",
    "    shape2 = shapes[np.random.choice(len(shapes))]\n",
    "    tform=create_transform_informed(scale=(0.5,1.2), rotation=(0.0,1.0), symmetry=False, heat=0.2)\n",
    "    shape2=transform(tform,shape2)\n",
    "    shape3 = shapes[np.random.choice(len(shapes))]\n",
    "    tform=create_transform_informed(scale=(0.5,1.2), rotation=(0.0,1.0), symmetry=False, heat=0.2)\n",
    "    shape3=transform(tform,shape3)\n",
    "    draw_poly(dc,shape1,scale=32,fill=tuple(colors[np.random.choice(len(colors))]))\n",
    "    draw_poly(dc,shape2,scale=32,fill=tuple(colors[np.random.choice(len(colors))]))\n",
    "    draw_poly(dc,shape3,scale=32,fill=tuple(colors[np.random.choice(len(colors))]))\n",
    "    return im\n",
    "\n",
    "def make_icon2(scale,shapes, colors):\n",
    "    structure,colors,s=create_random_icon(shapes,colors)\n",
    "    return render_image(scale,structure,s,colors)\n",
    "for i in range(5):\n",
    "    plt.imshow(make_icon2(512,polys,colors))\n",
    "    plt.figure()"
   ]
  },
  {
   "cell_type": "code",
   "execution_count": 10,
   "id": "a5a063a2",
   "metadata": {},
   "outputs": [
    {
     "name": "stdout",
     "output_type": "stream",
     "text": [
      "100\n"
     ]
    }
   ],
   "source": [
    "synthetic_image_data = [create_random_icon(polys,colors) for _ in range(100)]\n",
    "print(len(synthetic_image_data))\n",
    "low_res_renders = [render_image(32,i[0],i[2],i[1]) for i in synthetic_image_data]\n",
    "high_res_renders = [render_image(512,i[0],i[2],i[1]) for i in synthetic_image_data]"
   ]
  },
  {
   "cell_type": "code",
   "execution_count": 29,
   "id": "d3de3cc9",
   "metadata": {},
   "outputs": [],
   "source": [
    "high_res_split_renders = [render_image_split(512,i[0],i[2],i[1]) for i in synthetic_image_data]\n",
    "low_res_split_renders = [render_image_split(32,i[0],i[2],i[1]) for i in synthetic_image_data]"
   ]
  },
  {
   "cell_type": "code",
   "execution_count": null,
   "id": "cfd9e84d",
   "metadata": {},
   "outputs": [],
   "source": []
  },
  {
   "cell_type": "code",
   "execution_count": null,
   "id": "2d0e7643",
   "metadata": {},
   "outputs": [],
   "source": []
  },
  {
   "cell_type": "code",
   "execution_count": null,
   "id": "9251702a",
   "metadata": {},
   "outputs": [],
   "source": []
  },
  {
   "cell_type": "code",
   "execution_count": 72,
   "id": "f2fe06fb",
   "metadata": {},
   "outputs": [],
   "source": [
    "high_res_components=[[np.array(i) for i in j] for j in high_res_split_renders]"
   ]
  },
  {
   "cell_type": "code",
   "execution_count": 145,
   "id": "07b5f857",
   "metadata": {
    "scrolled": true
   },
   "outputs": [
    {
     "name": "stdout",
     "output_type": "stream",
     "text": [
      "100\n",
      "Loading Completed\n",
      "made it, running\n",
      "starting new method\n",
      "making db\n",
      "db made, running\n",
      "starting\n",
      "10 img idx  0\n",
      "20 img idx  1\n",
      "30 img idx  2\n",
      "40 img idx  3\n",
      "50 img idx  3\n",
      "60 img idx  4\n",
      "70 img idx  5\n",
      "80 img idx  6\n",
      "90 img idx  6\n",
      "100 img idx  7\n",
      "110 img idx  8\n",
      "120 img idx  9\n",
      "130 img idx  9\n",
      "140 img idx  10\n",
      "150 img idx  11\n",
      "160 img idx  12\n",
      "170 img idx  13\n",
      "180 img idx  13\n",
      "190 img idx  14\n",
      "200 img idx  15\n",
      "210 img idx  16\n",
      "220 img idx  16\n",
      "230 img idx  17\n",
      "240 img idx  18\n",
      "250 img idx  19\n",
      "260 img idx  19\n",
      "270 img idx  20\n",
      "280 img idx  21\n",
      "290 img idx  22\n",
      "300 img idx  23\n",
      "310 img idx  23\n",
      "320 img idx  24\n",
      "330 img idx  25\n",
      "340 img idx  26\n",
      "350 img idx  26\n",
      "360 img idx  27\n",
      "370 img idx  28\n",
      "380 img idx  29\n",
      "390 img idx  29\n",
      "400 img idx  30\n",
      "410 img idx  31\n",
      "420 img idx  32\n",
      "430 img idx  33\n",
      "440 img idx  33\n",
      "450 img idx  34\n",
      "460 img idx  35\n",
      "470 img idx  36\n",
      "480 img idx  36\n",
      "490 img idx  37\n",
      "500 img idx  38\n",
      "510 img idx  39\n",
      "520 img idx  39\n",
      "530 img idx  40\n",
      "540 img idx  41\n",
      "550 img idx  42\n",
      "560 img idx  43\n",
      "570 img idx  43\n",
      "580 img idx  44\n",
      "590 img idx  45\n",
      "600 img idx  46\n",
      "610 img idx  46\n",
      "620 img idx  47\n",
      "630 img idx  48\n",
      "640 img idx  49\n",
      "650 img idx  49\n",
      "660 img idx  50\n",
      "670 img idx  51\n",
      "680 img idx  52\n",
      "690 img idx  53\n",
      "700 img idx  53\n",
      "710 img idx  54\n",
      "720 img idx  55\n",
      "730 img idx  56\n",
      "740 img idx  56\n",
      "750 img idx  57\n",
      "760 img idx  58\n",
      "770 img idx  59\n",
      "780 img idx  59\n",
      "790 img idx  60\n",
      "800 img idx  61\n",
      "810 img idx  62\n",
      "820 img idx  63\n",
      "830 img idx  63\n",
      "840 img idx  64\n",
      "850 img idx  65\n",
      "860 img idx  66\n",
      "870 img idx  66\n",
      "880 img idx  67\n",
      "890 img idx  68\n",
      "900 img idx  69\n",
      "910 img idx  69\n",
      "920 img idx  70\n",
      "930 img idx  71\n",
      "940 img idx  72\n",
      "950 img idx  73\n",
      "960 img idx  73\n",
      "970 img idx  74\n",
      "980 img idx  75\n",
      "990 img idx  76\n",
      "1000 img idx  76\n",
      "1010 img idx  77\n",
      "1020 img idx  78\n",
      "1030 img idx  79\n",
      "1040 img idx  79\n",
      "1050 img idx  80\n",
      "1060 img idx  81\n",
      "1070 img idx  82\n",
      "1080 img idx  83\n",
      "1090 img idx  83\n",
      "1100 img idx  84\n",
      "1110 img idx  85\n",
      "1120 img idx  86\n",
      "1130 img idx  86\n",
      "1140 img idx  87\n",
      "1150 img idx  88\n",
      "1160 img idx  89\n",
      "1170 img idx  89\n",
      "1180 img idx  90\n",
      "1190 img idx  91\n",
      "1200 img idx  92\n",
      "1210 img idx  93\n",
      "1220 img idx  93\n",
      "1230 img idx  94\n",
      "1240 img idx  95\n",
      "1250 img idx  96\n",
      "1260 img idx  96\n",
      "1270 img idx  97\n",
      "1280 img idx  98\n",
      "1290 img idx  99\n",
      "1300 img idx  99\n",
      "logging\n",
      "ran\n"
     ]
    }
   ],
   "source": [
    "image_set_name = \"icon100\"\n",
    "logdir = \"Logs20220101TEST16\"\n",
    "\n",
    "hdf5_file = h5py.File('LLD-icon.hdf5', 'r')\n",
    "images = hdf5_file['data']\n",
    "# transpose the images because they're stored in a weird color channel first format, as indicated by shape[0] being 3\n",
    "images = [np.transpose(i,(1,2,0)) if i.shape[0] == 3 else i for i in images[:100]]\n",
    "\n",
    "#running_images=[np.array(i) for i in low_res_renders[:100]]\n",
    "running_images=images\n",
    "#running_images=high_res_components #make sure to use segment_noop with the method combinator\n",
    "print(len(images))\n",
    "print(\"Loading Completed\")\n",
    "\n",
    "#running_methods=[make_timm_method(i,cuda=True) for i in timm_names]+[m() for m in our_methods]\n",
    "running_methods=[method_split_hungarian(make_small_neural_method(), segment_agglomerative)]\n",
    "#running_methods=[method_split_hungarian(make_small_neural_method(), segment_colors)]\n",
    "#running_methods=[make_small_neural_method()]\n",
    "#running_methods=[method_split_hungarian(make_small_neural_method(), segment_noop)] # make sure to use presplit images with segment noop\n",
    "print('made it, running')\n",
    "err=run_all(running_methods, running_images,\n",
    "            aberrations,\n",
    "            [None],#processing_pipelines,[processing_pipelines[2]],#\n",
    "            logdir=logdir)"
   ]
  },
  {
   "cell_type": "code",
   "execution_count": 146,
   "id": "28ac241b",
   "metadata": {},
   "outputs": [
    {
     "name": "stdout",
     "output_type": "stream",
     "text": [
      "['Logs/Logs20220101TEST16\\\\results_1.csv']\n",
      "            aberration                     method preprocess  rank      time\n",
      "0                ab_id  SplitWrapped_Small_Neural       None     1  0.055420\n",
      "1              ab_line  SplitWrapped_Small_Neural       None     1  0.057437\n",
      "2            ab_circle  SplitWrapped_Small_Neural       None     1  0.060976\n",
      "3     ab_rotate_border  SplitWrapped_Small_Neural       None     1  0.057068\n",
      "4       ab_rotate_safe  SplitWrapped_Small_Neural       None     9  0.081697\n",
      "...                ...                        ...        ...   ...       ...\n",
      "1295  ab_affine_border  SplitWrapped_Small_Neural       None     1  0.065442\n",
      "1296           ab_flip  SplitWrapped_Small_Neural       None     1  0.061925\n",
      "1297           ab_draw  SplitWrapped_Small_Neural       None     1  0.060837\n",
      "1298           ab_warp  SplitWrapped_Small_Neural       None     1  0.057895\n",
      "1299      ab_draw_warp  SplitWrapped_Small_Neural       None     2  0.063035\n",
      "\n",
      "[1300 rows x 5 columns]\n"
     ]
    }
   ],
   "source": [
    "# read logs\n",
    "logdir = \"Logs20220101TEST16\"\n",
    "# Load all the logs into a single dataframe for processing\n",
    "log_files = glob(\"Logs/\"+logdir+\"/*\") # these are the logs that we're loading\n",
    "print(log_files)\n",
    "joined_logs = pd.concat([pd.read_csv(i) for i in log_files])\n",
    "print(joined_logs)\n",
    "\n"
   ]
  },
  {
   "cell_type": "code",
   "execution_count": 147,
   "id": "31ec532d",
   "metadata": {},
   "outputs": [
    {
     "name": "stdout",
     "output_type": "stream",
     "text": [
      "Ranking\n",
      "['SplitWrapped_Small_Neural']\n"
     ]
    },
    {
     "data": {
      "image/png": "[encoded data removed]",
      "text/plain": [
       "<Figure size 720x720 with 2 Axes>"
      ]
     },
     "metadata": {
      "needs_background": "light"
     },
     "output_type": "display_data"
    }
   ],
   "source": [
    "print(\"Ranking\")\n",
    "mets=joined_logs[\"method\"].unique()\n",
    "print(mets)\n",
    "split_logs=joined_logs\n",
    "ncols=1\n",
    "nrows=(len(mets)//ncols)+1\n",
    "fig, axes = plt.subplots(nrows=nrows, ncols=ncols)\n",
    "for m,axs in zip(mets,axes.reshape(-1)):\n",
    "    joined_logs[split_logs['method']==m]['rank'].hist(bins=20, figsize=(10,10), ax=axs)\n",
    "    axs.set_title(m)"
   ]
  },
  {
   "cell_type": "code",
   "execution_count": 16,
   "id": "4771d112",
   "metadata": {},
   "outputs": [
    {
     "ename": "AttributeError",
     "evalue": "'list' object has no attribute 'lower'",
     "output_type": "error",
     "traceback": [
      "\u001b[1;31m---------------------------------------------------------------------------\u001b[0m",
      "\u001b[1;31mAttributeError\u001b[0m                            Traceback (most recent call last)",
      "\u001b[1;32m<ipython-input-16-093f627d996f>\u001b[0m in \u001b[0;36m<module>\u001b[1;34m\u001b[0m\n\u001b[0;32m      1\u001b[0m \u001b[0ma\u001b[0m\u001b[1;33m=\u001b[0m\u001b[1;33m[\u001b[0m\u001b[1;36m1\u001b[0m\u001b[1;33m,\u001b[0m\u001b[1;36m2\u001b[0m\u001b[1;33m,\u001b[0m\u001b[1;36m3\u001b[0m\u001b[1;33m]\u001b[0m\u001b[1;33m\u001b[0m\u001b[1;33m\u001b[0m\u001b[0m\n\u001b[1;32m----> 2\u001b[1;33m \u001b[0ma\u001b[0m\u001b[1;33m.\u001b[0m\u001b[0mlower\u001b[0m\u001b[1;33m(\u001b[0m\u001b[1;33m)\u001b[0m\u001b[1;33m\u001b[0m\u001b[1;33m\u001b[0m\u001b[0m\n\u001b[0m",
      "\u001b[1;31mAttributeError\u001b[0m: 'list' object has no attribute 'lower'"
     ]
    }
   ],
   "source": [
    "a=[1,2,3]\n",
    "a.lower()"
   ]
  },
  {
   "cell_type": "code",
   "execution_count": 130,
   "id": "cfae425d",
   "metadata": {},
   "outputs": [
    {
     "name": "stdout",
     "output_type": "stream",
     "text": [
      "0.6392677783966064\n"
     ]
    },
    {
     "data": {
      "image/png": "[encoded data removed]",
      "text/plain": [
       "<Figure size 432x288 with 1 Axes>"
      ]
     },
     "metadata": {
      "needs_background": "light"
     },
     "output_type": "display_data"
    },
    {
     "data": {
      "image/png": "[encoded data removed]",
      "text/plain": [
       "<Figure size 432x288 with 1 Axes>"
      ]
     },
     "metadata": {
      "needs_background": "light"
     },
     "output_type": "display_data"
    }
   ],
   "source": [
    "method=make_neural_method()\n",
    "splitter=segment_agglomerative\n",
    "# choose the images\n",
    "cimg1=test_images[-4]\n",
    "cimg2=images[0]\n",
    "plt.imshow(cimg1)\n",
    "plt.figure()\n",
    "plt.imshow(cimg2)\n",
    "        \n",
    "ximgs = splitter(cimg1,rejection=0.001, bg=[128,128,128])\n",
    "yimgs = splitter(cimg2,rejection=0.001, bg=[128,128,128])\n",
    "xf=[method['create'](i) for i in ximgs]\n",
    "yf=[method['create'](i) for i in yimgs]\n",
    "l=[]\n",
    "vals = np.array([[method[\"compare\"](i,j,logs=[]) for i in xf] for j in yf])\n",
    "rows, cols = linear_sum_assignment(-vals)\n",
    "ret=vals[rows,cols].sum()/len(rows)\n",
    "print(ret)"
   ]
  },
  {
   "cell_type": "code",
   "execution_count": 97,
   "id": "7fdf2de9",
   "metadata": {},
   "outputs": [
    {
     "data": {
      "text/plain": [
       "array([[45.06047943, 26.28195613, 15.72746791, 62.95748284, 30.58968243],\n",
       "       [22.41717803, 20.43491845, 14.34609074, 22.8980222 , 35.2560438 ],\n",
       "       [65.75481971, 24.05428603, 14.98768733, 56.24980345, 30.26314109],\n",
       "       [58.1504217 , 24.66011169, 15.20119281, 61.74876493, 30.6806784 ],\n",
       "       [64.57881085, 24.20899774, 15.00771729, 56.26740265, 30.99194371]])"
      ]
     },
     "execution_count": 97,
     "metadata": {},
     "output_type": "execute_result"
    }
   ],
   "source": [
    "vals"
   ]
  },
  {
   "cell_type": "code",
   "execution_count": 89,
   "id": "0547c695",
   "metadata": {},
   "outputs": [
    {
     "data": {
      "image/png": "[encoded data removed]",
      "text/plain": [
       "<Figure size 720x720 with 5 Axes>"
      ]
     },
     "metadata": {
      "needs_background": "light"
     },
     "output_type": "display_data"
    }
   ],
   "source": [
    "plot_many(ximgs)"
   ]
  },
  {
   "cell_type": "code",
   "execution_count": 90,
   "id": "9d5529a0",
   "metadata": {},
   "outputs": [
    {
     "data": {
      "image/png": "[encoded data removed]",
      "text/plain": [
       "<Figure size 720x720 with 5 Axes>"
      ]
     },
     "metadata": {
      "needs_background": "light"
     },
     "output_type": "display_data"
    }
   ],
   "source": [
    "plot_many(yimgs)"
   ]
  },
  {
   "cell_type": "code",
   "execution_count": 163,
   "id": "375e6326",
   "metadata": {},
   "outputs": [
    {
     "name": "stdout",
     "output_type": "stream",
     "text": [
      "61.789311167539516\n"
     ]
    },
    {
     "data": {
      "image/png": "[encoded data removed]",
      "text/plain": [
       "<Figure size 432x288 with 1 Axes>"
      ]
     },
     "metadata": {
      "needs_background": "light"
     },
     "output_type": "display_data"
    },
    {
     "data": {
      "image/png": "[encoded data removed]",
      "text/plain": [
       "<Figure size 432x288 with 1 Axes>"
      ]
     },
     "metadata": {
      "needs_background": "light"
     },
     "output_type": "display_data"
    }
   ],
   "source": [
    "method=make_small_neural_method()#make_small_neural_method()\n",
    "splitter=segment_agglomerative\n",
    "# choose the images\n",
    "cimg1=test_images[-4]\n",
    "cimg2=test_images[-3]\n",
    "plt.imshow(cimg1)\n",
    "plt.figure()\n",
    "plt.imshow(cimg2)\n",
    "        \n",
    "ximgs = splitter(cimg1,rejection=0.001, bg=[128,128,128])\n",
    "yimgs = splitter(cimg2,rejection=0.001, bg=[128,128,128])\n",
    "xf=[method['create'](i) for i in ximgs]\n",
    "yf=[method['create'](i) for i in yimgs]\n",
    "l=[]\n",
    "vals = np.array([[method[\"compare\"](i,j,logs=[]) for i in xf] for j in yf])\n",
    "rows, cols = linear_sum_assignment(-vals)\n",
    "ret=vals[rows,cols].sum()/len(rows)\n",
    "print(ret)"
   ]
  },
  {
   "cell_type": "code",
   "execution_count": 164,
   "id": "ff7bd2c8",
   "metadata": {},
   "outputs": [
    {
     "data": {
      "text/plain": [
       "array([[26.95897487, 49.0263556 , 19.23175928, 31.43629941, 25.13731025],\n",
       "       [28.49789926, 22.45265544, 16.10011596, 27.73695056, 81.84704403],\n",
       "       [22.3057982 , 33.53886728, 30.10651147, 24.68305116, 23.96284645],\n",
       "       [68.11414569, 24.32504206, 15.35728398, 61.45643765, 28.98850579],\n",
       "       [86.51020709, 22.93413999, 14.89139372, 47.78619495, 29.39170792]])"
      ]
     },
     "execution_count": 164,
     "metadata": {},
     "output_type": "execute_result"
    }
   ],
   "source": [
    "vals"
   ]
  },
  {
   "cell_type": "code",
   "execution_count": 165,
   "id": "7d4b0b4a",
   "metadata": {},
   "outputs": [
    {
     "data": {
      "image/png": "[encoded data removed]",
      "text/plain": [
       "<Figure size 720x720 with 5 Axes>"
      ]
     },
     "metadata": {
      "needs_background": "light"
     },
     "output_type": "display_data"
    }
   ],
   "source": [
    "plot_many(ximgs)"
   ]
  },
  {
   "cell_type": "code",
   "execution_count": 167,
   "id": "8727b17a",
   "metadata": {},
   "outputs": [
    {
     "data": {
      "image/png": "[encoded data removed]",
      "text/plain": [
       "<Figure size 720x720 with 5 Axes>"
      ]
     },
     "metadata": {
      "needs_background": "light"
     },
     "output_type": "display_data"
    }
   ],
   "source": [
    "plot_many(yimgs)"
   ]
  },
  {
   "cell_type": "code",
   "execution_count": 152,
   "id": "f59b0bb4",
   "metadata": {},
   "outputs": [
    {
     "name": "stdout",
     "output_type": "stream",
     "text": [
      "100.0\n"
     ]
    },
    {
     "data": {
      "image/png": "[encoded data removed]",
      "text/plain": [
       "<Figure size 432x288 with 1 Axes>"
      ]
     },
     "metadata": {
      "needs_background": "light"
     },
     "output_type": "display_data"
    },
    {
     "data": {
      "image/png": "[encoded data removed]",
      "text/plain": [
       "<Figure size 432x288 with 1 Axes>"
      ]
     },
     "metadata": {
      "needs_background": "light"
     },
     "output_type": "display_data"
    }
   ],
   "source": [
    "method=make_small_neural_method()#make_small_neural_method()\n",
    "splitter=segment_agglomerative\n",
    "# choose the images\n",
    "cimg1=test_images[-4]\n",
    "cimg2=test_images[-4]\n",
    "plt.imshow(cimg1)\n",
    "plt.figure()\n",
    "plt.imshow(cimg2)\n",
    "        \n",
    "ximgs = splitter(cimg1,rejection=0.001, bg=[128,128,128])\n",
    "yimgs = splitter(cimg2,rejection=0.001, bg=[128,128,128])\n",
    "xf=[method['create'](i) for i in ximgs]\n",
    "yf=[method['create'](i) for i in yimgs]\n",
    "l=[]\n",
    "vals = np.array([[method[\"compare\"](i,j,logs=[]) for i in xf] for j in yf])\n",
    "rows, cols = linear_sum_assignment(-vals)\n",
    "ret=vals[rows,cols].sum()/len(rows)\n",
    "print(ret)"
   ]
  },
  {
   "cell_type": "code",
   "execution_count": 153,
   "id": "d1cc7c76",
   "metadata": {},
   "outputs": [
    {
     "data": {
      "text/plain": [
       "array([[100.        ,  22.76259106,  14.84583887,  48.91834611,\n",
       "         28.58008628],\n",
       "       [ 22.76259106, 100.        ,  21.0069882 ,  25.97399766,\n",
       "         22.98156463],\n",
       "       [ 14.84583887,  21.0069882 , 100.        ,  15.77535121,\n",
       "         16.36070389],\n",
       "       [ 48.91834611,  25.97399766,  15.77535121, 100.        ,\n",
       "         28.02810386],\n",
       "       [ 28.58008628,  22.98156463,  16.36070389,  28.02810386,\n",
       "        100.        ]])"
      ]
     },
     "execution_count": 153,
     "metadata": {},
     "output_type": "execute_result"
    }
   ],
   "source": [
    "vals"
   ]
  },
  {
   "cell_type": "code",
   "execution_count": 154,
   "id": "c1e99fc2",
   "metadata": {},
   "outputs": [
    {
     "data": {
      "image/png": "[encoded data removed]",
      "text/plain": [
       "<Figure size 720x720 with 5 Axes>"
      ]
     },
     "metadata": {
      "needs_background": "light"
     },
     "output_type": "display_data"
    }
   ],
   "source": [
    "plot_many(ximgs)"
   ]
  },
  {
   "cell_type": "code",
   "execution_count": 155,
   "id": "0dc8d819",
   "metadata": {},
   "outputs": [
    {
     "data": {
      "image/png": "[encoded data removed]",
      "text/plain": [
       "<Figure size 720x720 with 5 Axes>"
      ]
     },
     "metadata": {
      "needs_background": "light"
     },
     "output_type": "display_data"
    }
   ],
   "source": [
    "plot_many(yimgs)"
   ]
  },
  {
   "cell_type": "code",
   "execution_count": null,
   "id": "22b82dc7",
   "metadata": {},
   "outputs": [],
   "source": []
  },
  {
   "cell_type": "code",
   "execution_count": null,
   "id": "3289907a",
   "metadata": {},
   "outputs": [],
   "source": []
  },
  {
   "cell_type": "code",
   "execution_count": null,
   "id": "1c1e2068",
   "metadata": {},
   "outputs": [],
   "source": []
  },
  {
   "cell_type": "code",
   "execution_count": null,
   "id": "bb840f53",
   "metadata": {},
   "outputs": [],
   "source": []
  },
  {
   "cell_type": "code",
   "execution_count": null,
   "id": "4857e93d",
   "metadata": {},
   "outputs": [],
   "source": []
  },
  {
   "cell_type": "code",
   "execution_count": null,
   "id": "c6b95779",
   "metadata": {},
   "outputs": [],
   "source": []
  },
  {
   "cell_type": "code",
   "execution_count": null,
   "id": "58ab6f29",
   "metadata": {},
   "outputs": [],
   "source": []
  },
  {
   "cell_type": "code",
   "execution_count": null,
   "id": "3832741e",
   "metadata": {},
   "outputs": [],
   "source": [
    "# PIL ImageOps\n",
    "# Try this this week, see if it works better than median filtering\n",
    "img = ImageOps.fit(img, (int(rows  scale), int(cols  scale)), Image.ANTIALIAS)"
   ]
  },
  {
   "cell_type": "code",
   "execution_count": null,
   "id": "2416c669",
   "metadata": {},
   "outputs": [],
   "source": [
    "db1={i:i*5 for i in range(20)}"
   ]
  },
  {
   "cell_type": "code",
   "execution_count": null,
   "id": "1fa675de",
   "metadata": {},
   "outputs": [],
   "source": [
    "a1=[i for i in db1.keys()]\n",
    "a2 = [i for i in range(15)]\n",
    "sorted(a1+a2)"
   ]
  },
  {
   "cell_type": "code",
   "execution_count": null,
   "id": "2f377877",
   "metadata": {},
   "outputs": [],
   "source": [
    "for t in timm_names:\n",
    "    make_timm(t)"
   ]
  },
  {
   "cell_type": "code",
   "execution_count": null,
   "id": "2a8cee20",
   "metadata": {},
   "outputs": [],
   "source": [
    "plt.imshow(test_images[2])"
   ]
  },
  {
   "cell_type": "code",
   "execution_count": null,
   "id": "06bb6838",
   "metadata": {},
   "outputs": [],
   "source": [
    "from scipy.stats import mode\n",
    "cimg=test_images[1]\n",
    "\n",
    "\n",
    "bg_stats(cimg)\n",
    "\n",
    "\n",
    "im7 = safe_translate(cimg)\n",
    "plt.figure()\n",
    "plt.imshow(im7)\n",
    "plt.figure()\n",
    "plt.imshow(recenter(im7))"
   ]
  },
  {
   "cell_type": "code",
   "execution_count": null,
   "id": "a6a914d8",
   "metadata": {},
   "outputs": [],
   "source": [
    "\n",
    "plt.imshow(rotate_safe(cimg, 30))"
   ]
  },
  {
   "cell_type": "code",
   "execution_count": null,
   "id": "725f348a",
   "metadata": {},
   "outputs": [],
   "source": [
    "logdir"
   ]
  },
  {
   "cell_type": "code",
   "execution_count": null,
   "id": "1e9ef16c",
   "metadata": {},
   "outputs": [],
   "source": [
    "np.array(running_images)[np.random.choice(len(running_images),20)]"
   ]
  },
  {
   "cell_type": "code",
   "execution_count": null,
   "id": "21ff819a",
   "metadata": {},
   "outputs": [],
   "source": []
  },
  {
   "cell_type": "code",
   "execution_count": null,
   "id": "33f28626",
   "metadata": {},
   "outputs": [],
   "source": [
    "# how to run your images 2, electric boogaloo\n",
    "def make_aberimgs(imgs,abers):\n",
    "    res=[]\n",
    "    for idx,im in enumerate(imgs):\n",
    "        for a in abers:\n",
    "            res+=[[idx,a(im) if a is not None else im, a.__name__ if a is not None else \"ab_id\"]]\n",
    "    return res\n",
    "def run(db,aber_images,logdir=\"Logs\",report_every=10):\n",
    "    print(\"starting\")\n",
    "    if not os.path.exists(\"Logs\"):\n",
    "        os.mkdir(\"Logs\")\n",
    "    if not os.path.exists(\"Logs/\"+logdir):\n",
    "        os.mkdir(\"Logs/\"+logdir)\n",
    "    candidates= [i for i in range(len(aber_images))]\n",
    "    results={}\n",
    "    imgs_so_far=0\n",
    "    for idx,aberimg,abername in aber_images:\n",
    "        imgs_so_far+=1\n",
    "        if imgs_so_far % report_every == 0:\n",
    "            print(imgs_so_far, \"img idx \", idx)\n",
    "        \n",
    "        start_time=perf_counter()\n",
    "        xl = db.find(aberimg)\n",
    "        rank=0\n",
    "        for hit in xl:\n",
    "            rank+=1\n",
    "            if hit[0]==idx:\n",
    "                break\n",
    "        duration = perf_counter() - start_time\n",
    "        results.setdefault(\"aberration\",[]).append(abername)\n",
    "        results.setdefault(\"method\",[]).append(db.name)\n",
    "        results.setdefault(\"preprocess\",[]).append(db.preprocessing_name)\n",
    "        results.setdefault(\"rank\",[]).append(rank)\n",
    "        results.setdefault(\"time\",[]).append(duration)\n",
    "    # save everything to file and return the dataframes\n",
    "    results_pd = pd.DataFrame(data=results)\n",
    "    log_num = len(glob(\"Logs/\"+logdir+\"/*\")) + 1\n",
    "    results_pd.to_csv(\"Logs/\"+logdir+'/results_'+str(log_num)+'.csv', index = None, header=True)\n",
    "    print(\"logging\")\n",
    "    return results_pd\n",
    "\n",
    "def run_all(methods,images,aberrations,pipelines,logdir=\"Logs\",loglist=[]):\n",
    "    aberimgs=make_aberimgs(images,aberrations)\n",
    "    for m in methods:\n",
    "        for p in pipelines:\n",
    "            db=database(m, images, log=loglist, preprocess=p)\n",
    "            run(db,aberimgs,logdir=logdir)\n",
    "    if loglist != []:\n",
    "        print(\"we had errors please check the return value\")\n",
    "    return loglist"
   ]
  },
  {
   "cell_type": "code",
   "execution_count": null,
   "id": "1deefb0c",
   "metadata": {},
   "outputs": [],
   "source": [
    "image_set_name = \"icon100\"\n",
    "logdir = \"Logs20211105TEST\"\n",
    "\n",
    "hdf5_file = h5py.File('LLD-icon.hdf5', 'r')\n",
    "images, _ = (hdf5_file['data'], hdf5_file['labels/resnet/rc_64'])\n",
    "\n",
    "# transpose the images because they're stored in a weird color channel first format, as indicated by shape[0] being 3\n",
    "images = [np.transpose(i,(1,2,0)) if i.shape[0] == 3 else i for i in images[:100]]\n",
    "running_images=images+test_images\n",
    "print(len(images))\n",
    "print(\"Loading Completed\")\n",
    "\n",
    "#running_methods=[make_timm_method(i,cuda=True) for i in timm_names]+[m() for m in our_methods]\n",
    "running_methods=[method_split_hungarian(make_small_neural_method(), segment_colors)]\n",
    "err=run_all(running_methods, running_images,aberrations,processing_pipelines,logdir=logdir)"
   ]
  },
  {
   "cell_type": "code",
   "execution_count": null,
   "id": "6dc695ee",
   "metadata": {},
   "outputs": [],
   "source": [
    "err"
   ]
  },
  {
   "cell_type": "code",
   "execution_count": null,
   "id": "e2c2bac7",
   "metadata": {},
   "outputs": [],
   "source": [
    "running_methods"
   ]
  },
  {
   "cell_type": "code",
   "execution_count": null,
   "id": "d8de2c58",
   "metadata": {},
   "outputs": [],
   "source": [
    "abim[1]"
   ]
  },
  {
   "cell_type": "code",
   "execution_count": null,
   "id": "072d4962",
   "metadata": {},
   "outputs": [],
   "source": [
    "met=[make_timm_method(i,cuda=True) for i in timm_names]"
   ]
  },
  {
   "cell_type": "code",
   "execution_count": null,
   "id": "8d19fe70",
   "metadata": {},
   "outputs": [],
   "source": [
    "l=[]\n",
    "met[0][\"create\"](running_images[0],log=l)"
   ]
  },
  {
   "cell_type": "code",
   "execution_count": null,
   "id": "4520b49b",
   "metadata": {},
   "outputs": [],
   "source": [
    "l"
   ]
  },
  {
   "cell_type": "code",
   "execution_count": null,
   "id": "f7c3ef6c",
   "metadata": {},
   "outputs": [],
   "source": [
    "logdir = \"Logs20211105TEST2\"\n",
    "# Load all the logs into a single dataframe for processing\n",
    "log_files = glob(\"Logs/\"+logdir+\"/*\") # these are the logs that we're loading\n",
    "print(log_files)\n",
    "joined_logs = pd.concat([pd.read_csv(i) for i in log_files])\n",
    "print(joined_logs)\n",
    "\n"
   ]
  },
  {
   "cell_type": "code",
   "execution_count": null,
   "id": "be879266",
   "metadata": {},
   "outputs": [],
   "source": [
    "print(\"Ranking\")\n",
    "mets=joined_logs[\"method\"].unique()\n",
    "print(mets)\n",
    "split_logs=joined_logs\n",
    "ncols=1\n",
    "nrows=(len(mets)//ncols)+1\n",
    "fig, axes = plt.subplots(nrows=nrows, ncols=ncols)\n",
    "for m,axs in zip(mets,axes.reshape(-1)):\n",
    "    joined_logs[split_logs['method']==m]['rank'].hist(bins=20, figsize=(10,10), ax=axs)\n",
    "    axs.set_title(m)"
   ]
  },
  {
   "cell_type": "code",
   "execution_count": null,
   "id": "706d1472",
   "metadata": {},
   "outputs": [],
   "source": [
    "print(\"Ranking\")\n",
    "mets=joined_logs[\"method\"].unique()\n",
    "split_logs=joined_logs[]\n",
    "ncols=3\n",
    "nrows=(len(mets)//ncols)\n",
    "fig, axes = plt.subplots(nrows=nrows, ncols=ncols)\n",
    "for m,axs in zip(mets,axes.reshape(-1)):\n",
    "    joined_logs[split_logs['method']==m]['rank'].hist(bins=20, figsize=(10,10), ax=axs)\n",
    "    axs.set_title(m)"
   ]
  },
  {
   "cell_type": "code",
   "execution_count": null,
   "id": "6620ce1b",
   "metadata": {},
   "outputs": [],
   "source": [
    "joined_logs[\"preprocess\"].unique()"
   ]
  },
  {
   "cell_type": "code",
   "execution_count": null,
   "id": "f5f7c184",
   "metadata": {},
   "outputs": [],
   "source": [
    "print(\"Ranking\")\n",
    "mets=joined_logs[\"method\"].unique()\n",
    "split_logs=joined_logs[joined_logs[\"preprocess\"]=='recenter']\n",
    "ncols=3\n",
    "nrows=(len(mets)//ncols)\n",
    "fig, axes = plt.subplots(nrows=nrows, ncols=ncols)\n",
    "for m,axs in zip(mets,axes.reshape(-1)):\n",
    "    split_logs[split_logs['method']==m]['rank'].hist(bins=20, figsize=(10,10), ax=axs)\n",
    "    axs.set_title(m)"
   ]
  },
  {
   "cell_type": "code",
   "execution_count": null,
   "id": "4964b305",
   "metadata": {},
   "outputs": [],
   "source": [
    "print(\"Ranking\")\n",
    "mets=joined_logs[\"method\"].unique()\n",
    "split_logs=joined_logs[joined_logs[\"preprocess\"]=='recenter, reduce, smooth']\n",
    "ncols=3\n",
    "nrows=(len(mets)//ncols)\n",
    "fig, axes = plt.subplots(nrows=nrows, ncols=ncols)\n",
    "for m,axs in zip(mets,axes.reshape(-1)):\n",
    "    split_logs[split_logs['method']==m]['rank'].hist(bins=20, figsize=(10,10), ax=axs)\n",
    "    axs.set_title(m)"
   ]
  },
  {
   "cell_type": "code",
   "execution_count": null,
   "id": "2dff704f",
   "metadata": {},
   "outputs": [],
   "source": [
    "print(\"Ranking\")\n",
    "mets=joined_logs[\"method\"].unique()\n",
    "split_logs=joined_logs[joined_logs[\"preprocess\"]=='color_reduce_kmeans']\n",
    "ncols=3\n",
    "nrows=(len(mets)//ncols)\n",
    "fig, axes = plt.subplots(nrows=nrows, ncols=ncols)\n",
    "for m,axs in zip(mets,axes.reshape(-1)):\n",
    "    split_logs[split_logs['method']==m]['rank'].hist(bins=20, figsize=(10,10), ax=axs)\n",
    "    axs.set_title(m)"
   ]
  },
  {
   "cell_type": "code",
   "execution_count": null,
   "id": "3fd73078",
   "metadata": {},
   "outputs": [],
   "source": [
    "print(\"Ranking\")\n",
    "mets=joined_logs[\"method\"].unique()\n",
    "split_logs=joined_logs[joined_logs[\"preprocess\"]=='smooth_median']\n",
    "ncols=3\n",
    "nrows=(len(mets)//ncols)\n",
    "fig, axes = plt.subplots(nrows=nrows, ncols=ncols)\n",
    "for m,axs in zip(mets,axes.reshape(-1)):\n",
    "    split_logs[split_logs['method']==m]['rank'].hist(bins=20, figsize=(10,10), ax=axs)\n",
    "    axs.set_title(m)"
   ]
  },
  {
   "cell_type": "code",
   "execution_count": null,
   "id": "68bc3cee",
   "metadata": {},
   "outputs": [],
   "source": [
    "print(\"Ranking\")\n",
    "mets=joined_logs[\"method\"].unique()\n",
    "split_logs=joined_logs[joined_logs[\"preprocess\"]=='None']\n",
    "ncols=3\n",
    "nrows=(len(mets)//ncols)\n",
    "fig, axes = plt.subplots(nrows=nrows, ncols=ncols)\n",
    "for m,axs in zip(mets,axes.reshape(-1)):\n",
    "    split_logs[split_logs['method']==m]['rank'].hist(bins=20, figsize=(10,10), ax=axs)\n",
    "    axs.set_title(m)"
   ]
  },
  {
   "cell_type": "code",
   "execution_count": null,
   "id": "c172628a",
   "metadata": {
    "scrolled": false
   },
   "outputs": [],
   "source": [
    "print(\"Ranking\")\n",
    "for m in joined_logs[\"method\"].unique():\n",
    "    plt.figure()\n",
    "    split_logs=joined_logs[joined_logs[\"method\"]==m]\n",
    "    procs=split_logs[\"preprocess\"].unique()\n",
    "    ncols=3\n",
    "    nrows=(len(procs)//ncols)+1\n",
    "    fig, axes = plt.subplots(nrows=nrows, ncols=ncols)\n",
    "    fig.suptitle(m)\n",
    "    for p,axs in zip(procs,axes.reshape(-1)):\n",
    "        split_logs[split_logs['preprocess']==p]['rank'].hist(bins=20, figsize=(10,10), ax=axs)\n",
    "        axs.set_title(p)"
   ]
  },
  {
   "cell_type": "code",
   "execution_count": null,
   "id": "040285a6",
   "metadata": {
    "scrolled": false
   },
   "outputs": [],
   "source": [
    "print(\"Time\")\n",
    "for m in joined_logs[\"method\"].unique():\n",
    "    plt.figure()\n",
    "    split_logs=joined_logs[joined_logs[\"method\"]==m]\n",
    "    procs=split_logs[\"preprocess\"].unique()\n",
    "    ncols=3\n",
    "    nrows=(len(procs)//ncols)+1\n",
    "    fig, axes = plt.subplots(nrows=nrows, ncols=ncols)\n",
    "    fig.suptitle(m)\n",
    "    for p,axs in zip(procs,axes.reshape(-1)):\n",
    "        split_logs[split_logs['preprocess']==p]['time'].hist(bins=20, figsize=(10,10), ax=axs)\n",
    "        axs.set_title(p)"
   ]
  },
  {
   "cell_type": "code",
   "execution_count": null,
   "id": "aa3b3520",
   "metadata": {},
   "outputs": [],
   "source": [
    "len(joined_logs[\"aberration\"].unique())"
   ]
  },
  {
   "cell_type": "code",
   "execution_count": null,
   "id": "71a237b6",
   "metadata": {},
   "outputs": [],
   "source": [
    "l=[]\n",
    "segs=segment_agglomerative(rimg,log=l,bg=[128,128,128],rejection=0.02)\n",
    "plot_many([rimg]+segs)\n",
    "segs=segment_colors(rimg,log=l,bg=[128,128,255],rejection=0.02)\n",
    "plot_many([rimg]+segs)\n",
    "segs=segment_kmeans(rimg,log=l,bg=[128,128,128],rejection=0.02)\n",
    "plot_many([rimg]+segs)"
   ]
  },
  {
   "cell_type": "code",
   "execution_count": null,
   "id": "6c07d675",
   "metadata": {},
   "outputs": [],
   "source": [
    "method = make_small_neural_method()\n",
    "\n",
    "timg=test_images[0]\n",
    "def remove_diagonal(a):\n",
    "    return a[~np.eye(a.shape[0],dtype=bool)].reshape(a.shape[0],-1)\n",
    "def difall(a,b):\n",
    "    return ((a[np.newaxis,:,:] - b[:,np.newaxis,:])**2).sum(-1)\n",
    "def method_split_hungarian(method, splitter):\n",
    "    def create(img, **kwargs):\n",
    "        try:\n",
    "            imgs = splitter(img, **kwargs)\n",
    "            return [method[\"create\"](i, **kwargs) for i in imgs], imgs\n",
    "        except:\n",
    "            log(kwargs,{'type':'Error', 'method':'SplitWrapped_'+method[\"name\"], 'fn':'create'})\n",
    "            return None\n",
    "\n",
    "    def compare(x,y, **kwargs):\n",
    "        try:\n",
    "            vals = np.array([[method[\"compare\"](i,j,**kwargs) for i in x] for j in y])\n",
    "            rows, cols = linear_sum_assignment(-vals)\n",
    "            return rows,cols\n",
    "            if len(rows==0):\n",
    "                print(\"divide by zero incoming\")\n",
    "                return 0\n",
    "            return vals[rows,cols].sum()/len(rows)\n",
    "        except:\n",
    "            log(kwargs,{'type':'Error', 'method':'SplitWrapped_'+method[\"name\"], 'fn':'compare'})\n",
    "            return 0\n",
    "    return {\"name\":'SplitWrapped_'+method[\"name\"], \"create\":create, \"compare\":compare}"
   ]
  },
  {
   "cell_type": "code",
   "execution_count": null,
   "id": "10146977",
   "metadata": {},
   "outputs": [],
   "source": [
    "method[\"create\"](timg)\n",
    "splits=segment_colors(timg,log=l,bg=[128,128,128],rejection=0.02)\n",
    "ss=[method[\"create\"](s) for s in splits]\n",
    "ss=np.array(ss)"
   ]
  },
  {
   "cell_type": "code",
   "execution_count": null,
   "id": "e4239741",
   "metadata": {},
   "outputs": [],
   "source": [
    "sss=difall(ss,ss)\n",
    "sss"
   ]
  },
  {
   "cell_type": "code",
   "execution_count": null,
   "id": "40dff905",
   "metadata": {},
   "outputs": [],
   "source": [
    "remove_diagonal(sss)"
   ]
  },
  {
   "cell_type": "code",
   "execution_count": null,
   "id": "85d12a08",
   "metadata": {},
   "outputs": [],
   "source": [
    "linear_sum_assignment(sss)"
   ]
  },
  {
   "cell_type": "code",
   "execution_count": null,
   "id": "0013a619",
   "metadata": {},
   "outputs": [],
   "source": [
    "x=ss\n",
    "y=np.concatenate((ss,ss))\n",
    "k=np.array([[method[\"compare\"](i,j) for i in x] for j in y])\n",
    "linear_sum_assignment(k)"
   ]
  },
  {
   "cell_type": "code",
   "execution_count": null,
   "id": "ed679ae3",
   "metadata": {},
   "outputs": [],
   "source": [
    "m2=method_split_hungarian(method, segment_colors)"
   ]
  },
  {
   "cell_type": "code",
   "execution_count": null,
   "id": "2be3f037",
   "metadata": {
    "scrolled": false
   },
   "outputs": [],
   "source": [
    "d1,i1=m2[\"create\"](test_images[-2])\n",
    "d2,i2=m2[\"create\"](test_images[-4])\n",
    "r,c=m2[\"compare\"](d1, d2)\n",
    "for j,k in zip(c,r):\n",
    "    plot_many([i1[j],i2[k]])\n",
    "plot_many(i1)\n",
    "plot_many(i2)"
   ]
  },
  {
   "cell_type": "code",
   "execution_count": null,
   "id": "44e6e260",
   "metadata": {},
   "outputs": [],
   "source": [
    "image_set_name = \"icon100\"\n",
    "logdir = \"Logs20211105TEST2\"\n",
    "\n",
    "hdf5_file = h5py.File('LLD-icon.hdf5', 'r')\n",
    "images, _ = (hdf5_file['data'], hdf5_file['labels/resnet/rc_64'])\n",
    "\n",
    "# transpose the images because they're stored in a weird color channel first format, as indicated by shape[0] being 3\n",
    "images = [np.transpose(i,(1,2,0)) if i.shape[0] == 3 else i for i in images[:100]]\n",
    "running_images=images+test_images\n",
    "print(len(images))\n",
    "print(\"Loading Completed\")\n",
    "\n",
    "#running_methods=[make_timm_method(i,cuda=True) for i in timm_names]+[m() for m in our_methods]\n",
    "segs=[segment_color, segment_agglomerative, segment_kmeans]\n",
    "running_methods=[method_split_hungarian(make_small_neural_method(), segment_colors) for s in segs]\n",
    "err=run_all(running_methods, running_images,aberrations,processing_pipelines,logdir=logdir)"
   ]
  },
  {
   "cell_type": "code",
   "execution_count": null,
   "id": "f6106910",
   "metadata": {},
   "outputs": [],
   "source": [
    "image_set_name = \"icon100\"\n",
    "logdir = \"Logs20211105TEST3\"\n",
    "\n",
    "hdf5_file = h5py.File('LLD-icon.hdf5', 'r')\n",
    "images, _ = (hdf5_file['data'], hdf5_file['labels/resnet/rc_64'])\n",
    "\n",
    "# transpose the images because they're stored in a weird color channel first format, as indicated by shape[0] being 3\n",
    "images = [np.transpose(i,(1,2,0)) if i.shape[0] == 3 else i for i in images[:100]]\n",
    "running_images=images+test_images\n",
    "print(len(images))\n",
    "print(\"Loading Completed\")\n",
    "\n",
    "#running_methods=[make_timm_method(i,cuda=True) for i in timm_names]+[m() for m in our_methods]\n",
    "segs=[segment_color, segment_agglomerative, segment_kmeans]\n",
    "running_methods=[method_split_hungarian(make_small_neural_method(), segment_colors) for s in segs]\n",
    "err=run_all(running_methods, running_images,aberrations,processing_pipelines,logdir=logdir)"
   ]
  },
  {
   "cell_type": "code",
   "execution_count": null,
   "id": "d6cf4739",
   "metadata": {},
   "outputs": [],
   "source": [
    "from PIL import Image, ImageDraw\n",
    "def draw_poly(dc,poly, scale=1, **kwargs):\n",
    "    coords = (poly*scale).astype(int)\n",
    "    dc.polygon([tuple(i) for i in coords],**kwargs)\n",
    "polys=[# wedge\n",
    "       [[0,0], [0,0.5], [1,1]],\n",
    "       # circle\n",
    "       [[0.5+cos(x*6.14/20)/2,0.5+sin(x*6.14/20)/2] for x in range(20)],\n",
    "       # randomly perturbed circle\n",
    "       [[0.5+cos(x*6.14/20)*np.random.uniform(0.2,1.0)/2,0.5+sin(x*6.14/20)*np.random.uniform(0.2,1.0)/2] for x in range(20)],\n",
    "       # squished circle\n",
    "       [[0.43889485, 1.01199527],\n",
    "           [0.50584096, 1.03654858],\n",
    "           [0.56339267, 1.03823472],\n",
    "           [0.60616826, 1.01689601],\n",
    "           [0.63016773, 0.97452786],\n",
    "           [0.63314687, 0.91509216],\n",
    "           [0.61482709, 0.8441468 ],\n",
    "           [0.5769215 , 0.76832597],\n",
    "           [0.52297469, 0.69471975],\n",
    "           [0.45803129, 0.63021113],\n",
    "           [0.38816421, 0.58083239],\n",
    "           [0.31990682, 0.551201  ],\n",
    "           [0.25964192, 0.5440878 ],\n",
    "           [0.21300497, 0.56015797],\n",
    "           [0.18435702, 0.59790877],\n",
    "           [0.17637698, 0.65381007],\n",
    "           [0.18981107, 0.72263449],\n",
    "           [0.22340306, 0.79794618],\n",
    "           [0.27401172, 0.87270266],\n",
    "           [0.33690458, 0.93991338]],\n",
    "      # star thing\n",
    "      [[0.41807544, 0.87534801],\n",
    "       [0.46415562, 0.98536887],\n",
    "       [0.53947724, 0.94539019],\n",
    "       [0.59524502, 1.0083861 ],\n",
    "       [0.51879522, 0.89930979],\n",
    "       [0.48691866, 0.83740086],\n",
    "       [0.6054967 , 0.86355202],\n",
    "       [0.58552607, 0.83129026],\n",
    "       [0.41381491, 0.66344889],\n",
    "       [0.4658818 , 0.68867009],\n",
    "       [0.38576388, 0.62978679],\n",
    "       [0.32330981, 0.55634607],\n",
    "       [0.32094132, 0.70405591],\n",
    "       [0.32852805, 0.70085152],\n",
    "       [0.3041241 , 0.72073516],\n",
    "       [0.28525641, 0.71508238],\n",
    "       [0.22339421, 0.71973661],\n",
    "       [0.35555229, 0.82499804],\n",
    "       [0.33906122, 0.81146125],\n",
    "       [0.38112243, 0.83347015]]]\n",
    "polys=[np.array(p) for p in polys]\n",
    "colors=[[255,255,255], #white\n",
    "        [255,0,0], #red\n",
    "        [0,255,0], #green\n",
    "        [0,0,255], #blue\n",
    "        [102,0,204], #purple\n",
    "        [128,128,128], #gray\n",
    "        [255,153,153], #pink\n",
    "        [153,153,0], #puke green\n",
    "        [102,102,0], #camo green\n",
    "        [255,128,0], #orange\n",
    "        [204,255,153], #light green\n",
    "        [255,255,51], #lemon yellow\n",
    "        [255,255,0], #yellow\n",
    "       ]\n",
    "for poly in polys:\n",
    "    im = Image.new('RGB', (32,32))\n",
    "    dc = ImageDraw.Draw(im)\n",
    "    draw_poly(dc,poly,scale=32,fill=tuple(colors[np.random.choice(len(colors))]))\n",
    "    plt.figure()\n",
    "    plt.imshow(im)"
   ]
  },
  {
   "cell_type": "code",
   "execution_count": null,
   "id": "88642396",
   "metadata": {},
   "outputs": [],
   "source": [
    "\n",
    "from math import sin, cos\n",
    "def draw_and_show_poly(poly, scale=32):\n",
    "    im=Image.new('RGB', (scale,scale))\n",
    "    dc = ImageDraw.Draw(im)\n",
    "    draw_poly(dc,poly,scale=scale,fill=\"white\")\n",
    "    plt.figure()\n",
    "    plt.imshow(im)\n",
    "def create_transform_random():\n",
    "    mat=np.random.uniform(0,1,(3,3))*0.5\n",
    "    mat[2,0]=0\n",
    "    mat[2,1]=0\n",
    "    mat[2,2]=1\n",
    "    return mat\n",
    "\n",
    "def create_transform_identity():\n",
    "    return np.eye(3,3)\n",
    "\n",
    "def create_transform_informed(scale=(1.0,1.0), rotation=(0.0,0.0), symmetry=False, transform=(0.0,0.0), heat=0):\n",
    "    res=np.eye(3)\n",
    "    scaleness=np.eye(3)*np.random.uniform(*scale)\n",
    "    res=res.dot(scaleness)\n",
    "    rotateness=np.random.uniform(*rotation)\n",
    "    if symmetry:\n",
    "        rotateness += np.random.choice([0,.25,.5,.75])\n",
    "    rotatarr=np.array([[ cos(rotateness*6.28), sin(rotateness*6.28), 0],\n",
    "                         [-sin(rotateness*6.28), cos(rotateness*6.28), 0],\n",
    "                         [0,0,1]])\n",
    "    res=res.dot(rotatarr)\n",
    "    hotness=create_transform_random()*heat\n",
    "    res=res+(hotness-heat/2)\n",
    "    res[0,2]=np.random.uniform(*transform)\n",
    "    res[1,2]=np.random.uniform(*transform)\n",
    "    return res\n",
    "    \n",
    "def transform(tform, points):\n",
    "    res = np.concatenate([points,np.ones([points.shape[0],1])], axis=1)\n",
    "    return res.dot(tform.transpose())[:,:2]\n",
    "\n",
    "def render(dc,scale,tforms, shapes,colors):\n",
    "    for t,sh,c in zip(tforms, shapes,colors):\n",
    "        draw_poly(dc,transform(t,sh),scale=scale, fill=c)\n",
    "        \n",
    "def render_image(scale,tforms,shapes,colors):\n",
    "    im = Image.new('RGB', (scale,scale))\n",
    "    dc = ImageDraw.Draw(im)\n",
    "    render(dc,scale,tforms,shapes,colors)\n",
    "    return im\n",
    "        \n",
    "def create_random_icon(shapes, colors):\n",
    "    structure = [create_transform_identity(),\n",
    "                create_transform_informed(scale=(0.5,1.2), rotation=(0.0,1.0), symmetry=False, heat=0.2),\n",
    "                create_transform_informed(scale=(0.5,1.2), rotation=(0.0,1.0), symmetry=False, heat=0.2),]\n",
    "    colors = [tuple(colors[np.random.choice(len(colors))]),\n",
    "              tuple(colors[np.random.choice(len(colors))]),\n",
    "              tuple(colors[np.random.choice(len(colors))])]\n",
    "    s = [shapes[np.random.choice(len(shapes))],\n",
    "         shapes[np.random.choice(len(shapes))],\n",
    "         shapes[np.random.choice(len(shapes))]]\n",
    "    return structure,colors,s\n",
    "\n",
    "\n",
    "def make_icon3(shapes, colors):\n",
    "    im = Image.new('RGB', (32,32))\n",
    "    dc = ImageDraw.Draw(im)\n",
    "    shape1 = shapes[np.random.choice(len(shapes))]\n",
    "    shape2 = shapes[np.random.choice(len(shapes))]\n",
    "    tform=create_transform_identity()\n",
    "    shape2=transform(tform,shape2)\n",
    "    draw_poly(dc,shape2,scale=32,fill=tuple(colors[np.random.choice(len(colors))]))\n",
    "    return im\n",
    "\n",
    "def make_icon(shapes, colors):\n",
    "    im = Image.new('RGB', (32,32))\n",
    "    dc = ImageDraw.Draw(im)\n",
    "    shape1 = shapes[np.random.choice(len(shapes))]\n",
    "    shape2 = shapes[np.random.choice(len(shapes))]\n",
    "    tform=create_transform_informed(scale=(0.5,1.2), rotation=(0.0,1.0), symmetry=False, heat=0.2)\n",
    "    shape2=transform(tform,shape2)\n",
    "    shape3 = shapes[np.random.choice(len(shapes))]\n",
    "    tform=create_transform_informed(scale=(0.5,1.2), rotation=(0.0,1.0), symmetry=False, heat=0.2)\n",
    "    shape3=transform(tform,shape3)\n",
    "    draw_poly(dc,shape1,scale=32,fill=tuple(colors[np.random.choice(len(colors))]))\n",
    "    draw_poly(dc,shape2,scale=32,fill=tuple(colors[np.random.choice(len(colors))]))\n",
    "    draw_poly(dc,shape3,scale=32,fill=tuple(colors[np.random.choice(len(colors))]))\n",
    "    return im\n",
    "\n",
    "def make_icon2(scale,shapes, colors):\n",
    "    structure,colors,s=create_random_icon(shapes,colors)\n",
    "    return render_image(scale,structure,s,colors)\n",
    "for i in range(5):\n",
    "    plt.imshow(make_icon2(512,polys,colors))\n",
    "    plt.figure()"
   ]
  },
  {
   "cell_type": "code",
   "execution_count": null,
   "id": "fc92f2e2",
   "metadata": {},
   "outputs": [],
   "source": [
    "synthetic_image_data = [create_random_icon(polys,colors) for _ in range(1000)]\n",
    "print(len(synthetic_image_data))\n",
    "low_res_renders = [render_image(32,i[0],i[2],i[1]) for i in synthetic_image_data]\n",
    "high_res_renders = [render_image(512,i[0],i[2],i[1]) for i in synthetic_image_data]"
   ]
  },
  {
   "cell_type": "code",
   "execution_count": null,
   "id": "d19affe0",
   "metadata": {},
   "outputs": [],
   "source": [
    "low_res_renders = [render_image(32,i[0],i[2],i[1]) for i in synthetic_image_data]\n",
    "high_res_renders = [render_image(512,i[0],i[2],i[1]) for i in synthetic_image_data]"
   ]
  },
  {
   "cell_type": "code",
   "execution_count": null,
   "id": "80361e86",
   "metadata": {},
   "outputs": [],
   "source": [
    "for i in high_res_renders[:10]:\n",
    "    plt.imshow(i)\n",
    "    plt.figure()"
   ]
  },
  {
   "cell_type": "code",
   "execution_count": null,
   "id": "09da3889",
   "metadata": {},
   "outputs": [],
   "source": [
    "image_set_name = \"synth100\"\n",
    "logdir = \"Logs20211211TEST\"\n",
    "\n",
    "hdf5_file = h5py.File('LLD-icon.hdf5', 'r')\n",
    "images = high_res_renders[:100]\n",
    "images = [np.array(i) for i in images]\n",
    "\n",
    "# transpose the images because they're stored in a weird color channel first format, as indicated by shape[0] being 3\n",
    "images = [np.transpose(i,(1,2,0)) if i.shape[0] == 3 else i for i in images[:100]]\n",
    "running_images=images+test_images\n",
    "print(len(images))\n",
    "print(\"Loading Completed\")\n",
    "\n",
    "#running_methods=[make_timm_method(i,cuda=True) for i in timm_names]+[m() for m in our_methods]\n",
    "running_methods=[method_split_hungarian(make_small_neural_method(), segment_colors)]\n",
    "err=run_all(running_methods, running_images,aberrations,processing_pipelines,logdir=logdir)"
   ]
  },
  {
   "cell_type": "code",
   "execution_count": null,
   "id": "ff335b3d",
   "metadata": {},
   "outputs": [],
   "source": [
    "err"
   ]
  },
  {
   "cell_type": "code",
   "execution_count": null,
   "id": "c1c149aa",
   "metadata": {},
   "outputs": [],
   "source": []
  }
 ],
 "metadata": {
  "kernelspec": {
   "display_name": "Python 3",
   "language": "python",
   "name": "python3"
  },
  "language_info": {
   "codemirror_mode": {
    "name": "ipython",
    "version": 3
   },
   "file_extension": ".py",
   "mimetype": "text/x-python",
   "name": "python",
   "nbconvert_exporter": "python",
   "pygments_lexer": "ipython3",
   "version": "3.7.10"
  }
 },
 "nbformat": 4,
 "nbformat_minor": 5
}
