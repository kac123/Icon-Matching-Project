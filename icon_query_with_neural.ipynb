{
 "cells": [
  {
   "cell_type": "code",
   "execution_count": 118,
   "metadata": {},
   "outputs": [],
   "source": [
    "## first block of code is just importing everything\n",
    "\n",
    "import sys \n",
    "import os\n",
    "import h5py\n",
    "import pickle\n",
    "from matplotlib import pyplot as plt\n",
    "import numpy as np\n",
    "from scipy import ndimage as ndi\n",
    "import cv2\n",
    "import math\n",
    "import numpy as np\n",
    "import pandas as pd\n",
    "from sklearn.linear_model import LogisticRegression\n",
    "from random import shuffle\n",
    "from tqdm import tqdm, tnrange, tqdm_notebook\n",
    "import collections\n",
    "import random\n",
    "import mahotas \n",
    "from sklearn.preprocessing import normalize\n",
    "from PIL import Image\n",
    "import imutils\n",
    "import logging\n",
    "import torch\n",
    "import torch.nn as nn\n",
    "import torchvision.models as models\n",
    "import torchvision.transforms as transforms\n",
    "from torch.autograd import Variable\n",
    "from time import perf_counter"
   ]
  },
  {
   "cell_type": "code",
   "execution_count": 125,
   "metadata": {},
   "outputs": [],
   "source": [
    "# the utility functions\n",
    " \n",
    "def save_obj(obj, name ):\n",
    "    # save pickle objects\n",
    "    with open('obj/'+ name + '.pkl', 'wb') as f:\n",
    "        pickle.dump(obj, f, pickle.HIGHEST_PROTOCOL)\n",
    "        \n",
    "def load_obj(name ):\n",
    "    # load pickle objects\n",
    "    with open('obj/' + name + '.pkl', 'rb') as f:\n",
    "        return pickle.load(f)        \n",
    "\n",
    "\n",
    "def gray( img ):\n",
    "    # create grayscale image from database image\n",
    "    \n",
    "    # if the image is already grayscale, just return\n",
    "    if(len(np.shape(img)) < 3):\n",
    "        return img\n",
    "#     return cv2.cvtColor(img, cv2.COLOR_RGB2GRAY).astype(np.uint8)\n",
    "    \n",
    "    if np.shape(img)[2] == 3:\n",
    "        img = np.dot( img, [0.299, 0.587, 0.114] )\n",
    "    else:\n",
    "        img = np.dot( np.transpose( img, (1,2,0)), [0.299, 0.587, 0.114] )\n",
    "    return img.astype(np.uint8)\n",
    "\n",
    "def add_border(img):\n",
    "    rows,cols = img.shape\n",
    "    firstcol = img[:,0]\n",
    "    lastcol = img[:,cols-1]\n",
    "    firstrow = img[0,:]\n",
    "    lastrow = img[rows-1,:]\n",
    "    border = list(np.concatenate((firstcol,lastcol,firstrow,lastrow)))\n",
    "    common = int(max(set(border), key = border.count))\n",
    "    array = cv2.copyMakeBorder( img,  10, 10, 10, 10, cv2.BORDER_CONSTANT, value =  common)\n",
    "    return array.astype(np.uint8)\n",
    "\n",
    "def prep_img(img):\n",
    "    img = gray(img)\n",
    "    img = add_border(img)\n",
    "    return img\n",
    "\n",
    "def adjust_gamma(image, gamma=1.0):\n",
    "\n",
    "   invGamma = 1.0 / gamma\n",
    "   table = np.array([((i / 255.0) ** invGamma) * 255\n",
    "      for i in np.arange(0, 256)]).astype(\"uint8\")\n",
    "\n",
    "   return cv2.LUT(image, table)"
   ]
  },
  {
   "cell_type": "code",
   "execution_count": 103,
   "metadata": {},
   "outputs": [],
   "source": [
    "## all the functions related to zernike and contour\n",
    "## KARAN PLEASE fix contour, make it so the database entries are (img_index, {crazy contour data})\n",
    "## ALSO PLEASE seperate the two, create_query(img) should call create_contour, create_zernike, create_sift...\n",
    "## look at the way I've structured the other methods and try to make these work the same way\n",
    "## if not, then please talk to me and we can work together on it\n",
    "\n",
    "# find max distance given a list of points \n",
    "def find_max( point_list):\n",
    "\n",
    "    max_dist = 0.000\n",
    "    first_point = point_list[0]\n",
    "    second_point = point_list[1]\n",
    "\n",
    "    for i in range(0, len(point_list)-1):\n",
    "        for j in range(i+1, len(point_list)):\n",
    "            \n",
    "            dist_sq =  (point_list[i][0] - point_list[j][0])**2 + (point_list[i][1] - point_list[j][1])**2 \n",
    "            \n",
    "            if dist_sq > max_dist:\n",
    "                max_dist = dist_sq\n",
    "                first_point = point_list[i]\n",
    "                second_point = point_list[j]\n",
    "                \n",
    "    return first_point, second_point, math.sqrt(max_dist)\n",
    "    \n",
    "# if object is a circle, find max distance which also has the closest slope to the best fit slope \n",
    "def find_tiebreaker( x, y, best_slope, max_dist ):\n",
    "\n",
    "    first_point = (x[0], y[0])\n",
    "    second_point = (x[1], y[1])\n",
    "    min_slope_diff = 999999.999\n",
    "    \n",
    "    for i in range(0, len(x)-1):\n",
    "        for j in range(i+1,len(x)+i):\n",
    "        \n",
    "            if j >= len(x):\n",
    "                j = j % len(x)\n",
    "            \n",
    "            dist = math.sqrt( (x[i] - x[j])**2 + (y[i] - y[j])**2 )\n",
    "            if (max_dist - dist)/max_dist <= 0.08 and (x[i] - x[j]) != 0 :\n",
    "                slope_diff = abs( (y[i] - y[j])/(x[i] - x[j]) - best_slope )\n",
    "                \n",
    "                if slope_diff < min_slope_diff:\n",
    "                    min_slope_diff = slope_diff\n",
    "                    first_point = (x[i], y[i])\n",
    "                    second_point = (x[j], y[j])    \n",
    "\n",
    "    return first_point, second_point\n",
    "    \n",
    "\n",
    "# find midpoints between two points given a set of fractions  \n",
    "def get_midway (p1, p2, fractions):\n",
    "    \n",
    "    midpts = []\n",
    "    dx = p2[0] - p1[0]\n",
    "    dy = p2[1] - p1[1]\n",
    "    \n",
    "    for n, fract in enumerate(fractions):\n",
    "        x = p1[0] + fract * dx \n",
    "        y = p1[1] + fract * dy \n",
    "        midpts.append( (x,y) )\n",
    "            \n",
    "    return midpts\n",
    "\n",
    "# find intersection of 2 lines     \n",
    "def line_intersect(line1, line2):\n",
    "    xdiff = (line1[0][0] - line1[1][0], line2[0][0] - line2[1][0])\n",
    "    ydiff = (line1[0][1] - line1[1][1], line2[0][1] - line2[1][1]) \n",
    "    \n",
    "    def det(a, b):\n",
    "        return a[0] * b[1] - a[1] * b[0]\n",
    "    \n",
    "    div = det(xdiff, ydiff)\n",
    "    if div == 0:\n",
    "        return (-999999,-999999) \n",
    "\n",
    "    d = (det(*line1), det(*line2))\n",
    "    x = det(d, xdiff) / div\n",
    "    y = det(d, ydiff) / div\n",
    "    return x, y    \n",
    "    \n",
    "# find points of intersection between normal line and all possible line segments in contour \n",
    "def find_intersect( x1, y1, x2, y2):\n",
    "    \n",
    "    intersect = []\n",
    "    \n",
    "    for i in range(0,len(x2)):\n",
    "        j = i + 1\n",
    "        if j == len(x2):\n",
    "            j = 0\n",
    "        \n",
    "        # find point of intersection\n",
    "        point = line_intersect( ((x1[0], y1[0]), (x1[-1], y1[-1])), ((x2[i], y2[i]), (x2[j], y2[j])) )\n",
    "        \n",
    "        # check that the point lies on the contour \n",
    "        dotproduct = (point[0] - x2[i]) * (x2[j] - x2[i]) + (point[1] - y2[i])*(y2[j] - y2[i])\n",
    "        squaredlength = (x2[j] - x2[i])**2 + (y2[j] - y2[i])**2\n",
    "        \n",
    "        if dotproduct >= 0 and dotproduct <= squaredlength and point not in intersect:\n",
    "            intersect.append( point )\n",
    "\n",
    "    return intersect\n",
    "\n",
    "def canny(img):\n",
    "\tcimg = cv2.Canny(img,100,200)\n",
    "\tif np.amax(cimg,axis=(0,1)) == 0:\n",
    "\t\tcimg = cv2.Canny(img,20,100)\n",
    "\tif np.amax(cimg,axis=(0,1)) == 0:\n",
    "\t\tcimg = cv2.Canny(img,5,20)\n",
    "\tif np.amax(cimg,axis=(0,1)) == 0:\n",
    "\t\tcimg = cv2.Canny(img,1,5)\t\n",
    "\treturn cimg\n",
    "\n",
    "def fill_in_diagonals(img):\n",
    "\trows,cols = img.shape[:2]\n",
    "\tmin_x = cols \n",
    "\tmin_y = rows\n",
    "\tmax_x = 0 \n",
    "\tmax_y = 0 \n",
    "\t# fill in any diagonals in the edges \n",
    "\tfor i in range(0, rows):\n",
    "\t\tfor j in range(0, cols):\n",
    "\t\t\tif  i >= 1 and i <= rows - 2 and j >= 1 and j <= cols - 2: \n",
    "\t\t\t\tif img[i,j] == 255 and img[i,j-1] == 0 and img[i+1,j] == 0 and img[i+1,j-1] == 255:\n",
    "\t\t\t\t\timg[i+1,j] = 255 \n",
    "\t\t\t\telif img[i,j] == 255 and img[i,j+1] == 0 and img[i+1,j] == 0 and img[i+1,j+1] == 255:\n",
    "\t\t\t\t\timg[i+1,j] = 255 \n",
    "\t\t\t\n",
    "\t\t\tif img[i,j] == 255:\n",
    "\t\t\t\tif j > max_x:\n",
    "\t\t\t\t\tmax_x = j \n",
    "\t\t\t\tif j < min_x:\n",
    "\t\t\t\t\tmin_x = j\n",
    "\t\t\t\tif i > max_y:\n",
    "\t\t\t\t\tmax_y = i \n",
    "\t\t\t\tif i < min_y: \n",
    "\t\t\t\t\tmin_y = i\n",
    "\treturn img, rows, cols, min_x, min_y, max_x, max_y\n",
    "\n",
    "def image_preprocess(img):\n",
    "\timg = gray(img)\n",
    "\trows,cols = img.shape[:2]\n",
    "\t# create grayscale image and use Canny edge detection\n",
    "\tcimg = canny(img)\t\n",
    "\t\n",
    "\tdcimg, rows, cols, min_x, min_y, max_x, max_y = fill_in_diagonals(cimg)\n",
    "\t\n",
    "\treturn rows, cols, min_x, min_y, max_x, max_y, dcimg\n",
    "\n",
    "def edge_detect( img ):\n",
    "\n",
    "    edges1 = canny(img)\n",
    "\n",
    "    edges2, rows, cols, min_x, min_y, max_x, max_y = fill_in_diagonals(edges1)\n",
    "                    \n",
    "    edges2 = edges2[min_y:max_y+1, min_x:max_x+1]\n",
    "    row_dist = max_y+1-min_y\n",
    "    col_dist = max_x+1-min_x\n",
    "    scale = int(1000 / max(row_dist,col_dist))\n",
    "    try:\n",
    "        edges2 = cv2.resize(edges2, dsize=(row_dist*scale, col_dist*scale), interpolation=cv2.INTER_CUBIC)                \n",
    "    except:\n",
    "        edges2 = edges1\n",
    "        \n",
    "    return edges1, edges2 \n",
    "\n",
    "def find_contours(img):\n",
    "    img_gamma = adjust_gamma(img, .33)\n",
    "    rows,cols = img.shape[:2]\n",
    "\n",
    "    # create grayscale image and use Canny edge detection\n",
    "    edges1, edges2 = edge_detect(img)\n",
    "    edges_gamma, edges2_gamma = edge_detect(img_gamma) \n",
    "    \n",
    "    # find contours from edge image\n",
    "    try:\n",
    "        image, contours, hierarchy = cv2.findContours(edges1,cv2.RETR_LIST,cv2.CHAIN_APPROX_NONE)\n",
    "    except:\n",
    "        contours, hierarchy = cv2.findContours(edges1,cv2.RETR_LIST,cv2.CHAIN_APPROX_NONE)\n",
    "    \n",
    "    try:\n",
    "        contours_gamma, hier = cv2.findContours(edges_gamma,cv2.RETR_CCOMP,cv2.CHAIN_APPROX_NONE)\n",
    "    except:\n",
    "        image, contours_gamma, hier = cv2.findContours(edges_gamma,cv2.RETR_CCOMP,cv2.CHAIN_APPROX_NONE)\n",
    "            \n",
    "    total_perimeter = 0\n",
    "    for n, contour in enumerate(contours):\n",
    "        total_perimeter += cv2.arcLength(contour,False)\n",
    "        \n",
    "    total_perimeter_gamma = 0\n",
    "    for n, contour_g in enumerate(contours_gamma):\n",
    "        total_perimeter_gamma += cv2.arcLength(contour_g,False)  \n",
    "        \n",
    "    if total_perimeter_gamma >= 1.1 * total_perimeter:\n",
    "        contours = contours_gamma\n",
    "        edges2 = edges2_gamma\n",
    "        \n",
    "    return contours, edges2\n",
    "\n",
    "def create_zernike(img):\n",
    "    \n",
    "    contours, edges = find_contours(img)\n",
    "\n",
    "    try:\n",
    "        zernike = mahotas.features.zernike_moments(edges, 16)    \n",
    "        zernike = normalize(zernike[:,np.newaxis], axis=0).ravel()    \n",
    "    except:\n",
    "        zernike = [0] * 25\n",
    "            \n",
    "    return zernike\n",
    "\n",
    "def compare_zernike( z1, z2):\n",
    "    \n",
    "    dot_prod = sum(i[0] * i[1] for i in zip( z1, z2 ))\n",
    "    score = round(666.667 * max((dot_prod - .850),0),1)\n",
    "    \n",
    "    return score    \n",
    "\n",
    "def test_zernike( z, hash_zernike, candidates = None ):\n",
    "\n",
    "    zernike_list = []\n",
    "  \n",
    "\tif candidates is None:\n",
    "\t\tcandidates = hash_zernike.keys()\n",
    "    \n",
    "    for image_index in tqdm_notebook( candidates ):\n",
    "    \n",
    "        score = compare_zernike( z, hash_zernike.get(image_index))\n",
    "        zernike_list.append(( image_index, score ))\n",
    "        \n",
    "    return zernike_list \n",
    "\n",
    "def generate_database_zernike( images ):\n",
    "\tdatabase  = {}\n",
    "\tfor img_index in range(len(images)):\n",
    "\t\tif img_index%50 == 0:\n",
    "\t\t\tprint(img_index)\n",
    "\t\timg = images[img_index]\n",
    "\t\tdatabase[img_index] = create_zernike(img)\n",
    "\treturn database\n",
    "\n",
    "def create_query( img, fractions ):\n",
    "    ## PLEASE separate zernike and contour\n",
    "    ## especially with the gamma stuff going on I can't safely pull them apart myself, you understand what's\n",
    "    ## going on so please do so.\n",
    "    rows,cols = img.shape[:2]\n",
    "    contours, edges = find_contours(img)\n",
    "    dist_append = []\n",
    "    \n",
    "    # find hull and defects of the contour \n",
    "    for n in range(0,len(contours)):\n",
    "    \n",
    "        cnt = contours[n]\n",
    "        hull = cv2.convexHull(cnt,returnPoints = False)\n",
    "        defects = cv2.convexityDefects(cnt,hull)\n",
    "        \n",
    "        # initialize list to track all points on the hull as well as points with defects \n",
    "        point_track = []\n",
    "        \n",
    "        for j in range (hull.shape[0]):    \n",
    "            i = hull[j]\n",
    "            point = tuple(cnt[i][0][0])\n",
    "            point_track.append(point)\n",
    "        \n",
    "        if defects is not None:\n",
    "            for i in range(defects.shape[0]):\n",
    "                s,e,f,d = defects[i,0]\n",
    "                far = tuple(cnt[f][0])\n",
    "                point_track.append(far)\n",
    "        \n",
    "        # 4b. find max distance and plot 2 points along with longest line \n",
    "        if len(point_track) >= 2:\n",
    "            [point1, point2, max_dist, point3, point4, second_dist] = find_max(point_track)\n",
    "            ratio_dist = second_dist/max_dist\n",
    "        \n",
    "            # find midway points along line segment  \n",
    "            midpts = get_midway( point1, point2, fractions ) \n",
    "            \n",
    "            # slope of normal line \n",
    "            if (point2[0]-point1[0]) == 0:\n",
    "                slope = 0\n",
    "            elif (point2[1]-point1[1]) == 0:\n",
    "                slope = 10000\n",
    "            else:\n",
    "                slope = -1 / ( (point2[1]-point1[1]) / (point2[0]-point1[0]) )\n",
    "        \n",
    "            # 4d. loop through the middle/quarter/eighth points and plot the normal lines \n",
    "            for m, pt in enumerate(midpts):\n",
    "    \n",
    "                x = np.linspace(0.0,cols,3)\n",
    "                y = [float(slope * i - slope * pt[0] + pt[1]) for i in x]  \n",
    "                \n",
    "                if n == 0:\n",
    "                    for n1 in range(0,len(contours)):\n",
    "                        cnt1 = contours[n1]    \n",
    "                    \n",
    "                        # find points of intersection between normal line and contour, plot those points\n",
    "                        intersect = find_intersect(x, y, cnt1[:,0,0], cnt1[:,0,1])\n",
    "                        \n",
    "                        # distance between middle point and intersect points, normalize using length of longest line\n",
    "                        dist = [ round( math.sqrt( (i[0] - pt[0])**2 + (i[1] - pt[1])**2 ) / max_dist , 3 ) for i in intersect ]\n",
    "                        for d in dist:\n",
    "                            if (fractions[m],d) not in dist_append:\n",
    "                                dist_append.append((fractions[m],d))\n",
    "                                \n",
    "                else:\n",
    "                    # find points of intersection between normal line and contour, plot those points\n",
    "                    intersect = find_intersect(x, y, cnt[:,0,0], cnt[:,0,1])\n",
    "                    \n",
    "                    # distance between middle point and intersect points, normalize using length of longest line\n",
    "                    dist = [ round( math.sqrt( (i[0] - pt[0])**2 + (i[1] - pt[1])**2 ) / max_dist , 3 ) for i in intersect ]\n",
    "                    for d in dist:\n",
    "                        if (fractions[m],d) not in dist_append:\n",
    "                            dist_append.append((fractions[m],d))\n",
    "                            \n",
    "            # find midway points along second best line segment  \n",
    "            if n <= 1 and ratio_dist >= .988:\n",
    "                midpts2 = get_midway( point3, point4, fractions ) \n",
    "                \n",
    "                # slope of normal line \n",
    "                if (point4[0]-point3[0]) == 0:\n",
    "                    slope2 = -1 / ( (point4[1]-point3[1]) / (point4[0]-point3[0] + 0.0001) )\n",
    "                elif (point4[1]-point3[1]) == 0:\n",
    "                    slope2 = -1 / ( (point4[1]-point3[1] + 0.0001) / (point4[0]-point3[0]) )\n",
    "                else:\n",
    "                    slope2 = -1 / ( (point4[1]-point3[1]) / (point4[0]-point3[0]) ) \n",
    "                \n",
    "                for m, pt in enumerate(midpts2):\n",
    "                    x1 = np.linspace(0,cols,num=cols+1)\n",
    "                    y1 = [slope2 * i - slope2 * pt[0] + pt[1] for i in x1] \n",
    "    \n",
    "                    intersect = find_intersect(x1, y1, cnt[:,0,0], cnt[:,0,1])\n",
    "                    if len(intersect) > 0:\n",
    "                    \n",
    "                        # distance between middle point and intersect points, normalize using length of longest line\n",
    "                        dist = [ round( math.sqrt( (i[0] - pt[0])**2 + (i[1] - pt[1])**2 ) / second_dist , 2 ) for i in intersect ]\n",
    "                        for d in dist:\n",
    "                            if (fractions[m],d) not in dist_append:\n",
    "                                dist_append.append((fractions[m],d))              \n",
    "\n",
    "    \n",
    "    ## create final dictionary for contour method distances    \n",
    "    query = {}        \n",
    "    for d in dist_append:\n",
    "        query.setdefault(d[0],[]).append(d[1])    \n",
    "        \n",
    "    return query         \n",
    "\n",
    "def compare_contour( query1, query2, error, fractions):\n",
    "    \n",
    "    total_points = 0\n",
    "    matched = 0\n",
    "    reverse_matched = 0\n",
    "    \n",
    "    # loop through each of the fractions (key of the dictionary)\n",
    "    for f in fractions:\n",
    "        \n",
    "        for dist in query2.get(f):\n",
    "    \n",
    "            total_points += 1\n",
    "            \n",
    "            for query_dist in query1.get(f):\n",
    "                \n",
    "                if query_dist >= dist - error and query_dist <= dist + error:\n",
    "                    \n",
    "                    matched += 1\n",
    "                    break\n",
    "                    \n",
    "            for query_dist in query1.get(round(1-f,1)):\n",
    "                \n",
    "                if query_dist >= dist - error and query_dist <= dist + error:\n",
    "                    \n",
    "                    reverse_matched += 1\n",
    "                    break\n",
    "                    \n",
    "    matched = max(matched, reverse_matched)\n",
    "    if total_points > 0:\n",
    "        score = round( float( 100 * matched/total_points ), 1 )\n",
    "    else:\n",
    "        score = 0\n",
    "        \n",
    "    return score    \n",
    "    \n",
    "def test_contour( image_query, hash_contour, error, fractions, candidates = None ):\n",
    "    \n",
    "    # track all of the matched images\n",
    "    contour_list = []\n",
    "    \n",
    "\tif candidates is None:\n",
    "\t\tcandidates = hash_contour.keys()\n",
    "\n",
    "    # loop through each of the fractions (key of the dictionary)\n",
    "    for image_index in tqdm_notebook( candidates ):\n",
    "        score = compare_contour( image_query, hash_contour.get(image_index), error, fractions )\n",
    "        contour_list.append(( image_index, score ))\n",
    "        \n",
    "    return contour_list \n",
    "\n",
    "def generate_database_contour( images, fractions):\n",
    "\tdatabase  = {}\n",
    "\tfor img_index in range(len(images)):\n",
    "\t\tif img_index%50 == 0:\n",
    "\t\t\tprint(img_index)\n",
    "\t\timg = images[img_index]\n",
    "\t\tdatabase[img_index] = create_query(img, fractions)\n",
    "\treturn database"
   ]
  },
  {
   "cell_type": "code",
   "execution_count": 130,
   "metadata": {},
   "outputs": [],
   "source": [
    "# sift\n",
    "\n",
    "class sift_method(object):\n",
    "    # all the methods are structured the same, so I'm mostly commenting this one as an example\n",
    "    # hold the database internally to avoid passing it around so much\n",
    "\tdatabase = {}\n",
    "    # and define all the auxilliary stuff needed for the method to run\n",
    "    # parameters, objects, etc...\n",
    "\tsift = cv2.xfeatures2d.SIFT_create()\n",
    "\tFLANN_INDEX_KDTREE = 0\n",
    "\tindex_params = dict(algorithm = FLANN_INDEX_KDTREE, trees = 5)\n",
    "\tsearch_params = dict(checks=50)   # or pass empty dictionary\n",
    "\tmatcher = cv2.FlannBasedMatcher(index_params,search_params)\n",
    "\n",
    "\tdef __init__(self, database = None):\n",
    "        # if the database is passed in, make it the internally stored database\n",
    "        # otherwise it stays empty\n",
    "\t\tif database:\n",
    "\t\t\tself.database = database\n",
    "\n",
    "\tdef create_query(self, img):\n",
    "        # run the method on a single image\n",
    "        \n",
    "        # preproccess the image\n",
    "\t\timg = gray(img)\n",
    "\t\timg = cv2.resize(img,None, fx=13, fy=13, interpolation=cv2.INTER_AREA)\n",
    "\t\t\n",
    "\t\t# find the keypoints and descriptors with sift\n",
    "\t\tkp1, des1 = self.sift.detectAndCompute(img,None)\n",
    "        # if sift doesn't give us enough info to match, return none\n",
    "\t\tif len(kp1) < 2:\n",
    "\t\t\tdes1 = None\n",
    "\t\treturn des1\n",
    "\n",
    "\tdef compare_queries(self, img_kp1, img_kp2):\n",
    "        # compare the queries generated by two images to obtain a similarity score\n",
    "        \n",
    "        # if either of the two image queries is missing, then return 0\n",
    "\t\tif img_kp1 is None:\n",
    "\t\t\treturn 0\n",
    "\t\tif img_kp2 is None:\n",
    "\t\t\treturn 0\n",
    "        # try to run the matcher, if it fails return 0\n",
    "\t\ttry:\n",
    "\t\t\tmatches = self.matcher.knnMatch(img_kp1, img_kp2, k=2)\n",
    "\t\texcept:\n",
    "\t\t\treturn 0\n",
    "\t\t\t\n",
    "        # count up the number of matches that are \"close enough\"\n",
    "\t\tscore = 0\n",
    "\t\tfor i,(m,n) in enumerate(matches):\n",
    "\t\t\tif m.distance < 0.7*n.distance:\n",
    "\t\t\t\tscore += 1\n",
    "\t\treturn score\n",
    "\n",
    "\tdef test_query(self, img_kp, candidates=None):\n",
    "        # test the given image query against the internal database\n",
    "        # if a list of candidates to try is passed in, only check against those\n",
    "        \n",
    "\t\tsift_list = []\n",
    "\t\tif candidates is None:\n",
    "\t\t\tcandidates = self.database.keys()\n",
    "\t\tfor img_index in candidates:\n",
    "\t\t\tsift_list.append((img_index, self.compare_queries(img_kp, self.database[img_index])))\n",
    "\t\tbest = 1\n",
    "\t\tfor i in sift_list:\n",
    "\t\t\tif i[1] > best:\n",
    "\t\t\t\tbest = i[1]\n",
    "\t\tsift_list = [(x[0],round(100 * x[1]/best)) for x in sift_list]\n",
    "\t\treturn sift_list\n",
    "\n",
    "\tdef generate_database(self, images):\n",
    "        # generate an image database from the given images, store as the internal database and also return it\n",
    "\t\tself.database  = {}\n",
    "\t\tfor img_index in range(len(images)):\n",
    "\t\t\tif img_index%50 == 0:\n",
    "\t\t\t\tprint(img_index)\n",
    "\t\t\timg = images[img_index]\n",
    "\t\t\tself.database[img_index] = self.create_query(img)\n",
    "\t\treturn self.database"
   ]
  },
  {
   "cell_type": "code",
   "execution_count": 134,
   "metadata": {},
   "outputs": [],
   "source": [
    "# orb\n",
    "\n",
    "class orb_method(object):\n",
    "\tdatabase = {}\n",
    "\torb = cv2.ORB_create()\n",
    "\n",
    "\tdef __init__(self, database = None):\n",
    "\t\tif database:\n",
    "\t\t\tself.database = database\n",
    "\n",
    "\tdef create_query(self, img):\n",
    "\t\timg = gray(img)\n",
    "\t\timg = cv2.resize(img,None, fx=13, fy=13, interpolation=cv2.INTER_AREA)\n",
    "\n",
    "\t\t# find the keypoints and descriptors with orb\n",
    "\t\tkp1, des1 = self.orb.detectAndCompute(img,None)\n",
    "\t\tif len(kp1) < 2:\n",
    "\t\t\tdes1 = None\n",
    "\t\treturn des1\n",
    "\n",
    "\tdef compare_queries(self, img_kp1, img_kp2):\n",
    "\t\tif img_kp1 is None:\n",
    "\t\t\treturn 0\n",
    "\t\tif img_kp2 is None:\n",
    "\t\t\treturn 0\n",
    "\t\tmatcher = cv2.BFMatcher(cv2.NORM_HAMMING, crossCheck=True)\n",
    "\t\tmatches = matcher.match(img_kp1,img_kp2)\n",
    "\t\tscore=len(matches)\n",
    "\t\treturn score\n",
    "\n",
    "\tdef test_query(self, img_kp, candidates=None):\n",
    "\t\torb_list = []\n",
    "\t\tif candidates is None:\n",
    "\t\t\tcandidates = self.database.keys()\n",
    "\t\tfor img_index in candidates:\n",
    "\t\t\torb_list.append((img_index, self.compare_queries(img_kp, self.database[img_index])))\n",
    "\t\tbest = 1\n",
    "\t\tfor i in orb_list:\n",
    "\t\t\tif i[1] > best:\n",
    "\t\t\t\tbest = i[1]\n",
    "\t\torb_list = [(x[0],round(100 * x[1]/best)) for x in orb_list]\n",
    "\t\treturn orb_list\n",
    "\n",
    "\tdef generate_database(self, images):\n",
    "\t\tself.database  = {}\n",
    "\t\tfor img_index in range(len(images)):\n",
    "\t\t\tif img_index%50 == 0:\n",
    "\t\t\t\tprint(img_index)\n",
    "\t\t\timg = images[img_index]\n",
    "\t\t\tself.database[img_index] = self.create_query(img)\n",
    "\t\treturn self.database"
   ]
  },
  {
   "cell_type": "code",
   "execution_count": 106,
   "metadata": {},
   "outputs": [],
   "source": [
    "# neural\n",
    "\n",
    "class neural_method(object):\n",
    "\tdatabase = {}\n",
    "\t# Load the pretrained model\n",
    "\tmodel = models.resnet18(pretrained=True)\n",
    "\t#strip the final layer to get a feature vector\n",
    "\tmodel = nn.Sequential(*list(model.children())[:-1])  \n",
    "\t# Set model to evaluation mode\n",
    "\tmodel.eval()\n",
    "\n",
    "\tdef __init__(self, database = None):\n",
    "\t\tif database:\n",
    "\t\t\tself.database = database\n",
    "\n",
    "\tdef create_query(self, img):\n",
    "\t\tscaler = transforms.Resize((224, 224))\n",
    "\t\tnormalize = transforms.Normalize(mean=[0.485, 0.456, 0.406], \n",
    "\t\t\tstd=[0.229, 0.224, 0.225])\n",
    "\t\tto_tensor = transforms.ToTensor()\n",
    "\t\tpillize = transforms.ToPILImage()\n",
    "\t\tloader = transforms.Compose([pillize, scaler, to_tensor, normalize])\n",
    "\t\tl_img = loader(img)\n",
    "\t\tt_img = Variable(l_img).unsqueeze(0)\n",
    "\t\tf_vec = self.model(t_img).squeeze()\n",
    "\t\treturn f_vec.detach().numpy()\n",
    "\n",
    "\tdef compare_queries(self, v1, v2):\n",
    "\t\tsim = np.dot(v1, v2)\n",
    "\t\treturn sim.item()\n",
    "\n",
    "\tdef test_query(self, img_vec, candidates=None):\n",
    "\t\tneural_list = []\n",
    "\t\tif candidates is None:\n",
    "\t\t\tcandidates = self.database.keys()\n",
    "\t\tfor img_index in candidates:\n",
    "\t\t\tneural_list.append((img_index, self.compare_queries(img_vec, self.database[img_index])))\n",
    "\t\treturn neural_list\n",
    "\n",
    "\tdef generate_database(self, images):\n",
    "\t\tself.database  = {}\n",
    "\t\tfor img_index in range(len(images)):\n",
    "\t\t\tif img_index%50 == 0:\n",
    "\t\t\t\tprint(img_index)\n",
    "\t\t\timg = images[img_index]\n",
    "\t\t\tself.database[img_index] = self.create_query(img)\n",
    "\t\treturn self.database"
   ]
  },
  {
   "cell_type": "code",
   "execution_count": 107,
   "metadata": {},
   "outputs": [],
   "source": [
    "# zernike, minus the gamma correction stuff\n",
    "\n",
    "class zernike_method(object):\n",
    "\tdatabase = {}\n",
    "\n",
    "\tdef __init__(self, database = None):\n",
    "\t\tif database:\n",
    "\t\t\tself.database = database\n",
    "\n",
    "\tdef create_query(self, img):\n",
    "\t\t_, _, min_x, min_y, max_x, max_y, edges1 = image_preprocess(img) \n",
    "\t\t## create zernike vector \n",
    "\t\tedges2 = edges1[min_y:max_y+1, min_x:max_x+1]\n",
    "\t\tedges2 = cv2.resize(edges2, dsize=(32, 32), interpolation=cv2.INTER_CUBIC)\n",
    "\t\tzernike = mahotas.features.zernike_moments(edges2, 16)\t\n",
    "\t\treturn normalize(zernike[:,np.newaxis], axis=0).ravel()\n",
    "\n",
    "\tdef compare_queries(self, x,y):\n",
    "\t\tdot_prod = sum(i[0] * i[1] for i in zip(x, y))\n",
    "\t\treturn round(666.667 * (dot_prod - .850),1) \n",
    "\n",
    "\tdef test_query(self, z, candidates=None):\n",
    "\t\tzernike_list = []\n",
    "\t\tif candidates is None:\n",
    "\t\t\tcandidates = self.database.keys()\n",
    "\t\tfor img_index in candidates:\n",
    "\t\t\tzernike_list.append((img_index, self.compare_queries(z, self.database[img_index])))\n",
    "\t\treturn zernike_list\t\n",
    "\n",
    "\tdef generate_database(self, images):\n",
    "\t\tself.database  = {}\n",
    "\t\tfor img_index in range(len(images)):\n",
    "\t\t\tif img_index%50 == 0:\n",
    "\t\t\t\tprint(img_index)\n",
    "\t\t\timg = images[img_index]\n",
    "\t\t\tself.database[img_index] = self.create_query(img)\n",
    "\t\treturn self.database"
   ]
  },
  {
   "cell_type": "code",
   "execution_count": 108,
   "metadata": {},
   "outputs": [],
   "source": [
    "# functions to save and load databases\n",
    "# the advantage of structuring all the methods in a similar way is that we can write looping code like this\n",
    "def generate_databases(imgs, method_classes, name):\n",
    "    for method_c in method_classes: # for each method class\n",
    "        method = method_c() # create the method by instancing the class\n",
    "        db = method.generate_database(imgs) # generate the database from the images\n",
    "        filename = \"db_\"+method.__class__.__name__+\"_\"+name # this is what the database file should be called\n",
    "        save_obj(db, filename) # save it\n",
    "        \n",
    "def load_databases(method_classes, name):\n",
    "    loaded_methods = [] # list of loaded methods to return\n",
    "    for method_c in method_classes: # for each method class\n",
    "        filename = \"db_\"+method_c.__name__+\"_\"+name # this is what the database file should be called\n",
    "        db = load_obj(filename) # load the database file\n",
    "        method = method_c(db) # construct the instance of the method class using the database\n",
    "        loaded_methods.append(method) # add it to the list of methods to return\n",
    "    return loaded_methods"
   ]
  },
  {
   "cell_type": "code",
   "execution_count": 109,
   "metadata": {},
   "outputs": [],
   "source": [
    "def ab_id(img):\n",
    "    return img\n",
    "\n",
    "def ab_rotate_border(img):\n",
    "    rows,cols = img.shape\n",
    "    firstcol = img[:,0]\n",
    "    lastcol = img[:,cols-1]\n",
    "    firstrow = img[0,:]\n",
    "    lastrow = img[rows-1,:]\n",
    "    border = list(np.concatenate((firstcol,lastcol,firstrow,lastrow)))\n",
    "    common = int(max(set(border), key = border.count))\n",
    "    M = cv2.getRotationMatrix2D(((cols-1)/2.0,(rows-1)/2.0),random.randint(90,180),1)\n",
    "    img = cv2.warpAffine(img,M,(cols,rows),borderMode=cv2.BORDER_CONSTANT,borderValue=common)\n",
    "    return img\n",
    "\n",
    "def ab_scale_border(img):\n",
    "    rows,cols = img.shape\n",
    "    firstcol = img[:,0]\n",
    "    lastcol = img[:,cols-1]\n",
    "    firstrow = img[0,:]\n",
    "    lastrow = img[rows-1,:]\n",
    "    border = list(np.concatenate((firstcol,lastcol,firstrow,lastrow)))\n",
    "    common = int(max(set(border), key = border.count))\n",
    "    M = cv2.getRotationMatrix2D(((cols-1)/2.0,(rows-1)/2.0),0,1.2)\n",
    "    img = cv2.warpAffine(img,M,(cols,rows),borderMode=cv2.BORDER_CONSTANT,borderValue=common)\n",
    "    return img\n",
    "\n",
    "def ab_shrink_border(img):\n",
    "    rows,cols = img.shape\n",
    "    firstcol = img[:,0]\n",
    "    lastcol = img[:,cols-1]\n",
    "    firstrow = img[0,:]\n",
    "    lastrow = img[rows-1,:]\n",
    "    border = list(np.concatenate((firstcol,lastcol,firstrow,lastrow)))\n",
    "    common = int(max(set(border), key = border.count))\n",
    "    M = cv2.getRotationMatrix2D(((cols-1)/2.0,(rows-1)/2.0),0,0.8)\n",
    "    img = cv2.warpAffine(img,M,(cols,rows),borderMode=cv2.BORDER_CONSTANT,borderValue=common)\n",
    "    return img\n",
    "\n",
    "def ab_translate(img):\n",
    "    rows,cols = img.shape\n",
    "    M = np.float32([[1,0,-6],[0,1,6]])\n",
    "    img = cv2.warpAffine(img,M,(cols,rows),borderMode=cv2.BORDER_REPLICATE)\n",
    "    return img\n",
    "\n",
    "def ab_rotate(img):\n",
    "    rows,cols = img.shape\n",
    "    M = cv2.getRotationMatrix2D(((cols-1)/2.0,(rows-1)/2.0),random.randint(0,360),1)\n",
    "    img = cv2.warpAffine(img,M,(cols,rows),borderMode=cv2.BORDER_REPLICATE)\n",
    "    return img\n",
    "\n",
    "def ab_affine(img):\n",
    "    # cv2.getAffineTransform takes 3 input points and 3 output points, and returns the affine transformation matrix mapping the input points to the output.\n",
    "    rows,cols = img.shape\n",
    "    pts1 = np.float32([[0,0],[0,30],[30,30]])\n",
    "    pts2 = np.float32([[5,5],[6,20],[22,21]])\n",
    "    M = cv2.getAffineTransform(pts1,pts2)\n",
    "    img = cv2.warpAffine(img,M,(cols,rows),borderMode=cv2.BORDER_REPLICATE)\n",
    "    return img\n",
    "\n",
    "def ab_scale(img):\n",
    "    rows,cols = img.shape\n",
    "    M = cv2.getRotationMatrix2D(((cols-1)/2.0,(rows-1)/2.0),0,random.uniform(.8, 1.25))\n",
    "    img = cv2.warpAffine(img,M,(cols,rows),borderMode=cv2.BORDER_REPLICATE)\n",
    "    return img\n",
    "\n",
    "def ab_flip(img):\n",
    "    img = cv2.flip(img, random.randint(0,1))\n",
    "    return img\n",
    "\n",
    "def ab_line(img):\n",
    "    cv2.line(img,(16,20),(21,19),(0,300,300),2)\n",
    "    cv2.line(img,(23,22),(18,20),(0,300,300),2)\n",
    "    return img\n",
    "\n",
    "def ab_circle(img):\n",
    "    cv2.circle(img, (14,18), 3, (0,300,300), 2)\n",
    "    cv2.circle(img, (19,13), 3, (0,300,300), 3)\n",
    "    return img\n",
    "\n",
    "def ab_line_circle(img):\n",
    "    cv2.line(img,(11,10),(15,8),(0,300,300),2)        \n",
    "    cv2.circle(img, (14,18), 3, (0,300,300), 2)\n",
    "    return img   \n",
    "\n",
    "def ab_two_line_circle(img):\n",
    "    cv2.line(img,(6,20),(6,12),(0,300,300),2)  \n",
    "    cv2.line(img,(10,25),(18,25),(0,300,300),2) \n",
    "    cv2.circle(img, (14,18), 3, (0,300,300), 2)\n",
    "    cv2.circle(img, (19,12), 3, (0,300,300), 2)        \n",
    "    return img \n",
    "\n",
    "def ab_trans_rot(img):\n",
    "    return(ab_translate(ab_rotate(img)))\n",
    "\n",
    "def ab_affine_rot(img):\n",
    "    return(ab_affine(ab_rotate(img)))\n",
    "\n",
    "def ab_scale_lc(img):\n",
    "    return(ab_scale(ab_two_line_circle(img)))\n",
    "\n",
    "aberrations = [ab_id, ab_rotate_border, ab_scale_border, ab_shrink_border, ab_translate, ab_rotate,ab_affine,ab_scale,ab_flip,ab_line,ab_circle, ab_line_circle,ab_two_line_circle\n",
    "                  ,ab_trans_rot,ab_affine_rot, ab_scale_lc]\n",
    "\n",
    "# aberrations function\n",
    "def get_ab(img, n=None):\n",
    "    # This function takes an input image (32 by 32) and applies a random aberration to it, either some affine transformation or an occlusion N times.\n",
    "    # Note that the input image is mutated.\n",
    "    ab = None\n",
    "    if n is not None: # if we want a specific ab then give it\n",
    "        ab = aberrations[n]\n",
    "    else:\n",
    "        ab = np.random.choice(aberrations) # otherwise pick at random\n",
    "    img = ab(img)\n",
    "    return img, ab"
   ]
  },
  {
   "cell_type": "code",
   "execution_count": 114,
   "metadata": {},
   "outputs": [
    {
     "name": "stdout",
     "output_type": "stream",
     "text": [
      "Done\n"
     ]
    }
   ],
   "source": [
    "def plot_results (img, results, images, result_index = 1):\n",
    "    # img is the original image\n",
    "    # results is a list of (index, score1, score2...) tuples in descending order of match closeness, eg [(1, 100), (0, 77.7), (2, 15.6)]\t\n",
    "    # images is the set of images we're checking against\n",
    "    \n",
    "\t# create plot of original image and best matches \n",
    "\tfig, ax = plt.subplots(nrows=2, ncols=6, figsize=(32, 32),sharex=False, sharey=False)\n",
    "\t( (ax1, ax2, ax3, ax4, ax5, ax6), (ax7, ax8, ax9, ax10, ax11, ax12) ) = ax\n",
    "\tresult_cells = [ax3, ax4, ax5, ax6, ax9, ax10, ax11, ax12]\n",
    "\n",
    "    # this part is just so that we can make the original image bigger than the others\n",
    "\tgs = ax[1,2].get_gridspec()\n",
    "\tax1.remove()\n",
    "\tax2.remove()\n",
    "\tax7.remove()\n",
    "\tax8.remove()\n",
    "\tax1 = fig.add_subplot(gs[0:2, 0:2])\n",
    "\tax1.imshow(gray(img), cmap=plt.cm.gray)\n",
    "\tax1.set_title('Query Image', fontsize=20, y = 1.0)\n",
    "\n",
    "    # this shows the result images\n",
    "\tfor c_inx in range(len(result_cells)):\n",
    "\t\tif c_inx >= len(images):\n",
    "\t\t\tbreak\n",
    "\t\tresult_cells[c_inx].imshow(gray(images[results[c_inx][0]]), cmap=plt.cm.gray)\n",
    "\t\tresult_cells[c_inx].set_xlim([0,32])\n",
    "\t\tresult_cells[c_inx].set_ylim([32,0])\n",
    "\t\tresult_cells[c_inx].set_title('match score: ' + '%.1f'%(results[c_inx][result_index]), fontsize=20, y = 1.0)\n",
    "\t\n",
    "\t# maximize the window and display plots \n",
    "\tfig.tight_layout()\n",
    "\tplt.show()\n",
    "\n",
    "def test_combined(methods, weights = []):\n",
    "    # this version of test_combined should be able to take any number of methods\n",
    "    # if the weights are not specified, will weigh everything equally\n",
    "    match_combined = [] # this will have an entry [index, m1_score, m2_score,..., combined_score] for each image\n",
    "    num_imgs = len(methods[0])\n",
    "    num_methods = len(methods)\n",
    "    for w in range(num_imgs): # for each image we build up an entry [index, m1_score, m2_score,..., combined_score]\n",
    "        # this serves as an accumulator for the score, we'll keep adding the score of this image\n",
    "        # for each method to this, and then store the final result at the end of the entry\n",
    "        score = 0\n",
    "        tmp = [w] # this will be the entry, starts off with the image index\n",
    "        for i in range(num_methods): # then for each method,\n",
    "            tmp += [methods[i][w]] # we add the individual score to the entry\n",
    "            score += methods[i][w] * (weights[i] if i < len(weights) else 1) # and accumulate the weighted score\n",
    "        tmp += [score] # after we look at each method we add the combined weighted score to the entry\n",
    "        match_combined.append(tmp) # and then we add the entry to the matched list\n",
    "    matched_combined = sorted(matched_combined, key = lambda tup: tup[-1], reverse = True ) # sort by combined score \n",
    "    return matched_combined\n",
    "    \n",
    "def log_results ( index, mutation, combined_method, method1, method2, method3=[], method4=[] ):\n",
    "\n",
    "    logger = logging.getLogger()\n",
    "    fhandler = logging.FileHandler(filename='./Logs/query_' + str(image_index) + '.log', mode='a')\n",
    "    if (logger.hasHandlers()):\n",
    "        logger.handlers.clear()\n",
    "    logger.addHandler(fhandler)\n",
    "    logger.setLevel(logging.DEBUG)\n",
    "\n",
    "    contour_sort = sorted(method1, key=lambda t: t[1], reverse=True)\n",
    "    zernike_sort = sorted(method2, key = lambda tup: tup[1], reverse = True)\n",
    "    if len(method3) > 0:\n",
    "        sift_sort = sorted(method3, key = lambda tup: tup[1], reverse = True)\n",
    "        logging.info('SIFT Method: %s', sift_sort[0:1000])\n",
    "    if len(method4) > 0:\n",
    "        orb_sort = sorted(method4, key = lambda tup: tup[1], reverse = True)\n",
    "        logging.info('ORB Method: %s', orb_sort[0:1000])        \n",
    "        \n",
    "    logging.info('Contour Method: %s', contour_sort[0:1000])\n",
    "    logging.info(' ')\n",
    "    logging.info('Zernike Method: %s', zernike_sort[0:1000])\n",
    "    logging.info(' ')\n",
    "    logging.info('Comb Method: %s', combined_method[0:10000])\n",
    "    logging.info('Mutations: %s', mutation)\n",
    "    \n",
    "    logging.shutdown()\n",
    "    \n",
    "def neo_log_results (results, methods, num_images):\n",
    "\tlogger = logging.getLogger()\n",
    "\tlog_num = len(glob(\"Logs/*\")) + 1\n",
    "\tfhandler = logging.FileHandler(filename='./Logs/query_log_' + str(log_num) + '.log', mode='a')\n",
    "\tif (logger.hasHandlers()):\n",
    "\t\tlogger.handlers.clear()\n",
    "\tlogger.addHandler(fhandler)\n",
    "\tlogger.setLevel(logging.DEBUG)\n",
    "\tlogging.info(\"Num Images: %s\", num_images)\n",
    "\tfor m_inx in range(len(methods)):\n",
    "\t\tlogging.info(\"++++++++++++++++++++++++\")\n",
    "\t\tlogging.info(\"Method: %s\", methods[m_inx].__class__)\n",
    "\t\tfor r in results:\n",
    "\t\t\tlogging.info(\"Aberration: %s\", r)\n",
    "\t\t\tlogging.info(\"Avg Ranking: %s\", results[r][0][m_inx])\n",
    "\t\t\tlogging.info(\"Top5 accuracy: %s\", results[r][1][m_inx])\n",
    "\t\t\tlogging.info(\"Top10 accuracy: %s\", results[r][2][m_inx])\n",
    "\t\t\tlogging.info(\"Avg time per image: %s\", results[r][3][m_inx])\n",
    "\t\t\tlogging.info(\"-----\")\n",
    "\tlogging.info(\"++++++++++++++++++++++++\")    \n",
    "\tlogging.shutdown()\n",
    "    \n",
    "print('Done')    "
   ]
  },
  {
   "cell_type": "code",
   "execution_count": 115,
   "metadata": {},
   "outputs": [],
   "source": [
    "def run(methods, images):\n",
    "\tresults = {}\n",
    "    # currently only run the identity aberration, modify the slicing here to choose what aberration to run\n",
    "\tfor aber in aberrations[:1]:\n",
    "\t\tprint(aber.__name__)\n",
    "\t\tavg_rankings = [0 for m in methods]\n",
    "\t\tcorrect_top5 = [0 for m in methods]\n",
    "\t\tcorrect_top10 = [0 for m in methods]\n",
    "\t\ttime_taken = [0 for m in methods]\n",
    "\t\timage_index = -1\n",
    "\t\tnull_images = 0\n",
    "\t\tfor img in images:\n",
    "\t\t\timage_index += 1\n",
    "\t\t\tif img is None:\n",
    "\t\t\t\tnull_images += 1\n",
    "\t\t\t\tcontinue\n",
    "\t\t\tif image_index%5 == 0:\n",
    "\t\t\t\tprint(image_index)\n",
    "\t\t\timg = aber(img)\n",
    "\t\t\tfor m_inx in range(len(methods)):\n",
    "\t\t\t\tstart_time = perf_counter()\n",
    "\t\t\t\tx = methods[m_inx].create_query(img)\n",
    "\t\t\t\txl = methods[m_inx].test_query(x)\n",
    "\t\t\t\txl = sorted(xl, key = lambda tup: tup[1], reverse = True)\n",
    "\t\t\t\ttime_taken[m_inx] += perf_counter() - start_time\n",
    "\t\t\t\trank = 0\n",
    "\t\t\t\tfor hit in xl:\n",
    "\t\t\t\t\trank += 1\n",
    "\t\t\t\t\tif hit[0] == image_index:\n",
    "\t\t\t\t\t\tavg_rankings[m_inx] += rank\n",
    "\t\t\t\t\t\tif rank <= 5:\n",
    "\t\t\t\t\t\t\tcorrect_top5[m_inx] += 1\n",
    "\t\t\t\t\t\tif rank <= 10:\n",
    "\t\t\t\t\t\t\tcorrect_top10[m_inx] += 1\n",
    "\t\t\t\t\t\tbreak\n",
    "\t\tprocced_images = len(images) - null_images\n",
    "\t\tprint(\"end\")\n",
    "\t\tprint(null_images)\n",
    "\t\tavg_rankings = [i/procced_images for i in avg_rankings]\n",
    "\t\tcorrect_top5 = [i/procced_images for i in correct_top5]\n",
    "\t\tcorrect_top10 = [i/procced_images for i in correct_top10]\n",
    "\t\ttime_taken = [i/procced_images for i in time_taken]\n",
    "\t\tresults[aber.__name__] = (avg_rankings, correct_top5, correct_top10, time_taken)\n",
    "\treturn results"
   ]
  },
  {
   "cell_type": "code",
   "execution_count": 135,
   "metadata": {},
   "outputs": [
    {
     "name": "stdout",
     "output_type": "stream",
     "text": [
      "(3, 32, 32)\n",
      "1000\n",
      "Loading Completed\n"
     ]
    }
   ],
   "source": [
    "image_set_name = \"icon1000\"\n",
    "\n",
    "# simple way to load the complete dataset (for a more sophisticated generator example, see LLD-logo script)\n",
    "# open hdf5 file\n",
    "hdf5_file = h5py.File('LLD-icon.hdf5', 'r')\n",
    "# load data into memory as numpy array\n",
    "#images, labels = (hdf5_file['data'][:], hdf5_file['labels/resnet/rc_64'][:])\n",
    "\n",
    "# alternatively, h5py objects can be used like numpy arrays without loading the whole dataset into memory:\n",
    "images, labels = (hdf5_file['data'], hdf5_file['labels/resnet/rc_64'])\n",
    "# here, images[0] will be again returned as a numpy array and can eg. be viewed with matplotlib using\n",
    "images = images[:1000]\n",
    "print(images[0].shape)\n",
    "print(len(images))\n",
    "\n",
    "method_classes = [zernike_method, orb_method, neural_method, sift_method]\n",
    "# uncomment this if you want to generate the databases\n",
    "# generate_databases(images, method_classes, image_set_name)\n",
    "methods = load_databases(method_classes, image_set_name)\n",
    "print(\"Loading Completed\")"
   ]
  },
  {
   "cell_type": "code",
   "execution_count": 129,
   "metadata": {},
   "outputs": [
    {
     "name": "stdout",
     "output_type": "stream",
     "text": [
      "(3, 32, 32)\n",
      "(32, 32)\n",
      "2\n"
     ]
    }
   ],
   "source": [
    "img = images[0]\n",
    "print(img.shape)\n",
    "img = gray(img)\n",
    "print(img.shape)\n",
    "print(len(img.shape))"
   ]
  },
  {
   "cell_type": "code",
   "execution_count": null,
   "metadata": {},
   "outputs": [
    {
     "name": "stdout",
     "output_type": "stream",
     "text": [
      "ab_id\n",
      "0\n",
      "5\n",
      "10\n",
      "15\n",
      "20\n",
      "25\n",
      "30\n",
      "35\n",
      "40\n",
      "45\n",
      "50\n",
      "55\n",
      "60\n",
      "65\n",
      "70\n",
      "75\n",
      "80\n",
      "85\n",
      "90\n",
      "95\n",
      "100\n",
      "105\n",
      "110\n",
      "115\n",
      "120\n",
      "125\n",
      "130\n",
      "135\n",
      "140\n",
      "145\n",
      "150\n",
      "155\n",
      "160\n",
      "165\n",
      "170\n",
      "175\n",
      "180\n",
      "185\n",
      "190\n",
      "195\n",
      "200\n",
      "205\n",
      "210\n",
      "215\n",
      "220\n",
      "225\n",
      "230\n",
      "235\n",
      "240\n",
      "245\n",
      "250\n",
      "255\n",
      "260\n",
      "265\n",
      "270\n",
      "275\n",
      "280\n",
      "285\n",
      "290\n",
      "295\n",
      "300\n",
      "305\n",
      "310\n",
      "315\n",
      "320\n",
      "325\n",
      "330\n",
      "335\n",
      "340\n",
      "345\n",
      "350\n",
      "355\n",
      "360\n",
      "365\n",
      "370\n",
      "375\n",
      "380\n",
      "385\n",
      "390\n",
      "395\n",
      "400\n",
      "405\n",
      "410\n",
      "415\n",
      "420\n",
      "425\n",
      "430\n",
      "435\n",
      "440\n",
      "445\n",
      "450\n",
      "455\n",
      "460\n",
      "465\n",
      "470\n",
      "475\n",
      "480\n",
      "485\n",
      "490\n",
      "495\n",
      "500\n",
      "505\n",
      "510\n",
      "515\n",
      "520\n",
      "525\n",
      "530\n",
      "535\n",
      "540\n",
      "545\n",
      "550\n",
      "555\n",
      "560\n",
      "565\n",
      "570\n",
      "575\n",
      "580\n",
      "585\n",
      "590\n",
      "595\n",
      "600\n",
      "605\n",
      "610\n",
      "615\n",
      "620\n",
      "625\n",
      "630\n",
      "635\n",
      "640\n",
      "645\n",
      "650\n",
      "655\n",
      "660\n",
      "665\n",
      "670\n",
      "675\n",
      "680\n"
     ]
    }
   ],
   "source": [
    "#####################\n",
    "# main loop \t#####\n",
    "#####################\n",
    "results = run(methods, images)\n",
    "plotter.neo_log_results(results, methods, len(images))"
   ]
  },
  {
   "cell_type": "code",
   "execution_count": null,
   "metadata": {
    "scrolled": true
   },
   "outputs": [
    {
     "data": {
      "application/vnd.jupyter.widget-view+json": {
       "model_id": "b8772b2ccf4343cd9392c36113479bf0",
       "version_major": 2,
       "version_minor": 0
      },
      "text/plain": [
       "HBox(children=(IntProgress(value=0, max=1000), HTML(value='')))"
      ]
     },
     "metadata": {},
     "output_type": "display_data"
    },
    {
     "name": "stdout",
     "output_type": "stream",
     "text": [
      "\n",
      "Orb score:  (100, 63)\n"
     ]
    },
    {
     "data": {
      "application/vnd.jupyter.widget-view+json": {
       "model_id": "0c4d5efce91d4d4cb54707ac4135061b",
       "version_major": 2,
       "version_minor": 0
      },
      "text/plain": [
       "HBox(children=(IntProgress(value=0, max=1000), HTML(value='')))"
      ]
     },
     "metadata": {},
     "output_type": "display_data"
    },
    {
     "name": "stdout",
     "output_type": "stream",
     "text": [
      "\n",
      "Sift score:  (100, 40.0)\n"
     ]
    },
    {
     "data": {
      "application/vnd.jupyter.widget-view+json": {
       "model_id": "fa6d86a0e86e41978095a13669effed6",
       "version_major": 2,
       "version_minor": 0
      },
      "text/plain": [
       "HBox(children=(IntProgress(value=0, max=1000), HTML(value='')))"
      ]
     },
     "metadata": {},
     "output_type": "display_data"
    },
    {
     "name": "stdout",
     "output_type": "stream",
     "text": [
      "\n",
      "Zernike score:  (100, 5.8)\n"
     ]
    },
    {
     "data": {
      "application/vnd.jupyter.widget-view+json": {
       "model_id": "5617c613dffe4c36893fc73edf5add97",
       "version_major": 2,
       "version_minor": 0
      },
      "text/plain": [
       "HBox(children=(IntProgress(value=0, max=9), HTML(value='')))"
      ]
     },
     "metadata": {},
     "output_type": "display_data"
    },
    {
     "name": "stdout",
     "output_type": "stream",
     "text": [
      "\n",
      "Contour score:  (100, 57.9)\n",
      "Final ranking:  180 (100, 57.9, 5.8, 40.0, 63, 41.7)\n"
     ]
    },
    {
     "data": {
      "application/vnd.jupyter.widget-view+json": {
       "model_id": "0ebc3b1d1e544c64ae199df6cff5c43d",
       "version_major": 2,
       "version_minor": 0
      },
      "text/plain": [
       "HBox(children=(IntProgress(value=0, max=1000), HTML(value='')))"
      ]
     },
     "metadata": {},
     "output_type": "display_data"
    },
    {
     "name": "stdout",
     "output_type": "stream",
     "text": [
      "\n",
      "Orb score:  (101, 77)\n"
     ]
    },
    {
     "data": {
      "application/vnd.jupyter.widget-view+json": {
       "model_id": "20961d5811af41b09f9e879e63bc1c7d",
       "version_major": 2,
       "version_minor": 0
      },
      "text/plain": [
       "HBox(children=(IntProgress(value=0, max=1000), HTML(value='')))"
      ]
     },
     "metadata": {},
     "output_type": "display_data"
    },
    {
     "name": "stdout",
     "output_type": "stream",
     "text": [
      "\n",
      "Sift score:  (101, 100.0)\n"
     ]
    },
    {
     "data": {
      "application/vnd.jupyter.widget-view+json": {
       "model_id": "092c92af8da34557b96f82ae8ff2664a",
       "version_major": 2,
       "version_minor": 0
      },
      "text/plain": [
       "HBox(children=(IntProgress(value=0, max=1000), HTML(value='')))"
      ]
     },
     "metadata": {},
     "output_type": "display_data"
    },
    {
     "name": "stdout",
     "output_type": "stream",
     "text": [
      "\n",
      "Zernike score:  (101, 0.0)\n"
     ]
    },
    {
     "data": {
      "application/vnd.jupyter.widget-view+json": {
       "model_id": "2bb4cb5c7df64d54a553ba0367b349f7",
       "version_major": 2,
       "version_minor": 0
      },
      "text/plain": [
       "HBox(children=(IntProgress(value=0, max=9), HTML(value='')))"
      ]
     },
     "metadata": {},
     "output_type": "display_data"
    },
    {
     "name": "stdout",
     "output_type": "stream",
     "text": [
      "\n",
      "Contour score:  (101, 73.6)\n",
      "Final ranking:  1 (101, 73.6, 0.0, 100.0, 77, 62.6)\n"
     ]
    },
    {
     "data": {
      "application/vnd.jupyter.widget-view+json": {
       "model_id": "97c8e373459441ea9786f1a1f15eb95b",
       "version_major": 2,
       "version_minor": 0
      },
      "text/plain": [
       "HBox(children=(IntProgress(value=0, max=1000), HTML(value='')))"
      ]
     },
     "metadata": {},
     "output_type": "display_data"
    },
    {
     "name": "stdout",
     "output_type": "stream",
     "text": [
      "\n",
      "Orb score:  (102, 52)\n"
     ]
    },
    {
     "data": {
      "application/vnd.jupyter.widget-view+json": {
       "model_id": "247e03b9194742819e9c6f7c19b0eac8",
       "version_major": 2,
       "version_minor": 0
      },
      "text/plain": [
       "HBox(children=(IntProgress(value=0, max=1000), HTML(value='')))"
      ]
     },
     "metadata": {},
     "output_type": "display_data"
    },
    {
     "name": "stdout",
     "output_type": "stream",
     "text": [
      "\n",
      "Sift score:  (102, 83.3)\n"
     ]
    },
    {
     "data": {
      "application/vnd.jupyter.widget-view+json": {
       "model_id": "d3c48f629b704b75af4fea61a927caa2",
       "version_major": 2,
       "version_minor": 0
      },
      "text/plain": [
       "HBox(children=(IntProgress(value=0, max=1000), HTML(value='')))"
      ]
     },
     "metadata": {},
     "output_type": "display_data"
    },
    {
     "name": "stdout",
     "output_type": "stream",
     "text": [
      "\n",
      "Zernike score:  (102, 0.0)\n"
     ]
    },
    {
     "data": {
      "application/vnd.jupyter.widget-view+json": {
       "model_id": "42bd786d851b4826b059ba1292e098db",
       "version_major": 2,
       "version_minor": 0
      },
      "text/plain": [
       "HBox(children=(IntProgress(value=0, max=9), HTML(value='')))"
      ]
     },
     "metadata": {},
     "output_type": "display_data"
    },
    {
     "name": "stdout",
     "output_type": "stream",
     "text": [
      "\n",
      "Contour score:  (102, 20.1)\n",
      "Final ranking:  12 (102, 20.1, 0.0, 83.3, 52, 38.9)\n"
     ]
    },
    {
     "data": {
      "application/vnd.jupyter.widget-view+json": {
       "model_id": "7fe14e06c4d44a539f3225d9fa5162f5",
       "version_major": 2,
       "version_minor": 0
      },
      "text/plain": [
       "HBox(children=(IntProgress(value=0, max=1000), HTML(value='')))"
      ]
     },
     "metadata": {},
     "output_type": "display_data"
    },
    {
     "name": "stdout",
     "output_type": "stream",
     "text": [
      "\n",
      "Orb score:  (103, 67)\n"
     ]
    },
    {
     "data": {
      "application/vnd.jupyter.widget-view+json": {
       "model_id": "63c912a28724442b8ad79862832f290e",
       "version_major": 2,
       "version_minor": 0
      },
      "text/plain": [
       "HBox(children=(IntProgress(value=0, max=1000), HTML(value='')))"
      ]
     },
     "metadata": {},
     "output_type": "display_data"
    },
    {
     "name": "stdout",
     "output_type": "stream",
     "text": [
      "\n",
      "Sift score:  (103, 100.0)\n"
     ]
    },
    {
     "data": {
      "application/vnd.jupyter.widget-view+json": {
       "model_id": "f48071365323493688aba94de62e903e",
       "version_major": 2,
       "version_minor": 0
      },
      "text/plain": [
       "HBox(children=(IntProgress(value=0, max=1000), HTML(value='')))"
      ]
     },
     "metadata": {},
     "output_type": "display_data"
    },
    {
     "name": "stdout",
     "output_type": "stream",
     "text": [
      "\n",
      "Zernike score:  (103, 46.4)\n"
     ]
    },
    {
     "data": {
      "application/vnd.jupyter.widget-view+json": {
       "model_id": "4a1f142122a4492cbf0ecaad4d83c8fa",
       "version_major": 2,
       "version_minor": 0
      },
      "text/plain": [
       "HBox(children=(IntProgress(value=0, max=9), HTML(value='')))"
      ]
     },
     "metadata": {},
     "output_type": "display_data"
    },
    {
     "name": "stdout",
     "output_type": "stream",
     "text": [
      "\n",
      "Contour score:  (103, 50.4)\n",
      "Final ranking:  1 (103, 50.4, 46.4, 100.0, 67, 66.0)\n"
     ]
    },
    {
     "data": {
      "application/vnd.jupyter.widget-view+json": {
       "model_id": "958670b6859b4c8eb577aefca94fa411",
       "version_major": 2,
       "version_minor": 0
      },
      "text/plain": [
       "HBox(children=(IntProgress(value=0, max=1000), HTML(value='')))"
      ]
     },
     "metadata": {},
     "output_type": "display_data"
    },
    {
     "name": "stdout",
     "output_type": "stream",
     "text": [
      "\n",
      "Orb score:  (104, 69)\n"
     ]
    },
    {
     "data": {
      "application/vnd.jupyter.widget-view+json": {
       "model_id": "d5ad8004a6e748618c2cc8312be1106a",
       "version_major": 2,
       "version_minor": 0
      },
      "text/plain": [
       "HBox(children=(IntProgress(value=0, max=1000), HTML(value='')))"
      ]
     },
     "metadata": {},
     "output_type": "display_data"
    },
    {
     "name": "stdout",
     "output_type": "stream",
     "text": [
      "\n",
      "Sift score:  (104, 100.0)\n"
     ]
    },
    {
     "data": {
      "application/vnd.jupyter.widget-view+json": {
       "model_id": "5698de566c474c2ebf813871cd6c35ca",
       "version_major": 2,
       "version_minor": 0
      },
      "text/plain": [
       "HBox(children=(IntProgress(value=0, max=1000), HTML(value='')))"
      ]
     },
     "metadata": {},
     "output_type": "display_data"
    },
    {
     "name": "stdout",
     "output_type": "stream",
     "text": [
      "\n",
      "Zernike score:  (104, 0.0)\n"
     ]
    },
    {
     "data": {
      "application/vnd.jupyter.widget-view+json": {
       "model_id": "e9bfbd50b8484e6b898b456bca6ec1cd",
       "version_major": 2,
       "version_minor": 0
      },
      "text/plain": [
       "HBox(children=(IntProgress(value=0, max=9), HTML(value='')))"
      ]
     },
     "metadata": {},
     "output_type": "display_data"
    },
    {
     "name": "stdout",
     "output_type": "stream",
     "text": [
      "\n",
      "Contour score:  (104, 41.6)\n",
      "Final ranking:  12 (104, 41.6, 0.0, 100.0, 69, 52.6)\n"
     ]
    },
    {
     "data": {
      "application/vnd.jupyter.widget-view+json": {
       "model_id": "b8a5565773884f06a904f5fd6ed9cc1a",
       "version_major": 2,
       "version_minor": 0
      },
      "text/plain": [
       "HBox(children=(IntProgress(value=0, max=1000), HTML(value='')))"
      ]
     },
     "metadata": {},
     "output_type": "display_data"
    },
    {
     "name": "stdout",
     "output_type": "stream",
     "text": [
      "\n",
      "Orb score:  (105, 70)\n"
     ]
    },
    {
     "data": {
      "application/vnd.jupyter.widget-view+json": {
       "model_id": "9c15c67c168a418c9501ef02841f87cb",
       "version_major": 2,
       "version_minor": 0
      },
      "text/plain": [
       "HBox(children=(IntProgress(value=0, max=1000), HTML(value='')))"
      ]
     },
     "metadata": {},
     "output_type": "display_data"
    },
    {
     "name": "stdout",
     "output_type": "stream",
     "text": [
      "\n",
      "Sift score:  (105, 100.0)\n"
     ]
    },
    {
     "data": {
      "application/vnd.jupyter.widget-view+json": {
       "model_id": "b436952e95134610b483b14088a07746",
       "version_major": 2,
       "version_minor": 0
      },
      "text/plain": [
       "HBox(children=(IntProgress(value=0, max=1000), HTML(value='')))"
      ]
     },
     "metadata": {},
     "output_type": "display_data"
    },
    {
     "name": "stdout",
     "output_type": "stream",
     "text": [
      "\n",
      "Zernike score:  (105, 5.3)\n"
     ]
    },
    {
     "data": {
      "application/vnd.jupyter.widget-view+json": {
       "model_id": "eeb51c3cce294ba098f1179e8149b5cc",
       "version_major": 2,
       "version_minor": 0
      },
      "text/plain": [
       "HBox(children=(IntProgress(value=0, max=9), HTML(value='')))"
      ]
     },
     "metadata": {},
     "output_type": "display_data"
    },
    {
     "name": "stdout",
     "output_type": "stream",
     "text": [
      "\n",
      "Contour score:  (105, 78.8)\n",
      "Final ranking:  1 (105, 78.8, 5.3, 100.0, 70, 63.5)\n"
     ]
    },
    {
     "data": {
      "application/vnd.jupyter.widget-view+json": {
       "model_id": "7e5782b8a95b4d60a30c61a548cbe25b",
       "version_major": 2,
       "version_minor": 0
      },
      "text/plain": [
       "HBox(children=(IntProgress(value=0, max=1000), HTML(value='')))"
      ]
     },
     "metadata": {},
     "output_type": "display_data"
    },
    {
     "name": "stdout",
     "output_type": "stream",
     "text": [
      "\n",
      "Orb score:  (106, 52)\n"
     ]
    },
    {
     "data": {
      "application/vnd.jupyter.widget-view+json": {
       "model_id": "59baed9c2bae42058f55e0b1676a5725",
       "version_major": 2,
       "version_minor": 0
      },
      "text/plain": [
       "HBox(children=(IntProgress(value=0, max=1000), HTML(value='')))"
      ]
     },
     "metadata": {},
     "output_type": "display_data"
    },
    {
     "name": "stdout",
     "output_type": "stream",
     "text": [
      "\n",
      "Sift score:  (106, 9.1)\n"
     ]
    },
    {
     "data": {
      "application/vnd.jupyter.widget-view+json": {
       "model_id": "19d01ddf89b6423484a05718d87d6427",
       "version_major": 2,
       "version_minor": 0
      },
      "text/plain": [
       "HBox(children=(IntProgress(value=0, max=1000), HTML(value='')))"
      ]
     },
     "metadata": {},
     "output_type": "display_data"
    },
    {
     "name": "stdout",
     "output_type": "stream",
     "text": [
      "\n",
      "Zernike score:  (106, 0.0)\n"
     ]
    },
    {
     "data": {
      "application/vnd.jupyter.widget-view+json": {
       "model_id": "92e66d37f9c94bf4a05e85ca0a4e0ba1",
       "version_major": 2,
       "version_minor": 0
      },
      "text/plain": [
       "HBox(children=(IntProgress(value=0, max=9), HTML(value='')))"
      ]
     },
     "metadata": {},
     "output_type": "display_data"
    },
    {
     "name": "stdout",
     "output_type": "stream",
     "text": [
      "\n",
      "Contour score:  (106, 60.7)\n",
      "Final ranking:  255 (106, 60.7, 0.0, 9.1, 52, 30.4)\n"
     ]
    },
    {
     "data": {
      "application/vnd.jupyter.widget-view+json": {
       "model_id": "46cdc246ef2a445f82a3f0d9a7a18865",
       "version_major": 2,
       "version_minor": 0
      },
      "text/plain": [
       "HBox(children=(IntProgress(value=0, max=1000), HTML(value='')))"
      ]
     },
     "metadata": {},
     "output_type": "display_data"
    },
    {
     "name": "stdout",
     "output_type": "stream",
     "text": [
      "\n",
      "Orb score:  (107, 100)\n"
     ]
    },
    {
     "data": {
      "application/vnd.jupyter.widget-view+json": {
       "model_id": "905f922071c44a0f8354f0b4ad1c1a8c",
       "version_major": 2,
       "version_minor": 0
      },
      "text/plain": [
       "HBox(children=(IntProgress(value=0, max=1000), HTML(value='')))"
      ]
     },
     "metadata": {},
     "output_type": "display_data"
    },
    {
     "name": "stdout",
     "output_type": "stream",
     "text": [
      "\n",
      "Sift score:  (107, 100.0)\n"
     ]
    },
    {
     "data": {
      "application/vnd.jupyter.widget-view+json": {
       "model_id": "ea0e1d6ac44c41b0af23e2c7b47db04c",
       "version_major": 2,
       "version_minor": 0
      },
      "text/plain": [
       "HBox(children=(IntProgress(value=0, max=1000), HTML(value='')))"
      ]
     },
     "metadata": {},
     "output_type": "display_data"
    },
    {
     "name": "stdout",
     "output_type": "stream",
     "text": [
      "\n",
      "Zernike score:  (107, 0.0)\n"
     ]
    },
    {
     "data": {
      "application/vnd.jupyter.widget-view+json": {
       "model_id": "d2e3f1ebcea24873b2e0de80d8bcf917",
       "version_major": 2,
       "version_minor": 0
      },
      "text/plain": [
       "HBox(children=(IntProgress(value=0, max=9), HTML(value='')))"
      ]
     },
     "metadata": {},
     "output_type": "display_data"
    },
    {
     "name": "stdout",
     "output_type": "stream",
     "text": [
      "\n",
      "Contour score:  (107, 54.0)\n",
      "Final ranking:  1 (107, 54.0, 0.0, 100.0, 100, 63.5)\n"
     ]
    },
    {
     "data": {
      "application/vnd.jupyter.widget-view+json": {
       "model_id": "6313b8946a52444fa31687e99e7a7449",
       "version_major": 2,
       "version_minor": 0
      },
      "text/plain": [
       "HBox(children=(IntProgress(value=0, max=1000), HTML(value='')))"
      ]
     },
     "metadata": {},
     "output_type": "display_data"
    },
    {
     "name": "stdout",
     "output_type": "stream",
     "text": [
      "\n",
      "Orb score:  (108, 50)\n"
     ]
    },
    {
     "data": {
      "application/vnd.jupyter.widget-view+json": {
       "model_id": "9ab19e4e1d9f4f1abc88392fd383649b",
       "version_major": 2,
       "version_minor": 0
      },
      "text/plain": [
       "HBox(children=(IntProgress(value=0, max=1000), HTML(value='')))"
      ]
     },
     "metadata": {},
     "output_type": "display_data"
    },
    {
     "name": "stdout",
     "output_type": "stream",
     "text": [
      "\n",
      "Sift score:  (108, 100.0)\n"
     ]
    },
    {
     "data": {
      "application/vnd.jupyter.widget-view+json": {
       "model_id": "bb9a472658314891ac4fa002a421523b",
       "version_major": 2,
       "version_minor": 0
      },
      "text/plain": [
       "HBox(children=(IntProgress(value=0, max=1000), HTML(value='')))"
      ]
     },
     "metadata": {},
     "output_type": "display_data"
    },
    {
     "name": "stdout",
     "output_type": "stream",
     "text": [
      "\n",
      "Zernike score:  (108, 0.0)\n"
     ]
    },
    {
     "data": {
      "application/vnd.jupyter.widget-view+json": {
       "model_id": "f1bdad0a7530444c8977f1b499936f1a",
       "version_major": 2,
       "version_minor": 0
      },
      "text/plain": [
       "HBox(children=(IntProgress(value=0, max=9), HTML(value='')))"
      ]
     },
     "metadata": {},
     "output_type": "display_data"
    },
    {
     "name": "stdout",
     "output_type": "stream",
     "text": [
      "\n",
      "Contour score:  (108, 44.9)\n",
      "Final ranking:  4 (108, 44.9, 0.0, 100.0, 50, 48.7)\n"
     ]
    },
    {
     "data": {
      "application/vnd.jupyter.widget-view+json": {
       "model_id": "fd3b33f338c8430a82087c92e2bccbc9",
       "version_major": 2,
       "version_minor": 0
      },
      "text/plain": [
       "HBox(children=(IntProgress(value=0, max=1000), HTML(value='')))"
      ]
     },
     "metadata": {},
     "output_type": "display_data"
    },
    {
     "name": "stdout",
     "output_type": "stream",
     "text": [
      "\n",
      "Orb score:  (109, 55)\n"
     ]
    },
    {
     "data": {
      "application/vnd.jupyter.widget-view+json": {
       "model_id": "7f2ae4444a944e9480a1b9f81e88caf1",
       "version_major": 2,
       "version_minor": 0
      },
      "text/plain": [
       "HBox(children=(IntProgress(value=0, max=1000), HTML(value='')))"
      ]
     },
     "metadata": {},
     "output_type": "display_data"
    },
    {
     "name": "stdout",
     "output_type": "stream",
     "text": [
      "\n",
      "Sift score:  (109, 58.8)\n"
     ]
    },
    {
     "data": {
      "application/vnd.jupyter.widget-view+json": {
       "model_id": "ce4d59cb5bc0486f8146b087796a8a1d",
       "version_major": 2,
       "version_minor": 0
      },
      "text/plain": [
       "HBox(children=(IntProgress(value=0, max=1000), HTML(value='')))"
      ]
     },
     "metadata": {},
     "output_type": "display_data"
    },
    {
     "name": "stdout",
     "output_type": "stream",
     "text": [
      "\n",
      "Zernike score:  (109, 0.0)\n"
     ]
    },
    {
     "data": {
      "application/vnd.jupyter.widget-view+json": {
       "model_id": "10093111a5374ca6b87503382df5f7d6",
       "version_major": 2,
       "version_minor": 0
      },
      "text/plain": [
       "HBox(children=(IntProgress(value=0, max=9), HTML(value='')))"
      ]
     },
     "metadata": {},
     "output_type": "display_data"
    },
    {
     "name": "stdout",
     "output_type": "stream",
     "text": [
      "\n",
      "Contour score:  (109, 10.9)\n",
      "Final ranking:  258 (109, 10.9, 0.0, 58.8, 55, 31.2)\n"
     ]
    },
    {
     "data": {
      "application/vnd.jupyter.widget-view+json": {
       "model_id": "ab99a0bff6144980a125e6070156b05e",
       "version_major": 2,
       "version_minor": 0
      },
      "text/plain": [
       "HBox(children=(IntProgress(value=0, max=1000), HTML(value='')))"
      ]
     },
     "metadata": {},
     "output_type": "display_data"
    },
    {
     "name": "stdout",
     "output_type": "stream",
     "text": [
      "\n",
      "Orb score:  (110, 81)\n"
     ]
    },
    {
     "data": {
      "application/vnd.jupyter.widget-view+json": {
       "model_id": "65a511bd8e3a4ae99f275f244b91ea88",
       "version_major": 2,
       "version_minor": 0
      },
      "text/plain": [
       "HBox(children=(IntProgress(value=0, max=1000), HTML(value='')))"
      ]
     },
     "metadata": {},
     "output_type": "display_data"
    },
    {
     "name": "stdout",
     "output_type": "stream",
     "text": [
      "\n",
      "Sift score:  (110, 100.0)\n"
     ]
    },
    {
     "data": {
      "application/vnd.jupyter.widget-view+json": {
       "model_id": "75c9cb60263b4721a148faffd7efa3c0",
       "version_major": 2,
       "version_minor": 0
      },
      "text/plain": [
       "HBox(children=(IntProgress(value=0, max=1000), HTML(value='')))"
      ]
     },
     "metadata": {},
     "output_type": "display_data"
    },
    {
     "name": "stdout",
     "output_type": "stream",
     "text": [
      "\n",
      "Zernike score:  (110, 0.0)\n"
     ]
    },
    {
     "data": {
      "application/vnd.jupyter.widget-view+json": {
       "model_id": "19f4bbfb2ea74c08bbb9de170adc008e",
       "version_major": 2,
       "version_minor": 0
      },
      "text/plain": [
       "HBox(children=(IntProgress(value=0, max=9), HTML(value='')))"
      ]
     },
     "metadata": {},
     "output_type": "display_data"
    },
    {
     "name": "stdout",
     "output_type": "stream",
     "text": [
      "\n",
      "Contour score:  (110, 50.5)\n",
      "Final ranking:  1 (110, 50.5, 0.0, 100.0, 81, 57.9)\n"
     ]
    },
    {
     "data": {
      "application/vnd.jupyter.widget-view+json": {
       "model_id": "cb8c89c90c8e47ef8827899f4d00380d",
       "version_major": 2,
       "version_minor": 0
      },
      "text/plain": [
       "HBox(children=(IntProgress(value=0, max=1000), HTML(value='')))"
      ]
     },
     "metadata": {},
     "output_type": "display_data"
    },
    {
     "name": "stdout",
     "output_type": "stream",
     "text": [
      "\n",
      "Orb score:  (111, 74)\n"
     ]
    },
    {
     "data": {
      "application/vnd.jupyter.widget-view+json": {
       "model_id": "404bb5472e42469e92c6739ea05e05da",
       "version_major": 2,
       "version_minor": 0
      },
      "text/plain": [
       "HBox(children=(IntProgress(value=0, max=1000), HTML(value='')))"
      ]
     },
     "metadata": {},
     "output_type": "display_data"
    },
    {
     "name": "stdout",
     "output_type": "stream",
     "text": [
      "\n",
      "Sift score:  (111, 100.0)\n"
     ]
    },
    {
     "data": {
      "application/vnd.jupyter.widget-view+json": {
       "model_id": "c799467b9cc14f1e9de36d2c0e31cdf7",
       "version_major": 2,
       "version_minor": 0
      },
      "text/plain": [
       "HBox(children=(IntProgress(value=0, max=1000), HTML(value='')))"
      ]
     },
     "metadata": {},
     "output_type": "display_data"
    },
    {
     "name": "stdout",
     "output_type": "stream",
     "text": [
      "\n",
      "Zernike score:  (111, 0.0)\n"
     ]
    },
    {
     "data": {
      "application/vnd.jupyter.widget-view+json": {
       "model_id": "4c82a8801a704752b0c7ada50839bf55",
       "version_major": 2,
       "version_minor": 0
      },
      "text/plain": [
       "HBox(children=(IntProgress(value=0, max=9), HTML(value='')))"
      ]
     },
     "metadata": {},
     "output_type": "display_data"
    },
    {
     "name": "stdout",
     "output_type": "stream",
     "text": [
      "\n",
      "Contour score:  (111, 50.8)\n",
      "Final ranking:  4 (111, 50.8, 0.0, 100.0, 74, 56.2)\n"
     ]
    },
    {
     "data": {
      "application/vnd.jupyter.widget-view+json": {
       "model_id": "0d1cc21250f6453ba97abaafe2f870c7",
       "version_major": 2,
       "version_minor": 0
      },
      "text/plain": [
       "HBox(children=(IntProgress(value=0, max=1000), HTML(value='')))"
      ]
     },
     "metadata": {},
     "output_type": "display_data"
    },
    {
     "name": "stdout",
     "output_type": "stream",
     "text": [
      "\n",
      "Orb score:  (112, 74)\n"
     ]
    },
    {
     "data": {
      "application/vnd.jupyter.widget-view+json": {
       "model_id": "72a5f2f893d640bfacdd8a9f76e1f89a",
       "version_major": 2,
       "version_minor": 0
      },
      "text/plain": [
       "HBox(children=(IntProgress(value=0, max=1000), HTML(value='')))"
      ]
     },
     "metadata": {},
     "output_type": "display_data"
    },
    {
     "name": "stdout",
     "output_type": "stream",
     "text": [
      "\n",
      "Sift score:  (112, 100.0)\n"
     ]
    },
    {
     "data": {
      "application/vnd.jupyter.widget-view+json": {
       "model_id": "77634153e8e0483e811f4391ab403afc",
       "version_major": 2,
       "version_minor": 0
      },
      "text/plain": [
       "HBox(children=(IntProgress(value=0, max=1000), HTML(value='')))"
      ]
     },
     "metadata": {},
     "output_type": "display_data"
    },
    {
     "name": "stdout",
     "output_type": "stream",
     "text": [
      "\n",
      "Zernike score:  (112, 0.0)\n"
     ]
    },
    {
     "data": {
      "application/vnd.jupyter.widget-view+json": {
       "model_id": "990b376906fd4b94a0981feff01fd6ee",
       "version_major": 2,
       "version_minor": 0
      },
      "text/plain": [
       "HBox(children=(IntProgress(value=0, max=9), HTML(value='')))"
      ]
     },
     "metadata": {},
     "output_type": "display_data"
    },
    {
     "name": "stdout",
     "output_type": "stream",
     "text": [
      "\n",
      "Contour score:  (112, 61.2)\n",
      "Final ranking:  1 (112, 61.2, 0.0, 100.0, 74, 58.8)\n"
     ]
    },
    {
     "data": {
      "application/vnd.jupyter.widget-view+json": {
       "model_id": "b4bc997e98d14b95b8b31e28ef7c4a4c",
       "version_major": 2,
       "version_minor": 0
      },
      "text/plain": [
       "HBox(children=(IntProgress(value=0, max=1000), HTML(value='')))"
      ]
     },
     "metadata": {},
     "output_type": "display_data"
    },
    {
     "name": "stdout",
     "output_type": "stream",
     "text": [
      "\n",
      "Orb score:  (113, 84)\n"
     ]
    },
    {
     "data": {
      "application/vnd.jupyter.widget-view+json": {
       "model_id": "5a86cad7ec294c1fac6b3ff641791f71",
       "version_major": 2,
       "version_minor": 0
      },
      "text/plain": [
       "HBox(children=(IntProgress(value=0, max=1000), HTML(value='')))"
      ]
     },
     "metadata": {},
     "output_type": "display_data"
    },
    {
     "name": "stdout",
     "output_type": "stream",
     "text": [
      "\n",
      "Sift score:  (113, 85.7)\n"
     ]
    },
    {
     "data": {
      "application/vnd.jupyter.widget-view+json": {
       "model_id": "decff245043f437f8898a0ae97cfda3a",
       "version_major": 2,
       "version_minor": 0
      },
      "text/plain": [
       "HBox(children=(IntProgress(value=0, max=1000), HTML(value='')))"
      ]
     },
     "metadata": {},
     "output_type": "display_data"
    },
    {
     "name": "stdout",
     "output_type": "stream",
     "text": [
      "\n",
      "Zernike score:  (113, 0.0)\n"
     ]
    },
    {
     "data": {
      "application/vnd.jupyter.widget-view+json": {
       "model_id": "20605848eb10411a9cd7ee7d6d527d75",
       "version_major": 2,
       "version_minor": 0
      },
      "text/plain": [
       "HBox(children=(IntProgress(value=0, max=9), HTML(value='')))"
      ]
     },
     "metadata": {},
     "output_type": "display_data"
    },
    {
     "name": "stdout",
     "output_type": "stream",
     "text": [
      "\n",
      "Contour score:  (113, 27.9)\n",
      "Final ranking:  1 (113, 27.9, 0.0, 85.7, 84, 49.4)\n"
     ]
    },
    {
     "data": {
      "application/vnd.jupyter.widget-view+json": {
       "model_id": "b405f4836f6a4db3b4583be77db98887",
       "version_major": 2,
       "version_minor": 0
      },
      "text/plain": [
       "HBox(children=(IntProgress(value=0, max=1000), HTML(value='')))"
      ]
     },
     "metadata": {},
     "output_type": "display_data"
    },
    {
     "name": "stdout",
     "output_type": "stream",
     "text": [
      "\n",
      "Orb score:  (114, 4)\n"
     ]
    },
    {
     "data": {
      "application/vnd.jupyter.widget-view+json": {
       "model_id": "42d78754595149eba0ee238e48ea8faa",
       "version_major": 2,
       "version_minor": 0
      },
      "text/plain": [
       "HBox(children=(IntProgress(value=0, max=1000), HTML(value='')))"
      ]
     },
     "metadata": {},
     "output_type": "display_data"
    },
    {
     "name": "stdout",
     "output_type": "stream",
     "text": [
      "\n",
      "Sift score:  (114, 0.0)\n"
     ]
    },
    {
     "data": {
      "application/vnd.jupyter.widget-view+json": {
       "model_id": "319983b4cae44a1ba96c4c1e0ee6bee4",
       "version_major": 2,
       "version_minor": 0
      },
      "text/plain": [
       "HBox(children=(IntProgress(value=0, max=1000), HTML(value='')))"
      ]
     },
     "metadata": {},
     "output_type": "display_data"
    },
    {
     "name": "stdout",
     "output_type": "stream",
     "text": [
      "\n",
      "Zernike score:  (114, 0.0)\n"
     ]
    },
    {
     "data": {
      "application/vnd.jupyter.widget-view+json": {
       "model_id": "4806bf700ecc4774907a9e91f2dbbd82",
       "version_major": 2,
       "version_minor": 0
      },
      "text/plain": [
       "HBox(children=(IntProgress(value=0, max=9), HTML(value='')))"
      ]
     },
     "metadata": {},
     "output_type": "display_data"
    },
    {
     "name": "stdout",
     "output_type": "stream",
     "text": [
      "\n",
      "Contour score:  (114, 41.4)\n",
      "Final ranking:  906 (114, 41.4, 0.0, 0.0, 4, 11.3)\n"
     ]
    },
    {
     "data": {
      "application/vnd.jupyter.widget-view+json": {
       "model_id": "8ecbf9747fc842e7a35652fed976e1a8",
       "version_major": 2,
       "version_minor": 0
      },
      "text/plain": [
       "HBox(children=(IntProgress(value=0, max=1000), HTML(value='')))"
      ]
     },
     "metadata": {},
     "output_type": "display_data"
    },
    {
     "name": "stdout",
     "output_type": "stream",
     "text": [
      "\n",
      "Orb score:  (115, 58)\n"
     ]
    },
    {
     "data": {
      "application/vnd.jupyter.widget-view+json": {
       "model_id": "da9cb35e4ba64f1a9bb3686fd7ad4aa4",
       "version_major": 2,
       "version_minor": 0
      },
      "text/plain": [
       "HBox(children=(IntProgress(value=0, max=1000), HTML(value='')))"
      ]
     },
     "metadata": {},
     "output_type": "display_data"
    },
    {
     "name": "stdout",
     "output_type": "stream",
     "text": [
      "\n",
      "Sift score:  (115, 90.9)\n"
     ]
    },
    {
     "data": {
      "application/vnd.jupyter.widget-view+json": {
       "model_id": "38d4372742c04e11b1de9e32dacf3226",
       "version_major": 2,
       "version_minor": 0
      },
      "text/plain": [
       "HBox(children=(IntProgress(value=0, max=1000), HTML(value='')))"
      ]
     },
     "metadata": {},
     "output_type": "display_data"
    },
    {
     "name": "stdout",
     "output_type": "stream",
     "text": [
      "\n",
      "Zernike score:  (115, 0.0)\n"
     ]
    },
    {
     "data": {
      "application/vnd.jupyter.widget-view+json": {
       "model_id": "83e66c1c870a4b2ea3532a5ff47cf307",
       "version_major": 2,
       "version_minor": 0
      },
      "text/plain": [
       "HBox(children=(IntProgress(value=0, max=9), HTML(value='')))"
      ]
     },
     "metadata": {},
     "output_type": "display_data"
    },
    {
     "name": "stdout",
     "output_type": "stream",
     "text": [
      "\n",
      "Contour score:  (115, 48.5)\n",
      "Final ranking:  1 (115, 48.5, 0.0, 90.9, 58, 49.4)\n"
     ]
    },
    {
     "data": {
      "application/vnd.jupyter.widget-view+json": {
       "model_id": "9dce0900d77f4b35a8c36d797bc880d0",
       "version_major": 2,
       "version_minor": 0
      },
      "text/plain": [
       "HBox(children=(IntProgress(value=0, max=1000), HTML(value='')))"
      ]
     },
     "metadata": {},
     "output_type": "display_data"
    },
    {
     "name": "stdout",
     "output_type": "stream",
     "text": [
      "\n",
      "Orb score:  (116, 63)\n"
     ]
    },
    {
     "data": {
      "application/vnd.jupyter.widget-view+json": {
       "model_id": "8cb997a12ab343e18c2a9ea7822d6f4b",
       "version_major": 2,
       "version_minor": 0
      },
      "text/plain": [
       "HBox(children=(IntProgress(value=0, max=1000), HTML(value='')))"
      ]
     },
     "metadata": {},
     "output_type": "display_data"
    },
    {
     "name": "stdout",
     "output_type": "stream",
     "text": [
      "\n",
      "Sift score:  (116, 25.0)\n"
     ]
    },
    {
     "data": {
      "application/vnd.jupyter.widget-view+json": {
       "model_id": "6fefac58a1fc45eb89c63157e5b93641",
       "version_major": 2,
       "version_minor": 0
      },
      "text/plain": [
       "HBox(children=(IntProgress(value=0, max=1000), HTML(value='')))"
      ]
     },
     "metadata": {},
     "output_type": "display_data"
    },
    {
     "name": "stdout",
     "output_type": "stream",
     "text": [
      "\n",
      "Zernike score:  (116, 46.9)\n"
     ]
    },
    {
     "data": {
      "application/vnd.jupyter.widget-view+json": {
       "model_id": "ed02af6f2f774fecaa932165a99aa098",
       "version_major": 2,
       "version_minor": 0
      },
      "text/plain": [
       "HBox(children=(IntProgress(value=0, max=9), HTML(value='')))"
      ]
     },
     "metadata": {},
     "output_type": "display_data"
    },
    {
     "name": "stdout",
     "output_type": "stream",
     "text": [
      "\n",
      "Contour score:  (116, 19.5)\n",
      "Final ranking:  37 (116, 19.5, 46.9, 25.0, 63, 38.6)\n"
     ]
    },
    {
     "data": {
      "application/vnd.jupyter.widget-view+json": {
       "model_id": "920a46414b2a4a62b78e4871adb7a109",
       "version_major": 2,
       "version_minor": 0
      },
      "text/plain": [
       "HBox(children=(IntProgress(value=0, max=1000), HTML(value='')))"
      ]
     },
     "metadata": {},
     "output_type": "display_data"
    },
    {
     "name": "stdout",
     "output_type": "stream",
     "text": [
      "\n",
      "Orb score:  (117, 62)\n"
     ]
    },
    {
     "data": {
      "application/vnd.jupyter.widget-view+json": {
       "model_id": "c4305cfa72c24e909bf53678613498ea",
       "version_major": 2,
       "version_minor": 0
      },
      "text/plain": [
       "HBox(children=(IntProgress(value=0, max=1000), HTML(value='')))"
      ]
     },
     "metadata": {},
     "output_type": "display_data"
    },
    {
     "name": "stdout",
     "output_type": "stream",
     "text": [
      "\n",
      "Sift score:  (117, 88.9)\n"
     ]
    },
    {
     "data": {
      "application/vnd.jupyter.widget-view+json": {
       "model_id": "b6c058e3978043eb9a888566fa9ff123",
       "version_major": 2,
       "version_minor": 0
      },
      "text/plain": [
       "HBox(children=(IntProgress(value=0, max=1000), HTML(value='')))"
      ]
     },
     "metadata": {},
     "output_type": "display_data"
    },
    {
     "name": "stdout",
     "output_type": "stream",
     "text": [
      "\n",
      "Zernike score:  (117, 0.0)\n"
     ]
    },
    {
     "data": {
      "application/vnd.jupyter.widget-view+json": {
       "model_id": "f8880ab213454d429b48ef0c86bd89ee",
       "version_major": 2,
       "version_minor": 0
      },
      "text/plain": [
       "HBox(children=(IntProgress(value=0, max=9), HTML(value='')))"
      ]
     },
     "metadata": {},
     "output_type": "display_data"
    },
    {
     "name": "stdout",
     "output_type": "stream",
     "text": [
      "\n",
      "Contour score:  (117, 29.1)\n",
      "Final ranking:  5 (117, 29.1, 0.0, 88.9, 62, 45.0)\n"
     ]
    },
    {
     "data": {
      "application/vnd.jupyter.widget-view+json": {
       "model_id": "5b74bdd544b541afb8ac7aeb7da05ee5",
       "version_major": 2,
       "version_minor": 0
      },
      "text/plain": [
       "HBox(children=(IntProgress(value=0, max=1000), HTML(value='')))"
      ]
     },
     "metadata": {},
     "output_type": "display_data"
    },
    {
     "name": "stdout",
     "output_type": "stream",
     "text": [
      "\n",
      "Orb score:  (118, 84)\n"
     ]
    },
    {
     "data": {
      "application/vnd.jupyter.widget-view+json": {
       "model_id": "6e9886b4b92e4ae4a9bdbdcb6383fc27",
       "version_major": 2,
       "version_minor": 0
      },
      "text/plain": [
       "HBox(children=(IntProgress(value=0, max=1000), HTML(value='')))"
      ]
     },
     "metadata": {},
     "output_type": "display_data"
    },
    {
     "name": "stdout",
     "output_type": "stream",
     "text": [
      "\n",
      "Sift score:  (118, 100.0)\n"
     ]
    },
    {
     "data": {
      "application/vnd.jupyter.widget-view+json": {
       "model_id": "f6bf216fcf05454f8f286820cac84c2d",
       "version_major": 2,
       "version_minor": 0
      },
      "text/plain": [
       "HBox(children=(IntProgress(value=0, max=1000), HTML(value='')))"
      ]
     },
     "metadata": {},
     "output_type": "display_data"
    },
    {
     "name": "stdout",
     "output_type": "stream",
     "text": [
      "\n",
      "Zernike score:  (118, 86.3)\n"
     ]
    },
    {
     "data": {
      "application/vnd.jupyter.widget-view+json": {
       "model_id": "b5cf3ef064b542779f990a87b1953946",
       "version_major": 2,
       "version_minor": 0
      },
      "text/plain": [
       "HBox(children=(IntProgress(value=0, max=9), HTML(value='')))"
      ]
     },
     "metadata": {},
     "output_type": "display_data"
    },
    {
     "name": "stdout",
     "output_type": "stream",
     "text": [
      "\n",
      "Contour score:  (118, 31.4)\n",
      "Final ranking:  1 (118, 31.4, 86.3, 100.0, 84, 75.4)\n"
     ]
    },
    {
     "data": {
      "application/vnd.jupyter.widget-view+json": {
       "model_id": "f0a32f8e7fb7421bbdb78b4056fbe06a",
       "version_major": 2,
       "version_minor": 0
      },
      "text/plain": [
       "HBox(children=(IntProgress(value=0, max=1000), HTML(value='')))"
      ]
     },
     "metadata": {},
     "output_type": "display_data"
    },
    {
     "name": "stdout",
     "output_type": "stream",
     "text": [
      "\n",
      "Orb score:  (119, 68)\n"
     ]
    },
    {
     "data": {
      "application/vnd.jupyter.widget-view+json": {
       "model_id": "2b728a1a06894e9088840f9568a5ec28",
       "version_major": 2,
       "version_minor": 0
      },
      "text/plain": [
       "HBox(children=(IntProgress(value=0, max=1000), HTML(value='')))"
      ]
     },
     "metadata": {},
     "output_type": "display_data"
    },
    {
     "name": "stdout",
     "output_type": "stream",
     "text": [
      "\n",
      "Sift score:  (119, 100.0)\n"
     ]
    },
    {
     "data": {
      "application/vnd.jupyter.widget-view+json": {
       "model_id": "ac27de51d953434d81965572ed7a123d",
       "version_major": 2,
       "version_minor": 0
      },
      "text/plain": [
       "HBox(children=(IntProgress(value=0, max=1000), HTML(value='')))"
      ]
     },
     "metadata": {},
     "output_type": "display_data"
    },
    {
     "name": "stdout",
     "output_type": "stream",
     "text": [
      "\n",
      "Zernike score:  (119, 0.0)\n"
     ]
    },
    {
     "data": {
      "application/vnd.jupyter.widget-view+json": {
       "model_id": "f4cbded7dbb44fa6934400477713cdb3",
       "version_major": 2,
       "version_minor": 0
      },
      "text/plain": [
       "HBox(children=(IntProgress(value=0, max=9), HTML(value='')))"
      ]
     },
     "metadata": {},
     "output_type": "display_data"
    },
    {
     "name": "stdout",
     "output_type": "stream",
     "text": [
      "\n",
      "Contour score:  (119, 42.7)\n",
      "Final ranking:  11 (119, 42.7, 0.0, 100.0, 68, 52.7)\n"
     ]
    },
    {
     "data": {
      "application/vnd.jupyter.widget-view+json": {
       "model_id": "398992f3a531464db5ccf2b68c820024",
       "version_major": 2,
       "version_minor": 0
      },
      "text/plain": [
       "HBox(children=(IntProgress(value=0, max=1000), HTML(value='')))"
      ]
     },
     "metadata": {},
     "output_type": "display_data"
    },
    {
     "name": "stdout",
     "output_type": "stream",
     "text": [
      "\n",
      "Orb score:  (120, 84)\n"
     ]
    },
    {
     "data": {
      "application/vnd.jupyter.widget-view+json": {
       "model_id": "5405e131195d4317b8dfb7839951b1c3",
       "version_major": 2,
       "version_minor": 0
      },
      "text/plain": [
       "HBox(children=(IntProgress(value=0, max=1000), HTML(value='')))"
      ]
     },
     "metadata": {},
     "output_type": "display_data"
    },
    {
     "name": "stdout",
     "output_type": "stream",
     "text": [
      "\n",
      "Sift score:  (120, 54.5)\n"
     ]
    },
    {
     "data": {
      "application/vnd.jupyter.widget-view+json": {
       "model_id": "faf8d816a83a435485119521b8a90458",
       "version_major": 2,
       "version_minor": 0
      },
      "text/plain": [
       "HBox(children=(IntProgress(value=0, max=1000), HTML(value='')))"
      ]
     },
     "metadata": {},
     "output_type": "display_data"
    },
    {
     "name": "stdout",
     "output_type": "stream",
     "text": [
      "\n",
      "Zernike score:  (120, 0.0)\n"
     ]
    },
    {
     "data": {
      "application/vnd.jupyter.widget-view+json": {
       "model_id": "75f08c3f49f2488586ce563e6b96e663",
       "version_major": 2,
       "version_minor": 0
      },
      "text/plain": [
       "HBox(children=(IntProgress(value=0, max=9), HTML(value='')))"
      ]
     },
     "metadata": {},
     "output_type": "display_data"
    },
    {
     "name": "stdout",
     "output_type": "stream",
     "text": [
      "\n",
      "Contour score:  (120, 71.5)\n",
      "Final ranking:  27 (120, 71.5, 0.0, 54.5, 84, 52.5)\n"
     ]
    },
    {
     "data": {
      "application/vnd.jupyter.widget-view+json": {
       "model_id": "e31f0c61e5984fbfb471901714cbbd49",
       "version_major": 2,
       "version_minor": 0
      },
      "text/plain": [
       "HBox(children=(IntProgress(value=0, max=1000), HTML(value='')))"
      ]
     },
     "metadata": {},
     "output_type": "display_data"
    },
    {
     "name": "stdout",
     "output_type": "stream",
     "text": [
      "\n",
      "Orb score:  (121, 63)\n"
     ]
    },
    {
     "data": {
      "application/vnd.jupyter.widget-view+json": {
       "model_id": "90b2ad09aa4a4921bebd70c4897a9c60",
       "version_major": 2,
       "version_minor": 0
      },
      "text/plain": [
       "HBox(children=(IntProgress(value=0, max=1000), HTML(value='')))"
      ]
     },
     "metadata": {},
     "output_type": "display_data"
    },
    {
     "name": "stdout",
     "output_type": "stream",
     "text": [
      "\n",
      "Sift score:  (121, 25.0)\n"
     ]
    },
    {
     "data": {
      "application/vnd.jupyter.widget-view+json": {
       "model_id": "6e384c99c3aa45cd8c4f00d59bef9be9",
       "version_major": 2,
       "version_minor": 0
      },
      "text/plain": [
       "HBox(children=(IntProgress(value=0, max=1000), HTML(value='')))"
      ]
     },
     "metadata": {},
     "output_type": "display_data"
    },
    {
     "name": "stdout",
     "output_type": "stream",
     "text": [
      "\n",
      "Zernike score:  (121, 0.0)\n"
     ]
    },
    {
     "data": {
      "application/vnd.jupyter.widget-view+json": {
       "model_id": "a6ae208e8b0e4e3fa5d7e25a6280411c",
       "version_major": 2,
       "version_minor": 0
      },
      "text/plain": [
       "HBox(children=(IntProgress(value=0, max=9), HTML(value='')))"
      ]
     },
     "metadata": {},
     "output_type": "display_data"
    },
    {
     "name": "stdout",
     "output_type": "stream",
     "text": [
      "\n",
      "Contour score:  (121, 16.4)\n",
      "Final ranking:  207 (121, 16.4, 0.0, 25.0, 63, 26.1)\n"
     ]
    },
    {
     "data": {
      "application/vnd.jupyter.widget-view+json": {
       "model_id": "1705be6103234ebe9971c44c41c28e99",
       "version_major": 2,
       "version_minor": 0
      },
      "text/plain": [
       "HBox(children=(IntProgress(value=0, max=1000), HTML(value='')))"
      ]
     },
     "metadata": {},
     "output_type": "display_data"
    },
    {
     "name": "stdout",
     "output_type": "stream",
     "text": [
      "\n",
      "Orb score:  (122, 88)\n"
     ]
    },
    {
     "data": {
      "application/vnd.jupyter.widget-view+json": {
       "model_id": "adf51247cfee4cc7881aec070a7e4743",
       "version_major": 2,
       "version_minor": 0
      },
      "text/plain": [
       "HBox(children=(IntProgress(value=0, max=1000), HTML(value='')))"
      ]
     },
     "metadata": {},
     "output_type": "display_data"
    },
    {
     "name": "stdout",
     "output_type": "stream",
     "text": [
      "\n",
      "Sift score:  (122, 100.0)\n"
     ]
    },
    {
     "data": {
      "application/vnd.jupyter.widget-view+json": {
       "model_id": "57855c43ab214030ac9bc0984aee485d",
       "version_major": 2,
       "version_minor": 0
      },
      "text/plain": [
       "HBox(children=(IntProgress(value=0, max=1000), HTML(value='')))"
      ]
     },
     "metadata": {},
     "output_type": "display_data"
    },
    {
     "name": "stdout",
     "output_type": "stream",
     "text": [
      "\n",
      "Zernike score:  (122, 0.0)\n"
     ]
    },
    {
     "data": {
      "application/vnd.jupyter.widget-view+json": {
       "model_id": "b52960b7cf46428d97b3b0066123c490",
       "version_major": 2,
       "version_minor": 0
      },
      "text/plain": [
       "HBox(children=(IntProgress(value=0, max=9), HTML(value='')))"
      ]
     },
     "metadata": {},
     "output_type": "display_data"
    },
    {
     "name": "stdout",
     "output_type": "stream",
     "text": [
      "\n",
      "Contour score:  (122, 62.5)\n",
      "Final ranking:  1 (122, 62.5, 0.0, 100.0, 88, 62.6)\n"
     ]
    },
    {
     "data": {
      "application/vnd.jupyter.widget-view+json": {
       "model_id": "96b848400fa4437285108052c0f6d1c7",
       "version_major": 2,
       "version_minor": 0
      },
      "text/plain": [
       "HBox(children=(IntProgress(value=0, max=1000), HTML(value='')))"
      ]
     },
     "metadata": {},
     "output_type": "display_data"
    },
    {
     "name": "stdout",
     "output_type": "stream",
     "text": [
      "\n",
      "Orb score:  (123, 100)\n"
     ]
    },
    {
     "data": {
      "application/vnd.jupyter.widget-view+json": {
       "model_id": "b99e2d61957c4fa2ac292792f2f22ed4",
       "version_major": 2,
       "version_minor": 0
      },
      "text/plain": [
       "HBox(children=(IntProgress(value=0, max=1000), HTML(value='')))"
      ]
     },
     "metadata": {},
     "output_type": "display_data"
    },
    {
     "name": "stdout",
     "output_type": "stream",
     "text": [
      "\n",
      "Sift score:  (123, 100.0)\n"
     ]
    },
    {
     "data": {
      "application/vnd.jupyter.widget-view+json": {
       "model_id": "dd32eac330cc460a84d53b32691fbb08",
       "version_major": 2,
       "version_minor": 0
      },
      "text/plain": [
       "HBox(children=(IntProgress(value=0, max=1000), HTML(value='')))"
      ]
     },
     "metadata": {},
     "output_type": "display_data"
    },
    {
     "name": "stdout",
     "output_type": "stream",
     "text": [
      "\n",
      "Zernike score:  (123, 96.0)\n"
     ]
    },
    {
     "data": {
      "application/vnd.jupyter.widget-view+json": {
       "model_id": "c082615b57b1473190105d416df75c99",
       "version_major": 2,
       "version_minor": 0
      },
      "text/plain": [
       "HBox(children=(IntProgress(value=0, max=9), HTML(value='')))"
      ]
     },
     "metadata": {},
     "output_type": "display_data"
    },
    {
     "name": "stdout",
     "output_type": "stream",
     "text": [
      "\n",
      "Contour score:  (123, 28.2)\n",
      "Final ranking:  1 (123, 28.2, 96.0, 100.0, 100, 81.0)\n"
     ]
    },
    {
     "data": {
      "application/vnd.jupyter.widget-view+json": {
       "model_id": "409c4a04d62f41bc81d889f95b9fa52e",
       "version_major": 2,
       "version_minor": 0
      },
      "text/plain": [
       "HBox(children=(IntProgress(value=0, max=1000), HTML(value='')))"
      ]
     },
     "metadata": {},
     "output_type": "display_data"
    },
    {
     "name": "stdout",
     "output_type": "stream",
     "text": [
      "\n",
      "Orb score:  (124, 100)\n"
     ]
    },
    {
     "data": {
      "application/vnd.jupyter.widget-view+json": {
       "model_id": "ac2fa6f6afa843188118a4e6ef3784d9",
       "version_major": 2,
       "version_minor": 0
      },
      "text/plain": [
       "HBox(children=(IntProgress(value=0, max=1000), HTML(value='')))"
      ]
     },
     "metadata": {},
     "output_type": "display_data"
    },
    {
     "name": "stdout",
     "output_type": "stream",
     "text": [
      "\n",
      "Sift score:  (124, 100.0)\n"
     ]
    },
    {
     "data": {
      "application/vnd.jupyter.widget-view+json": {
       "model_id": "a3aa109bda54413fbf280b83c002e86f",
       "version_major": 2,
       "version_minor": 0
      },
      "text/plain": [
       "HBox(children=(IntProgress(value=0, max=1000), HTML(value='')))"
      ]
     },
     "metadata": {},
     "output_type": "display_data"
    },
    {
     "name": "stdout",
     "output_type": "stream",
     "text": [
      "\n",
      "Zernike score:  (124, 65.7)\n"
     ]
    },
    {
     "data": {
      "application/vnd.jupyter.widget-view+json": {
       "model_id": "4e217d134e924fe0aaae8c1c632a43c5",
       "version_major": 2,
       "version_minor": 0
      },
      "text/plain": [
       "HBox(children=(IntProgress(value=0, max=9), HTML(value='')))"
      ]
     },
     "metadata": {},
     "output_type": "display_data"
    },
    {
     "name": "stdout",
     "output_type": "stream",
     "text": [
      "\n",
      "Contour score:  (124, 60.9)\n",
      "Final ranking:  1 (124, 60.9, 65.7, 100.0, 100, 81.6)\n"
     ]
    },
    {
     "data": {
      "application/vnd.jupyter.widget-view+json": {
       "model_id": "75d5190250754dc6b76f30500b6aa66b",
       "version_major": 2,
       "version_minor": 0
      },
      "text/plain": [
       "HBox(children=(IntProgress(value=0, max=1000), HTML(value='')))"
      ]
     },
     "metadata": {},
     "output_type": "display_data"
    },
    {
     "name": "stdout",
     "output_type": "stream",
     "text": [
      "\n",
      "Orb score:  (125, 34)\n"
     ]
    },
    {
     "data": {
      "application/vnd.jupyter.widget-view+json": {
       "model_id": "6ab0699c3d6741fd9d3d9b29a4c5f355",
       "version_major": 2,
       "version_minor": 0
      },
      "text/plain": [
       "HBox(children=(IntProgress(value=0, max=1000), HTML(value='')))"
      ]
     },
     "metadata": {},
     "output_type": "display_data"
    },
    {
     "name": "stdout",
     "output_type": "stream",
     "text": [
      "\n",
      "Sift score:  (125, 33.3)\n"
     ]
    },
    {
     "data": {
      "application/vnd.jupyter.widget-view+json": {
       "model_id": "acfa8b7463f949439d60d5d051e84d4a",
       "version_major": 2,
       "version_minor": 0
      },
      "text/plain": [
       "HBox(children=(IntProgress(value=0, max=1000), HTML(value='')))"
      ]
     },
     "metadata": {},
     "output_type": "display_data"
    },
    {
     "name": "stdout",
     "output_type": "stream",
     "text": [
      "\n",
      "Zernike score:  (125, 10.8)\n"
     ]
    },
    {
     "data": {
      "application/vnd.jupyter.widget-view+json": {
       "model_id": "554ce1493d484a97957b11184a7e0605",
       "version_major": 2,
       "version_minor": 0
      },
      "text/plain": [
       "HBox(children=(IntProgress(value=0, max=9), HTML(value='')))"
      ]
     },
     "metadata": {},
     "output_type": "display_data"
    },
    {
     "name": "stdout",
     "output_type": "stream",
     "text": [
      "\n",
      "Contour score:  (125, 30.6)\n",
      "Final ranking:  288 (125, 30.6, 10.8, 33.3, 34, 27.2)\n"
     ]
    },
    {
     "data": {
      "application/vnd.jupyter.widget-view+json": {
       "model_id": "385d9f35926a4773aa6754b895df911e",
       "version_major": 2,
       "version_minor": 0
      },
      "text/plain": [
       "HBox(children=(IntProgress(value=0, max=1000), HTML(value='')))"
      ]
     },
     "metadata": {},
     "output_type": "display_data"
    },
    {
     "name": "stdout",
     "output_type": "stream",
     "text": [
      "\n",
      "Orb score:  (126, 70)\n"
     ]
    },
    {
     "data": {
      "application/vnd.jupyter.widget-view+json": {
       "model_id": "9bec1950513742098ecf02eb9f535b83",
       "version_major": 2,
       "version_minor": 0
      },
      "text/plain": [
       "HBox(children=(IntProgress(value=0, max=1000), HTML(value='')))"
      ]
     },
     "metadata": {},
     "output_type": "display_data"
    },
    {
     "name": "stdout",
     "output_type": "stream",
     "text": [
      "\n",
      "Sift score:  (126, 100.0)\n"
     ]
    },
    {
     "data": {
      "application/vnd.jupyter.widget-view+json": {
       "model_id": "2aed6573057e4750ba82efd2d8cedddb",
       "version_major": 2,
       "version_minor": 0
      },
      "text/plain": [
       "HBox(children=(IntProgress(value=0, max=1000), HTML(value='')))"
      ]
     },
     "metadata": {},
     "output_type": "display_data"
    },
    {
     "name": "stdout",
     "output_type": "stream",
     "text": [
      "\n",
      "Zernike score:  (126, 0.0)\n"
     ]
    },
    {
     "data": {
      "application/vnd.jupyter.widget-view+json": {
       "model_id": "1019b8b8f9c94f3ea80d340a787d9474",
       "version_major": 2,
       "version_minor": 0
      },
      "text/plain": [
       "HBox(children=(IntProgress(value=0, max=9), HTML(value='')))"
      ]
     },
     "metadata": {},
     "output_type": "display_data"
    },
    {
     "name": "stdout",
     "output_type": "stream",
     "text": [
      "\n",
      "Contour score:  (126, 57.8)\n",
      "Final ranking:  1 (126, 57.8, 0.0, 100.0, 70, 57.0)\n"
     ]
    },
    {
     "data": {
      "application/vnd.jupyter.widget-view+json": {
       "model_id": "2ea0b2551abd435c9ae229dc2ecf7483",
       "version_major": 2,
       "version_minor": 0
      },
      "text/plain": [
       "HBox(children=(IntProgress(value=0, max=1000), HTML(value='')))"
      ]
     },
     "metadata": {},
     "output_type": "display_data"
    },
    {
     "name": "stdout",
     "output_type": "stream",
     "text": [
      "\n",
      "Orb score:  (127, 80)\n"
     ]
    },
    {
     "data": {
      "application/vnd.jupyter.widget-view+json": {
       "model_id": "d1de6cf7ff7f4420b152e66cdf518b3b",
       "version_major": 2,
       "version_minor": 0
      },
      "text/plain": [
       "HBox(children=(IntProgress(value=0, max=1000), HTML(value='')))"
      ]
     },
     "metadata": {},
     "output_type": "display_data"
    },
    {
     "name": "stdout",
     "output_type": "stream",
     "text": [
      "\n",
      "Sift score:  (127, 100.0)\n"
     ]
    },
    {
     "data": {
      "application/vnd.jupyter.widget-view+json": {
       "model_id": "7dc7a64771b24fc6a8bb55b6f5ddfc1d",
       "version_major": 2,
       "version_minor": 0
      },
      "text/plain": [
       "HBox(children=(IntProgress(value=0, max=1000), HTML(value='')))"
      ]
     },
     "metadata": {},
     "output_type": "display_data"
    },
    {
     "name": "stdout",
     "output_type": "stream",
     "text": [
      "\n",
      "Zernike score:  (127, 81.9)\n"
     ]
    },
    {
     "data": {
      "application/vnd.jupyter.widget-view+json": {
       "model_id": "aa071ef79b6e4e858d6c008a7dcae3fb",
       "version_major": 2,
       "version_minor": 0
      },
      "text/plain": [
       "HBox(children=(IntProgress(value=0, max=9), HTML(value='')))"
      ]
     },
     "metadata": {},
     "output_type": "display_data"
    },
    {
     "name": "stdout",
     "output_type": "stream",
     "text": [
      "\n",
      "Contour score:  (127, 44.6)\n",
      "Final ranking:  1 (127, 44.6, 81.9, 100.0, 80, 76.6)\n"
     ]
    },
    {
     "data": {
      "application/vnd.jupyter.widget-view+json": {
       "model_id": "3b7f107fb3734cf4833fd408b457a72a",
       "version_major": 2,
       "version_minor": 0
      },
      "text/plain": [
       "HBox(children=(IntProgress(value=0, max=1000), HTML(value='')))"
      ]
     },
     "metadata": {},
     "output_type": "display_data"
    },
    {
     "name": "stdout",
     "output_type": "stream",
     "text": [
      "\n",
      "Orb score:  (128, 42)\n"
     ]
    },
    {
     "data": {
      "application/vnd.jupyter.widget-view+json": {
       "model_id": "eaf04de04a1f496fa63ee28423f91866",
       "version_major": 2,
       "version_minor": 0
      },
      "text/plain": [
       "HBox(children=(IntProgress(value=0, max=1000), HTML(value='')))"
      ]
     },
     "metadata": {},
     "output_type": "display_data"
    },
    {
     "name": "stdout",
     "output_type": "stream",
     "text": [
      "\n",
      "Sift score:  (128, 78.6)\n"
     ]
    },
    {
     "data": {
      "application/vnd.jupyter.widget-view+json": {
       "model_id": "b91b8f0f64cd498087954623d3ba59d7",
       "version_major": 2,
       "version_minor": 0
      },
      "text/plain": [
       "HBox(children=(IntProgress(value=0, max=1000), HTML(value='')))"
      ]
     },
     "metadata": {},
     "output_type": "display_data"
    },
    {
     "name": "stdout",
     "output_type": "stream",
     "text": [
      "\n",
      "Zernike score:  (128, 59.9)\n"
     ]
    },
    {
     "data": {
      "application/vnd.jupyter.widget-view+json": {
       "model_id": "f893be0385d74bac9a26b35023015d48",
       "version_major": 2,
       "version_minor": 0
      },
      "text/plain": [
       "HBox(children=(IntProgress(value=0, max=9), HTML(value='')))"
      ]
     },
     "metadata": {},
     "output_type": "display_data"
    },
    {
     "name": "stdout",
     "output_type": "stream",
     "text": [
      "\n",
      "Contour score:  (128, 9.3)\n",
      "Final ranking:  34 (128, 9.3, 59.9, 78.6, 42, 47.4)\n"
     ]
    },
    {
     "data": {
      "application/vnd.jupyter.widget-view+json": {
       "model_id": "565f1e6931354411b292055c11652b2b",
       "version_major": 2,
       "version_minor": 0
      },
      "text/plain": [
       "HBox(children=(IntProgress(value=0, max=1000), HTML(value='')))"
      ]
     },
     "metadata": {},
     "output_type": "display_data"
    },
    {
     "name": "stdout",
     "output_type": "stream",
     "text": [
      "\n",
      "Orb score:  (129, 48)\n"
     ]
    },
    {
     "data": {
      "application/vnd.jupyter.widget-view+json": {
       "model_id": "da8192e4d1674cf49861fff10c18775c",
       "version_major": 2,
       "version_minor": 0
      },
      "text/plain": [
       "HBox(children=(IntProgress(value=0, max=1000), HTML(value='')))"
      ]
     },
     "metadata": {},
     "output_type": "display_data"
    },
    {
     "name": "stdout",
     "output_type": "stream",
     "text": [
      "\n",
      "Sift score:  (129, 88.2)\n"
     ]
    },
    {
     "data": {
      "application/vnd.jupyter.widget-view+json": {
       "model_id": "6b258ff341d240ba9baeb48170bd0ea6",
       "version_major": 2,
       "version_minor": 0
      },
      "text/plain": [
       "HBox(children=(IntProgress(value=0, max=1000), HTML(value='')))"
      ]
     },
     "metadata": {},
     "output_type": "display_data"
    },
    {
     "name": "stdout",
     "output_type": "stream",
     "text": [
      "\n",
      "Zernike score:  (129, 80.3)\n"
     ]
    },
    {
     "data": {
      "application/vnd.jupyter.widget-view+json": {
       "model_id": "61bf7f8b6da8494ab6ca35bba5eeaae4",
       "version_major": 2,
       "version_minor": 0
      },
      "text/plain": [
       "HBox(children=(IntProgress(value=0, max=9), HTML(value='')))"
      ]
     },
     "metadata": {},
     "output_type": "display_data"
    },
    {
     "name": "stdout",
     "output_type": "stream",
     "text": [
      "\n",
      "Contour score:  (129, 31.6)\n",
      "Final ranking:  1 (129, 31.6, 80.3, 88.2, 48, 62.0)\n"
     ]
    },
    {
     "data": {
      "application/vnd.jupyter.widget-view+json": {
       "model_id": "b306917efca542e78dcd5cd1617bfdaa",
       "version_major": 2,
       "version_minor": 0
      },
      "text/plain": [
       "HBox(children=(IntProgress(value=0, max=1000), HTML(value='')))"
      ]
     },
     "metadata": {},
     "output_type": "display_data"
    },
    {
     "name": "stdout",
     "output_type": "stream",
     "text": [
      "\n",
      "Orb score:  (130, 63)\n"
     ]
    },
    {
     "data": {
      "application/vnd.jupyter.widget-view+json": {
       "model_id": "b94d70ab64844b76a04e5770010436b5",
       "version_major": 2,
       "version_minor": 0
      },
      "text/plain": [
       "HBox(children=(IntProgress(value=0, max=1000), HTML(value='')))"
      ]
     },
     "metadata": {},
     "output_type": "display_data"
    },
    {
     "name": "stdout",
     "output_type": "stream",
     "text": [
      "\n",
      "Sift score:  (130, 83.3)\n"
     ]
    },
    {
     "data": {
      "application/vnd.jupyter.widget-view+json": {
       "model_id": "82971a9a65e14ed2ab4108f468914dbe",
       "version_major": 2,
       "version_minor": 0
      },
      "text/plain": [
       "HBox(children=(IntProgress(value=0, max=1000), HTML(value='')))"
      ]
     },
     "metadata": {},
     "output_type": "display_data"
    },
    {
     "name": "stdout",
     "output_type": "stream",
     "text": [
      "\n",
      "Zernike score:  (130, 0.0)\n"
     ]
    },
    {
     "data": {
      "application/vnd.jupyter.widget-view+json": {
       "model_id": "9a0302ae6aeb49ddb4e11fbd4103c034",
       "version_major": 2,
       "version_minor": 0
      },
      "text/plain": [
       "HBox(children=(IntProgress(value=0, max=9), HTML(value='')))"
      ]
     },
     "metadata": {},
     "output_type": "display_data"
    },
    {
     "name": "stdout",
     "output_type": "stream",
     "text": [
      "\n",
      "Contour score:  (130, 26.0)\n",
      "Final ranking:  2 (130, 26.0, 0.0, 83.3, 63, 43.1)\n"
     ]
    },
    {
     "data": {
      "application/vnd.jupyter.widget-view+json": {
       "model_id": "bf0cbba00804470989f698572d24fc9e",
       "version_major": 2,
       "version_minor": 0
      },
      "text/plain": [
       "HBox(children=(IntProgress(value=0, max=1000), HTML(value='')))"
      ]
     },
     "metadata": {},
     "output_type": "display_data"
    },
    {
     "name": "stdout",
     "output_type": "stream",
     "text": [
      "\n",
      "Orb score:  (131, 22)\n"
     ]
    },
    {
     "data": {
      "application/vnd.jupyter.widget-view+json": {
       "model_id": "f243dc7b576541d69cca35dabf157345",
       "version_major": 2,
       "version_minor": 0
      },
      "text/plain": [
       "HBox(children=(IntProgress(value=0, max=1000), HTML(value='')))"
      ]
     },
     "metadata": {},
     "output_type": "display_data"
    },
    {
     "name": "stdout",
     "output_type": "stream",
     "text": [
      "\n",
      "Sift score:  (131, 28.6)\n"
     ]
    },
    {
     "data": {
      "application/vnd.jupyter.widget-view+json": {
       "model_id": "5cf9ebb4a4b84dfa93c2e4d6c624cfe0",
       "version_major": 2,
       "version_minor": 0
      },
      "text/plain": [
       "HBox(children=(IntProgress(value=0, max=1000), HTML(value='')))"
      ]
     },
     "metadata": {},
     "output_type": "display_data"
    },
    {
     "name": "stdout",
     "output_type": "stream",
     "text": [
      "\n",
      "Zernike score:  (131, 0.0)\n"
     ]
    },
    {
     "data": {
      "application/vnd.jupyter.widget-view+json": {
       "model_id": "5ee6f4692e6140f2a2e30e661e1cf8fb",
       "version_major": 2,
       "version_minor": 0
      },
      "text/plain": [
       "HBox(children=(IntProgress(value=0, max=9), HTML(value='')))"
      ]
     },
     "metadata": {},
     "output_type": "display_data"
    },
    {
     "name": "stdout",
     "output_type": "stream",
     "text": [
      "\n",
      "Contour score:  (131, 33.2)\n",
      "Final ranking:  610 (131, 33.2, 0.0, 28.6, 22, 21.0)\n"
     ]
    },
    {
     "data": {
      "application/vnd.jupyter.widget-view+json": {
       "model_id": "eb2826f2520e4ab7a6e94da0b1b38e9d",
       "version_major": 2,
       "version_minor": 0
      },
      "text/plain": [
       "HBox(children=(IntProgress(value=0, max=1000), HTML(value='')))"
      ]
     },
     "metadata": {},
     "output_type": "display_data"
    },
    {
     "name": "stdout",
     "output_type": "stream",
     "text": [
      "\n",
      "Orb score:  (132, 86)\n"
     ]
    },
    {
     "data": {
      "application/vnd.jupyter.widget-view+json": {
       "model_id": "39401de7c8cc493da90bf3cae012bbc7",
       "version_major": 2,
       "version_minor": 0
      },
      "text/plain": [
       "HBox(children=(IntProgress(value=0, max=1000), HTML(value='')))"
      ]
     },
     "metadata": {},
     "output_type": "display_data"
    },
    {
     "name": "stdout",
     "output_type": "stream",
     "text": [
      "\n",
      "Sift score:  (132, 100.0)\n"
     ]
    },
    {
     "data": {
      "application/vnd.jupyter.widget-view+json": {
       "model_id": "dd068252c0a44318a5702a031b235b6c",
       "version_major": 2,
       "version_minor": 0
      },
      "text/plain": [
       "HBox(children=(IntProgress(value=0, max=1000), HTML(value='')))"
      ]
     },
     "metadata": {},
     "output_type": "display_data"
    },
    {
     "name": "stdout",
     "output_type": "stream",
     "text": [
      "\n",
      "Zernike score:  (132, 67.5)\n"
     ]
    },
    {
     "data": {
      "application/vnd.jupyter.widget-view+json": {
       "model_id": "c9f8c5bc9c994a368d5dd94cccd0090c",
       "version_major": 2,
       "version_minor": 0
      },
      "text/plain": [
       "HBox(children=(IntProgress(value=0, max=9), HTML(value='')))"
      ]
     },
     "metadata": {},
     "output_type": "display_data"
    },
    {
     "name": "stdout",
     "output_type": "stream",
     "text": [
      "\n",
      "Contour score:  (132, 53.1)\n",
      "Final ranking:  1 (132, 53.1, 67.5, 100.0, 86, 76.6)\n"
     ]
    },
    {
     "data": {
      "application/vnd.jupyter.widget-view+json": {
       "model_id": "5030cdb084f448ca8207b52a15715c37",
       "version_major": 2,
       "version_minor": 0
      },
      "text/plain": [
       "HBox(children=(IntProgress(value=0, max=1000), HTML(value='')))"
      ]
     },
     "metadata": {},
     "output_type": "display_data"
    },
    {
     "name": "stdout",
     "output_type": "stream",
     "text": [
      "\n",
      "Orb score:  (133, 26)\n"
     ]
    },
    {
     "data": {
      "application/vnd.jupyter.widget-view+json": {
       "model_id": "77632eea61d243ea951313704c96cb06",
       "version_major": 2,
       "version_minor": 0
      },
      "text/plain": [
       "HBox(children=(IntProgress(value=0, max=1000), HTML(value='')))"
      ]
     },
     "metadata": {},
     "output_type": "display_data"
    },
    {
     "name": "stdout",
     "output_type": "stream",
     "text": [
      "\n",
      "Sift score:  (133, 6.7)\n"
     ]
    },
    {
     "data": {
      "application/vnd.jupyter.widget-view+json": {
       "model_id": "ecceb7039be4430f9bdab92d73c57659",
       "version_major": 2,
       "version_minor": 0
      },
      "text/plain": [
       "HBox(children=(IntProgress(value=0, max=1000), HTML(value='')))"
      ]
     },
     "metadata": {},
     "output_type": "display_data"
    },
    {
     "name": "stdout",
     "output_type": "stream",
     "text": [
      "\n",
      "Zernike score:  (133, 0.0)\n"
     ]
    },
    {
     "data": {
      "application/vnd.jupyter.widget-view+json": {
       "model_id": "79c9cd566cc74263a34a510bf7ba76ea",
       "version_major": 2,
       "version_minor": 0
      },
      "text/plain": [
       "HBox(children=(IntProgress(value=0, max=9), HTML(value='')))"
      ]
     },
     "metadata": {},
     "output_type": "display_data"
    },
    {
     "name": "stdout",
     "output_type": "stream",
     "text": [
      "\n",
      "Contour score:  (133, 34.0)\n",
      "Final ranking:  698 (133, 34.0, 0.0, 6.7, 26, 16.7)\n"
     ]
    },
    {
     "data": {
      "application/vnd.jupyter.widget-view+json": {
       "model_id": "27bf05f986ac41ab9a0834659e733905",
       "version_major": 2,
       "version_minor": 0
      },
      "text/plain": [
       "HBox(children=(IntProgress(value=0, max=1000), HTML(value='')))"
      ]
     },
     "metadata": {},
     "output_type": "display_data"
    },
    {
     "name": "stdout",
     "output_type": "stream",
     "text": [
      "\n",
      "Orb score:  (134, 55)\n"
     ]
    },
    {
     "data": {
      "application/vnd.jupyter.widget-view+json": {
       "model_id": "a9a5e25408fb41afb91241d344bb47f6",
       "version_major": 2,
       "version_minor": 0
      },
      "text/plain": [
       "HBox(children=(IntProgress(value=0, max=1000), HTML(value='')))"
      ]
     },
     "metadata": {},
     "output_type": "display_data"
    },
    {
     "name": "stdout",
     "output_type": "stream",
     "text": [
      "\n",
      "Sift score:  (134, 87.5)\n"
     ]
    },
    {
     "data": {
      "application/vnd.jupyter.widget-view+json": {
       "model_id": "013762cd0ed04e77b6bdd574b6f70bc8",
       "version_major": 2,
       "version_minor": 0
      },
      "text/plain": [
       "HBox(children=(IntProgress(value=0, max=1000), HTML(value='')))"
      ]
     },
     "metadata": {},
     "output_type": "display_data"
    },
    {
     "name": "stdout",
     "output_type": "stream",
     "text": [
      "\n",
      "Zernike score:  (134, 0.0)\n"
     ]
    },
    {
     "data": {
      "application/vnd.jupyter.widget-view+json": {
       "model_id": "2a650752082446198b2c2a12e116e867",
       "version_major": 2,
       "version_minor": 0
      },
      "text/plain": [
       "HBox(children=(IntProgress(value=0, max=9), HTML(value='')))"
      ]
     },
     "metadata": {},
     "output_type": "display_data"
    },
    {
     "name": "stdout",
     "output_type": "stream",
     "text": [
      "\n",
      "Contour score:  (134, 77.1)\n",
      "Final ranking:  9 (134, 77.1, 0.0, 87.5, 55, 54.9)\n"
     ]
    },
    {
     "data": {
      "application/vnd.jupyter.widget-view+json": {
       "model_id": "31dfd6f2153f4694963be0e7d31d6261",
       "version_major": 2,
       "version_minor": 0
      },
      "text/plain": [
       "HBox(children=(IntProgress(value=0, max=1000), HTML(value='')))"
      ]
     },
     "metadata": {},
     "output_type": "display_data"
    },
    {
     "name": "stdout",
     "output_type": "stream",
     "text": [
      "\n",
      "Orb score:  (135, 37)\n"
     ]
    },
    {
     "data": {
      "application/vnd.jupyter.widget-view+json": {
       "model_id": "fded370a3b404d0c9d62d7f2702d1455",
       "version_major": 2,
       "version_minor": 0
      },
      "text/plain": [
       "HBox(children=(IntProgress(value=0, max=1000), HTML(value='')))"
      ]
     },
     "metadata": {},
     "output_type": "display_data"
    },
    {
     "name": "stdout",
     "output_type": "stream",
     "text": [
      "\n",
      "Sift score:  (135, 100.0)\n"
     ]
    },
    {
     "data": {
      "application/vnd.jupyter.widget-view+json": {
       "model_id": "6d389ccc31cd4ae6ab3f011eb5b0857f",
       "version_major": 2,
       "version_minor": 0
      },
      "text/plain": [
       "HBox(children=(IntProgress(value=0, max=1000), HTML(value='')))"
      ]
     },
     "metadata": {},
     "output_type": "display_data"
    },
    {
     "name": "stdout",
     "output_type": "stream",
     "text": [
      "\n",
      "Zernike score:  (135, 0.0)\n"
     ]
    },
    {
     "data": {
      "application/vnd.jupyter.widget-view+json": {
       "model_id": "7fef526cc8f54529a7b64340b990d57f",
       "version_major": 2,
       "version_minor": 0
      },
      "text/plain": [
       "HBox(children=(IntProgress(value=0, max=9), HTML(value='')))"
      ]
     },
     "metadata": {},
     "output_type": "display_data"
    },
    {
     "name": "stdout",
     "output_type": "stream",
     "text": [
      "\n",
      "Contour score:  (135, 62.6)\n",
      "Final ranking:  10 (135, 62.6, 0.0, 100.0, 37, 49.9)\n"
     ]
    },
    {
     "data": {
      "application/vnd.jupyter.widget-view+json": {
       "model_id": "b9da2c3fb5cc4a8c945caa3d2b680730",
       "version_major": 2,
       "version_minor": 0
      },
      "text/plain": [
       "HBox(children=(IntProgress(value=0, max=1000), HTML(value='')))"
      ]
     },
     "metadata": {},
     "output_type": "display_data"
    },
    {
     "name": "stdout",
     "output_type": "stream",
     "text": [
      "\n",
      "Orb score:  (136, 76)\n"
     ]
    },
    {
     "data": {
      "application/vnd.jupyter.widget-view+json": {
       "model_id": "cc0fb5ed237b46b4a24e12cf3b1eb410",
       "version_major": 2,
       "version_minor": 0
      },
      "text/plain": [
       "HBox(children=(IntProgress(value=0, max=1000), HTML(value='')))"
      ]
     },
     "metadata": {},
     "output_type": "display_data"
    },
    {
     "name": "stdout",
     "output_type": "stream",
     "text": [
      "\n",
      "Sift score:  (136, 94.4)\n"
     ]
    },
    {
     "data": {
      "application/vnd.jupyter.widget-view+json": {
       "model_id": "6ddce82e3f6c487893f04b6394b25d0e",
       "version_major": 2,
       "version_minor": 0
      },
      "text/plain": [
       "HBox(children=(IntProgress(value=0, max=1000), HTML(value='')))"
      ]
     },
     "metadata": {},
     "output_type": "display_data"
    },
    {
     "name": "stdout",
     "output_type": "stream",
     "text": [
      "\n",
      "Zernike score:  (136, 72.4)\n"
     ]
    },
    {
     "data": {
      "application/vnd.jupyter.widget-view+json": {
       "model_id": "c3a0a0ed287d45aa88fdecaccf6ee028",
       "version_major": 2,
       "version_minor": 0
      },
      "text/plain": [
       "HBox(children=(IntProgress(value=0, max=9), HTML(value='')))"
      ]
     },
     "metadata": {},
     "output_type": "display_data"
    },
    {
     "name": "stdout",
     "output_type": "stream",
     "text": [
      "\n",
      "Contour score:  (136, 38.8)\n",
      "Final ranking:  1 (136, 38.8, 72.4, 94.4, 76, 70.4)\n"
     ]
    },
    {
     "data": {
      "application/vnd.jupyter.widget-view+json": {
       "model_id": "7b70daf195914a9ea059fd52ae10eeed",
       "version_major": 2,
       "version_minor": 0
      },
      "text/plain": [
       "HBox(children=(IntProgress(value=0, max=1000), HTML(value='')))"
      ]
     },
     "metadata": {},
     "output_type": "display_data"
    },
    {
     "name": "stdout",
     "output_type": "stream",
     "text": [
      "\n",
      "Orb score:  (137, 77)\n"
     ]
    },
    {
     "data": {
      "application/vnd.jupyter.widget-view+json": {
       "model_id": "3ae2bca73ccc4f3eb9a977f7aacf6106",
       "version_major": 2,
       "version_minor": 0
      },
      "text/plain": [
       "HBox(children=(IntProgress(value=0, max=1000), HTML(value='')))"
      ]
     },
     "metadata": {},
     "output_type": "display_data"
    },
    {
     "name": "stdout",
     "output_type": "stream",
     "text": [
      "\n",
      "Sift score:  (137, 70.0)\n"
     ]
    },
    {
     "data": {
      "application/vnd.jupyter.widget-view+json": {
       "model_id": "acd11f1ff78f43628f47ac7025b7b085",
       "version_major": 2,
       "version_minor": 0
      },
      "text/plain": [
       "HBox(children=(IntProgress(value=0, max=1000), HTML(value='')))"
      ]
     },
     "metadata": {},
     "output_type": "display_data"
    },
    {
     "name": "stdout",
     "output_type": "stream",
     "text": [
      "\n",
      "Zernike score:  (137, 21.9)\n"
     ]
    },
    {
     "data": {
      "application/vnd.jupyter.widget-view+json": {
       "model_id": "b08814c79f1f427e9b21b02afb026083",
       "version_major": 2,
       "version_minor": 0
      },
      "text/plain": [
       "HBox(children=(IntProgress(value=0, max=9), HTML(value='')))"
      ]
     },
     "metadata": {},
     "output_type": "display_data"
    },
    {
     "name": "stdout",
     "output_type": "stream",
     "text": [
      "\n",
      "Contour score:  (137, 53.8)\n",
      "Final ranking:  1 (137, 53.8, 21.9, 70.0, 77, 55.7)\n"
     ]
    },
    {
     "data": {
      "application/vnd.jupyter.widget-view+json": {
       "model_id": "7b80cf81f3ba423bbbe65cafc9de17ce",
       "version_major": 2,
       "version_minor": 0
      },
      "text/plain": [
       "HBox(children=(IntProgress(value=0, max=1000), HTML(value='')))"
      ]
     },
     "metadata": {},
     "output_type": "display_data"
    },
    {
     "name": "stdout",
     "output_type": "stream",
     "text": [
      "\n",
      "Orb score:  (138, 74)\n"
     ]
    },
    {
     "data": {
      "application/vnd.jupyter.widget-view+json": {
       "model_id": "d3b56408b8064158a10c85334acecea0",
       "version_major": 2,
       "version_minor": 0
      },
      "text/plain": [
       "HBox(children=(IntProgress(value=0, max=1000), HTML(value='')))"
      ]
     },
     "metadata": {},
     "output_type": "display_data"
    },
    {
     "name": "stdout",
     "output_type": "stream",
     "text": [
      "\n",
      "Sift score:  (138, 100.0)\n"
     ]
    },
    {
     "data": {
      "application/vnd.jupyter.widget-view+json": {
       "model_id": "59c7ba28589a4c4ba1e0d1d7e267ecff",
       "version_major": 2,
       "version_minor": 0
      },
      "text/plain": [
       "HBox(children=(IntProgress(value=0, max=1000), HTML(value='')))"
      ]
     },
     "metadata": {},
     "output_type": "display_data"
    },
    {
     "name": "stdout",
     "output_type": "stream",
     "text": [
      "\n",
      "Zernike score:  (138, 51.0)\n"
     ]
    },
    {
     "data": {
      "application/vnd.jupyter.widget-view+json": {
       "model_id": "9dc9a8ef897246bd8ceecb4481a91f68",
       "version_major": 2,
       "version_minor": 0
      },
      "text/plain": [
       "HBox(children=(IntProgress(value=0, max=9), HTML(value='')))"
      ]
     },
     "metadata": {},
     "output_type": "display_data"
    },
    {
     "name": "stdout",
     "output_type": "stream",
     "text": [
      "\n",
      "Contour score:  (138, 44.9)\n",
      "Final ranking:  1 (138, 44.9, 51.0, 100.0, 74, 67.5)\n"
     ]
    },
    {
     "data": {
      "application/vnd.jupyter.widget-view+json": {
       "model_id": "e79f0b3704a945249cbab99dd6b35eb1",
       "version_major": 2,
       "version_minor": 0
      },
      "text/plain": [
       "HBox(children=(IntProgress(value=0, max=1000), HTML(value='')))"
      ]
     },
     "metadata": {},
     "output_type": "display_data"
    },
    {
     "name": "stdout",
     "output_type": "stream",
     "text": [
      "\n",
      "Orb score:  (139, 41)\n"
     ]
    },
    {
     "data": {
      "application/vnd.jupyter.widget-view+json": {
       "model_id": "f45f4acbd0e94740a645ff4bb32ba570",
       "version_major": 2,
       "version_minor": 0
      },
      "text/plain": [
       "HBox(children=(IntProgress(value=0, max=1000), HTML(value='')))"
      ]
     },
     "metadata": {},
     "output_type": "display_data"
    },
    {
     "name": "stdout",
     "output_type": "stream",
     "text": [
      "\n",
      "Sift score:  (139, 66.7)\n"
     ]
    },
    {
     "data": {
      "application/vnd.jupyter.widget-view+json": {
       "model_id": "35ca34e9013e41af8d68dc202ea1d619",
       "version_major": 2,
       "version_minor": 0
      },
      "text/plain": [
       "HBox(children=(IntProgress(value=0, max=1000), HTML(value='')))"
      ]
     },
     "metadata": {},
     "output_type": "display_data"
    },
    {
     "name": "stdout",
     "output_type": "stream",
     "text": [
      "\n",
      "Zernike score:  (139, 0.0)\n"
     ]
    },
    {
     "data": {
      "application/vnd.jupyter.widget-view+json": {
       "model_id": "dae53de2ae92401d8513a75e7364d181",
       "version_major": 2,
       "version_minor": 0
      },
      "text/plain": [
       "HBox(children=(IntProgress(value=0, max=9), HTML(value='')))"
      ]
     },
     "metadata": {},
     "output_type": "display_data"
    },
    {
     "name": "stdout",
     "output_type": "stream",
     "text": [
      "\n",
      "Contour score:  (139, 64.8)\n",
      "Final ranking:  16 (139, 64.8, 0.0, 66.7, 41, 43.1)\n"
     ]
    },
    {
     "data": {
      "application/vnd.jupyter.widget-view+json": {
       "model_id": "25da0996e0754288b3277f5a114a6945",
       "version_major": 2,
       "version_minor": 0
      },
      "text/plain": [
       "HBox(children=(IntProgress(value=0, max=1000), HTML(value='')))"
      ]
     },
     "metadata": {},
     "output_type": "display_data"
    },
    {
     "name": "stdout",
     "output_type": "stream",
     "text": [
      "\n",
      "Orb score:  (140, 50)\n"
     ]
    },
    {
     "data": {
      "application/vnd.jupyter.widget-view+json": {
       "model_id": "ba9da6decc894bb68d8db6052481d83f",
       "version_major": 2,
       "version_minor": 0
      },
      "text/plain": [
       "HBox(children=(IntProgress(value=0, max=1000), HTML(value='')))"
      ]
     },
     "metadata": {},
     "output_type": "display_data"
    },
    {
     "name": "stdout",
     "output_type": "stream",
     "text": [
      "\n",
      "Sift score:  (140, 100.0)\n"
     ]
    },
    {
     "data": {
      "application/vnd.jupyter.widget-view+json": {
       "model_id": "d4c94fb9ad07458cbf36606897e06094",
       "version_major": 2,
       "version_minor": 0
      },
      "text/plain": [
       "HBox(children=(IntProgress(value=0, max=1000), HTML(value='')))"
      ]
     },
     "metadata": {},
     "output_type": "display_data"
    },
    {
     "name": "stdout",
     "output_type": "stream",
     "text": [
      "\n",
      "Zernike score:  (140, 0.0)\n"
     ]
    },
    {
     "data": {
      "application/vnd.jupyter.widget-view+json": {
       "model_id": "93cf9100cb3146aeabf1a8fb6a8b32b0",
       "version_major": 2,
       "version_minor": 0
      },
      "text/plain": [
       "HBox(children=(IntProgress(value=0, max=9), HTML(value='')))"
      ]
     },
     "metadata": {},
     "output_type": "display_data"
    },
    {
     "name": "stdout",
     "output_type": "stream",
     "text": [
      "\n",
      "Contour score:  (140, 31.4)\n",
      "Final ranking:  52 (140, 31.4, 0.0, 100.0, 50, 45.4)\n"
     ]
    },
    {
     "data": {
      "application/vnd.jupyter.widget-view+json": {
       "model_id": "b0bf4b71a9c14b34b2d0618267709d1d",
       "version_major": 2,
       "version_minor": 0
      },
      "text/plain": [
       "HBox(children=(IntProgress(value=0, max=1000), HTML(value='')))"
      ]
     },
     "metadata": {},
     "output_type": "display_data"
    },
    {
     "name": "stdout",
     "output_type": "stream",
     "text": [
      "\n",
      "Orb score:  (141, 61)\n"
     ]
    },
    {
     "data": {
      "application/vnd.jupyter.widget-view+json": {
       "model_id": "2813fcdff1bd4d5097fae75f27c113b3",
       "version_major": 2,
       "version_minor": 0
      },
      "text/plain": [
       "HBox(children=(IntProgress(value=0, max=1000), HTML(value='')))"
      ]
     },
     "metadata": {},
     "output_type": "display_data"
    },
    {
     "name": "stdout",
     "output_type": "stream",
     "text": [
      "\n",
      "Sift score:  (141, 100.0)\n"
     ]
    },
    {
     "data": {
      "application/vnd.jupyter.widget-view+json": {
       "model_id": "030e84d5e91547c9ade0424d4e940370",
       "version_major": 2,
       "version_minor": 0
      },
      "text/plain": [
       "HBox(children=(IntProgress(value=0, max=1000), HTML(value='')))"
      ]
     },
     "metadata": {},
     "output_type": "display_data"
    },
    {
     "name": "stdout",
     "output_type": "stream",
     "text": [
      "\n",
      "Zernike score:  (141, 77.8)\n"
     ]
    },
    {
     "data": {
      "application/vnd.jupyter.widget-view+json": {
       "model_id": "b97ad85b565a4ea1b2c695865cf20111",
       "version_major": 2,
       "version_minor": 0
      },
      "text/plain": [
       "HBox(children=(IntProgress(value=0, max=9), HTML(value='')))"
      ]
     },
     "metadata": {},
     "output_type": "display_data"
    },
    {
     "name": "stdout",
     "output_type": "stream",
     "text": [
      "\n",
      "Contour score:  (141, 62.3)\n",
      "Final ranking:  1 (141, 62.3, 77.8, 100.0, 61, 75.3)\n"
     ]
    },
    {
     "data": {
      "application/vnd.jupyter.widget-view+json": {
       "model_id": "8f7e76c2f6da42cdacbbeeaef7da697a",
       "version_major": 2,
       "version_minor": 0
      },
      "text/plain": [
       "HBox(children=(IntProgress(value=0, max=1000), HTML(value='')))"
      ]
     },
     "metadata": {},
     "output_type": "display_data"
    },
    {
     "name": "stdout",
     "output_type": "stream",
     "text": [
      "\n",
      "Orb score:  (142, 59)\n"
     ]
    },
    {
     "data": {
      "application/vnd.jupyter.widget-view+json": {
       "model_id": "255ddcf00c214ae0875f2a726fca9c82",
       "version_major": 2,
       "version_minor": 0
      },
      "text/plain": [
       "HBox(children=(IntProgress(value=0, max=1000), HTML(value='')))"
      ]
     },
     "metadata": {},
     "output_type": "display_data"
    },
    {
     "name": "stdout",
     "output_type": "stream",
     "text": [
      "\n",
      "Sift score:  (142, 100.0)\n"
     ]
    },
    {
     "data": {
      "application/vnd.jupyter.widget-view+json": {
       "model_id": "85444b95817245c0a2bd09935c439c1e",
       "version_major": 2,
       "version_minor": 0
      },
      "text/plain": [
       "HBox(children=(IntProgress(value=0, max=1000), HTML(value='')))"
      ]
     },
     "metadata": {},
     "output_type": "display_data"
    },
    {
     "name": "stdout",
     "output_type": "stream",
     "text": [
      "\n",
      "Zernike score:  (142, 0.0)\n"
     ]
    },
    {
     "data": {
      "application/vnd.jupyter.widget-view+json": {
       "model_id": "a3accb56c65148e2882a3f2ef31519a5",
       "version_major": 2,
       "version_minor": 0
      },
      "text/plain": [
       "HBox(children=(IntProgress(value=0, max=9), HTML(value='')))"
      ]
     },
     "metadata": {},
     "output_type": "display_data"
    },
    {
     "name": "stdout",
     "output_type": "stream",
     "text": [
      "\n",
      "Contour score:  (142, 47.9)\n",
      "Final ranking:  18 (142, 47.9, 0.0, 100.0, 59, 51.7)\n"
     ]
    },
    {
     "data": {
      "application/vnd.jupyter.widget-view+json": {
       "model_id": "97bd5aa2d8d54a7e949c509091b1f9ad",
       "version_major": 2,
       "version_minor": 0
      },
      "text/plain": [
       "HBox(children=(IntProgress(value=0, max=1000), HTML(value='')))"
      ]
     },
     "metadata": {},
     "output_type": "display_data"
    },
    {
     "name": "stdout",
     "output_type": "stream",
     "text": [
      "\n",
      "Orb score:  (143, 50)\n"
     ]
    },
    {
     "data": {
      "application/vnd.jupyter.widget-view+json": {
       "model_id": "18bbfa57d64e403f99bbe5b9c39b775b",
       "version_major": 2,
       "version_minor": 0
      },
      "text/plain": [
       "HBox(children=(IntProgress(value=0, max=1000), HTML(value='')))"
      ]
     },
     "metadata": {},
     "output_type": "display_data"
    },
    {
     "name": "stdout",
     "output_type": "stream",
     "text": [
      "\n",
      "Sift score:  (143, 45.5)\n"
     ]
    },
    {
     "data": {
      "application/vnd.jupyter.widget-view+json": {
       "model_id": "6dbd67913d12420abc38f4a78230eabc",
       "version_major": 2,
       "version_minor": 0
      },
      "text/plain": [
       "HBox(children=(IntProgress(value=0, max=1000), HTML(value='')))"
      ]
     },
     "metadata": {},
     "output_type": "display_data"
    },
    {
     "name": "stdout",
     "output_type": "stream",
     "text": [
      "\n",
      "Zernike score:  (143, 0.0)\n"
     ]
    },
    {
     "data": {
      "application/vnd.jupyter.widget-view+json": {
       "model_id": "11d48a7fc345450687b3399ae8473743",
       "version_major": 2,
       "version_minor": 0
      },
      "text/plain": [
       "HBox(children=(IntProgress(value=0, max=9), HTML(value='')))"
      ]
     },
     "metadata": {},
     "output_type": "display_data"
    },
    {
     "name": "stdout",
     "output_type": "stream",
     "text": [
      "\n",
      "Contour score:  (143, 12.8)\n",
      "Final ranking:  155 (143, 12.8, 0.0, 45.5, 50, 27.1)\n"
     ]
    },
    {
     "data": {
      "application/vnd.jupyter.widget-view+json": {
       "model_id": "55742feb4b084ac0bf894d98aaae3199",
       "version_major": 2,
       "version_minor": 0
      },
      "text/plain": [
       "HBox(children=(IntProgress(value=0, max=1000), HTML(value='')))"
      ]
     },
     "metadata": {},
     "output_type": "display_data"
    },
    {
     "name": "stdout",
     "output_type": "stream",
     "text": [
      "\n",
      "Orb score:  (144, 46)\n"
     ]
    },
    {
     "data": {
      "application/vnd.jupyter.widget-view+json": {
       "model_id": "6b3585be462545e1a93014463b9bc6f8",
       "version_major": 2,
       "version_minor": 0
      },
      "text/plain": [
       "HBox(children=(IntProgress(value=0, max=1000), HTML(value='')))"
      ]
     },
     "metadata": {},
     "output_type": "display_data"
    },
    {
     "name": "stdout",
     "output_type": "stream",
     "text": [
      "\n",
      "Sift score:  (144, 87.5)\n"
     ]
    },
    {
     "data": {
      "application/vnd.jupyter.widget-view+json": {
       "model_id": "9dae263278d74c1383cfb8a6a40ddf52",
       "version_major": 2,
       "version_minor": 0
      },
      "text/plain": [
       "HBox(children=(IntProgress(value=0, max=1000), HTML(value='')))"
      ]
     },
     "metadata": {},
     "output_type": "display_data"
    },
    {
     "name": "stdout",
     "output_type": "stream",
     "text": [
      "\n",
      "Zernike score:  (144, 0.0)\n"
     ]
    },
    {
     "data": {
      "application/vnd.jupyter.widget-view+json": {
       "model_id": "799d6379b9b94148bbd099bd15adc945",
       "version_major": 2,
       "version_minor": 0
      },
      "text/plain": [
       "HBox(children=(IntProgress(value=0, max=9), HTML(value='')))"
      ]
     },
     "metadata": {},
     "output_type": "display_data"
    },
    {
     "name": "stdout",
     "output_type": "stream",
     "text": [
      "\n",
      "Contour score:  (144, 56.1)\n",
      "Final ranking:  63 (144, 56.1, 0.0, 87.5, 46, 47.4)\n"
     ]
    },
    {
     "data": {
      "application/vnd.jupyter.widget-view+json": {
       "model_id": "c117f85d0ee24ce699c81f7c94e7fe44",
       "version_major": 2,
       "version_minor": 0
      },
      "text/plain": [
       "HBox(children=(IntProgress(value=0, max=1000), HTML(value='')))"
      ]
     },
     "metadata": {},
     "output_type": "display_data"
    },
    {
     "name": "stdout",
     "output_type": "stream",
     "text": [
      "\n",
      "Orb score:  (145, 73)\n"
     ]
    },
    {
     "data": {
      "application/vnd.jupyter.widget-view+json": {
       "model_id": "864c7fa471394c30b98e9b566658644c",
       "version_major": 2,
       "version_minor": 0
      },
      "text/plain": [
       "HBox(children=(IntProgress(value=0, max=1000), HTML(value='')))"
      ]
     },
     "metadata": {},
     "output_type": "display_data"
    },
    {
     "name": "stdout",
     "output_type": "stream",
     "text": [
      "\n",
      "Sift score:  (145, 33.3)\n"
     ]
    },
    {
     "data": {
      "application/vnd.jupyter.widget-view+json": {
       "model_id": "bc8f7e7956c74a38b20f9f1d5b0db34f",
       "version_major": 2,
       "version_minor": 0
      },
      "text/plain": [
       "HBox(children=(IntProgress(value=0, max=1000), HTML(value='')))"
      ]
     },
     "metadata": {},
     "output_type": "display_data"
    },
    {
     "name": "stdout",
     "output_type": "stream",
     "text": [
      "\n",
      "Zernike score:  (145, 0.0)\n"
     ]
    },
    {
     "data": {
      "application/vnd.jupyter.widget-view+json": {
       "model_id": "9fe1bed53fb741d5a7bd2ca6f9041cd1",
       "version_major": 2,
       "version_minor": 0
      },
      "text/plain": [
       "HBox(children=(IntProgress(value=0, max=9), HTML(value='')))"
      ]
     },
     "metadata": {},
     "output_type": "display_data"
    },
    {
     "name": "stdout",
     "output_type": "stream",
     "text": [
      "\n",
      "Contour score:  (145, 48.3)\n",
      "Final ranking:  218 (145, 48.3, 0.0, 33.3, 73, 38.6)\n"
     ]
    },
    {
     "data": {
      "application/vnd.jupyter.widget-view+json": {
       "model_id": "09718b4643564eeb8dec925bf9ea1689",
       "version_major": 2,
       "version_minor": 0
      },
      "text/plain": [
       "HBox(children=(IntProgress(value=0, max=1000), HTML(value='')))"
      ]
     },
     "metadata": {},
     "output_type": "display_data"
    },
    {
     "name": "stdout",
     "output_type": "stream",
     "text": [
      "\n",
      "Orb score:  (146, 92)\n"
     ]
    },
    {
     "data": {
      "application/vnd.jupyter.widget-view+json": {
       "model_id": "057dc10c4cb34c708bd187f4681bbf5e",
       "version_major": 2,
       "version_minor": 0
      },
      "text/plain": [
       "HBox(children=(IntProgress(value=0, max=1000), HTML(value='')))"
      ]
     },
     "metadata": {},
     "output_type": "display_data"
    },
    {
     "name": "stdout",
     "output_type": "stream",
     "text": [
      "\n",
      "Sift score:  (146, 100.0)\n"
     ]
    },
    {
     "data": {
      "application/vnd.jupyter.widget-view+json": {
       "model_id": "16e2bf824eba4ac7ac2c756fe4e5dea4",
       "version_major": 2,
       "version_minor": 0
      },
      "text/plain": [
       "HBox(children=(IntProgress(value=0, max=1000), HTML(value='')))"
      ]
     },
     "metadata": {},
     "output_type": "display_data"
    },
    {
     "name": "stdout",
     "output_type": "stream",
     "text": [
      "\n",
      "Zernike score:  (146, 23.7)\n"
     ]
    },
    {
     "data": {
      "application/vnd.jupyter.widget-view+json": {
       "model_id": "913adb8a8a44479bac8570724d214506",
       "version_major": 2,
       "version_minor": 0
      },
      "text/plain": [
       "HBox(children=(IntProgress(value=0, max=9), HTML(value='')))"
      ]
     },
     "metadata": {},
     "output_type": "display_data"
    },
    {
     "name": "stdout",
     "output_type": "stream",
     "text": [
      "\n",
      "Contour score:  (146, 46.5)\n",
      "Final ranking:  1 (146, 46.5, 23.7, 100.0, 92, 65.6)\n"
     ]
    },
    {
     "data": {
      "application/vnd.jupyter.widget-view+json": {
       "model_id": "0dedfa6c65fb42ceae8d5520fd7f5637",
       "version_major": 2,
       "version_minor": 0
      },
      "text/plain": [
       "HBox(children=(IntProgress(value=0, max=1000), HTML(value='')))"
      ]
     },
     "metadata": {},
     "output_type": "display_data"
    },
    {
     "name": "stdout",
     "output_type": "stream",
     "text": [
      "\n",
      "Orb score:  (147, 64)\n"
     ]
    },
    {
     "data": {
      "application/vnd.jupyter.widget-view+json": {
       "model_id": "4138abe3fe9549d78355cfaa0372fcad",
       "version_major": 2,
       "version_minor": 0
      },
      "text/plain": [
       "HBox(children=(IntProgress(value=0, max=1000), HTML(value='')))"
      ]
     },
     "metadata": {},
     "output_type": "display_data"
    },
    {
     "name": "stdout",
     "output_type": "stream",
     "text": [
      "\n",
      "Sift score:  (147, 90.9)\n"
     ]
    },
    {
     "data": {
      "application/vnd.jupyter.widget-view+json": {
       "model_id": "0edbcd3d34d64415b18df0112a30e18f",
       "version_major": 2,
       "version_minor": 0
      },
      "text/plain": [
       "HBox(children=(IntProgress(value=0, max=1000), HTML(value='')))"
      ]
     },
     "metadata": {},
     "output_type": "display_data"
    },
    {
     "name": "stdout",
     "output_type": "stream",
     "text": [
      "\n",
      "Zernike score:  (147, 0.0)\n"
     ]
    },
    {
     "data": {
      "application/vnd.jupyter.widget-view+json": {
       "model_id": "e0fae5e4828247d491b2cc9adc5fe4d6",
       "version_major": 2,
       "version_minor": 0
      },
      "text/plain": [
       "HBox(children=(IntProgress(value=0, max=9), HTML(value='')))"
      ]
     },
     "metadata": {},
     "output_type": "display_data"
    },
    {
     "name": "stdout",
     "output_type": "stream",
     "text": [
      "\n",
      "Contour score:  (147, 23.1)\n",
      "Final ranking:  12 (147, 23.1, 0.0, 90.9, 64, 44.5)\n"
     ]
    },
    {
     "data": {
      "application/vnd.jupyter.widget-view+json": {
       "model_id": "8d9966e690444bd29b9f7eebd4cf2f22",
       "version_major": 2,
       "version_minor": 0
      },
      "text/plain": [
       "HBox(children=(IntProgress(value=0, max=1000), HTML(value='')))"
      ]
     },
     "metadata": {},
     "output_type": "display_data"
    },
    {
     "name": "stdout",
     "output_type": "stream",
     "text": [
      "\n",
      "Orb score:  (148, 78)\n"
     ]
    },
    {
     "data": {
      "application/vnd.jupyter.widget-view+json": {
       "model_id": "c6d7779da07648ddaae69a69d4049783",
       "version_major": 2,
       "version_minor": 0
      },
      "text/plain": [
       "HBox(children=(IntProgress(value=0, max=1000), HTML(value='')))"
      ]
     },
     "metadata": {},
     "output_type": "display_data"
    },
    {
     "name": "stdout",
     "output_type": "stream",
     "text": [
      "\n",
      "Sift score:  (148, 100.0)\n"
     ]
    },
    {
     "data": {
      "application/vnd.jupyter.widget-view+json": {
       "model_id": "f4c073cac6f24023b2e4b87b88aceee4",
       "version_major": 2,
       "version_minor": 0
      },
      "text/plain": [
       "HBox(children=(IntProgress(value=0, max=1000), HTML(value='')))"
      ]
     },
     "metadata": {},
     "output_type": "display_data"
    },
    {
     "name": "stdout",
     "output_type": "stream",
     "text": [
      "\n",
      "Zernike score:  (148, 0.0)\n"
     ]
    },
    {
     "data": {
      "application/vnd.jupyter.widget-view+json": {
       "model_id": "64c75e2adb9244eea6df9e7d2947e8b8",
       "version_major": 2,
       "version_minor": 0
      },
      "text/plain": [
       "HBox(children=(IntProgress(value=0, max=9), HTML(value='')))"
      ]
     },
     "metadata": {},
     "output_type": "display_data"
    },
    {
     "name": "stdout",
     "output_type": "stream",
     "text": [
      "\n",
      "Contour score:  (148, 60.6)\n",
      "Final ranking:  2 (148, 60.6, 0.0, 100.0, 78, 59.6)\n"
     ]
    },
    {
     "data": {
      "application/vnd.jupyter.widget-view+json": {
       "model_id": "1d4e905a6e7745b4b29cf6f2201bb7e9",
       "version_major": 2,
       "version_minor": 0
      },
      "text/plain": [
       "HBox(children=(IntProgress(value=0, max=1000), HTML(value='')))"
      ]
     },
     "metadata": {},
     "output_type": "display_data"
    },
    {
     "name": "stdout",
     "output_type": "stream",
     "text": [
      "\n",
      "Orb score:  (149, 100)\n"
     ]
    },
    {
     "data": {
      "application/vnd.jupyter.widget-view+json": {
       "model_id": "9b67ca787b244c2c93d6c31c2c7679c7",
       "version_major": 2,
       "version_minor": 0
      },
      "text/plain": [
       "HBox(children=(IntProgress(value=0, max=1000), HTML(value='')))"
      ]
     },
     "metadata": {},
     "output_type": "display_data"
    },
    {
     "name": "stdout",
     "output_type": "stream",
     "text": [
      "\n",
      "Sift score:  (149, 100.0)\n"
     ]
    },
    {
     "data": {
      "application/vnd.jupyter.widget-view+json": {
       "model_id": "1ee3841c7f79449da487cdf2b78773a9",
       "version_major": 2,
       "version_minor": 0
      },
      "text/plain": [
       "HBox(children=(IntProgress(value=0, max=1000), HTML(value='')))"
      ]
     },
     "metadata": {},
     "output_type": "display_data"
    },
    {
     "name": "stdout",
     "output_type": "stream",
     "text": [
      "\n",
      "Zernike score:  (149, 62.0)\n"
     ]
    },
    {
     "data": {
      "application/vnd.jupyter.widget-view+json": {
       "model_id": "9e7cd49ecee04eb8a34f4123a4bcec8b",
       "version_major": 2,
       "version_minor": 0
      },
      "text/plain": [
       "HBox(children=(IntProgress(value=0, max=9), HTML(value='')))"
      ]
     },
     "metadata": {},
     "output_type": "display_data"
    },
    {
     "name": "stdout",
     "output_type": "stream",
     "text": [
      "\n",
      "Contour score:  (149, 46.5)\n",
      "Final ranking:  1 (149, 46.5, 62.0, 100.0, 100, 77.1)\n"
     ]
    },
    {
     "data": {
      "application/vnd.jupyter.widget-view+json": {
       "model_id": "b282780067e0419591afd0e7fee98b03",
       "version_major": 2,
       "version_minor": 0
      },
      "text/plain": [
       "HBox(children=(IntProgress(value=0, max=1000), HTML(value='')))"
      ]
     },
     "metadata": {},
     "output_type": "display_data"
    },
    {
     "name": "stdout",
     "output_type": "stream",
     "text": [
      "\n",
      "Orb score:  (150, 39)\n"
     ]
    },
    {
     "data": {
      "application/vnd.jupyter.widget-view+json": {
       "model_id": "b5b42cd6ba7b4fe8b13c3f131cd55d5a",
       "version_major": 2,
       "version_minor": 0
      },
      "text/plain": [
       "HBox(children=(IntProgress(value=0, max=1000), HTML(value='')))"
      ]
     },
     "metadata": {},
     "output_type": "display_data"
    },
    {
     "name": "stdout",
     "output_type": "stream",
     "text": [
      "\n",
      "Sift score:  (150, 62.5)\n"
     ]
    },
    {
     "data": {
      "application/vnd.jupyter.widget-view+json": {
       "model_id": "5f75815570dc4416884b480fb3283be5",
       "version_major": 2,
       "version_minor": 0
      },
      "text/plain": [
       "HBox(children=(IntProgress(value=0, max=1000), HTML(value='')))"
      ]
     },
     "metadata": {},
     "output_type": "display_data"
    },
    {
     "name": "stdout",
     "output_type": "stream",
     "text": [
      "\n",
      "Zernike score:  (150, 0.0)\n"
     ]
    },
    {
     "data": {
      "application/vnd.jupyter.widget-view+json": {
       "model_id": "cd381f5281b14b52b709ac60487cea71",
       "version_major": 2,
       "version_minor": 0
      },
      "text/plain": [
       "HBox(children=(IntProgress(value=0, max=9), HTML(value='')))"
      ]
     },
     "metadata": {},
     "output_type": "display_data"
    },
    {
     "name": "stdout",
     "output_type": "stream",
     "text": [
      "\n",
      "Contour score:  (150, 20.5)\n",
      "Final ranking:  285 (150, 20.5, 0.0, 62.5, 39, 30.5)\n"
     ]
    },
    {
     "data": {
      "application/vnd.jupyter.widget-view+json": {
       "model_id": "616c79ec66164c9aa354a322166f4f10",
       "version_major": 2,
       "version_minor": 0
      },
      "text/plain": [
       "HBox(children=(IntProgress(value=0, max=1000), HTML(value='')))"
      ]
     },
     "metadata": {},
     "output_type": "display_data"
    },
    {
     "name": "stdout",
     "output_type": "stream",
     "text": [
      "\n",
      "Orb score:  (151, 48)\n"
     ]
    },
    {
     "data": {
      "application/vnd.jupyter.widget-view+json": {
       "model_id": "c858db7b7ad34f8b992ea01ebef4782e",
       "version_major": 2,
       "version_minor": 0
      },
      "text/plain": [
       "HBox(children=(IntProgress(value=0, max=1000), HTML(value='')))"
      ]
     },
     "metadata": {},
     "output_type": "display_data"
    },
    {
     "name": "stdout",
     "output_type": "stream",
     "text": [
      "\n",
      "Sift score:  (151, 100.0)\n"
     ]
    },
    {
     "data": {
      "application/vnd.jupyter.widget-view+json": {
       "model_id": "d8e5643a0dd645f19fe826a4a29f6fbd",
       "version_major": 2,
       "version_minor": 0
      },
      "text/plain": [
       "HBox(children=(IntProgress(value=0, max=1000), HTML(value='')))"
      ]
     },
     "metadata": {},
     "output_type": "display_data"
    },
    {
     "name": "stdout",
     "output_type": "stream",
     "text": [
      "\n",
      "Zernike score:  (151, 0.0)\n"
     ]
    },
    {
     "data": {
      "application/vnd.jupyter.widget-view+json": {
       "model_id": "c474b6380a674594bdb891bee39740aa",
       "version_major": 2,
       "version_minor": 0
      },
      "text/plain": [
       "HBox(children=(IntProgress(value=0, max=9), HTML(value='')))"
      ]
     },
     "metadata": {},
     "output_type": "display_data"
    },
    {
     "name": "stdout",
     "output_type": "stream",
     "text": [
      "\n",
      "Contour score:  (151, 28.5)\n",
      "Final ranking:  98 (151, 28.5, 0.0, 100.0, 48, 44.1)\n"
     ]
    },
    {
     "data": {
      "application/vnd.jupyter.widget-view+json": {
       "model_id": "9cba4bd89fb042608341df67505a9616",
       "version_major": 2,
       "version_minor": 0
      },
      "text/plain": [
       "HBox(children=(IntProgress(value=0, max=1000), HTML(value='')))"
      ]
     },
     "metadata": {},
     "output_type": "display_data"
    },
    {
     "name": "stdout",
     "output_type": "stream",
     "text": [
      "\n",
      "Orb score:  (152, 44)\n"
     ]
    },
    {
     "data": {
      "application/vnd.jupyter.widget-view+json": {
       "model_id": "9078eb14e05143bba369919194878e75",
       "version_major": 2,
       "version_minor": 0
      },
      "text/plain": [
       "HBox(children=(IntProgress(value=0, max=1000), HTML(value='')))"
      ]
     },
     "metadata": {},
     "output_type": "display_data"
    },
    {
     "name": "stdout",
     "output_type": "stream",
     "text": [
      "\n",
      "Sift score:  (152, 75.0)\n"
     ]
    },
    {
     "data": {
      "application/vnd.jupyter.widget-view+json": {
       "model_id": "91b47e3f40ce402c837d0af48a79f0c9",
       "version_major": 2,
       "version_minor": 0
      },
      "text/plain": [
       "HBox(children=(IntProgress(value=0, max=1000), HTML(value='')))"
      ]
     },
     "metadata": {},
     "output_type": "display_data"
    },
    {
     "name": "stdout",
     "output_type": "stream",
     "text": [
      "\n",
      "Zernike score:  (152, 0.0)\n"
     ]
    },
    {
     "data": {
      "application/vnd.jupyter.widget-view+json": {
       "model_id": "026c1edc2f264c6299e339a4cdeff625",
       "version_major": 2,
       "version_minor": 0
      },
      "text/plain": [
       "HBox(children=(IntProgress(value=0, max=9), HTML(value='')))"
      ]
     },
     "metadata": {},
     "output_type": "display_data"
    },
    {
     "name": "stdout",
     "output_type": "stream",
     "text": [
      "\n",
      "Contour score:  (152, 39.1)\n",
      "Final ranking:  16 (152, 39.1, 0.0, 75.0, 44, 39.5)\n"
     ]
    },
    {
     "data": {
      "application/vnd.jupyter.widget-view+json": {
       "model_id": "39eb7959922c462e83cf8af94f3ded41",
       "version_major": 2,
       "version_minor": 0
      },
      "text/plain": [
       "HBox(children=(IntProgress(value=0, max=1000), HTML(value='')))"
      ]
     },
     "metadata": {},
     "output_type": "display_data"
    },
    {
     "name": "stdout",
     "output_type": "stream",
     "text": [
      "\n",
      "Orb score:  (153, 67)\n"
     ]
    },
    {
     "data": {
      "application/vnd.jupyter.widget-view+json": {
       "model_id": "c2e4ede625c7491e8cddf4b2932dbf19",
       "version_major": 2,
       "version_minor": 0
      },
      "text/plain": [
       "HBox(children=(IntProgress(value=0, max=1000), HTML(value='')))"
      ]
     },
     "metadata": {},
     "output_type": "display_data"
    },
    {
     "name": "stdout",
     "output_type": "stream",
     "text": [
      "\n",
      "Sift score:  (153, 100.0)\n"
     ]
    },
    {
     "data": {
      "application/vnd.jupyter.widget-view+json": {
       "model_id": "fe97219462ad4c67baa585b6473c8e6d",
       "version_major": 2,
       "version_minor": 0
      },
      "text/plain": [
       "HBox(children=(IntProgress(value=0, max=1000), HTML(value='')))"
      ]
     },
     "metadata": {},
     "output_type": "display_data"
    },
    {
     "name": "stdout",
     "output_type": "stream",
     "text": [
      "\n",
      "Zernike score:  (153, 0.0)\n"
     ]
    },
    {
     "data": {
      "application/vnd.jupyter.widget-view+json": {
       "model_id": "f5e62b16f2ee484485f975ef8a595085",
       "version_major": 2,
       "version_minor": 0
      },
      "text/plain": [
       "HBox(children=(IntProgress(value=0, max=9), HTML(value='')))"
      ]
     },
     "metadata": {},
     "output_type": "display_data"
    },
    {
     "name": "stdout",
     "output_type": "stream",
     "text": [
      "\n",
      "Contour score:  (153, 56.1)\n",
      "Final ranking:  3 (153, 56.1, 0.0, 100.0, 67, 55.8)\n"
     ]
    },
    {
     "data": {
      "application/vnd.jupyter.widget-view+json": {
       "model_id": "ea35b57dbda34a74a8703b524dfa209b",
       "version_major": 2,
       "version_minor": 0
      },
      "text/plain": [
       "HBox(children=(IntProgress(value=0, max=1000), HTML(value='')))"
      ]
     },
     "metadata": {},
     "output_type": "display_data"
    },
    {
     "name": "stdout",
     "output_type": "stream",
     "text": [
      "\n",
      "Orb score:  (154, 66)\n"
     ]
    },
    {
     "data": {
      "application/vnd.jupyter.widget-view+json": {
       "model_id": "d4f4f79abdb2493db1768cffd3e78b74",
       "version_major": 2,
       "version_minor": 0
      },
      "text/plain": [
       "HBox(children=(IntProgress(value=0, max=1000), HTML(value='')))"
      ]
     },
     "metadata": {},
     "output_type": "display_data"
    },
    {
     "name": "stdout",
     "output_type": "stream",
     "text": [
      "\n",
      "Sift score:  (154, 75.0)\n"
     ]
    },
    {
     "data": {
      "application/vnd.jupyter.widget-view+json": {
       "model_id": "cf8ddc8664d34b9fa1ad290094cbb551",
       "version_major": 2,
       "version_minor": 0
      },
      "text/plain": [
       "HBox(children=(IntProgress(value=0, max=1000), HTML(value='')))"
      ]
     },
     "metadata": {},
     "output_type": "display_data"
    },
    {
     "name": "stdout",
     "output_type": "stream",
     "text": [
      "\n",
      "Zernike score:  (154, 35.5)\n"
     ]
    },
    {
     "data": {
      "application/vnd.jupyter.widget-view+json": {
       "model_id": "ee4d006b5f75437fab6c2052a2db8a5f",
       "version_major": 2,
       "version_minor": 0
      },
      "text/plain": [
       "HBox(children=(IntProgress(value=0, max=9), HTML(value='')))"
      ]
     },
     "metadata": {},
     "output_type": "display_data"
    },
    {
     "name": "stdout",
     "output_type": "stream",
     "text": [
      "\n",
      "Contour score:  (154, 40.2)\n",
      "Final ranking:  11 (154, 40.2, 35.5, 75.0, 66, 54.2)\n"
     ]
    },
    {
     "data": {
      "application/vnd.jupyter.widget-view+json": {
       "model_id": "fa02b4175604497fada811d3f3eeb16d",
       "version_major": 2,
       "version_minor": 0
      },
      "text/plain": [
       "HBox(children=(IntProgress(value=0, max=1000), HTML(value='')))"
      ]
     },
     "metadata": {},
     "output_type": "display_data"
    },
    {
     "name": "stdout",
     "output_type": "stream",
     "text": [
      "\n",
      "Orb score:  (155, 55)\n"
     ]
    },
    {
     "data": {
      "application/vnd.jupyter.widget-view+json": {
       "model_id": "bf1bdea502bd4155bd974fb9379dc6e2",
       "version_major": 2,
       "version_minor": 0
      },
      "text/plain": [
       "HBox(children=(IntProgress(value=0, max=1000), HTML(value='')))"
      ]
     },
     "metadata": {},
     "output_type": "display_data"
    },
    {
     "name": "stdout",
     "output_type": "stream",
     "text": [
      "\n",
      "Sift score:  (155, 0.0)\n"
     ]
    },
    {
     "data": {
      "application/vnd.jupyter.widget-view+json": {
       "model_id": "cb027f952fee42eca6b420203c6a2105",
       "version_major": 2,
       "version_minor": 0
      },
      "text/plain": [
       "HBox(children=(IntProgress(value=0, max=1000), HTML(value='')))"
      ]
     },
     "metadata": {},
     "output_type": "display_data"
    },
    {
     "name": "stdout",
     "output_type": "stream",
     "text": [
      "\n",
      "Zernike score:  (155, 0.0)\n"
     ]
    },
    {
     "data": {
      "application/vnd.jupyter.widget-view+json": {
       "model_id": "5693a2360d884c7991076969f0d692fc",
       "version_major": 2,
       "version_minor": 0
      },
      "text/plain": [
       "HBox(children=(IntProgress(value=0, max=9), HTML(value='')))"
      ]
     },
     "metadata": {},
     "output_type": "display_data"
    },
    {
     "name": "stdout",
     "output_type": "stream",
     "text": [
      "\n",
      "Contour score:  (155, 24.4)\n",
      "Final ranking:  637 (155, 24.4, 0.0, 0.0, 55, 19.9)\n"
     ]
    },
    {
     "data": {
      "application/vnd.jupyter.widget-view+json": {
       "model_id": "01f7c8b2eaf24d30864b922981514c4b",
       "version_major": 2,
       "version_minor": 0
      },
      "text/plain": [
       "HBox(children=(IntProgress(value=0, max=1000), HTML(value='')))"
      ]
     },
     "metadata": {},
     "output_type": "display_data"
    },
    {
     "name": "stdout",
     "output_type": "stream",
     "text": [
      "\n",
      "Orb score:  (156, 100)\n"
     ]
    },
    {
     "data": {
      "application/vnd.jupyter.widget-view+json": {
       "model_id": "aeb123fd647d42e18aa3e9523a64fb49",
       "version_major": 2,
       "version_minor": 0
      },
      "text/plain": [
       "HBox(children=(IntProgress(value=0, max=1000), HTML(value='')))"
      ]
     },
     "metadata": {},
     "output_type": "display_data"
    },
    {
     "name": "stdout",
     "output_type": "stream",
     "text": [
      "\n",
      "Sift score:  (156, 100.0)\n"
     ]
    },
    {
     "data": {
      "application/vnd.jupyter.widget-view+json": {
       "model_id": "66f39d513383437b90234a042a8ba449",
       "version_major": 2,
       "version_minor": 0
      },
      "text/plain": [
       "HBox(children=(IntProgress(value=0, max=1000), HTML(value='')))"
      ]
     },
     "metadata": {},
     "output_type": "display_data"
    },
    {
     "name": "stdout",
     "output_type": "stream",
     "text": [
      "\n",
      "Zernike score:  (156, 0.0)\n"
     ]
    },
    {
     "data": {
      "application/vnd.jupyter.widget-view+json": {
       "model_id": "2175f816eb8d4535bf87fb75d8721c3a",
       "version_major": 2,
       "version_minor": 0
      },
      "text/plain": [
       "HBox(children=(IntProgress(value=0, max=9), HTML(value='')))"
      ]
     },
     "metadata": {},
     "output_type": "display_data"
    },
    {
     "name": "stdout",
     "output_type": "stream",
     "text": [
      "\n",
      "Contour score:  (156, 41.1)\n",
      "Final ranking:  1 (156, 41.1, 0.0, 100.0, 100, 60.3)\n"
     ]
    },
    {
     "data": {
      "application/vnd.jupyter.widget-view+json": {
       "model_id": "ab8a05e513d94e8ea1de283c005294ed",
       "version_major": 2,
       "version_minor": 0
      },
      "text/plain": [
       "HBox(children=(IntProgress(value=0, max=1000), HTML(value='')))"
      ]
     },
     "metadata": {},
     "output_type": "display_data"
    },
    {
     "name": "stdout",
     "output_type": "stream",
     "text": [
      "\n",
      "Orb score:  (157, 63)\n"
     ]
    },
    {
     "data": {
      "application/vnd.jupyter.widget-view+json": {
       "model_id": "580424d4066e4705aa63a4a48c8e77ad",
       "version_major": 2,
       "version_minor": 0
      },
      "text/plain": [
       "HBox(children=(IntProgress(value=0, max=1000), HTML(value='')))"
      ]
     },
     "metadata": {},
     "output_type": "display_data"
    },
    {
     "name": "stdout",
     "output_type": "stream",
     "text": [
      "\n",
      "Sift score:  (157, 30.8)\n"
     ]
    },
    {
     "data": {
      "application/vnd.jupyter.widget-view+json": {
       "model_id": "080281195bec4d03aa207b2d4cffea1e",
       "version_major": 2,
       "version_minor": 0
      },
      "text/plain": [
       "HBox(children=(IntProgress(value=0, max=1000), HTML(value='')))"
      ]
     },
     "metadata": {},
     "output_type": "display_data"
    },
    {
     "name": "stdout",
     "output_type": "stream",
     "text": [
      "\n",
      "Zernike score:  (157, 0.0)\n"
     ]
    },
    {
     "data": {
      "application/vnd.jupyter.widget-view+json": {
       "model_id": "3f2a83b45e574317b38281ae2924ea58",
       "version_major": 2,
       "version_minor": 0
      },
      "text/plain": [
       "HBox(children=(IntProgress(value=0, max=9), HTML(value='')))"
      ]
     },
     "metadata": {},
     "output_type": "display_data"
    },
    {
     "name": "stdout",
     "output_type": "stream",
     "text": [
      "\n",
      "Contour score:  (157, 7.5)\n",
      "Final ranking:  230 (157, 7.5, 0.0, 30.8, 63, 25.3)\n"
     ]
    },
    {
     "data": {
      "application/vnd.jupyter.widget-view+json": {
       "model_id": "95704812eb2c41f0ab260fe0900cce5e",
       "version_major": 2,
       "version_minor": 0
      },
      "text/plain": [
       "HBox(children=(IntProgress(value=0, max=1000), HTML(value='')))"
      ]
     },
     "metadata": {},
     "output_type": "display_data"
    },
    {
     "name": "stdout",
     "output_type": "stream",
     "text": [
      "\n",
      "Orb score:  (158, 38)\n"
     ]
    },
    {
     "data": {
      "application/vnd.jupyter.widget-view+json": {
       "model_id": "8414cb505d3147b4bca4ab72e9d8d9f3",
       "version_major": 2,
       "version_minor": 0
      },
      "text/plain": [
       "HBox(children=(IntProgress(value=0, max=1000), HTML(value='')))"
      ]
     },
     "metadata": {},
     "output_type": "display_data"
    },
    {
     "name": "stdout",
     "output_type": "stream",
     "text": [
      "\n",
      "Sift score:  (158, 14.3)\n"
     ]
    },
    {
     "data": {
      "application/vnd.jupyter.widget-view+json": {
       "model_id": "8171c53ce7a0401fbc2c19d52556b615",
       "version_major": 2,
       "version_minor": 0
      },
      "text/plain": [
       "HBox(children=(IntProgress(value=0, max=1000), HTML(value='')))"
      ]
     },
     "metadata": {},
     "output_type": "display_data"
    },
    {
     "name": "stdout",
     "output_type": "stream",
     "text": [
      "\n",
      "Zernike score:  (158, 0.0)\n"
     ]
    },
    {
     "data": {
      "application/vnd.jupyter.widget-view+json": {
       "model_id": "3734fde2b6484afa9758036038893c87",
       "version_major": 2,
       "version_minor": 0
      },
      "text/plain": [
       "HBox(children=(IntProgress(value=0, max=9), HTML(value='')))"
      ]
     },
     "metadata": {},
     "output_type": "display_data"
    },
    {
     "name": "stdout",
     "output_type": "stream",
     "text": [
      "\n",
      "Contour score:  (158, 63.7)\n",
      "Final ranking:  73 (158, 63.7, 0.0, 14.3, 38, 29.0)\n"
     ]
    },
    {
     "data": {
      "application/vnd.jupyter.widget-view+json": {
       "model_id": "f29bef2d2d0f43deab433c57b05eb022",
       "version_major": 2,
       "version_minor": 0
      },
      "text/plain": [
       "HBox(children=(IntProgress(value=0, max=1000), HTML(value='')))"
      ]
     },
     "metadata": {},
     "output_type": "display_data"
    },
    {
     "name": "stdout",
     "output_type": "stream",
     "text": [
      "\n",
      "Orb score:  (159, 43)\n"
     ]
    },
    {
     "data": {
      "application/vnd.jupyter.widget-view+json": {
       "model_id": "283542ff6d28422896438ed8398d4fac",
       "version_major": 2,
       "version_minor": 0
      },
      "text/plain": [
       "HBox(children=(IntProgress(value=0, max=1000), HTML(value='')))"
      ]
     },
     "metadata": {},
     "output_type": "display_data"
    },
    {
     "name": "stdout",
     "output_type": "stream",
     "text": [
      "\n",
      "Sift score:  (159, 100.0)\n"
     ]
    },
    {
     "data": {
      "application/vnd.jupyter.widget-view+json": {
       "model_id": "f1110fe6d76a47f3a08427120f4e4e4e",
       "version_major": 2,
       "version_minor": 0
      },
      "text/plain": [
       "HBox(children=(IntProgress(value=0, max=1000), HTML(value='')))"
      ]
     },
     "metadata": {},
     "output_type": "display_data"
    },
    {
     "name": "stdout",
     "output_type": "stream",
     "text": [
      "\n",
      "Zernike score:  (159, 64.3)\n"
     ]
    },
    {
     "data": {
      "application/vnd.jupyter.widget-view+json": {
       "model_id": "2b2e5f953d794439ae5916a2a640e1f7",
       "version_major": 2,
       "version_minor": 0
      },
      "text/plain": [
       "HBox(children=(IntProgress(value=0, max=9), HTML(value='')))"
      ]
     },
     "metadata": {},
     "output_type": "display_data"
    },
    {
     "name": "stdout",
     "output_type": "stream",
     "text": [
      "\n",
      "Contour score:  (159, 67.3)\n",
      "Final ranking:  1 (159, 67.3, 64.3, 100.0, 43, 68.6)\n"
     ]
    },
    {
     "data": {
      "application/vnd.jupyter.widget-view+json": {
       "model_id": "7c19c7ecdc384f49b8d9854daa10e22f",
       "version_major": 2,
       "version_minor": 0
      },
      "text/plain": [
       "HBox(children=(IntProgress(value=0, max=1000), HTML(value='')))"
      ]
     },
     "metadata": {},
     "output_type": "display_data"
    },
    {
     "name": "stdout",
     "output_type": "stream",
     "text": [
      "\n",
      "Orb score:  (160, 73)\n"
     ]
    },
    {
     "data": {
      "application/vnd.jupyter.widget-view+json": {
       "model_id": "561d90a80a074b9f8706833926a821d9",
       "version_major": 2,
       "version_minor": 0
      },
      "text/plain": [
       "HBox(children=(IntProgress(value=0, max=1000), HTML(value='')))"
      ]
     },
     "metadata": {},
     "output_type": "display_data"
    },
    {
     "name": "stdout",
     "output_type": "stream",
     "text": [
      "\n",
      "Sift score:  (160, 55.6)\n"
     ]
    },
    {
     "data": {
      "application/vnd.jupyter.widget-view+json": {
       "model_id": "cdd35c49dfcb4f94b73fa75cd045a793",
       "version_major": 2,
       "version_minor": 0
      },
      "text/plain": [
       "HBox(children=(IntProgress(value=0, max=1000), HTML(value='')))"
      ]
     },
     "metadata": {},
     "output_type": "display_data"
    },
    {
     "name": "stdout",
     "output_type": "stream",
     "text": [
      "\n",
      "Zernike score:  (160, 82.3)\n"
     ]
    },
    {
     "data": {
      "application/vnd.jupyter.widget-view+json": {
       "model_id": "f0b427ddcc1d4151b01c0f9658ef497f",
       "version_major": 2,
       "version_minor": 0
      },
      "text/plain": [
       "HBox(children=(IntProgress(value=0, max=9), HTML(value='')))"
      ]
     },
     "metadata": {},
     "output_type": "display_data"
    },
    {
     "name": "stdout",
     "output_type": "stream",
     "text": [
      "\n",
      "Contour score:  (160, 52.2)\n",
      "Final ranking:  1 (160, 52.2, 82.3, 55.6, 73, 65.8)\n"
     ]
    },
    {
     "data": {
      "application/vnd.jupyter.widget-view+json": {
       "model_id": "988b3bd524b94c5e93de7e947b2d16a6",
       "version_major": 2,
       "version_minor": 0
      },
      "text/plain": [
       "HBox(children=(IntProgress(value=0, max=1000), HTML(value='')))"
      ]
     },
     "metadata": {},
     "output_type": "display_data"
    },
    {
     "name": "stdout",
     "output_type": "stream",
     "text": [
      "\n",
      "Orb score:  (161, 78)\n"
     ]
    },
    {
     "data": {
      "application/vnd.jupyter.widget-view+json": {
       "model_id": "5f5f51e9a0a840f9aa8508b16c55229e",
       "version_major": 2,
       "version_minor": 0
      },
      "text/plain": [
       "HBox(children=(IntProgress(value=0, max=1000), HTML(value='')))"
      ]
     },
     "metadata": {},
     "output_type": "display_data"
    },
    {
     "name": "stdout",
     "output_type": "stream",
     "text": [
      "\n",
      "Sift score:  (161, 100.0)\n"
     ]
    },
    {
     "data": {
      "application/vnd.jupyter.widget-view+json": {
       "model_id": "1d1e4c93aa6445199f1bf63a1371b6b3",
       "version_major": 2,
       "version_minor": 0
      },
      "text/plain": [
       "HBox(children=(IntProgress(value=0, max=1000), HTML(value='')))"
      ]
     },
     "metadata": {},
     "output_type": "display_data"
    },
    {
     "name": "stdout",
     "output_type": "stream",
     "text": [
      "\n",
      "Zernike score:  (161, 0.0)\n"
     ]
    },
    {
     "data": {
      "application/vnd.jupyter.widget-view+json": {
       "model_id": "018315d895da4e82bc741ca853b96675",
       "version_major": 2,
       "version_minor": 0
      },
      "text/plain": [
       "HBox(children=(IntProgress(value=0, max=9), HTML(value='')))"
      ]
     },
     "metadata": {},
     "output_type": "display_data"
    },
    {
     "name": "stdout",
     "output_type": "stream",
     "text": [
      "\n",
      "Contour score:  (161, 46.6)\n",
      "Final ranking:  2 (161, 46.6, 0.0, 100.0, 78, 56.1)\n"
     ]
    },
    {
     "data": {
      "application/vnd.jupyter.widget-view+json": {
       "model_id": "c544e226737540ca9de623144a65f351",
       "version_major": 2,
       "version_minor": 0
      },
      "text/plain": [
       "HBox(children=(IntProgress(value=0, max=1000), HTML(value='')))"
      ]
     },
     "metadata": {},
     "output_type": "display_data"
    },
    {
     "name": "stdout",
     "output_type": "stream",
     "text": [
      "\n",
      "Orb score:  (162, 76)\n"
     ]
    },
    {
     "data": {
      "application/vnd.jupyter.widget-view+json": {
       "model_id": "1fc5a2fac0834496b99806861a1c6af8",
       "version_major": 2,
       "version_minor": 0
      },
      "text/plain": [
       "HBox(children=(IntProgress(value=0, max=1000), HTML(value='')))"
      ]
     },
     "metadata": {},
     "output_type": "display_data"
    },
    {
     "name": "stdout",
     "output_type": "stream",
     "text": [
      "\n",
      "Sift score:  (162, 100.0)\n"
     ]
    },
    {
     "data": {
      "application/vnd.jupyter.widget-view+json": {
       "model_id": "b1969d4ec89d482ab04a4bc7863150c9",
       "version_major": 2,
       "version_minor": 0
      },
      "text/plain": [
       "HBox(children=(IntProgress(value=0, max=1000), HTML(value='')))"
      ]
     },
     "metadata": {},
     "output_type": "display_data"
    },
    {
     "name": "stdout",
     "output_type": "stream",
     "text": [
      "\n",
      "Zernike score:  (162, 11.9)\n"
     ]
    },
    {
     "data": {
      "application/vnd.jupyter.widget-view+json": {
       "model_id": "69a793a34cd641a3b32c0c16f7384bd2",
       "version_major": 2,
       "version_minor": 0
      },
      "text/plain": [
       "HBox(children=(IntProgress(value=0, max=9), HTML(value='')))"
      ]
     },
     "metadata": {},
     "output_type": "display_data"
    },
    {
     "name": "stdout",
     "output_type": "stream",
     "text": [
      "\n",
      "Contour score:  (162, 61.1)\n",
      "Final ranking:  1 (162, 61.1, 11.9, 100.0, 76, 62.2)\n"
     ]
    },
    {
     "data": {
      "application/vnd.jupyter.widget-view+json": {
       "model_id": "92b2b95092924f90b83600d85f5962f8",
       "version_major": 2,
       "version_minor": 0
      },
      "text/plain": [
       "HBox(children=(IntProgress(value=0, max=1000), HTML(value='')))"
      ]
     },
     "metadata": {},
     "output_type": "display_data"
    },
    {
     "name": "stdout",
     "output_type": "stream",
     "text": [
      "\n",
      "Orb score:  (163, 56)\n"
     ]
    },
    {
     "data": {
      "application/vnd.jupyter.widget-view+json": {
       "model_id": "02d30f32b2914221b38d620651da5caf",
       "version_major": 2,
       "version_minor": 0
      },
      "text/plain": [
       "HBox(children=(IntProgress(value=0, max=1000), HTML(value='')))"
      ]
     },
     "metadata": {},
     "output_type": "display_data"
    },
    {
     "name": "stdout",
     "output_type": "stream",
     "text": [
      "\n",
      "Sift score:  (163, 64.3)\n"
     ]
    },
    {
     "data": {
      "application/vnd.jupyter.widget-view+json": {
       "model_id": "bd699dc640b8446c988fdafd3f83441d",
       "version_major": 2,
       "version_minor": 0
      },
      "text/plain": [
       "HBox(children=(IntProgress(value=0, max=1000), HTML(value='')))"
      ]
     },
     "metadata": {},
     "output_type": "display_data"
    },
    {
     "name": "stdout",
     "output_type": "stream",
     "text": [
      "\n",
      "Zernike score:  (163, 0.0)\n"
     ]
    },
    {
     "data": {
      "application/vnd.jupyter.widget-view+json": {
       "model_id": "56521656a509465ebb40aa5f80bf8329",
       "version_major": 2,
       "version_minor": 0
      },
      "text/plain": [
       "HBox(children=(IntProgress(value=0, max=9), HTML(value='')))"
      ]
     },
     "metadata": {},
     "output_type": "display_data"
    },
    {
     "name": "stdout",
     "output_type": "stream",
     "text": [
      "\n",
      "Contour score:  (163, 24.8)\n",
      "Final ranking:  116 (163, 24.8, 0.0, 64.3, 56, 36.3)\n"
     ]
    },
    {
     "data": {
      "application/vnd.jupyter.widget-view+json": {
       "model_id": "10140e5f79894464821a559b19947e54",
       "version_major": 2,
       "version_minor": 0
      },
      "text/plain": [
       "HBox(children=(IntProgress(value=0, max=1000), HTML(value='')))"
      ]
     },
     "metadata": {},
     "output_type": "display_data"
    },
    {
     "name": "stdout",
     "output_type": "stream",
     "text": [
      "\n",
      "Orb score:  (164, 48)\n"
     ]
    },
    {
     "data": {
      "application/vnd.jupyter.widget-view+json": {
       "model_id": "6816d76be4d34df1b814d0eab6601602",
       "version_major": 2,
       "version_minor": 0
      },
      "text/plain": [
       "HBox(children=(IntProgress(value=0, max=1000), HTML(value='')))"
      ]
     },
     "metadata": {},
     "output_type": "display_data"
    },
    {
     "name": "stdout",
     "output_type": "stream",
     "text": [
      "\n",
      "Sift score:  (164, 100.0)\n"
     ]
    },
    {
     "data": {
      "application/vnd.jupyter.widget-view+json": {
       "model_id": "515a0d7d705649e68dd1289ffd02f816",
       "version_major": 2,
       "version_minor": 0
      },
      "text/plain": [
       "HBox(children=(IntProgress(value=0, max=1000), HTML(value='')))"
      ]
     },
     "metadata": {},
     "output_type": "display_data"
    },
    {
     "name": "stdout",
     "output_type": "stream",
     "text": [
      "\n",
      "Zernike score:  (164, 0.0)\n"
     ]
    },
    {
     "data": {
      "application/vnd.jupyter.widget-view+json": {
       "model_id": "97e22be73b5d440585b754ffd06400f1",
       "version_major": 2,
       "version_minor": 0
      },
      "text/plain": [
       "HBox(children=(IntProgress(value=0, max=9), HTML(value='')))"
      ]
     },
     "metadata": {},
     "output_type": "display_data"
    },
    {
     "name": "stdout",
     "output_type": "stream",
     "text": [
      "\n",
      "Contour score:  (164, 82.4)\n",
      "Final ranking:  2 (164, 82.4, 0.0, 100.0, 48, 57.6)\n"
     ]
    },
    {
     "data": {
      "application/vnd.jupyter.widget-view+json": {
       "model_id": "cae2ffff86674ddab48f21203196b603",
       "version_major": 2,
       "version_minor": 0
      },
      "text/plain": [
       "HBox(children=(IntProgress(value=0, max=1000), HTML(value='')))"
      ]
     },
     "metadata": {},
     "output_type": "display_data"
    },
    {
     "name": "stdout",
     "output_type": "stream",
     "text": [
      "\n",
      "Orb score:  (165, 61)\n"
     ]
    },
    {
     "data": {
      "application/vnd.jupyter.widget-view+json": {
       "model_id": "b0ab842ca27540789a90b9d623e0413d",
       "version_major": 2,
       "version_minor": 0
      },
      "text/plain": [
       "HBox(children=(IntProgress(value=0, max=1000), HTML(value='')))"
      ]
     },
     "metadata": {},
     "output_type": "display_data"
    },
    {
     "name": "stdout",
     "output_type": "stream",
     "text": [
      "\n",
      "Sift score:  (165, 50.0)\n"
     ]
    },
    {
     "data": {
      "application/vnd.jupyter.widget-view+json": {
       "model_id": "66e0f587bb8c459ab010ada78e52fd3a",
       "version_major": 2,
       "version_minor": 0
      },
      "text/plain": [
       "HBox(children=(IntProgress(value=0, max=1000), HTML(value='')))"
      ]
     },
     "metadata": {},
     "output_type": "display_data"
    },
    {
     "name": "stdout",
     "output_type": "stream",
     "text": [
      "\n",
      "Zernike score:  (165, 84.0)\n"
     ]
    },
    {
     "data": {
      "application/vnd.jupyter.widget-view+json": {
       "model_id": "fe86dc54f903433589f48e3778693dda",
       "version_major": 2,
       "version_minor": 0
      },
      "text/plain": [
       "HBox(children=(IntProgress(value=0, max=9), HTML(value='')))"
      ]
     },
     "metadata": {},
     "output_type": "display_data"
    },
    {
     "name": "stdout",
     "output_type": "stream",
     "text": [
      "\n",
      "Contour score:  (165, 36.1)\n",
      "Final ranking:  2 (165, 36.1, 84.0, 50.0, 61, 57.8)\n"
     ]
    },
    {
     "data": {
      "application/vnd.jupyter.widget-view+json": {
       "model_id": "972209111e97471da07f0e8fb2483243",
       "version_major": 2,
       "version_minor": 0
      },
      "text/plain": [
       "HBox(children=(IntProgress(value=0, max=1000), HTML(value='')))"
      ]
     },
     "metadata": {},
     "output_type": "display_data"
    },
    {
     "name": "stdout",
     "output_type": "stream",
     "text": [
      "\n",
      "Orb score:  (166, 57)\n"
     ]
    },
    {
     "data": {
      "application/vnd.jupyter.widget-view+json": {
       "model_id": "f6ad5b0415434fff9eaf52ac3b299622",
       "version_major": 2,
       "version_minor": 0
      },
      "text/plain": [
       "HBox(children=(IntProgress(value=0, max=1000), HTML(value='')))"
      ]
     },
     "metadata": {},
     "output_type": "display_data"
    },
    {
     "name": "stdout",
     "output_type": "stream",
     "text": [
      "\n",
      "Sift score:  (166, 85.7)\n"
     ]
    },
    {
     "data": {
      "application/vnd.jupyter.widget-view+json": {
       "model_id": "b40e12c986bb4041806b1d119f63f030",
       "version_major": 2,
       "version_minor": 0
      },
      "text/plain": [
       "HBox(children=(IntProgress(value=0, max=1000), HTML(value='')))"
      ]
     },
     "metadata": {},
     "output_type": "display_data"
    },
    {
     "name": "stdout",
     "output_type": "stream",
     "text": [
      "\n",
      "Zernike score:  (166, 0.0)\n"
     ]
    },
    {
     "data": {
      "application/vnd.jupyter.widget-view+json": {
       "model_id": "95a7764f7e6d4df4a39195a3d698ddd2",
       "version_major": 2,
       "version_minor": 0
      },
      "text/plain": [
       "HBox(children=(IntProgress(value=0, max=9), HTML(value='')))"
      ]
     },
     "metadata": {},
     "output_type": "display_data"
    },
    {
     "name": "stdout",
     "output_type": "stream",
     "text": [
      "\n",
      "Contour score:  (166, 34.5)\n",
      "Final ranking:  103 (166, 34.5, 0.0, 85.7, 57, 44.3)\n"
     ]
    },
    {
     "data": {
      "application/vnd.jupyter.widget-view+json": {
       "model_id": "17d0a7a29a7c40ccbe96d478328a30dd",
       "version_major": 2,
       "version_minor": 0
      },
      "text/plain": [
       "HBox(children=(IntProgress(value=0, max=1000), HTML(value='')))"
      ]
     },
     "metadata": {},
     "output_type": "display_data"
    },
    {
     "name": "stdout",
     "output_type": "stream",
     "text": [
      "\n",
      "Orb score:  (167, 100)\n"
     ]
    },
    {
     "data": {
      "application/vnd.jupyter.widget-view+json": {
       "model_id": "90af427f20e043d3847e456beca696fa",
       "version_major": 2,
       "version_minor": 0
      },
      "text/plain": [
       "HBox(children=(IntProgress(value=0, max=1000), HTML(value='')))"
      ]
     },
     "metadata": {},
     "output_type": "display_data"
    },
    {
     "name": "stdout",
     "output_type": "stream",
     "text": [
      "\n",
      "Sift score:  (167, 100.0)\n"
     ]
    },
    {
     "data": {
      "application/vnd.jupyter.widget-view+json": {
       "model_id": "a24a00a6ee544111bacfdf0d4a162214",
       "version_major": 2,
       "version_minor": 0
      },
      "text/plain": [
       "HBox(children=(IntProgress(value=0, max=1000), HTML(value='')))"
      ]
     },
     "metadata": {},
     "output_type": "display_data"
    },
    {
     "name": "stdout",
     "output_type": "stream",
     "text": [
      "\n",
      "Zernike score:  (167, 0.0)\n"
     ]
    },
    {
     "data": {
      "application/vnd.jupyter.widget-view+json": {
       "model_id": "16042881cd3543958c06b59bfe0ad0d6",
       "version_major": 2,
       "version_minor": 0
      },
      "text/plain": [
       "HBox(children=(IntProgress(value=0, max=9), HTML(value='')))"
      ]
     },
     "metadata": {},
     "output_type": "display_data"
    },
    {
     "name": "stdout",
     "output_type": "stream",
     "text": [
      "\n",
      "Contour score:  (167, 16.1)\n",
      "Final ranking:  1 (167, 16.1, 0.0, 100.0, 100, 54.0)\n"
     ]
    },
    {
     "data": {
      "application/vnd.jupyter.widget-view+json": {
       "model_id": "67803a0041e5457cb43c047f8982b319",
       "version_major": 2,
       "version_minor": 0
      },
      "text/plain": [
       "HBox(children=(IntProgress(value=0, max=1000), HTML(value='')))"
      ]
     },
     "metadata": {},
     "output_type": "display_data"
    },
    {
     "name": "stdout",
     "output_type": "stream",
     "text": [
      "\n",
      "Orb score:  (168, 39)\n"
     ]
    },
    {
     "data": {
      "application/vnd.jupyter.widget-view+json": {
       "model_id": "9f10049576bc4630bd39e5c4637a477a",
       "version_major": 2,
       "version_minor": 0
      },
      "text/plain": [
       "HBox(children=(IntProgress(value=0, max=1000), HTML(value='')))"
      ]
     },
     "metadata": {},
     "output_type": "display_data"
    },
    {
     "name": "stdout",
     "output_type": "stream",
     "text": [
      "\n",
      "Sift score:  (168, 41.7)\n"
     ]
    },
    {
     "data": {
      "application/vnd.jupyter.widget-view+json": {
       "model_id": "7457c491bb1c4f2ba3cc3bd9f116bb46",
       "version_major": 2,
       "version_minor": 0
      },
      "text/plain": [
       "HBox(children=(IntProgress(value=0, max=1000), HTML(value='')))"
      ]
     },
     "metadata": {},
     "output_type": "display_data"
    },
    {
     "name": "stdout",
     "output_type": "stream",
     "text": [
      "\n",
      "Zernike score:  (168, 42.4)\n"
     ]
    },
    {
     "data": {
      "application/vnd.jupyter.widget-view+json": {
       "model_id": "c8054f171b914c139b7a295fac03cae8",
       "version_major": 2,
       "version_minor": 0
      },
      "text/plain": [
       "HBox(children=(IntProgress(value=0, max=9), HTML(value='')))"
      ]
     },
     "metadata": {},
     "output_type": "display_data"
    },
    {
     "name": "stdout",
     "output_type": "stream",
     "text": [
      "\n",
      "Contour score:  (168, 16.3)\n",
      "Final ranking:  215 (168, 16.3, 42.4, 41.7, 39, 34.8)\n"
     ]
    },
    {
     "data": {
      "application/vnd.jupyter.widget-view+json": {
       "model_id": "eb915e81523b4177a6c98d65dfdd91d9",
       "version_major": 2,
       "version_minor": 0
      },
      "text/plain": [
       "HBox(children=(IntProgress(value=0, max=1000), HTML(value='')))"
      ]
     },
     "metadata": {},
     "output_type": "display_data"
    },
    {
     "name": "stdout",
     "output_type": "stream",
     "text": [
      "\n",
      "Orb score:  (169, 53)\n"
     ]
    },
    {
     "data": {
      "application/vnd.jupyter.widget-view+json": {
       "model_id": "81ec9287605144f08afbe555293f9b3c",
       "version_major": 2,
       "version_minor": 0
      },
      "text/plain": [
       "HBox(children=(IntProgress(value=0, max=1000), HTML(value='')))"
      ]
     },
     "metadata": {},
     "output_type": "display_data"
    },
    {
     "name": "stdout",
     "output_type": "stream",
     "text": [
      "\n",
      "Sift score:  (169, 100.0)\n"
     ]
    },
    {
     "data": {
      "application/vnd.jupyter.widget-view+json": {
       "model_id": "2c3a45f962814f0690cf4ad3395ca974",
       "version_major": 2,
       "version_minor": 0
      },
      "text/plain": [
       "HBox(children=(IntProgress(value=0, max=1000), HTML(value='')))"
      ]
     },
     "metadata": {},
     "output_type": "display_data"
    },
    {
     "name": "stdout",
     "output_type": "stream",
     "text": [
      "\n",
      "Zernike score:  (169, 0.0)\n"
     ]
    },
    {
     "data": {
      "application/vnd.jupyter.widget-view+json": {
       "model_id": "9bee22fbd3484bac833c2926c193b764",
       "version_major": 2,
       "version_minor": 0
      },
      "text/plain": [
       "HBox(children=(IntProgress(value=0, max=9), HTML(value='')))"
      ]
     },
     "metadata": {},
     "output_type": "display_data"
    },
    {
     "name": "stdout",
     "output_type": "stream",
     "text": [
      "\n",
      "Contour score:  (169, 35.0)\n",
      "Final ranking:  36 (169, 35.0, 0.0, 100.0, 53, 47.0)\n"
     ]
    },
    {
     "data": {
      "application/vnd.jupyter.widget-view+json": {
       "model_id": "c1eb14a31ec045c7aefa6f36819d8976",
       "version_major": 2,
       "version_minor": 0
      },
      "text/plain": [
       "HBox(children=(IntProgress(value=0, max=1000), HTML(value='')))"
      ]
     },
     "metadata": {},
     "output_type": "display_data"
    },
    {
     "name": "stdout",
     "output_type": "stream",
     "text": [
      "\n",
      "Orb score:  (170, 53)\n"
     ]
    },
    {
     "data": {
      "application/vnd.jupyter.widget-view+json": {
       "model_id": "78444c496bfc421a8fa6d785ac5c5a66",
       "version_major": 2,
       "version_minor": 0
      },
      "text/plain": [
       "HBox(children=(IntProgress(value=0, max=1000), HTML(value='')))"
      ]
     },
     "metadata": {},
     "output_type": "display_data"
    },
    {
     "name": "stdout",
     "output_type": "stream",
     "text": [
      "\n",
      "Sift score:  (170, 75.0)\n"
     ]
    },
    {
     "data": {
      "application/vnd.jupyter.widget-view+json": {
       "model_id": "402dff13a8394651a1dbcd26b33b3cd1",
       "version_major": 2,
       "version_minor": 0
      },
      "text/plain": [
       "HBox(children=(IntProgress(value=0, max=1000), HTML(value='')))"
      ]
     },
     "metadata": {},
     "output_type": "display_data"
    },
    {
     "name": "stdout",
     "output_type": "stream",
     "text": [
      "\n",
      "Zernike score:  (170, 0.0)\n"
     ]
    },
    {
     "data": {
      "application/vnd.jupyter.widget-view+json": {
       "model_id": "0c6a942d125c4160809fb43f3e8e5a0c",
       "version_major": 2,
       "version_minor": 0
      },
      "text/plain": [
       "HBox(children=(IntProgress(value=0, max=9), HTML(value='')))"
      ]
     },
     "metadata": {},
     "output_type": "display_data"
    },
    {
     "name": "stdout",
     "output_type": "stream",
     "text": [
      "\n",
      "Contour score:  (170, 54.0)\n",
      "Final ranking:  25 (170, 54.0, 0.0, 75.0, 53, 45.5)\n"
     ]
    },
    {
     "data": {
      "application/vnd.jupyter.widget-view+json": {
       "model_id": "668762ae2c61494f82b0cff4a6421aa5",
       "version_major": 2,
       "version_minor": 0
      },
      "text/plain": [
       "HBox(children=(IntProgress(value=0, max=1000), HTML(value='')))"
      ]
     },
     "metadata": {},
     "output_type": "display_data"
    },
    {
     "name": "stdout",
     "output_type": "stream",
     "text": [
      "\n",
      "Orb score:  (171, 30)\n"
     ]
    },
    {
     "data": {
      "application/vnd.jupyter.widget-view+json": {
       "model_id": "2b49cad825064e9da7e91f761fa52e16",
       "version_major": 2,
       "version_minor": 0
      },
      "text/plain": [
       "HBox(children=(IntProgress(value=0, max=1000), HTML(value='')))"
      ]
     },
     "metadata": {},
     "output_type": "display_data"
    },
    {
     "name": "stdout",
     "output_type": "stream",
     "text": [
      "\n",
      "Sift score:  (171, 41.7)\n"
     ]
    },
    {
     "data": {
      "application/vnd.jupyter.widget-view+json": {
       "model_id": "75d5444c01014b569c2c47826fb13630",
       "version_major": 2,
       "version_minor": 0
      },
      "text/plain": [
       "HBox(children=(IntProgress(value=0, max=1000), HTML(value='')))"
      ]
     },
     "metadata": {},
     "output_type": "display_data"
    },
    {
     "name": "stdout",
     "output_type": "stream",
     "text": [
      "\n",
      "Zernike score:  (171, 0.0)\n"
     ]
    },
    {
     "data": {
      "application/vnd.jupyter.widget-view+json": {
       "model_id": "104d8d7c74fa42f9a9973e0f17b1af40",
       "version_major": 2,
       "version_minor": 0
      },
      "text/plain": [
       "HBox(children=(IntProgress(value=0, max=9), HTML(value='')))"
      ]
     },
     "metadata": {},
     "output_type": "display_data"
    },
    {
     "name": "stdout",
     "output_type": "stream",
     "text": [
      "\n",
      "Contour score:  (171, 25.0)\n",
      "Final ranking:  272 (171, 25.0, 0.0, 41.7, 30, 24.2)\n"
     ]
    },
    {
     "data": {
      "application/vnd.jupyter.widget-view+json": {
       "model_id": "7a0536d9a398460ca78c595fadd10376",
       "version_major": 2,
       "version_minor": 0
      },
      "text/plain": [
       "HBox(children=(IntProgress(value=0, max=1000), HTML(value='')))"
      ]
     },
     "metadata": {},
     "output_type": "display_data"
    },
    {
     "name": "stdout",
     "output_type": "stream",
     "text": [
      "\n",
      "Orb score:  (172, 100)\n"
     ]
    },
    {
     "data": {
      "application/vnd.jupyter.widget-view+json": {
       "model_id": "a4b4eb793d2548b0b723f25bca759254",
       "version_major": 2,
       "version_minor": 0
      },
      "text/plain": [
       "HBox(children=(IntProgress(value=0, max=1000), HTML(value='')))"
      ]
     },
     "metadata": {},
     "output_type": "display_data"
    },
    {
     "name": "stdout",
     "output_type": "stream",
     "text": [
      "\n",
      "Sift score:  (172, 100.0)\n"
     ]
    },
    {
     "data": {
      "application/vnd.jupyter.widget-view+json": {
       "model_id": "46fcaef262c947a9bc141a455b7e295e",
       "version_major": 2,
       "version_minor": 0
      },
      "text/plain": [
       "HBox(children=(IntProgress(value=0, max=1000), HTML(value='')))"
      ]
     },
     "metadata": {},
     "output_type": "display_data"
    },
    {
     "name": "stdout",
     "output_type": "stream",
     "text": [
      "\n",
      "Zernike score:  (172, 0.0)\n"
     ]
    },
    {
     "data": {
      "application/vnd.jupyter.widget-view+json": {
       "model_id": "ed1aeb1a5b8c4a42b431ef00e479ca1b",
       "version_major": 2,
       "version_minor": 0
      },
      "text/plain": [
       "HBox(children=(IntProgress(value=0, max=9), HTML(value='')))"
      ]
     },
     "metadata": {},
     "output_type": "display_data"
    },
    {
     "name": "stdout",
     "output_type": "stream",
     "text": [
      "\n",
      "Contour score:  (172, 67.8)\n",
      "Final ranking:  1 (172, 67.8, 0.0, 100.0, 100, 67.0)\n"
     ]
    },
    {
     "data": {
      "application/vnd.jupyter.widget-view+json": {
       "model_id": "c108cc5ea57749d986b2ca321388d9b0",
       "version_major": 2,
       "version_minor": 0
      },
      "text/plain": [
       "HBox(children=(IntProgress(value=0, max=1000), HTML(value='')))"
      ]
     },
     "metadata": {},
     "output_type": "display_data"
    },
    {
     "name": "stdout",
     "output_type": "stream",
     "text": [
      "\n",
      "Orb score:  (173, 30)\n"
     ]
    },
    {
     "data": {
      "application/vnd.jupyter.widget-view+json": {
       "model_id": "23a72178624746f089cd174479ab102b",
       "version_major": 2,
       "version_minor": 0
      },
      "text/plain": [
       "HBox(children=(IntProgress(value=0, max=1000), HTML(value='')))"
      ]
     },
     "metadata": {},
     "output_type": "display_data"
    },
    {
     "name": "stdout",
     "output_type": "stream",
     "text": [
      "\n",
      "Sift score:  (173, 61.1)\n"
     ]
    },
    {
     "data": {
      "application/vnd.jupyter.widget-view+json": {
       "model_id": "dd8a982984034aafae3f6d9b32d228a9",
       "version_major": 2,
       "version_minor": 0
      },
      "text/plain": [
       "HBox(children=(IntProgress(value=0, max=1000), HTML(value='')))"
      ]
     },
     "metadata": {},
     "output_type": "display_data"
    },
    {
     "name": "stdout",
     "output_type": "stream",
     "text": [
      "\n",
      "Zernike score:  (173, 8.7)\n"
     ]
    },
    {
     "data": {
      "application/vnd.jupyter.widget-view+json": {
       "model_id": "76bd1850166e47279a3c64dd118c2d5f",
       "version_major": 2,
       "version_minor": 0
      },
      "text/plain": [
       "HBox(children=(IntProgress(value=0, max=9), HTML(value='')))"
      ]
     },
     "metadata": {},
     "output_type": "display_data"
    },
    {
     "name": "stdout",
     "output_type": "stream",
     "text": [
      "\n",
      "Contour score:  (173, 26.0)\n",
      "Final ranking:  175 (173, 26.0, 8.7, 61.1, 30, 31.4)\n"
     ]
    },
    {
     "data": {
      "application/vnd.jupyter.widget-view+json": {
       "model_id": "5e97c73d4d4b48a7b98a658a08d76519",
       "version_major": 2,
       "version_minor": 0
      },
      "text/plain": [
       "HBox(children=(IntProgress(value=0, max=1000), HTML(value='')))"
      ]
     },
     "metadata": {},
     "output_type": "display_data"
    },
    {
     "name": "stdout",
     "output_type": "stream",
     "text": [
      "\n",
      "Orb score:  (174, 60)\n"
     ]
    },
    {
     "data": {
      "application/vnd.jupyter.widget-view+json": {
       "model_id": "2109075734c74584910c6bd19b1b8d1d",
       "version_major": 2,
       "version_minor": 0
      },
      "text/plain": [
       "HBox(children=(IntProgress(value=0, max=1000), HTML(value='')))"
      ]
     },
     "metadata": {},
     "output_type": "display_data"
    },
    {
     "name": "stdout",
     "output_type": "stream",
     "text": [
      "\n",
      "Sift score:  (174, 100.0)\n"
     ]
    },
    {
     "data": {
      "application/vnd.jupyter.widget-view+json": {
       "model_id": "4a27039d2f6c47b799cce6268c86f34a",
       "version_major": 2,
       "version_minor": 0
      },
      "text/plain": [
       "HBox(children=(IntProgress(value=0, max=1000), HTML(value='')))"
      ]
     },
     "metadata": {},
     "output_type": "display_data"
    },
    {
     "name": "stdout",
     "output_type": "stream",
     "text": [
      "\n",
      "Zernike score:  (174, 0.0)\n"
     ]
    },
    {
     "data": {
      "application/vnd.jupyter.widget-view+json": {
       "model_id": "78f690e34dde41dca67632b0f46b582c",
       "version_major": 2,
       "version_minor": 0
      },
      "text/plain": [
       "HBox(children=(IntProgress(value=0, max=9), HTML(value='')))"
      ]
     },
     "metadata": {},
     "output_type": "display_data"
    },
    {
     "name": "stdout",
     "output_type": "stream",
     "text": [
      "\n",
      "Contour score:  (174, 49.0)\n",
      "Final ranking:  13 (174, 49.0, 0.0, 100.0, 60, 52.2)\n"
     ]
    },
    {
     "data": {
      "application/vnd.jupyter.widget-view+json": {
       "model_id": "1a6378d5f36b4d6d962fe570ca673139",
       "version_major": 2,
       "version_minor": 0
      },
      "text/plain": [
       "HBox(children=(IntProgress(value=0, max=1000), HTML(value='')))"
      ]
     },
     "metadata": {},
     "output_type": "display_data"
    },
    {
     "name": "stdout",
     "output_type": "stream",
     "text": [
      "\n",
      "Orb score:  (175, 12)\n"
     ]
    },
    {
     "data": {
      "application/vnd.jupyter.widget-view+json": {
       "model_id": "e73d85abfa0b4f5384a36a3ee98575bb",
       "version_major": 2,
       "version_minor": 0
      },
      "text/plain": [
       "HBox(children=(IntProgress(value=0, max=1000), HTML(value='')))"
      ]
     },
     "metadata": {},
     "output_type": "display_data"
    },
    {
     "name": "stdout",
     "output_type": "stream",
     "text": [
      "\n",
      "Sift score:  (175, 30.0)\n"
     ]
    },
    {
     "data": {
      "application/vnd.jupyter.widget-view+json": {
       "model_id": "391d7610cc074314b7992fad54311b65",
       "version_major": 2,
       "version_minor": 0
      },
      "text/plain": [
       "HBox(children=(IntProgress(value=0, max=1000), HTML(value='')))"
      ]
     },
     "metadata": {},
     "output_type": "display_data"
    },
    {
     "name": "stdout",
     "output_type": "stream",
     "text": [
      "\n",
      "Zernike score:  (175, 0.0)\n"
     ]
    },
    {
     "data": {
      "application/vnd.jupyter.widget-view+json": {
       "model_id": "f758c4d7bbf145e3b7830f45b8c15886",
       "version_major": 2,
       "version_minor": 0
      },
      "text/plain": [
       "HBox(children=(IntProgress(value=0, max=9), HTML(value='')))"
      ]
     },
     "metadata": {},
     "output_type": "display_data"
    },
    {
     "name": "stdout",
     "output_type": "stream",
     "text": [
      "\n",
      "Contour score:  (175, 40.0)\n",
      "Final ranking:  571 (175, 40.0, 0.0, 30.0, 12, 20.5)\n"
     ]
    },
    {
     "data": {
      "application/vnd.jupyter.widget-view+json": {
       "model_id": "de52e63aa2684b6ba09c4316df591dd6",
       "version_major": 2,
       "version_minor": 0
      },
      "text/plain": [
       "HBox(children=(IntProgress(value=0, max=1000), HTML(value='')))"
      ]
     },
     "metadata": {},
     "output_type": "display_data"
    },
    {
     "name": "stdout",
     "output_type": "stream",
     "text": [
      "\n",
      "Orb score:  (176, 60)\n"
     ]
    },
    {
     "data": {
      "application/vnd.jupyter.widget-view+json": {
       "model_id": "b8110d0398c948e58067bea4ed8c652f",
       "version_major": 2,
       "version_minor": 0
      },
      "text/plain": [
       "HBox(children=(IntProgress(value=0, max=1000), HTML(value='')))"
      ]
     },
     "metadata": {},
     "output_type": "display_data"
    },
    {
     "name": "stdout",
     "output_type": "stream",
     "text": [
      "\n",
      "Sift score:  (176, 100.0)\n"
     ]
    },
    {
     "data": {
      "application/vnd.jupyter.widget-view+json": {
       "model_id": "54b065cb3ce94b79872a3e9a918a0375",
       "version_major": 2,
       "version_minor": 0
      },
      "text/plain": [
       "HBox(children=(IntProgress(value=0, max=1000), HTML(value='')))"
      ]
     },
     "metadata": {},
     "output_type": "display_data"
    },
    {
     "name": "stdout",
     "output_type": "stream",
     "text": [
      "\n",
      "Zernike score:  (176, 0.0)\n"
     ]
    },
    {
     "data": {
      "application/vnd.jupyter.widget-view+json": {
       "model_id": "cad15709350e49c68796bf8e460ee138",
       "version_major": 2,
       "version_minor": 0
      },
      "text/plain": [
       "HBox(children=(IntProgress(value=0, max=9), HTML(value='')))"
      ]
     },
     "metadata": {},
     "output_type": "display_data"
    },
    {
     "name": "stdout",
     "output_type": "stream",
     "text": [
      "\n",
      "Contour score:  (176, 66.7)\n",
      "Final ranking:  2 (176, 66.7, 0.0, 100.0, 60, 56.7)\n"
     ]
    },
    {
     "data": {
      "application/vnd.jupyter.widget-view+json": {
       "model_id": "a9e1ac5ef6ff4aec89864b8fe6fb4b43",
       "version_major": 2,
       "version_minor": 0
      },
      "text/plain": [
       "HBox(children=(IntProgress(value=0, max=1000), HTML(value='')))"
      ]
     },
     "metadata": {},
     "output_type": "display_data"
    },
    {
     "name": "stdout",
     "output_type": "stream",
     "text": [
      "\n",
      "Orb score:  (177, 100)\n"
     ]
    },
    {
     "data": {
      "application/vnd.jupyter.widget-view+json": {
       "model_id": "55ddb1f112a2441a84f2e02ed8ce7395",
       "version_major": 2,
       "version_minor": 0
      },
      "text/plain": [
       "HBox(children=(IntProgress(value=0, max=1000), HTML(value='')))"
      ]
     },
     "metadata": {},
     "output_type": "display_data"
    },
    {
     "name": "stdout",
     "output_type": "stream",
     "text": [
      "\n",
      "Sift score:  (177, 83.3)\n"
     ]
    },
    {
     "data": {
      "application/vnd.jupyter.widget-view+json": {
       "model_id": "dc8ca1350f86418aa17a93ce63a774f4",
       "version_major": 2,
       "version_minor": 0
      },
      "text/plain": [
       "HBox(children=(IntProgress(value=0, max=1000), HTML(value='')))"
      ]
     },
     "metadata": {},
     "output_type": "display_data"
    },
    {
     "name": "stdout",
     "output_type": "stream",
     "text": [
      "\n",
      "Zernike score:  (177, 96.7)\n"
     ]
    },
    {
     "data": {
      "application/vnd.jupyter.widget-view+json": {
       "model_id": "617038379ebf44eca5f575db18606e18",
       "version_major": 2,
       "version_minor": 0
      },
      "text/plain": [
       "HBox(children=(IntProgress(value=0, max=9), HTML(value='')))"
      ]
     },
     "metadata": {},
     "output_type": "display_data"
    },
    {
     "name": "stdout",
     "output_type": "stream",
     "text": [
      "\n",
      "Contour score:  (177, 53.8)\n",
      "Final ranking:  1 (177, 53.8, 96.7, 83.3, 100, 83.4)\n"
     ]
    },
    {
     "data": {
      "application/vnd.jupyter.widget-view+json": {
       "model_id": "02d8e6e75e294e808840417a4d749518",
       "version_major": 2,
       "version_minor": 0
      },
      "text/plain": [
       "HBox(children=(IntProgress(value=0, max=1000), HTML(value='')))"
      ]
     },
     "metadata": {},
     "output_type": "display_data"
    },
    {
     "name": "stdout",
     "output_type": "stream",
     "text": [
      "\n",
      "Orb score:  (178, 65)\n"
     ]
    },
    {
     "data": {
      "application/vnd.jupyter.widget-view+json": {
       "model_id": "9d0d972a8f774497ae9a04d492469fc6",
       "version_major": 2,
       "version_minor": 0
      },
      "text/plain": [
       "HBox(children=(IntProgress(value=0, max=1000), HTML(value='')))"
      ]
     },
     "metadata": {},
     "output_type": "display_data"
    },
    {
     "name": "stdout",
     "output_type": "stream",
     "text": [
      "\n",
      "Sift score:  (178, 10.0)\n"
     ]
    },
    {
     "data": {
      "application/vnd.jupyter.widget-view+json": {
       "model_id": "9144cf7468694fe9bf294c62421dbc45",
       "version_major": 2,
       "version_minor": 0
      },
      "text/plain": [
       "HBox(children=(IntProgress(value=0, max=1000), HTML(value='')))"
      ]
     },
     "metadata": {},
     "output_type": "display_data"
    },
    {
     "name": "stdout",
     "output_type": "stream",
     "text": [
      "\n",
      "Zernike score:  (178, 0.0)\n"
     ]
    },
    {
     "data": {
      "application/vnd.jupyter.widget-view+json": {
       "model_id": "86404f1c9ace43d7852df04b69efd6fb",
       "version_major": 2,
       "version_minor": 0
      },
      "text/plain": [
       "HBox(children=(IntProgress(value=0, max=9), HTML(value='')))"
      ]
     },
     "metadata": {},
     "output_type": "display_data"
    },
    {
     "name": "stdout",
     "output_type": "stream",
     "text": [
      "\n",
      "Contour score:  (178, 41.4)\n",
      "Final ranking:  187 (178, 41.4, 0.0, 10.0, 65, 29.1)\n"
     ]
    },
    {
     "data": {
      "application/vnd.jupyter.widget-view+json": {
       "model_id": "98253e8dd4704569bbad1bd50d2917ba",
       "version_major": 2,
       "version_minor": 0
      },
      "text/plain": [
       "HBox(children=(IntProgress(value=0, max=1000), HTML(value='')))"
      ]
     },
     "metadata": {},
     "output_type": "display_data"
    },
    {
     "name": "stdout",
     "output_type": "stream",
     "text": [
      "\n",
      "Orb score:  (179, 77)\n"
     ]
    },
    {
     "data": {
      "application/vnd.jupyter.widget-view+json": {
       "model_id": "79008bb719654c1eb9b6065306c5a6ae",
       "version_major": 2,
       "version_minor": 0
      },
      "text/plain": [
       "HBox(children=(IntProgress(value=0, max=1000), HTML(value='')))"
      ]
     },
     "metadata": {},
     "output_type": "display_data"
    },
    {
     "name": "stdout",
     "output_type": "stream",
     "text": [
      "\n",
      "Sift score:  (179, 100.0)\n"
     ]
    },
    {
     "data": {
      "application/vnd.jupyter.widget-view+json": {
       "model_id": "447a30c611df4591b053a23e322682b9",
       "version_major": 2,
       "version_minor": 0
      },
      "text/plain": [
       "HBox(children=(IntProgress(value=0, max=1000), HTML(value='')))"
      ]
     },
     "metadata": {},
     "output_type": "display_data"
    },
    {
     "name": "stdout",
     "output_type": "stream",
     "text": [
      "\n",
      "Zernike score:  (179, 0.0)\n"
     ]
    },
    {
     "data": {
      "application/vnd.jupyter.widget-view+json": {
       "model_id": "975c3154aef24185b235bd5f2fead098",
       "version_major": 2,
       "version_minor": 0
      },
      "text/plain": [
       "HBox(children=(IntProgress(value=0, max=9), HTML(value='')))"
      ]
     },
     "metadata": {},
     "output_type": "display_data"
    },
    {
     "name": "stdout",
     "output_type": "stream",
     "text": [
      "\n",
      "Contour score:  (179, 57.4)\n",
      "Final ranking:  6 (179, 57.4, 0.0, 100.0, 77, 58.6)\n"
     ]
    },
    {
     "data": {
      "application/vnd.jupyter.widget-view+json": {
       "model_id": "7c8481b053b84b89b854bccf9fe2ec4b",
       "version_major": 2,
       "version_minor": 0
      },
      "text/plain": [
       "HBox(children=(IntProgress(value=0, max=1000), HTML(value='')))"
      ]
     },
     "metadata": {},
     "output_type": "display_data"
    },
    {
     "name": "stdout",
     "output_type": "stream",
     "text": [
      "\n",
      "Orb score:  (180, 29)\n"
     ]
    },
    {
     "data": {
      "application/vnd.jupyter.widget-view+json": {
       "model_id": "88340976b8d84f8c97209af4f95114b5",
       "version_major": 2,
       "version_minor": 0
      },
      "text/plain": [
       "HBox(children=(IntProgress(value=0, max=1000), HTML(value='')))"
      ]
     },
     "metadata": {},
     "output_type": "display_data"
    },
    {
     "name": "stdout",
     "output_type": "stream",
     "text": [
      "\n",
      "Sift score:  (180, 27.3)\n"
     ]
    },
    {
     "data": {
      "application/vnd.jupyter.widget-view+json": {
       "model_id": "cc5bb6da34ed4beb85f023324bcd8f49",
       "version_major": 2,
       "version_minor": 0
      },
      "text/plain": [
       "HBox(children=(IntProgress(value=0, max=1000), HTML(value='')))"
      ]
     },
     "metadata": {},
     "output_type": "display_data"
    },
    {
     "name": "stdout",
     "output_type": "stream",
     "text": [
      "\n",
      "Zernike score:  (180, 90.9)\n"
     ]
    },
    {
     "data": {
      "application/vnd.jupyter.widget-view+json": {
       "model_id": "1dc3c200651f4bfb90859300f531dde8",
       "version_major": 2,
       "version_minor": 0
      },
      "text/plain": [
       "HBox(children=(IntProgress(value=0, max=9), HTML(value='')))"
      ]
     },
     "metadata": {},
     "output_type": "display_data"
    },
    {
     "name": "stdout",
     "output_type": "stream",
     "text": [
      "\n",
      "Contour score:  (180, 15.9)\n",
      "Final ranking:  164 (180, 15.9, 90.9, 27.3, 29, 40.8)\n"
     ]
    },
    {
     "data": {
      "application/vnd.jupyter.widget-view+json": {
       "model_id": "4fd04cd6fd8b497aa951784465e0a9e0",
       "version_major": 2,
       "version_minor": 0
      },
      "text/plain": [
       "HBox(children=(IntProgress(value=0, max=1000), HTML(value='')))"
      ]
     },
     "metadata": {},
     "output_type": "display_data"
    },
    {
     "name": "stdout",
     "output_type": "stream",
     "text": [
      "\n",
      "Orb score:  (181, 72)\n"
     ]
    },
    {
     "data": {
      "application/vnd.jupyter.widget-view+json": {
       "model_id": "36725b653f9549a08dba96c6e362e806",
       "version_major": 2,
       "version_minor": 0
      },
      "text/plain": [
       "HBox(children=(IntProgress(value=0, max=1000), HTML(value='')))"
      ]
     },
     "metadata": {},
     "output_type": "display_data"
    },
    {
     "name": "stdout",
     "output_type": "stream",
     "text": [
      "\n",
      "Sift score:  (181, 100.0)\n"
     ]
    },
    {
     "data": {
      "application/vnd.jupyter.widget-view+json": {
       "model_id": "9c8076dcc68d47c1b0848808f1df9abe",
       "version_major": 2,
       "version_minor": 0
      },
      "text/plain": [
       "HBox(children=(IntProgress(value=0, max=1000), HTML(value='')))"
      ]
     },
     "metadata": {},
     "output_type": "display_data"
    },
    {
     "name": "stdout",
     "output_type": "stream",
     "text": [
      "\n",
      "Zernike score:  (181, 0.0)\n"
     ]
    },
    {
     "data": {
      "application/vnd.jupyter.widget-view+json": {
       "model_id": "f5d42979b71e487aa37552f51bf2a40d",
       "version_major": 2,
       "version_minor": 0
      },
      "text/plain": [
       "HBox(children=(IntProgress(value=0, max=9), HTML(value='')))"
      ]
     },
     "metadata": {},
     "output_type": "display_data"
    },
    {
     "name": "stdout",
     "output_type": "stream",
     "text": [
      "\n",
      "Contour score:  (181, 24.9)\n",
      "Final ranking:  1 (181, 24.9, 0.0, 100.0, 72, 49.2)\n"
     ]
    },
    {
     "data": {
      "application/vnd.jupyter.widget-view+json": {
       "model_id": "7cc6ddd7abf443cf964152b57c5cf1b1",
       "version_major": 2,
       "version_minor": 0
      },
      "text/plain": [
       "HBox(children=(IntProgress(value=0, max=1000), HTML(value='')))"
      ]
     },
     "metadata": {},
     "output_type": "display_data"
    },
    {
     "name": "stdout",
     "output_type": "stream",
     "text": [
      "\n",
      "Orb score:  (182, 83)\n"
     ]
    },
    {
     "data": {
      "application/vnd.jupyter.widget-view+json": {
       "model_id": "b9812e91836441d6a36d3f7ce4381fe4",
       "version_major": 2,
       "version_minor": 0
      },
      "text/plain": [
       "HBox(children=(IntProgress(value=0, max=1000), HTML(value='')))"
      ]
     },
     "metadata": {},
     "output_type": "display_data"
    },
    {
     "name": "stdout",
     "output_type": "stream",
     "text": [
      "\n",
      "Sift score:  (182, 100.0)\n"
     ]
    },
    {
     "data": {
      "application/vnd.jupyter.widget-view+json": {
       "model_id": "64a35a7e0edd440cacd63ff694deaaa4",
       "version_major": 2,
       "version_minor": 0
      },
      "text/plain": [
       "HBox(children=(IntProgress(value=0, max=1000), HTML(value='')))"
      ]
     },
     "metadata": {},
     "output_type": "display_data"
    },
    {
     "name": "stdout",
     "output_type": "stream",
     "text": [
      "\n",
      "Zernike score:  (182, 0.0)\n"
     ]
    },
    {
     "data": {
      "application/vnd.jupyter.widget-view+json": {
       "model_id": "84d2640224b64c728cc4af36526fc05a",
       "version_major": 2,
       "version_minor": 0
      },
      "text/plain": [
       "HBox(children=(IntProgress(value=0, max=9), HTML(value='')))"
      ]
     },
     "metadata": {},
     "output_type": "display_data"
    },
    {
     "name": "stdout",
     "output_type": "stream",
     "text": [
      "\n",
      "Contour score:  (182, 76.9)\n",
      "Final ranking:  1 (182, 76.9, 0.0, 100.0, 83, 65.0)\n"
     ]
    },
    {
     "data": {
      "application/vnd.jupyter.widget-view+json": {
       "model_id": "a235e9e8f8a14f15a6a6ca08f45d5f2d",
       "version_major": 2,
       "version_minor": 0
      },
      "text/plain": [
       "HBox(children=(IntProgress(value=0, max=1000), HTML(value='')))"
      ]
     },
     "metadata": {},
     "output_type": "display_data"
    },
    {
     "name": "stdout",
     "output_type": "stream",
     "text": [
      "\n",
      "Orb score:  (183, 100)\n"
     ]
    },
    {
     "data": {
      "application/vnd.jupyter.widget-view+json": {
       "model_id": "7e6e3947634843e391d7ae3b04ba3db3",
       "version_major": 2,
       "version_minor": 0
      },
      "text/plain": [
       "HBox(children=(IntProgress(value=0, max=1000), HTML(value='')))"
      ]
     },
     "metadata": {},
     "output_type": "display_data"
    },
    {
     "name": "stdout",
     "output_type": "stream",
     "text": [
      "\n",
      "Sift score:  (183, 100.0)\n"
     ]
    },
    {
     "data": {
      "application/vnd.jupyter.widget-view+json": {
       "model_id": "35c7e3853b2a4149be0bc41367a256ca",
       "version_major": 2,
       "version_minor": 0
      },
      "text/plain": [
       "HBox(children=(IntProgress(value=0, max=1000), HTML(value='')))"
      ]
     },
     "metadata": {},
     "output_type": "display_data"
    },
    {
     "name": "stdout",
     "output_type": "stream",
     "text": [
      "\n",
      "Zernike score:  (183, 0.0)\n"
     ]
    },
    {
     "data": {
      "application/vnd.jupyter.widget-view+json": {
       "model_id": "ae3d4c03913e467a85e9459572c38190",
       "version_major": 2,
       "version_minor": 0
      },
      "text/plain": [
       "HBox(children=(IntProgress(value=0, max=9), HTML(value='')))"
      ]
     },
     "metadata": {},
     "output_type": "display_data"
    },
    {
     "name": "stdout",
     "output_type": "stream",
     "text": [
      "\n",
      "Contour score:  (183, 41.8)\n",
      "Final ranking:  1 (183, 41.8, 0.0, 100.0, 100, 60.5)\n"
     ]
    },
    {
     "data": {
      "application/vnd.jupyter.widget-view+json": {
       "model_id": "0fbb9641f8a74cd3be3a8eec63beac78",
       "version_major": 2,
       "version_minor": 0
      },
      "text/plain": [
       "HBox(children=(IntProgress(value=0, max=1000), HTML(value='')))"
      ]
     },
     "metadata": {},
     "output_type": "display_data"
    },
    {
     "name": "stdout",
     "output_type": "stream",
     "text": [
      "\n",
      "Orb score:  (184, 44)\n"
     ]
    },
    {
     "data": {
      "application/vnd.jupyter.widget-view+json": {
       "model_id": "c5e804a6ccc74b7eabf234c6305a2e6b",
       "version_major": 2,
       "version_minor": 0
      },
      "text/plain": [
       "HBox(children=(IntProgress(value=0, max=1000), HTML(value='')))"
      ]
     },
     "metadata": {},
     "output_type": "display_data"
    },
    {
     "name": "stdout",
     "output_type": "stream",
     "text": [
      "\n",
      "Sift score:  (184, 70.0)\n"
     ]
    },
    {
     "data": {
      "application/vnd.jupyter.widget-view+json": {
       "model_id": "a7189107187949b0b9d2ed9a35409166",
       "version_major": 2,
       "version_minor": 0
      },
      "text/plain": [
       "HBox(children=(IntProgress(value=0, max=1000), HTML(value='')))"
      ]
     },
     "metadata": {},
     "output_type": "display_data"
    },
    {
     "name": "stdout",
     "output_type": "stream",
     "text": [
      "\n",
      "Zernike score:  (184, 0.0)\n"
     ]
    },
    {
     "data": {
      "application/vnd.jupyter.widget-view+json": {
       "model_id": "e1a8f3fc95a94bee922c6fb497c33e19",
       "version_major": 2,
       "version_minor": 0
      },
      "text/plain": [
       "HBox(children=(IntProgress(value=0, max=9), HTML(value='')))"
      ]
     },
     "metadata": {},
     "output_type": "display_data"
    },
    {
     "name": "stdout",
     "output_type": "stream",
     "text": [
      "\n",
      "Contour score:  (184, 18.2)\n",
      "Final ranking:  215 (184, 18.2, 0.0, 70.0, 44, 33.0)\n"
     ]
    },
    {
     "data": {
      "application/vnd.jupyter.widget-view+json": {
       "model_id": "910cac0d1043443ea42e2ed3ae0a8cd2",
       "version_major": 2,
       "version_minor": 0
      },
      "text/plain": [
       "HBox(children=(IntProgress(value=0, max=1000), HTML(value='')))"
      ]
     },
     "metadata": {},
     "output_type": "display_data"
    },
    {
     "name": "stdout",
     "output_type": "stream",
     "text": [
      "\n",
      "Orb score:  (185, 18)\n"
     ]
    },
    {
     "data": {
      "application/vnd.jupyter.widget-view+json": {
       "model_id": "5d5037f54cbf4088bd0e8552d1393dff",
       "version_major": 2,
       "version_minor": 0
      },
      "text/plain": [
       "HBox(children=(IntProgress(value=0, max=1000), HTML(value='')))"
      ]
     },
     "metadata": {},
     "output_type": "display_data"
    },
    {
     "name": "stdout",
     "output_type": "stream",
     "text": [
      "\n",
      "Sift score:  (185, 14.3)\n"
     ]
    },
    {
     "data": {
      "application/vnd.jupyter.widget-view+json": {
       "model_id": "8722c2ce6c74473f843d56021d627328",
       "version_major": 2,
       "version_minor": 0
      },
      "text/plain": [
       "HBox(children=(IntProgress(value=0, max=1000), HTML(value='')))"
      ]
     },
     "metadata": {},
     "output_type": "display_data"
    },
    {
     "name": "stdout",
     "output_type": "stream",
     "text": [
      "\n",
      "Zernike score:  (185, 0.0)\n"
     ]
    },
    {
     "data": {
      "application/vnd.jupyter.widget-view+json": {
       "model_id": "6e4275bcce4148a2b48f84bfdd00fd2b",
       "version_major": 2,
       "version_minor": 0
      },
      "text/plain": [
       "HBox(children=(IntProgress(value=0, max=9), HTML(value='')))"
      ]
     },
     "metadata": {},
     "output_type": "display_data"
    },
    {
     "name": "stdout",
     "output_type": "stream",
     "text": [
      "\n",
      "Contour score:  (185, 61.2)\n",
      "Final ranking:  344 (185, 61.2, 0.0, 14.3, 18, 23.4)\n"
     ]
    },
    {
     "data": {
      "application/vnd.jupyter.widget-view+json": {
       "model_id": "6588beae792c4b999c932a0f80420c49",
       "version_major": 2,
       "version_minor": 0
      },
      "text/plain": [
       "HBox(children=(IntProgress(value=0, max=1000), HTML(value='')))"
      ]
     },
     "metadata": {},
     "output_type": "display_data"
    },
    {
     "name": "stdout",
     "output_type": "stream",
     "text": [
      "\n",
      "Orb score:  (186, 45)\n"
     ]
    },
    {
     "data": {
      "application/vnd.jupyter.widget-view+json": {
       "model_id": "8f067e05a54f4dc28a466e64e7665367",
       "version_major": 2,
       "version_minor": 0
      },
      "text/plain": [
       "HBox(children=(IntProgress(value=0, max=1000), HTML(value='')))"
      ]
     },
     "metadata": {},
     "output_type": "display_data"
    },
    {
     "name": "stdout",
     "output_type": "stream",
     "text": [
      "\n",
      "Sift score:  (186, 100.0)\n"
     ]
    },
    {
     "data": {
      "application/vnd.jupyter.widget-view+json": {
       "model_id": "915fcc3cf157440e9b9b7646d319716a",
       "version_major": 2,
       "version_minor": 0
      },
      "text/plain": [
       "HBox(children=(IntProgress(value=0, max=1000), HTML(value='')))"
      ]
     },
     "metadata": {},
     "output_type": "display_data"
    },
    {
     "name": "stdout",
     "output_type": "stream",
     "text": [
      "\n",
      "Zernike score:  (186, 0.0)\n"
     ]
    },
    {
     "data": {
      "application/vnd.jupyter.widget-view+json": {
       "model_id": "caa6cc734eee4ef8b2fe42228ab12246",
       "version_major": 2,
       "version_minor": 0
      },
      "text/plain": [
       "HBox(children=(IntProgress(value=0, max=9), HTML(value='')))"
      ]
     },
     "metadata": {},
     "output_type": "display_data"
    },
    {
     "name": "stdout",
     "output_type": "stream",
     "text": [
      "\n",
      "Contour score:  (186, 77.0)\n",
      "Final ranking:  1 (186, 77.0, 0.0, 100.0, 45, 55.5)\n"
     ]
    },
    {
     "data": {
      "application/vnd.jupyter.widget-view+json": {
       "model_id": "59ede4b453c243fdb6d3c0f15f4f1943",
       "version_major": 2,
       "version_minor": 0
      },
      "text/plain": [
       "HBox(children=(IntProgress(value=0, max=1000), HTML(value='')))"
      ]
     },
     "metadata": {},
     "output_type": "display_data"
    },
    {
     "name": "stdout",
     "output_type": "stream",
     "text": [
      "\n",
      "Orb score:  (187, 9)\n"
     ]
    },
    {
     "data": {
      "application/vnd.jupyter.widget-view+json": {
       "model_id": "b70a0e5b0a1f4df9bf26bff2f14790b9",
       "version_major": 2,
       "version_minor": 0
      },
      "text/plain": [
       "HBox(children=(IntProgress(value=0, max=1000), HTML(value='')))"
      ]
     },
     "metadata": {},
     "output_type": "display_data"
    },
    {
     "name": "stdout",
     "output_type": "stream",
     "text": [
      "\n",
      "Sift score:  (187, 0.0)\n"
     ]
    },
    {
     "data": {
      "application/vnd.jupyter.widget-view+json": {
       "model_id": "c60a0f2cdcfa4169bc23efe05fbe73e8",
       "version_major": 2,
       "version_minor": 0
      },
      "text/plain": [
       "HBox(children=(IntProgress(value=0, max=1000), HTML(value='')))"
      ]
     },
     "metadata": {},
     "output_type": "display_data"
    },
    {
     "name": "stdout",
     "output_type": "stream",
     "text": [
      "\n",
      "Zernike score:  (187, 76.0)\n"
     ]
    },
    {
     "data": {
      "application/vnd.jupyter.widget-view+json": {
       "model_id": "8b5ce3b6bcf04709abcc26695396f385",
       "version_major": 2,
       "version_minor": 0
      },
      "text/plain": [
       "HBox(children=(IntProgress(value=0, max=9), HTML(value='')))"
      ]
     },
     "metadata": {},
     "output_type": "display_data"
    },
    {
     "name": "stdout",
     "output_type": "stream",
     "text": [
      "\n",
      "Contour score:  (187, 20.4)\n",
      "Final ranking:  490 (187, 20.4, 76.0, 0.0, 9, 26.4)\n"
     ]
    },
    {
     "data": {
      "application/vnd.jupyter.widget-view+json": {
       "model_id": "aa9c6f65c0ec41cca114d27ea03fb96c",
       "version_major": 2,
       "version_minor": 0
      },
      "text/plain": [
       "HBox(children=(IntProgress(value=0, max=1000), HTML(value='')))"
      ]
     },
     "metadata": {},
     "output_type": "display_data"
    },
    {
     "name": "stdout",
     "output_type": "stream",
     "text": [
      "\n",
      "Orb score:  (188, 70)\n"
     ]
    },
    {
     "data": {
      "application/vnd.jupyter.widget-view+json": {
       "model_id": "d094e380cd554430a1bf61694b9e85de",
       "version_major": 2,
       "version_minor": 0
      },
      "text/plain": [
       "HBox(children=(IntProgress(value=0, max=1000), HTML(value='')))"
      ]
     },
     "metadata": {},
     "output_type": "display_data"
    },
    {
     "name": "stdout",
     "output_type": "stream",
     "text": [
      "\n",
      "Sift score:  (188, 100.0)\n"
     ]
    },
    {
     "data": {
      "application/vnd.jupyter.widget-view+json": {
       "model_id": "d18d23b923ba4390af81831fe345a505",
       "version_major": 2,
       "version_minor": 0
      },
      "text/plain": [
       "HBox(children=(IntProgress(value=0, max=1000), HTML(value='')))"
      ]
     },
     "metadata": {},
     "output_type": "display_data"
    },
    {
     "name": "stdout",
     "output_type": "stream",
     "text": [
      "\n",
      "Zernike score:  (188, 38.2)\n"
     ]
    },
    {
     "data": {
      "application/vnd.jupyter.widget-view+json": {
       "model_id": "2291fb99a5f0432fbe4749a3fdba39ba",
       "version_major": 2,
       "version_minor": 0
      },
      "text/plain": [
       "HBox(children=(IntProgress(value=0, max=9), HTML(value='')))"
      ]
     },
     "metadata": {},
     "output_type": "display_data"
    },
    {
     "name": "stdout",
     "output_type": "stream",
     "text": [
      "\n",
      "Contour score:  (188, 48.3)\n",
      "Final ranking:  1 (188, 48.3, 38.2, 100.0, 70, 64.1)\n"
     ]
    },
    {
     "data": {
      "application/vnd.jupyter.widget-view+json": {
       "model_id": "1b167bee6b8b469b8893bb6df823d1c2",
       "version_major": 2,
       "version_minor": 0
      },
      "text/plain": [
       "HBox(children=(IntProgress(value=0, max=1000), HTML(value='')))"
      ]
     },
     "metadata": {},
     "output_type": "display_data"
    },
    {
     "name": "stdout",
     "output_type": "stream",
     "text": [
      "\n",
      "Orb score:  (189, 88)\n"
     ]
    },
    {
     "data": {
      "application/vnd.jupyter.widget-view+json": {
       "model_id": "fc37f8e86648442f917c6d87ee839b7d",
       "version_major": 2,
       "version_minor": 0
      },
      "text/plain": [
       "HBox(children=(IntProgress(value=0, max=1000), HTML(value='')))"
      ]
     },
     "metadata": {},
     "output_type": "display_data"
    },
    {
     "name": "stdout",
     "output_type": "stream",
     "text": [
      "\n",
      "Sift score:  (189, 100.0)\n"
     ]
    },
    {
     "data": {
      "application/vnd.jupyter.widget-view+json": {
       "model_id": "fc13784edacb4482bcc54b86d7506d69",
       "version_major": 2,
       "version_minor": 0
      },
      "text/plain": [
       "HBox(children=(IntProgress(value=0, max=1000), HTML(value='')))"
      ]
     },
     "metadata": {},
     "output_type": "display_data"
    },
    {
     "name": "stdout",
     "output_type": "stream",
     "text": [
      "\n",
      "Zernike score:  (189, 80.6)\n"
     ]
    },
    {
     "data": {
      "application/vnd.jupyter.widget-view+json": {
       "model_id": "c33738cac49a49b1948fe11ccbc75d55",
       "version_major": 2,
       "version_minor": 0
      },
      "text/plain": [
       "HBox(children=(IntProgress(value=0, max=9), HTML(value='')))"
      ]
     },
     "metadata": {},
     "output_type": "display_data"
    },
    {
     "name": "stdout",
     "output_type": "stream",
     "text": [
      "\n",
      "Contour score:  (189, 26.8)\n",
      "Final ranking:  1 (189, 26.8, 80.6, 100.0, 88, 73.8)\n"
     ]
    },
    {
     "data": {
      "application/vnd.jupyter.widget-view+json": {
       "model_id": "f1b4cbd818ba491d8260de330a8c892c",
       "version_major": 2,
       "version_minor": 0
      },
      "text/plain": [
       "HBox(children=(IntProgress(value=0, max=1000), HTML(value='')))"
      ]
     },
     "metadata": {},
     "output_type": "display_data"
    },
    {
     "name": "stdout",
     "output_type": "stream",
     "text": [
      "\n",
      "Orb score:  (190, 52)\n"
     ]
    },
    {
     "data": {
      "application/vnd.jupyter.widget-view+json": {
       "model_id": "328519c216e4464d8334bbbdc5663fb9",
       "version_major": 2,
       "version_minor": 0
      },
      "text/plain": [
       "HBox(children=(IntProgress(value=0, max=1000), HTML(value='')))"
      ]
     },
     "metadata": {},
     "output_type": "display_data"
    },
    {
     "name": "stdout",
     "output_type": "stream",
     "text": [
      "\n",
      "Sift score:  (190, 54.5)\n"
     ]
    },
    {
     "data": {
      "application/vnd.jupyter.widget-view+json": {
       "model_id": "8032355c91db4d7aa6125ca6c3306bb6",
       "version_major": 2,
       "version_minor": 0
      },
      "text/plain": [
       "HBox(children=(IntProgress(value=0, max=1000), HTML(value='')))"
      ]
     },
     "metadata": {},
     "output_type": "display_data"
    },
    {
     "name": "stdout",
     "output_type": "stream",
     "text": [
      "\n",
      "Zernike score:  (190, 65.9)\n"
     ]
    },
    {
     "data": {
      "application/vnd.jupyter.widget-view+json": {
       "model_id": "5cdf293776374ff09db48ce70fc8210e",
       "version_major": 2,
       "version_minor": 0
      },
      "text/plain": [
       "HBox(children=(IntProgress(value=0, max=9), HTML(value='')))"
      ]
     },
     "metadata": {},
     "output_type": "display_data"
    },
    {
     "name": "stdout",
     "output_type": "stream",
     "text": [
      "\n",
      "Contour score:  (190, 13.0)\n",
      "Final ranking:  19 (190, 13.0, 65.9, 54.5, 52, 46.4)\n"
     ]
    },
    {
     "data": {
      "application/vnd.jupyter.widget-view+json": {
       "model_id": "b3d5362bff9c4ffaa0fe78ce2b0be187",
       "version_major": 2,
       "version_minor": 0
      },
      "text/plain": [
       "HBox(children=(IntProgress(value=0, max=1000), HTML(value='')))"
      ]
     },
     "metadata": {},
     "output_type": "display_data"
    },
    {
     "name": "stdout",
     "output_type": "stream",
     "text": [
      "\n",
      "Orb score:  (191, 55)\n"
     ]
    },
    {
     "data": {
      "application/vnd.jupyter.widget-view+json": {
       "model_id": "1cadd7a628624fbfbb2aaf123ef79b33",
       "version_major": 2,
       "version_minor": 0
      },
      "text/plain": [
       "HBox(children=(IntProgress(value=0, max=1000), HTML(value='')))"
      ]
     },
     "metadata": {},
     "output_type": "display_data"
    },
    {
     "name": "stdout",
     "output_type": "stream",
     "text": [
      "\n",
      "Sift score:  (191, 28.6)\n"
     ]
    },
    {
     "data": {
      "application/vnd.jupyter.widget-view+json": {
       "model_id": "8cc671a369c74df0bcd81f7093d7d929",
       "version_major": 2,
       "version_minor": 0
      },
      "text/plain": [
       "HBox(children=(IntProgress(value=0, max=1000), HTML(value='')))"
      ]
     },
     "metadata": {},
     "output_type": "display_data"
    },
    {
     "name": "stdout",
     "output_type": "stream",
     "text": [
      "\n",
      "Zernike score:  (191, 0.0)\n"
     ]
    },
    {
     "data": {
      "application/vnd.jupyter.widget-view+json": {
       "model_id": "a96fb43fd77949f6ba362bfa81d26e67",
       "version_major": 2,
       "version_minor": 0
      },
      "text/plain": [
       "HBox(children=(IntProgress(value=0, max=9), HTML(value='')))"
      ]
     },
     "metadata": {},
     "output_type": "display_data"
    },
    {
     "name": "stdout",
     "output_type": "stream",
     "text": [
      "\n",
      "Contour score:  (191, 35.8)\n",
      "Final ranking:  197 (191, 35.8, 0.0, 28.6, 55, 29.9)\n"
     ]
    },
    {
     "data": {
      "application/vnd.jupyter.widget-view+json": {
       "model_id": "7c35efa309784d13b99d48117c290610",
       "version_major": 2,
       "version_minor": 0
      },
      "text/plain": [
       "HBox(children=(IntProgress(value=0, max=1000), HTML(value='')))"
      ]
     },
     "metadata": {},
     "output_type": "display_data"
    },
    {
     "name": "stdout",
     "output_type": "stream",
     "text": [
      "\n",
      "Orb score:  (192, 71)\n"
     ]
    },
    {
     "data": {
      "application/vnd.jupyter.widget-view+json": {
       "model_id": "1552d6bb5ea84b83a3ff22359ead4d5e",
       "version_major": 2,
       "version_minor": 0
      },
      "text/plain": [
       "HBox(children=(IntProgress(value=0, max=1000), HTML(value='')))"
      ]
     },
     "metadata": {},
     "output_type": "display_data"
    },
    {
     "name": "stdout",
     "output_type": "stream",
     "text": [
      "\n",
      "Sift score:  (192, 100.0)\n"
     ]
    },
    {
     "data": {
      "application/vnd.jupyter.widget-view+json": {
       "model_id": "aabb0c3045aa49d2b24d1160484368f9",
       "version_major": 2,
       "version_minor": 0
      },
      "text/plain": [
       "HBox(children=(IntProgress(value=0, max=1000), HTML(value='')))"
      ]
     },
     "metadata": {},
     "output_type": "display_data"
    },
    {
     "name": "stdout",
     "output_type": "stream",
     "text": [
      "\n",
      "Zernike score:  (192, 0.0)\n"
     ]
    },
    {
     "data": {
      "application/vnd.jupyter.widget-view+json": {
       "model_id": "c7c9170003ee4d9397e351683445162d",
       "version_major": 2,
       "version_minor": 0
      },
      "text/plain": [
       "HBox(children=(IntProgress(value=0, max=9), HTML(value='')))"
      ]
     },
     "metadata": {},
     "output_type": "display_data"
    },
    {
     "name": "stdout",
     "output_type": "stream",
     "text": [
      "\n",
      "Contour score:  (192, 28.6)\n",
      "Final ranking:  1 (192, 28.6, 0.0, 100.0, 71, 49.9)\n"
     ]
    },
    {
     "data": {
      "application/vnd.jupyter.widget-view+json": {
       "model_id": "659e4c86153f4c2e86becc34d64b2401",
       "version_major": 2,
       "version_minor": 0
      },
      "text/plain": [
       "HBox(children=(IntProgress(value=0, max=1000), HTML(value='')))"
      ]
     },
     "metadata": {},
     "output_type": "display_data"
    },
    {
     "name": "stdout",
     "output_type": "stream",
     "text": [
      "\n",
      "Orb score:  (193, 34)\n"
     ]
    },
    {
     "data": {
      "application/vnd.jupyter.widget-view+json": {
       "model_id": "ffa46ab70eff49d7b8a9c3f5382bb552",
       "version_major": 2,
       "version_minor": 0
      },
      "text/plain": [
       "HBox(children=(IntProgress(value=0, max=1000), HTML(value='')))"
      ]
     },
     "metadata": {},
     "output_type": "display_data"
    },
    {
     "name": "stdout",
     "output_type": "stream",
     "text": [
      "\n",
      "Sift score:  (193, 100.0)\n"
     ]
    },
    {
     "data": {
      "application/vnd.jupyter.widget-view+json": {
       "model_id": "e965e408d53947eb96064d393e49f969",
       "version_major": 2,
       "version_minor": 0
      },
      "text/plain": [
       "HBox(children=(IntProgress(value=0, max=1000), HTML(value='')))"
      ]
     },
     "metadata": {},
     "output_type": "display_data"
    },
    {
     "name": "stdout",
     "output_type": "stream",
     "text": [
      "\n",
      "Zernike score:  (193, 0.0)\n"
     ]
    },
    {
     "data": {
      "application/vnd.jupyter.widget-view+json": {
       "model_id": "c02c8f11eb1b43ff9ae742f7ce20ae2d",
       "version_major": 2,
       "version_minor": 0
      },
      "text/plain": [
       "HBox(children=(IntProgress(value=0, max=9), HTML(value='')))"
      ]
     },
     "metadata": {},
     "output_type": "display_data"
    },
    {
     "name": "stdout",
     "output_type": "stream",
     "text": [
      "\n",
      "Contour score:  (193, 32.1)\n",
      "Final ranking:  12 (193, 32.1, 0.0, 100.0, 34, 41.5)\n"
     ]
    },
    {
     "data": {
      "application/vnd.jupyter.widget-view+json": {
       "model_id": "f3496366ed20469e90c071d678b8248f",
       "version_major": 2,
       "version_minor": 0
      },
      "text/plain": [
       "HBox(children=(IntProgress(value=0, max=1000), HTML(value='')))"
      ]
     },
     "metadata": {},
     "output_type": "display_data"
    },
    {
     "name": "stdout",
     "output_type": "stream",
     "text": [
      "\n",
      "Orb score:  (194, 23)\n"
     ]
    },
    {
     "data": {
      "application/vnd.jupyter.widget-view+json": {
       "model_id": "aff060aecad042e0a201dc05842276ce",
       "version_major": 2,
       "version_minor": 0
      },
      "text/plain": [
       "HBox(children=(IntProgress(value=0, max=1000), HTML(value='')))"
      ]
     },
     "metadata": {},
     "output_type": "display_data"
    },
    {
     "name": "stdout",
     "output_type": "stream",
     "text": [
      "\n",
      "Sift score:  (194, 38.5)\n"
     ]
    },
    {
     "data": {
      "application/vnd.jupyter.widget-view+json": {
       "model_id": "c0872952ff7f4540bdf3fc2282be06b5",
       "version_major": 2,
       "version_minor": 0
      },
      "text/plain": [
       "HBox(children=(IntProgress(value=0, max=1000), HTML(value='')))"
      ]
     },
     "metadata": {},
     "output_type": "display_data"
    },
    {
     "name": "stdout",
     "output_type": "stream",
     "text": [
      "\n",
      "Zernike score:  (194, 0.0)\n"
     ]
    },
    {
     "data": {
      "application/vnd.jupyter.widget-view+json": {
       "model_id": "75bda46f65f3456da6dc13f53b90bf6f",
       "version_major": 2,
       "version_minor": 0
      },
      "text/plain": [
       "HBox(children=(IntProgress(value=0, max=9), HTML(value='')))"
      ]
     },
     "metadata": {},
     "output_type": "display_data"
    },
    {
     "name": "stdout",
     "output_type": "stream",
     "text": [
      "\n",
      "Contour score:  (194, 61.1)\n",
      "Final ranking:  161 (194, 61.1, 0.0, 38.5, 23, 30.6)\n"
     ]
    },
    {
     "data": {
      "application/vnd.jupyter.widget-view+json": {
       "model_id": "a620d9d8c0774f82ac2647aa1dd5ddcb",
       "version_major": 2,
       "version_minor": 0
      },
      "text/plain": [
       "HBox(children=(IntProgress(value=0, max=1000), HTML(value='')))"
      ]
     },
     "metadata": {},
     "output_type": "display_data"
    },
    {
     "name": "stdout",
     "output_type": "stream",
     "text": [
      "\n",
      "Orb score:  (195, 64)\n"
     ]
    },
    {
     "data": {
      "application/vnd.jupyter.widget-view+json": {
       "model_id": "8ecb2f17c80c455d9ad0e62aa35a9d67",
       "version_major": 2,
       "version_minor": 0
      },
      "text/plain": [
       "HBox(children=(IntProgress(value=0, max=1000), HTML(value='')))"
      ]
     },
     "metadata": {},
     "output_type": "display_data"
    },
    {
     "name": "stdout",
     "output_type": "stream",
     "text": [
      "\n",
      "Sift score:  (195, 100.0)\n"
     ]
    },
    {
     "data": {
      "application/vnd.jupyter.widget-view+json": {
       "model_id": "f7041be9254c476a9818fa0d98e68427",
       "version_major": 2,
       "version_minor": 0
      },
      "text/plain": [
       "HBox(children=(IntProgress(value=0, max=1000), HTML(value='')))"
      ]
     },
     "metadata": {},
     "output_type": "display_data"
    },
    {
     "name": "stdout",
     "output_type": "stream",
     "text": [
      "\n",
      "Zernike score:  (195, 0.0)\n"
     ]
    },
    {
     "data": {
      "application/vnd.jupyter.widget-view+json": {
       "model_id": "a8a4f0f746d54567a918045ed35f99e0",
       "version_major": 2,
       "version_minor": 0
      },
      "text/plain": [
       "HBox(children=(IntProgress(value=0, max=9), HTML(value='')))"
      ]
     },
     "metadata": {},
     "output_type": "display_data"
    },
    {
     "name": "stdout",
     "output_type": "stream",
     "text": [
      "\n",
      "Contour score:  (195, 40.8)\n",
      "Final ranking:  14 (195, 40.8, 0.0, 100.0, 64, 51.2)\n"
     ]
    },
    {
     "data": {
      "application/vnd.jupyter.widget-view+json": {
       "model_id": "2d1bad06a049493ebcce914062c61eac",
       "version_major": 2,
       "version_minor": 0
      },
      "text/plain": [
       "HBox(children=(IntProgress(value=0, max=1000), HTML(value='')))"
      ]
     },
     "metadata": {},
     "output_type": "display_data"
    },
    {
     "name": "stdout",
     "output_type": "stream",
     "text": [
      "\n",
      "Orb score:  (196, 9)\n"
     ]
    },
    {
     "data": {
      "application/vnd.jupyter.widget-view+json": {
       "model_id": "0d896451f17044a9bc6f223febb4d143",
       "version_major": 2,
       "version_minor": 0
      },
      "text/plain": [
       "HBox(children=(IntProgress(value=0, max=1000), HTML(value='')))"
      ]
     },
     "metadata": {},
     "output_type": "display_data"
    },
    {
     "name": "stdout",
     "output_type": "stream",
     "text": [
      "\n",
      "Sift score:  (196, 41.7)\n"
     ]
    },
    {
     "data": {
      "application/vnd.jupyter.widget-view+json": {
       "model_id": "060ab51622714cfb85ef1cdc63037697",
       "version_major": 2,
       "version_minor": 0
      },
      "text/plain": [
       "HBox(children=(IntProgress(value=0, max=1000), HTML(value='')))"
      ]
     },
     "metadata": {},
     "output_type": "display_data"
    },
    {
     "name": "stdout",
     "output_type": "stream",
     "text": [
      "\n",
      "Zernike score:  (196, 0.0)\n"
     ]
    },
    {
     "data": {
      "application/vnd.jupyter.widget-view+json": {
       "model_id": "49cc359a3b644535a07d210bb481c0b8",
       "version_major": 2,
       "version_minor": 0
      },
      "text/plain": [
       "HBox(children=(IntProgress(value=0, max=9), HTML(value='')))"
      ]
     },
     "metadata": {},
     "output_type": "display_data"
    },
    {
     "name": "stdout",
     "output_type": "stream",
     "text": [
      "\n",
      "Contour score:  (196, 9.5)\n",
      "Final ranking:  758 (196, 9.5, 0.0, 41.7, 9, 15.1)\n"
     ]
    },
    {
     "data": {
      "application/vnd.jupyter.widget-view+json": {
       "model_id": "9c057cc4883841cca78297cea1612c46",
       "version_major": 2,
       "version_minor": 0
      },
      "text/plain": [
       "HBox(children=(IntProgress(value=0, max=1000), HTML(value='')))"
      ]
     },
     "metadata": {},
     "output_type": "display_data"
    },
    {
     "name": "stdout",
     "output_type": "stream",
     "text": [
      "\n",
      "Orb score:  (197, 83)\n"
     ]
    }
   ],
   "source": [
    "# #####################\n",
    "# # main loop \t#####\n",
    "# #####################\n",
    "\n",
    "# # load image  and apply random mutation \n",
    "# for m in range(100,200):\n",
    "# \timage_index = m\n",
    "# \tData = prep_img(images[image_index])\n",
    "# \tData, mutation = ab_two_line_circle( Data)\n",
    "\n",
    "# \t# define fractions along line segment to be used \n",
    "# \tfractions = [.1,.2,.3,.4,.5,.6,.7,.8,.9]\n",
    "\n",
    "# \t# create queries from the image \n",
    "# \tcontour_query, zernike_query = create_query( Data, fractions)\n",
    "\n",
    "# \t# obtain results from ORB  \n",
    "# \torb_list = run_orb_image(Data, hash_orb)\n",
    "# \tprint(\"Orb score: \",orb_list[image_index]) \n",
    "\n",
    "# \t# obtain results from SIFT  \n",
    "# \tsift_list = run_sift_image(Data, hash_sift)\n",
    "# \tprint(\"Sift score: \",sift_list[image_index]) \n",
    "\n",
    "# \t# obtain results from contour method and zernike method \n",
    "# \tzernike_list = test_zernike( zernike_query, hash_zernike )\t\n",
    "# \tprint(\"Zernike score: \",zernike_list[image_index])\n",
    "# \tcontour_list = test_contour( contour_query, 0.002, fractions, hash_contour )\n",
    "# \tprint(\"Contour score: \",contour_list[image_index])\n",
    "\n",
    "# \t# combine scores of each method and log the results, input the weights along with the results from each method  \n",
    "# \tweights = [.25,.25,.25,.25]\n",
    "# \tmatched_list_v2 = test_combined(weights, contour_list, zernike_list, sift_list, orb_list)\n",
    "\n",
    "# \t# create a log file of the results \n",
    "# \tlog_results ( image_index, mutation, matched_list_v2, contour_list, zernike_list, sift_list, orb_list )\n",
    "\n",
    "# \t# find the rank of the original image, just for checking purposes \t\n",
    "# \trank = 0\n",
    "# \tfor hit in matched_list_v2:\n",
    "# \t\trank += 1\n",
    "# \t\tif hit[0] == image_index:\n",
    "# \t\t\tprint(\"Final ranking: \",rank,hit)\n",
    "# \t\t\tbreak "
   ]
  },
  {
   "cell_type": "code",
   "execution_count": 21,
   "metadata": {
    "scrolled": true
   },
   "outputs": [
    {
     "data": {
      "image/png": "[encoded data removed]",
      "text/plain": [
       "<Figure size 2304x2304 with 12 Axes>"
      ]
     },
     "metadata": {
      "needs_background": "light"
     },
     "output_type": "display_data"
    }
   ],
   "source": [
    "# ## plot query image and top 11 hits, just for checking purposes  \n",
    "# plot_results(Data, matched_list_v2)"
   ]
  },
  {
   "cell_type": "code",
   "execution_count": 6,
   "metadata": {},
   "outputs": [
    {
     "data": {
      "application/vnd.jupyter.widget-view+json": {
       "model_id": "c21f12a5e6bc42718c0f106db8def399",
       "version_major": 2,
       "version_minor": 0
      },
      "text/plain": [
       "HBox(children=(IntProgress(value=0), HTML(value='')))"
      ]
     },
     "metadata": {},
     "output_type": "display_data"
    },
    {
     "name": "stdout",
     "output_type": "stream",
     "text": [
      "\n",
      "<bound method NDFrame.head of        contour_score zernike_score sift_score orb_score image success  \\\n",
      "0                1.0           1.0          0       1.0   100       0   \n",
      "1              0.651           0.0          0     1.149   100       1   \n",
      "2              0.641         0.991          0     1.095   100       0   \n",
      "3               0.39         0.992          0     1.095   100       0   \n",
      "4              0.541         0.651          0      0.77   100       0   \n",
      "...              ...           ...        ...       ...   ...     ...   \n",
      "399995         0.081             0        0.0     0.173   199       0   \n",
      "399996         0.408             0        0.0      0.01   199       0   \n",
      "399997         0.392             0        0.0       0.0   199       0   \n",
      "399998         0.379             0        0.0       0.0   199       0   \n",
      "399999         0.104             0        0.0     0.061   199       0   \n",
      "\n",
      "                mutation contour_orig sift_orig  \n",
      "0             ab_scale\\n         47.9       0.0  \n",
      "1             ab_scale\\n         31.2     100.0  \n",
      "2             ab_scale\\n         30.7       0.0  \n",
      "3             ab_scale\\n         18.7       0.0  \n",
      "4             ab_scale\\n         25.9      50.0  \n",
      "...                  ...          ...       ...  \n",
      "399995  ab_line_circle\\n          3.1       0.0  \n",
      "399996  ab_line_circle\\n         15.7       0.0  \n",
      "399997  ab_line_circle\\n         15.1       0.0  \n",
      "399998  ab_line_circle\\n         14.6       0.0  \n",
      "399999  ab_line_circle\\n          4.0       0.0  \n",
      "\n",
      "[400000 rows x 9 columns]>\n"
     ]
    }
   ],
   "source": [
    "# ## load scores from log files\n",
    "# success = []\n",
    "# contour_score = []\n",
    "# zernike_score = []\n",
    "# sift_score = []\n",
    "# orb_score = []\n",
    "# image = []\n",
    "# indices = []\n",
    "# mutation = []\n",
    "# contour_orig = []\n",
    "# sift_orig = []\n",
    "\n",
    "# # loop through image indices of existing queries \n",
    "# for fname in tqdm_notebook(os.listdir('.\\Logs')):\n",
    "# \tx1 = fname.find('_')+1\n",
    "# \tx2 = fname.find('.')\n",
    "# \ti = int(fname[x1:x2])\n",
    "# \tindices.append(i)\n",
    "\n",
    "# \tj = 0\n",
    "# \t#open log file of query\n",
    "# \twith open('C:/Users/kchad/Documents/LogoMatch/Logs/' + fname,\"r\") as myfile:\n",
    "# \t\tfor line in myfile:\n",
    "# \t\t\tj += 1\n",
    "# \t\t\tif j % 8 == 0:\n",
    "# \t\t\t\tfor k in range(0,result_len):\n",
    "# \t\t\t\t\tmutation.append(line[11:])\n",
    "# \t\t\tif j % 8 == 1:\n",
    "# \t\t\t\tresult_len = 0           \n",
    "# \t\t\t#  line has the results \n",
    "# \t\t\tif j % 8 == 7:\n",
    "# \t\t\t\tresult = eval(line[13:])\n",
    "# \t\t\t\tresult_len = len(result)\n",
    "# \t\t\t\tfirst_contour = result[0][1]\n",
    "# \t\t\t\tfirst_zernike = result[0][2]\n",
    "# \t\t\t\tfirst_sift = result[0][3]\n",
    "# \t\t\t\tfirst_orb = result[0][4]\n",
    "\t\t\t\t\n",
    "# \t\t\t\t# check if the given query result was the original image, 1 for correct, 0 for incorrect\n",
    "# \t\t\t\tfor elem in result:\n",
    "# \t\t\t\t\tif elem[0] == i:\n",
    "# \t\t\t\t\t\tsuccess.append(1)\n",
    "# \t\t\t\t\telse:\n",
    "# \t\t\t\t\t\tsuccess.append(0)\n",
    "\t\t\t\t\t\t\n",
    "# \t\t\t\t\t# normalize the contour/zernike scores\n",
    "# \t\t\t\t\tif first_contour > 0:                    \n",
    "# \t\t\t\t\t\tcontour_score.append( round(elem[1]/first_contour, 3) )\n",
    "# \t\t\t\t\telse:\n",
    "# \t\t\t\t\t\tcontour_score.append(0)    \n",
    "                        \n",
    "# \t\t\t\t\tif first_zernike > 0:                         \n",
    "# \t\t\t\t\t\tzernike_score.append( round(elem[2]/first_zernike, 3) )\n",
    "# \t\t\t\t\telse:\n",
    "# \t\t\t\t\t\tzernike_score.append(0)                        \n",
    "# \t\t\t\t\tif first_sift > 0:\n",
    "# \t\t\t\t\t\tsift_score.append( round(elem[3]/first_sift, 3) )\n",
    "# \t\t\t\t\telse:\n",
    "# \t\t\t\t\t\tsift_score.append(0)\n",
    "                        \n",
    "# \t\t\t\t\tif first_orb > 0:\n",
    "# \t\t\t\t\t\torb_score.append( round(elem[4]/first_orb, 3) )\n",
    "# \t\t\t\t\telse:\n",
    "# \t\t\t\t\t\torb_score.append(0)                        \n",
    "\n",
    "# \t\t\t\t\timage.append(i)\n",
    "# \t\t\t\t\tcontour_orig.append(elem[1])     \n",
    "# \t\t\t\t\tsift_orig.append(elem[3]) \n",
    "\n",
    "# ### save all the scores in a csv file\n",
    "\n",
    "# input_score = np.array(list(zip(contour_score,zernike_score,sift_score,orb_score,image,success,mutation,contour_orig,sift_orig)))\n",
    "# input_score = pd.DataFrame(input_score,columns = ['contour_score','zernike_score','sift_score','orb_score','image','success','mutation','contour_orig','sift_orig'])\n",
    "# print( input_score.head )\n",
    "# input_score.to_csv (r'input_scores.csv', index = None, header=True)"
   ]
  },
  {
   "cell_type": "code",
   "execution_count": 8,
   "metadata": {},
   "outputs": [
    {
     "name": "stdout",
     "output_type": "stream",
     "text": [
      "ab_line_circle\n",
      "Logistic Weights\n",
      "[ 0.39758687 -0.00080109  0.24339924  0.35981498]\n",
      "Training Accuracy\n",
      "(23.683333333333334, 23.1, 52, 54)\n",
      "Testing Accuracy\n",
      "(10.4625, 13.05, 35, 35)\n"
     ]
    }
   ],
   "source": [
    "# ###### logsitic regression for weights of 4 methods\n",
    "# numbers = [i for i in range(100,200)]\n",
    "\n",
    "# ### randomly create training and test set\n",
    "# random.shuffle(numbers)\n",
    "# training = numbers[0:60]\n",
    "# testing = numbers[60:100]\n",
    "\n",
    "# ### search for a particular mutation\n",
    "# mutation_string = 'ab_line_circle'\n",
    "# print(mutation_string)\n",
    "\n",
    "# ### set threshold for contour and sift, set accuracy cutoff (top 10 or top 20)\n",
    "# contour_thresh = 0\n",
    "# sift_thresh = 0\n",
    "# rank_cutoff = 20\n",
    "\n",
    "# ### create training set, filter for mutation name and thresholds \n",
    "# input_score_mutation = input_score[(input_score[\"mutation\"].str.find(mutation_string) > -1) & (input_score[\"image\"].astype(float).isin(training)) & ((input_score[\"contour_orig\"].astype(float) >= contour_thresh) & (input_score[\"sift_orig\"].astype(float) >= sift_thresh))]\n",
    "# input_score_mutation = input_score_mutation.values\n",
    "\n",
    "# ### create test data set, not used for training\n",
    "# input_score_test = input_score[(input_score[\"mutation\"].str.find(mutation_string) > -1) & (input_score[\"image\"].astype(float).isin(testing) ) & ((input_score[\"contour_orig\"].astype(float) >= contour_thresh) & (input_score[\"sift_orig\"].astype(float) >= sift_thresh))]\n",
    "# input_score_test = pd.DataFrame(input_score_test,columns = ['contour_score','zernike_score','sift_score','orb_score','image','success','mutation','contour_orig','sift_orig'])\n",
    "\n",
    "# ### run logistic regression on training data\n",
    "# clf = LogisticRegression(random_state = 0, solver = 'lbfgs', multi_class = 'multinomial').fit(input_score_mutation[:,(0,1,2,3)], input_score_mutation[:,5])\n",
    "# logistic_weights = clf.coef_[0]/sum(clf.coef_[0])\n",
    "# print('Logistic Weights')\n",
    "# print(logistic_weights)\n",
    "\n",
    "# ### use weights to calculate weighted score and rank on training set\n",
    "# input_score_mutation = pd.DataFrame(input_score_mutation,columns = ['contour_score','zernike_score','sift_score','orb_score','image','success','mutation','contour_orig','sift_orig'])\n",
    "\n",
    "# input_score_mutation[\"contour_score\"] = input_score_mutation[\"contour_score\"].astype(float)\n",
    "# input_score_mutation[\"zernike_score\"] = input_score_mutation[\"zernike_score\"].astype(float)\n",
    "# input_score_mutation[\"sift_score\"] = input_score_mutation[\"sift_score\"].astype(float)\n",
    "# input_score_mutation[\"orb_score\"] = input_score_mutation[\"orb_score\"].astype(float)\n",
    "\n",
    "# input_score_mutation[\"avg_score\"] = .25*input_score_mutation[\"contour_score\"] + .25*input_score_mutation[\"zernike_score\"] + .25*input_score_mutation[\"sift_score\"] + .25*input_score_mutation[\"orb_score\"]\n",
    "# input_score_mutation[\"weight_score\"] = logistic_weights[0]*input_score_mutation[\"contour_score\"] + logistic_weights[1]*input_score_mutation[\"zernike_score\"] + logistic_weights[2]*input_score_mutation[\"sift_score\"] + logistic_weights[3]*input_score_mutation[\"orb_score\"]\n",
    "# input_score_mutation['Avg_Rank'] = input_score_mutation.groupby(['image','mutation'])['avg_score'].rank(ascending=False)\t\n",
    "# input_score_mutation['Weight_Rank'] = input_score_mutation.groupby(['image','mutation'])['weight_score'].rank(ascending=False)\t\n",
    "\n",
    "# ### use weights to calculate weighted score and rank on test set\n",
    "# input_score_test[\"contour_score\"] = input_score_test[\"contour_score\"].astype(float)\n",
    "# input_score_test[\"zernike_score\"] = input_score_test[\"zernike_score\"].astype(float)\n",
    "# input_score_test[\"sift_score\"] = input_score_test[\"sift_score\"].astype(float)\n",
    "# input_score_test[\"orb_score\"] = input_score_test[\"orb_score\"].astype(float)\n",
    "\n",
    "# input_score_test[\"avg_score\"] = .25*input_score_test[\"contour_score\"] + .25*input_score_test[\"zernike_score\"] + .25*input_score_test[\"sift_score\"] + .25*input_score_test[\"orb_score\"]\n",
    "# input_score_test[\"weight_score\"] = logistic_weights[0]*input_score_test[\"contour_score\"] + logistic_weights[1]*input_score_test[\"zernike_score\"] + logistic_weights[2]*input_score_test[\"sift_score\"] + logistic_weights[3]*input_score_test[\"orb_score\"]\n",
    "# input_score_test['Avg_Rank'] = input_score_test.groupby(['image','mutation'])['avg_score'].rank(ascending=False)\t\n",
    "# input_score_test['Weight_Rank'] = input_score_test.groupby(['image','mutation'])['weight_score'].rank(ascending=False)\t\n",
    "\n",
    "# ### check the rank of the original image, see if image was within the top 10 or top 20 search results\n",
    "# successes = input_score_mutation[input_score_mutation[\"success\"].astype(float) == 1]\n",
    "\n",
    "# avg_rank = sum(successes['Avg_Rank'])/successes.shape[0]\n",
    "# weight_rank = sum(successes['Weight_Rank'])/successes.shape[0]\n",
    "# top10_avg_rank = len( successes[(successes['Avg_Rank'] <= rank_cutoff)] )\n",
    "# top10_weight_rank = len( successes[(successes['Weight_Rank'] <= rank_cutoff)] )\n",
    "\n",
    "# print('Training Accuracy')\n",
    "# print((top10_avg_rank,top10_weight_rank))\n",
    "\n",
    "# successes_t = input_score_test[input_score_test[\"success\"].astype(float) == 1]\n",
    "\n",
    "# avg_rank_t = sum(successes_t['Avg_Rank'])/successes_t.shape[0]\n",
    "# weight_rank_t = sum(successes_t['Weight_Rank'])/successes_t.shape[0]\n",
    "# top10_avg_rank_t = len( successes_t[(successes_t['Avg_Rank'] <= rank_cutoff)] )\n",
    "# top10_weight_rank_t = len( successes_t[(successes_t['Weight_Rank'] <= rank_cutoff)] )\n",
    "\n",
    "# print('Testing Accuracy')\n",
    "# print((top10_avg_rank_t,top10_weight_rank_t))\n",
    "\n",
    "# #input_score.to_csv(path_or_buf='./score_result_2.csv', sep=',',index = False)"
   ]
  },
  {
   "cell_type": "code",
   "execution_count": 41,
   "metadata": {},
   "outputs": [
    {
     "data": {
      "image/png": "[encoded data removed]",
      "text/plain": [
       "<Figure size 432x288 with 1 Axes>"
      ]
     },
     "metadata": {
      "needs_background": "light"
     },
     "output_type": "display_data"
    }
   ],
   "source": [
    "# ### display an image\n",
    "# image_index = 50\n",
    "# Data = gray(images[image_index])\n",
    "# Data, mutation = ab_random(Data, n = 9)\n",
    "\n",
    "# imgplot = plt.imshow(Data, cmap=plt.cm.gray)\n",
    "# plt.axis('off')\n",
    "# plt.show()"
   ]
  },
  {
   "cell_type": "code",
   "execution_count": null,
   "metadata": {},
   "outputs": [],
   "source": []
  }
 ],
 "metadata": {
  "kernelspec": {
   "display_name": "Python 3",
   "language": "python",
   "name": "python3"
  },
  "language_info": {
   "codemirror_mode": {
    "name": "ipython",
    "version": 3
   },
   "file_extension": ".py",
   "mimetype": "text/x-python",
   "name": "python",
   "nbconvert_exporter": "python",
   "pygments_lexer": "ipython3",
   "version": "3.7.4"
  }
 },
 "nbformat": 4,
 "nbformat_minor": 2
}
