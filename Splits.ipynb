{
 "cells": [
  {
   "cell_type": "code",
   "execution_count": 11,
   "id": "af79ff9e",
   "metadata": {},
   "outputs": [],
   "source": [
    "## first block of code is just importing the requirements of the project\n",
    "\n",
    "import sys \n",
    "import os\n",
    "import h5py\n",
    "import pickle\n",
    "from matplotlib import pyplot as plt\n",
    "\n",
    "from scipy import ndimage as ndi\n",
    "from scipy import stats as sstats\n",
    "\n",
    "import math\n",
    "import numpy as np\n",
    "import pandas as pd\n",
    "from sklearn.linear_model import LogisticRegression\n",
    "from random import shuffle\n",
    "from tqdm import tqdm, tnrange, tqdm_notebook\n",
    "import collections\n",
    "import random\n",
    "import mahotas \n",
    "from sklearn.preprocessing import normalize\n",
    "from PIL import Image\n",
    "import imutils\n",
    "import logging\n",
    "\n",
    "from glob import glob"
   ]
  },
  {
   "cell_type": "code",
   "execution_count": 12,
   "id": "0549d5b6",
   "metadata": {},
   "outputs": [
    {
     "ename": "SyntaxError",
     "evalue": "invalid syntax (methods_v2.py, line 194)",
     "output_type": "error",
     "traceback": [
      "Traceback \u001b[0;36m(most recent call last)\u001b[0m:\n",
      "  File \u001b[1;32m\"/usr/lib/python3.9/site-packages/IPython/core/interactiveshell.py\"\u001b[0m, line \u001b[1;32m3441\u001b[0m, in \u001b[1;35mrun_code\u001b[0m\n    exec(code_obj, self.user_global_ns, self.user_ns)\n",
      "\u001b[0;36m  File \u001b[0;32m\"<ipython-input-12-50ab834eca36>\"\u001b[0;36m, line \u001b[0;32m3\u001b[0;36m, in \u001b[0;35m<module>\u001b[0;36m\u001b[0m\n\u001b[0;31m    from methods_v2 import *\u001b[0m\n",
      "\u001b[0;36m  File \u001b[0;32m\"/home/ytolga/dev/Icon-Matching-Project/methods_v2.py\"\u001b[0;36m, line \u001b[0;32m194\u001b[0m\n\u001b[0;31m    for i in range(len(contours):\u001b[0m\n\u001b[0m                                ^\u001b[0m\n\u001b[0;31mSyntaxError\u001b[0m\u001b[0;31m:\u001b[0m invalid syntax\n"
     ]
    }
   ],
   "source": [
    "# this block of code is importing all the various parts of the project from their respective modules\n",
    "from icon_util_v2 import *\n",
    "from methods_v2 import *\n",
    "from aberrations import *"
   ]
  },
  {
   "cell_type": "code",
   "execution_count": null,
   "id": "4ba32b6d",
   "metadata": {},
   "outputs": [],
   "source": [
    "hdf5_file = h5py.File('LLD-icon.hdf5', 'r')\n",
    "images, _ = (hdf5_file['data'], hdf5_file['labels/resnet/rc_64'])\n",
    "# transpose the images because they're stored in a weird color channel first format, as indicated by shape[0] being 3\n",
    "images = [np.transpose(i) if i.shape[0] == 3 else i for i in images[:100]]\n",
    "print(len(images))"
   ]
  },
  {
   "cell_type": "code",
   "execution_count": 4,
   "id": "d7447f59",
   "metadata": {},
   "outputs": [],
   "source": [
    "image_set_name = \"icon100\"\n",
    "logdir = \"Logs202105142singlebest\"\n",
    "if not os.path.exists(\"Logs/\"+logdir):\n",
    "        os.mkdir(\"Logs/\"+logdir)\n",
    "method_classes = [zernike_method, orb_method, neural_method, small_neural_method]\n",
    "methods = [single_best_split_method(m) for m in method_classes] #+ [single_worst_split_method(m) for m in method_classes]# + [symmetric_best_split_method(m) for m in method_classes]# + [contour_method()]\n",
    "#method_classes = [zernike_method, orb_method, neural_method, small_neural_method]\n",
    "#methods=[m() for m in method_classes]"
   ]
  },
  {
   "cell_type": "code",
   "execution_count": 5,
   "id": "abedc3cc",
   "metadata": {},
   "outputs": [],
   "source": [
    "# run this to create databases, otherwise run the next cell to load prepared databases\n",
    "#create_databases(images,methods,image_set_name)"
   ]
  },
  {
   "cell_type": "code",
   "execution_count": 6,
   "id": "ffc08b15",
   "metadata": {},
   "outputs": [],
   "source": [
    "methods = instantiate_databases(methods, image_set_name)"
   ]
  },
  {
   "cell_type": "code",
   "execution_count": 7,
   "id": "cdd8f4b6",
   "metadata": {},
   "outputs": [
    {
     "name": "stdout",
     "output_type": "stream",
     "text": [
      "Chunk: 1\n",
      "0\n",
      "10\n",
      "20\n",
      "30\n",
      "40\n",
      "50\n",
      "60\n",
      "70\n",
      "80\n",
      "90\n",
      "0\n",
      "10\n",
      "20\n",
      "30\n",
      "40\n",
      "50\n",
      "60\n",
      "70\n",
      "80\n",
      "90\n",
      "0\n",
      "10\n",
      "20\n",
      "30\n",
      "40\n",
      "50\n",
      "60\n",
      "70\n",
      "80\n",
      "90\n",
      "0\n",
      "10\n",
      "20\n",
      "30\n",
      "40\n",
      "50\n",
      "60\n",
      "70\n",
      "80\n",
      "90\n",
      "0\n",
      "10\n",
      "20\n",
      "30\n",
      "40\n",
      "50\n",
      "60\n",
      "70\n",
      "80\n",
      "90\n",
      "0\n",
      "10\n",
      "20\n",
      "30\n",
      "40\n",
      "50\n",
      "60\n",
      "70\n",
      "80\n",
      "90\n",
      "0\n",
      "10\n",
      "20\n",
      "30\n",
      "40\n",
      "50\n",
      "60\n",
      "70\n",
      "80\n",
      "90\n",
      "0\n",
      "10\n",
      "20\n",
      "30\n",
      "40\n",
      "50\n",
      "60\n",
      "70\n",
      "80\n",
      "90\n",
      "0\n",
      "10\n",
      "20\n",
      "30\n",
      "40\n",
      "50\n",
      "60\n",
      "70\n",
      "80\n",
      "90\n",
      "0\n",
      "10\n",
      "20\n",
      "30\n",
      "40\n",
      "50\n",
      "60\n",
      "70\n",
      "80\n",
      "90\n",
      "0\n",
      "10\n",
      "20\n",
      "30\n",
      "40\n",
      "50\n",
      "60\n",
      "70\n",
      "80\n",
      "90\n",
      "Done\n"
     ]
    }
   ],
   "source": [
    "#####################\n",
    "# main loop \t#####\n",
    "#####################\n",
    "run_in_chunks2(methods, images, aberrations, chunk_size=100, weights=[],          \n",
    "    logdir=logdir)\n",
    "print(\"Done\")"
   ]
  },
  {
   "cell_type": "code",
   "execution_count": 8,
   "id": "1132120b",
   "metadata": {},
   "outputs": [
    {
     "name": "stdout",
     "output_type": "stream",
     "text": [
      "0\n",
      "50\n",
      "0\n",
      "50\n",
      "0\n",
      "50\n",
      "0\n",
      "50\n",
      "Chunk: 1\n",
      "0\n",
      "10\n",
      "20\n",
      "30\n",
      "40\n",
      "50\n",
      "60\n",
      "70\n",
      "80\n",
      "90\n",
      "0\n",
      "10\n",
      "20\n",
      "30\n",
      "40\n",
      "50\n",
      "60\n",
      "70\n",
      "80\n",
      "90\n",
      "0\n",
      "10\n",
      "20\n",
      "30\n",
      "40\n",
      "50\n",
      "60\n",
      "70\n",
      "80\n",
      "90\n",
      "0\n",
      "10\n",
      "20\n",
      "30\n",
      "40\n",
      "50\n",
      "60\n",
      "70\n",
      "80\n",
      "90\n",
      "0\n",
      "10\n",
      "20\n",
      "30\n",
      "40\n",
      "50\n",
      "60\n",
      "70\n",
      "80\n",
      "90\n",
      "0\n",
      "10\n",
      "20\n",
      "30\n",
      "40\n",
      "50\n",
      "60\n",
      "70\n",
      "80\n",
      "90\n",
      "0\n",
      "10\n",
      "20\n",
      "30\n",
      "40\n",
      "50\n",
      "60\n",
      "70\n",
      "80\n",
      "90\n",
      "0\n",
      "10\n",
      "20\n",
      "30\n",
      "40\n",
      "50\n",
      "60\n",
      "70\n",
      "80\n",
      "90\n",
      "0\n",
      "10\n",
      "20\n",
      "30\n",
      "40\n",
      "50\n",
      "60\n",
      "70\n",
      "80\n",
      "90\n",
      "0\n",
      "10\n",
      "20\n",
      "30\n",
      "40\n",
      "50\n",
      "60\n",
      "70\n",
      "80\n",
      "90\n",
      "0\n",
      "10\n",
      "20\n",
      "30\n",
      "40\n",
      "50\n",
      "60\n",
      "70\n",
      "80\n",
      "90\n",
      "Done\n"
     ]
    }
   ],
   "source": [
    "logdir = \"Logs202105142singleworst\"\n",
    "if not os.path.exists(\"Logs/\"+logdir):\n",
    "        os.mkdir(\"Logs/\"+logdir)\n",
    "method_classes = [zernike_method, orb_method, neural_method, small_neural_method]\n",
    "methods = [single_worst_split_method(m) for m in method_classes]# + [symmetric_best_split_method(m) for m in method_classes]# + [contour_method()]\n",
    "create_databases(images,methods,image_set_name)\n",
    "run_in_chunks2(methods, images, aberrations, chunk_size=100, weights=[],          \n",
    "    logdir=logdir)\n",
    "print(\"Done\")"
   ]
  },
  {
   "cell_type": "code",
   "execution_count": 7,
   "id": "78476a1f",
   "metadata": {},
   "outputs": [
    {
     "name": "stdout",
     "output_type": "stream",
     "text": [
      "0\n",
      "50\n",
      "0\n",
      "50\n",
      "0\n",
      "50\n",
      "0\n",
      "50\n",
      "Chunk: 1\n",
      "0\n",
      "10\n",
      "20\n",
      "30\n",
      "40\n",
      "50\n",
      "60\n",
      "70\n",
      "80\n",
      "90\n",
      "0\n",
      "10\n",
      "20\n",
      "30\n",
      "40\n",
      "50\n",
      "60\n",
      "70\n",
      "80\n",
      "90\n",
      "0\n",
      "10\n",
      "20\n",
      "30\n",
      "40\n",
      "50\n",
      "60\n",
      "70\n",
      "80\n",
      "90\n",
      "0\n",
      "10\n",
      "20\n",
      "30\n",
      "40\n",
      "50\n",
      "60\n",
      "70\n",
      "80\n",
      "90\n",
      "0\n",
      "10\n",
      "20\n",
      "30\n",
      "40\n",
      "50\n",
      "60\n",
      "70\n",
      "80\n",
      "90\n",
      "0\n",
      "10\n",
      "20\n",
      "30\n",
      "40\n",
      "50\n",
      "60\n",
      "70\n",
      "80\n",
      "90\n",
      "0\n",
      "10\n",
      "20\n",
      "30\n",
      "40\n",
      "50\n",
      "60\n",
      "70\n",
      "80\n",
      "90\n",
      "0\n",
      "10\n",
      "20\n",
      "30\n",
      "40\n",
      "50\n",
      "60\n",
      "70\n",
      "80\n",
      "90\n",
      "0\n",
      "10\n",
      "20\n",
      "30\n",
      "40\n",
      "50\n",
      "60\n",
      "70\n",
      "80\n",
      "90\n",
      "0\n",
      "10\n",
      "20\n",
      "30\n",
      "40\n",
      "50\n",
      "60\n",
      "70\n",
      "80\n",
      "90\n",
      "0\n",
      "10\n",
      "20\n",
      "30\n",
      "40\n",
      "50\n",
      "60\n",
      "70\n",
      "80\n",
      "90\n",
      "Done\n"
     ]
    }
   ],
   "source": [
    "logdir = \"Logs202105142symmetricbest\"\n",
    "if not os.path.exists(\"Logs/\"+logdir):\n",
    "        os.mkdir(\"Logs/\"+logdir)\n",
    "method_classes = [zernike_method, orb_method, neural_method, small_neural_method]\n",
    "methods = [symmetric_best_split_method(m) for m in method_classes]# + [contour_method()]\n",
    "create_databases(images,methods,image_set_name)\n",
    "methods = instantiate_databases(methods, image_set_name)\n",
    "run_in_chunks2(methods, images, aberrations, chunk_size=100, weights=[],          \n",
    "    logdir=logdir)\n",
    "print(\"Done\")"
   ]
  },
  {
   "cell_type": "code",
   "execution_count": 3,
   "id": "78ed8b95",
   "metadata": {},
   "outputs": [
    {
     "name": "stdout",
     "output_type": "stream",
     "text": [
      "['Logs/Logs20210625_first/results_5.csv', 'Logs/Logs20210625_first/results_3.csv', 'Logs/Logs20210625_first/results_10.csv', 'Logs/Logs20210625_first/results_6.csv', 'Logs/Logs20210625_first/results_7.csv', 'Logs/Logs20210625_first/results_2.csv', 'Logs/Logs20210625_first/results_1.csv', 'Logs/Logs20210625_first/results_8.csv', 'Logs/Logs20210625_first/results_9.csv', 'Logs/Logs20210625_first/results_11.csv', 'Logs/Logs20210625_first/results_4.csv']\n",
      "              aberration                method      score  rank      time\n",
      "0    ab_translate_border       Split_0_Zernike  96.038516    18  1.011422\n",
      "1    ab_translate_border           Split_0_Orb  88.000000     6  1.216863\n",
      "2    ab_translate_border        Split_0_Neural  94.469279    35  0.731625\n",
      "3    ab_translate_border  Split_0_Small_Neural  83.779817    86  0.626157\n",
      "4    ab_translate_border       combined_method  94.745640     2  0.000245\n",
      "..                   ...                   ...        ...   ...       ...\n",
      "595     ab_rotate_border           Split_0_Orb  79.000000    25  1.351964\n",
      "596     ab_rotate_border        Split_0_Neural  94.146745     8  0.732608\n",
      "597     ab_rotate_border  Split_0_Small_Neural  95.655634     2  0.644106\n",
      "598     ab_rotate_border       combined_method  92.435810    41  0.000258\n",
      "599     ab_rotate_border     uwcombined_method  92.435810    41  0.000245\n",
      "\n",
      "[6600 rows x 5 columns]\n"
     ]
    }
   ],
   "source": [
    "logdir = \"Logs20210625_first\"\n",
    "# Load all the logs into a single dataframe for processing\n",
    "log_files = glob(\"Logs/\"+logdir+\"/*\") # these are the logs that we're loading\n",
    "print(log_files)\n",
    "joined_logs = pd.concat([pd.read_csv(i) for i in log_files])\n",
    "print(joined_logs)"
   ]
  },
  {
   "cell_type": "code",
   "execution_count": 7,
   "id": "a50c9261",
   "metadata": {},
   "outputs": [
    {
     "name": "stdout",
     "output_type": "stream",
     "text": [
      "Ranking\n"
     ]
    },
    {
     "data": {
      "text/plain": [
       "Text(0.5, 1.0, 'Small Neural')"
      ]
     },
     "execution_count": 7,
     "metadata": {},
     "output_type": "execute_result"
    },
    {
     "data": {
      "image/png": "[encoded data removed]",
      "text/plain": [
       "<Figure size 720x720 with 4 Axes>"
      ]
     },
     "metadata": {
      "needs_background": "light"
     },
     "output_type": "display_data"
    }
   ],
   "source": [
    "print(\"Ranking\")\n",
    "mpref=\"\"\n",
    "fig, axes = plt.subplots(nrows=2, ncols=2)\n",
    "joined_logs[joined_logs['method']==mpref+'Split_0_Zernike']['rank'].hist(bins=20, figsize=(10,10), ax=axes[0,0])\n",
    "axes[0,0].set_title('Zernike')\n",
    "joined_logs[joined_logs['method']==mpref+'Split_0_Orb']['rank'].hist(bins=20, figsize=(10,10), ax=axes[1,0])\n",
    "axes[1,0].set_title('Orb')\n",
    "joined_logs[joined_logs['method']==mpref+'Split_0_Neural']['rank'].hist(bins=20, figsize=(10,10), ax=axes[1,1])\n",
    "axes[1,1].set_title('Neural')\n",
    "#joined_logs[joined_logs['method']=='euclidean_neural_method']['rank'].hist(bins=20, figsize=(10,10), ax=axes[2,1])\n",
    "#axes[2,1].set_title('Your Ad Here')\n",
    "joined_logs[joined_logs['method']==mpref+'Split_0_Small_Neural']['rank'].hist(bins=20, figsize=(10,10), ax=axes[0,1])\n",
    "axes[0,1].set_title('Small Neural')\n",
    "#joined_logs[joined_logs['method']=='trained_neural_method']['rank'].hist(bins=20, figsize=(10,10), ax=axes[3,1])\n",
    "#axes[3,1].set_title('Trained Neural')"
   ]
  },
  {
   "cell_type": "code",
   "execution_count": null,
   "id": "98a0d08e",
   "metadata": {},
   "outputs": [],
   "source": [
    "# Load all the logs into a single dataframe for processing\n",
    "logdir = \"Logs202105082\"\n",
    "log_files = glob(\"Logs/\"+logdir+\"/*\") # these are the logs that we're loading\n",
    "print(log_files)\n",
    "joined_logs = pd.concat([pd.read_csv(i) for i in log_files])\n",
    "print(joined_logs)"
   ]
  },
  {
   "cell_type": "code",
   "execution_count": 20,
   "id": "05660730",
   "metadata": {},
   "outputs": [],
   "source": [
    "joined_logs=joined_logs[joined_logs[\"aberration\"]==\"ab_draw\"]"
   ]
  },
  {
   "cell_type": "code",
   "execution_count": null,
   "id": "cb54a247",
   "metadata": {},
   "outputs": [],
   "source": [
    "print(\"Ranking\")\n",
    "fig, axes = plt.subplots(nrows=2, ncols=2)\n",
    "joined_logs[joined_logs['method']=='Zernike']['rank'].hist(bins=20, figsize=(10,10), ax=axes[0,0])\n",
    "axes[0,0].set_title('Zernike')\n",
    "joined_logs[joined_logs['method']=='Orb']['rank'].hist(bins=20, figsize=(10,10), ax=axes[1,0])\n",
    "axes[1,0].set_title('Orb')\n",
    "joined_logs[joined_logs['method']=='Neural']['rank'].hist(bins=20, figsize=(10,10), ax=axes[1,1])\n",
    "axes[1,1].set_title('Neural')\n",
    "joined_logs[joined_logs['method']=='Small_Neural']['rank'].hist(bins=20, figsize=(10,10), ax=axes[0,1])\n",
    "axes[0,1].set_title('Small Neural')\n"
   ]
  },
  {
   "cell_type": "code",
   "execution_count": 32,
   "id": "440a8279",
   "metadata": {},
   "outputs": [
    {
     "data": {
      "text/plain": [
       "<matplotlib.image.AxesImage at 0x10b81a6b608>"
      ]
     },
     "execution_count": 32,
     "metadata": {},
     "output_type": "execute_result"
    },
    {
     "data": {
      "image/png": "[encoded data removed]",
      "text/plain": [
       "<Figure size 432x288 with 1 Axes>"
      ]
     },
     "metadata": {
      "needs_background": "light"
     },
     "output_type": "display_data"
    }
   ],
   "source": [
    "tokyo=cv2.cvtColor(cv2.imread('tokyo2.png'), cv2.COLOR_BGR2RGB)\n",
    "tdl=cv2.cvtColor(cv2.imread('tdl2.png'), cv2.COLOR_BGR2RGB)\n",
    "plt.imshow(tdl)"
   ]
  },
  {
   "cell_type": "code",
   "execution_count": 5,
   "id": "5c9c5ca7",
   "metadata": {},
   "outputs": [],
   "source": [
    "method = symmetric_best_split_method(neural_method)"
   ]
  },
  {
   "cell_type": "code",
   "execution_count": 6,
   "id": "9685f0df",
   "metadata": {},
   "outputs": [],
   "source": [
    "m=split_method(neural_method)"
   ]
  },
  {
   "cell_type": "code",
   "execution_count": 24,
   "id": "fa458b50",
   "metadata": {},
   "outputs": [],
   "source": [
    "splits=m.split_image(tdl)"
   ]
  },
  {
   "cell_type": "code",
   "execution_count": 25,
   "id": "e8d7883b",
   "metadata": {},
   "outputs": [
    {
     "data": {
      "text/plain": [
       "<matplotlib.image.AxesImage at 0x10b81858488>"
      ]
     },
     "execution_count": 25,
     "metadata": {},
     "output_type": "execute_result"
    },
    {
     "data": {
      "image/png": "[encoded data removed]",
      "text/plain": [
       "<Figure size 432x288 with 1 Axes>"
      ]
     },
     "metadata": {
      "needs_background": "light"
     },
     "output_type": "display_data"
    }
   ],
   "source": [
    "plt.imshow(splits[0])"
   ]
  },
  {
   "cell_type": "code",
   "execution_count": 26,
   "id": "cbd5ec26",
   "metadata": {},
   "outputs": [
    {
     "data": {
      "text/plain": [
       "<matplotlib.image.AxesImage at 0x10b818c35c8>"
      ]
     },
     "execution_count": 26,
     "metadata": {},
     "output_type": "execute_result"
    },
    {
     "data": {
      "image/png": "[encoded data removed]",
      "text/plain": [
       "<Figure size 432x288 with 1 Axes>"
      ]
     },
     "metadata": {
      "needs_background": "light"
     },
     "output_type": "display_data"
    }
   ],
   "source": [
    "plt.imshow(splits[1])"
   ]
  },
  {
   "cell_type": "code",
   "execution_count": 27,
   "id": "b038827d",
   "metadata": {},
   "outputs": [
    {
     "data": {
      "text/plain": [
       "<matplotlib.image.AxesImage at 0x10b8192f508>"
      ]
     },
     "execution_count": 27,
     "metadata": {},
     "output_type": "execute_result"
    },
    {
     "data": {
      "image/png": "[encoded data removed]",
      "text/plain": [
       "<Figure size 432x288 with 1 Axes>"
      ]
     },
     "metadata": {
      "needs_background": "light"
     },
     "output_type": "display_data"
    }
   ],
   "source": [
    "plt.imshow(splits[2])"
   ]
  },
  {
   "cell_type": "code",
   "execution_count": 28,
   "id": "0a5e09d8",
   "metadata": {},
   "outputs": [
    {
     "data": {
      "text/plain": [
       "<matplotlib.image.AxesImage at 0x10b819972c8>"
      ]
     },
     "execution_count": 28,
     "metadata": {},
     "output_type": "execute_result"
    },
    {
     "data": {
      "image/png": "[encoded data removed]",
      "text/plain": [
       "<Figure size 432x288 with 1 Axes>"
      ]
     },
     "metadata": {
      "needs_background": "light"
     },
     "output_type": "display_data"
    }
   ],
   "source": [
    "plt.imshow(splits[3])"
   ]
  },
  {
   "cell_type": "code",
   "execution_count": 29,
   "id": "201446e2",
   "metadata": {},
   "outputs": [
    {
     "data": {
      "text/plain": [
       "<matplotlib.image.AxesImage at 0x10b81a04148>"
      ]
     },
     "execution_count": 29,
     "metadata": {},
     "output_type": "execute_result"
    },
    {
     "data": {
      "image/png": "[encoded data removed]",
      "text/plain": [
       "<Figure size 432x288 with 1 Axes>"
      ]
     },
     "metadata": {
      "needs_background": "light"
     },
     "output_type": "display_data"
    }
   ],
   "source": [
    "plt.imshow(splits[4])"
   ]
  },
  {
   "cell_type": "code",
   "execution_count": 30,
   "id": "8a1a4f5b",
   "metadata": {},
   "outputs": [
    {
     "ename": "IndexError",
     "evalue": "list index out of range",
     "output_type": "error",
     "traceback": [
      "\u001b[1;31m---------------------------------------------------------------------------\u001b[0m",
      "\u001b[1;31mIndexError\u001b[0m                                Traceback (most recent call last)",
      "\u001b[1;32m<ipython-input-30-82bc2ef69552>\u001b[0m in \u001b[0;36m<module>\u001b[1;34m\u001b[0m\n\u001b[1;32m----> 1\u001b[1;33m \u001b[0mplt\u001b[0m\u001b[1;33m.\u001b[0m\u001b[0mimshow\u001b[0m\u001b[1;33m(\u001b[0m\u001b[0msplits\u001b[0m\u001b[1;33m[\u001b[0m\u001b[1;36m5\u001b[0m\u001b[1;33m]\u001b[0m\u001b[1;33m)\u001b[0m\u001b[1;33m\u001b[0m\u001b[1;33m\u001b[0m\u001b[0m\n\u001b[0m",
      "\u001b[1;31mIndexError\u001b[0m: list index out of range"
     ]
    }
   ],
   "source": [
    "plt.imshow(splits[5])"
   ]
  },
  {
   "cell_type": "code",
   "execution_count": 18,
   "id": "8c1ea724",
   "metadata": {},
   "outputs": [],
   "source": [
    "a=np.array([1,2,3,4,5])"
   ]
  },
  {
   "cell_type": "code",
   "execution_count": 19,
   "id": "af2dc440",
   "metadata": {},
   "outputs": [
    {
     "data": {
      "text/plain": [
       "5"
      ]
     },
     "execution_count": 19,
     "metadata": {},
     "output_type": "execute_result"
    }
   ],
   "source": [
    "max(a)"
   ]
  },
  {
   "cell_type": "code",
   "execution_count": 20,
   "id": "bd13251a",
   "metadata": {},
   "outputs": [],
   "source": [
    "import scipy"
   ]
  },
  {
   "cell_type": "code",
   "execution_count": 21,
   "id": "829e0cbf",
   "metadata": {},
   "outputs": [
    {
     "data": {
      "text/plain": [
       "array([[0.00235563, 0.00235563, 0.00235563],\n",
       "       [0.04731416, 0.04731416, 0.04731416],\n",
       "       [0.95033021, 0.95033021, 0.95033021]])"
      ]
     },
     "execution_count": 21,
     "metadata": {},
     "output_type": "execute_result"
    }
   ],
   "source": [
    "scipy.special.softmax([[1,2,3],[4,5,6],[7,8,9]], axis=0)"
   ]
  },
  {
   "cell_type": "code",
   "execution_count": 22,
   "id": "89c53f58",
   "metadata": {},
   "outputs": [
    {
     "name": "stdout",
     "output_type": "stream",
     "text": [
      "ayo\n"
     ]
    }
   ],
   "source": [
    "a=0\n",
    "b=0\n",
    "if a==0 or b==0:\n",
    "    print(\"ayo\")\n",
    "else:\n",
    "    print(\"bayo\")"
   ]
  },
  {
   "cell_type": "code",
   "execution_count": 13,
   "id": "9790e17b",
   "metadata": {},
   "outputs": [
    {
     "ename": "NameError",
     "evalue": "name 'imgs' is not defined",
     "output_type": "error",
     "traceback": [
      "\u001b[1;31m---------------------------------------------------------------------------\u001b[0m",
      "\u001b[1;31mNameError\u001b[0m                                 Traceback (most recent call last)",
      "\u001b[1;32m<ipython-input-13-c333e35204bc>\u001b[0m in \u001b[0;36m<module>\u001b[1;34m\u001b[0m\n\u001b[0;32m      2\u001b[0m \u001b[1;31m#print(imgs)\u001b[0m\u001b[1;33m\u001b[0m\u001b[1;33m\u001b[0m\u001b[1;33m\u001b[0m\u001b[0m\n\u001b[0;32m      3\u001b[0m \u001b[1;31m# pick the image which is the smallest, and resize the others to match it (can be arbitrary image shape here)\u001b[0m\u001b[1;33m\u001b[0m\u001b[1;33m\u001b[0m\u001b[1;33m\u001b[0m\u001b[0m\n\u001b[1;32m----> 4\u001b[1;33m \u001b[0mimgs_comb\u001b[0m \u001b[1;33m=\u001b[0m \u001b[0mnp\u001b[0m\u001b[1;33m.\u001b[0m\u001b[0mhstack\u001b[0m\u001b[1;33m(\u001b[0m \u001b[0mimgs\u001b[0m \u001b[1;33m)\u001b[0m\u001b[1;33m\u001b[0m\u001b[1;33m\u001b[0m\u001b[0m\n\u001b[0m\u001b[0;32m      5\u001b[0m \u001b[0mplt\u001b[0m\u001b[1;33m.\u001b[0m\u001b[0mimshow\u001b[0m\u001b[1;33m(\u001b[0m\u001b[0mimgs_comb\u001b[0m\u001b[1;33m)\u001b[0m\u001b[1;33m\u001b[0m\u001b[1;33m\u001b[0m\u001b[0m\n",
      "\u001b[1;31mNameError\u001b[0m: name 'imgs' is not defined"
     ]
    }
   ],
   "source": [
    "dimgs =  m.split_image(tokyo)\n",
    "#print(imgs)\n",
    "# pick the image which is the smallest, and resize the others to match it (can be arbitrary image shape here)\n",
    "imgs_comb = np.hstack( imgs )\n",
    "plt.imshow(imgs_comb)"
   ]
  },
  {
   "cell_type": "code",
   "execution_count": 15,
   "id": "a39b84e5",
   "metadata": {},
   "outputs": [],
   "source": [
    "im1=images[3]"
   ]
  },
  {
   "cell_type": "code",
   "execution_count": 16,
   "id": "53e3b166",
   "metadata": {},
   "outputs": [
    {
     "data": {
      "text/plain": [
       "<matplotlib.image.AxesImage at 0x1ffc122f9c8>"
      ]
     },
     "execution_count": 16,
     "metadata": {},
     "output_type": "execute_result"
    },
    {
     "data": {
      "image/png": "[encoded data removed]",
      "text/plain": [
       "<Figure size 432x288 with 1 Axes>"
      ]
     },
     "metadata": {
      "needs_background": "light"
     },
     "output_type": "display_data"
    }
   ],
   "source": [
    "plt.imshow(im1)"
   ]
  },
  {
   "cell_type": "code",
   "execution_count": 20,
   "id": "e5f6ed84",
   "metadata": {},
   "outputs": [
    {
     "data": {
      "text/plain": [
       "<matplotlib.image.AxesImage at 0x1ffc13bbf88>"
      ]
     },
     "execution_count": 20,
     "metadata": {},
     "output_type": "execute_result"
    },
    {
     "data": {
      "image/png": "[encoded data removed]",
      "text/plain": [
       "<Figure size 432x288 with 1 Axes>"
      ]
     },
     "metadata": {
      "needs_background": "light"
     },
     "output_type": "display_data"
    }
   ],
   "source": [
    "plt.imshow(np.hstack(m.split_image(im1)))"
   ]
  },
  {
   "cell_type": "code",
   "execution_count": 93,
   "id": "b25bc276",
   "metadata": {},
   "outputs": [
    {
     "data": {
      "text/plain": [
       "<matplotlib.image.AxesImage at 0x1688d31e8c8>"
      ]
     },
     "execution_count": 93,
     "metadata": {},
     "output_type": "execute_result"
    },
    {
     "data": {
      "image/png": "[encoded data removed]",
      "text/plain": [
       "<Figure size 432x288 with 1 Axes>"
      ]
     },
     "metadata": {
      "needs_background": "light"
     },
     "output_type": "display_data"
    }
   ],
   "source": [
    "im2 = images[17]\n",
    "plt.imshow(im2)"
   ]
  },
  {
   "cell_type": "code",
   "execution_count": 95,
   "id": "29def799",
   "metadata": {},
   "outputs": [
    {
     "data": {
      "text/plain": [
       "<matplotlib.image.AxesImage at 0x1688d38d688>"
      ]
     },
     "execution_count": 95,
     "metadata": {},
     "output_type": "execute_result"
    },
    {
     "data": {
      "image/png": "[encoded data removed]",
      "text/plain": [
       "<Figure size 432x288 with 1 Axes>"
      ]
     },
     "metadata": {
      "needs_background": "light"
     },
     "output_type": "display_data"
    }
   ],
   "source": [
    "plt.imshow(np.hstack(m.split_image(im2)))"
   ]
  },
  {
   "cell_type": "code",
   "execution_count": 96,
   "id": "7435b44e",
   "metadata": {},
   "outputs": [
    {
     "data": {
      "text/plain": [
       "array([[77.69872248, 75.96357763, 77.44553685, 76.23385787, 76.54316127,\n",
       "        81.83794022, 81.82625473, 82.72468448, 83.13207626],\n",
       "       [86.56463623, 87.45976686, 85.41746736, 87.34719753, 88.22972178,\n",
       "        79.1928798 , 79.5485884 , 85.61809957, 85.05166769],\n",
       "       [88.19669485, 89.025563  , 87.05839813, 89.23489451, 90.16206264,\n",
       "        79.28025723, 79.6664685 , 86.18196249, 85.91632247]])"
      ]
     },
     "execution_count": 96,
     "metadata": {},
     "output_type": "execute_result"
    }
   ],
   "source": [
    "np.array(m.comparison_matrix(m.create_query(im1),m.create_query(im2)))"
   ]
  },
  {
   "cell_type": "code",
   "execution_count": 83,
   "id": "6553eb93",
   "metadata": {},
   "outputs": [
    {
     "data": {
      "text/plain": [
       "<matplotlib.image.AxesImage at 0x1688beda608>"
      ]
     },
     "execution_count": 83,
     "metadata": {},
     "output_type": "execute_result"
    },
    {
     "data": {
      "image/png": "[encoded data removed]",
      "text/plain": [
       "<Figure size 432x288 with 1 Axes>"
      ]
     },
     "metadata": {
      "needs_background": "light"
     },
     "output_type": "display_data"
    }
   ],
   "source": [
    "plt.imshow(np.hstack(m.split_image(tdl)))"
   ]
  },
  {
   "cell_type": "code",
   "execution_count": 76,
   "id": "50da9d88",
   "metadata": {},
   "outputs": [],
   "source": [
    "mimg=aberrations[4](im1)"
   ]
  },
  {
   "cell_type": "code",
   "execution_count": 78,
   "id": "9bc7997e",
   "metadata": {},
   "outputs": [
    {
     "data": {
      "text/plain": [
       "array([[80.85224032, 79.40508127, 79.77683544, 78.35568488, 97.48887122],\n",
       "       [87.15781569, 89.01494443, 93.09089482, 89.19131756, 84.77033973],\n",
       "       [88.437289  , 90.40496051, 91.91595912, 91.36772454, 84.61306691]])"
      ]
     },
     "execution_count": 78,
     "metadata": {},
     "output_type": "execute_result"
    }
   ],
   "source": [
    "np.array(m.comparison_matrix(m.create_query(im1),m.create_query(mimg)))"
   ]
  },
  {
   "cell_type": "code",
   "execution_count": 10,
   "id": "e72911a5",
   "metadata": {},
   "outputs": [
    {
     "data": {
      "text/plain": [
       "array(['Split_0_Zernike', 'Split_0_Orb', 'Split_0_Neural',\n",
       "       'Split_0_Small_Neural', 'combined_method', 'uwcombined_method'],\n",
       "      dtype=object)"
      ]
     },
     "execution_count": 10,
     "metadata": {},
     "output_type": "execute_result"
    }
   ],
   "source": [
    "joined_logs[\"method\"].unique()"
   ]
  },
  {
   "cell_type": "code",
   "execution_count": null,
   "id": "5c50cc2a",
   "metadata": {},
   "outputs": [],
   "source": []
  }
 ],
 "metadata": {
  "kernelspec": {
   "display_name": "Python 3",
   "language": "python",
   "name": "python3"
  },
  "language_info": {
   "codemirror_mode": {
    "name": "ipython",
    "version": 3
   },
   "file_extension": ".py",
   "mimetype": "text/x-python",
   "name": "python",
   "nbconvert_exporter": "python",
   "pygments_lexer": "ipython3",
   "version": "3.9.5"
  }
 },
 "nbformat": 4,
 "nbformat_minor": 5
}
