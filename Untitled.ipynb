{
 "cells": [
  {
   "cell_type": "code",
   "execution_count": 8,
   "id": "6e54fb0e",
   "metadata": {},
   "outputs": [],
   "source": [
    "from methods_v2 import *\n",
    "from icon_util_v2 import *\n",
    "from aberrations import *\n",
    "import h5py\n",
    "import matplotlib.pyplot as plt"
   ]
  },
  {
   "cell_type": "code",
   "execution_count": 29,
   "id": "75d1beb9",
   "metadata": {},
   "outputs": [
    {
     "name": "stdout",
     "output_type": "stream",
     "text": [
      "100\n",
      "Loading Completed\n"
     ]
    }
   ],
   "source": [
    "image_set_name = \"icon1k\"\n",
    "logdir = \"Logs20210918\"\n",
    "\n",
    "hdf5_file = h5py.File('LLD-icon.hdf5', 'r')\n",
    "images, _ = (hdf5_file['data'], hdf5_file['labels/resnet/rc_64'])\n",
    "\n",
    "# transpose the images because they're stored in a weird color channel first format, as indicated by shape[0] being 3\n",
    "images = [np.transpose(i,(1,2,0)) if i.shape[0] == 3 else i for i in images[:100]]\n",
    "print(len(images))\n",
    "\n",
    "method_classes = [neural_method(), small_neural_method()]\n",
    "method_classes = {m.name(): m for m in method_classes}\n",
    "#method_classes = [pca_method]\n",
    "\n",
    "# uncomment this if you want to generate the databases\n",
    "#generate_databases(images, method_classes, image_set_name)\n",
    "#methods = load_databases(method_classes, image_set_name)\n",
    "#methods = [pca_method()]\n",
    "#methods[0].generate_database(images)\n",
    "print(\"Loading Completed\")"
   ]
  },
  {
   "cell_type": "code",
   "execution_count": 37,
   "id": "81517d0e",
   "metadata": {},
   "outputs": [],
   "source": [
    "class copycheck(method_base):\n",
    "    def __init__(self):\n",
    "        self.method=small_neural_method()\n",
    "    def name(self):\n",
    "        return \"CC\"\n",
    "    def create_query(self, img):\n",
    "        imq = self.method.create_query(img)\n",
    "        splits = split_image(img)\n",
    "        mods = []\n",
    "        for ab in aberrations:\n",
    "            mods += [ab(img)]\n",
    "            for s in splits:\n",
    "                try:\n",
    "                    mods += [ab(s)]\n",
    "                except:\n",
    "                    continue\n",
    "        m2=[]\n",
    "        for m in mods:\n",
    "            try:\n",
    "                m2 += [self.method.create_query(m)]\n",
    "            except:\n",
    "                continue\n",
    "        scores = {i:self.method.compare_queries(imq, m2[i]) for i in range(len(m2))}\n",
    "        bestparts=[]\n",
    "        return avg\n",
    "        \n",
    "        "
   ]
  },
  {
   "cell_type": "code",
   "execution_count": 38,
   "id": "b1e44f6a",
   "metadata": {},
   "outputs": [],
   "source": [
    "cc=copycheck()"
   ]
  },
  {
   "cell_type": "code",
   "execution_count": 39,
   "id": "0b60eaa0",
   "metadata": {},
   "outputs": [
    {
     "data": {
      "text/plain": [
       "39.44448345879409"
      ]
     },
     "execution_count": 39,
     "metadata": {},
     "output_type": "execute_result"
    }
   ],
   "source": [
    "cc.create_query(images[0])"
   ]
  },
  {
   "cell_type": "code",
   "execution_count": 17,
   "id": "8f0357f0",
   "metadata": {},
   "outputs": [],
   "source": [
    "def shard_image(img, splitters, abers):\n",
    "    splits = [img]\n",
    "    for s in splitters:\n",
    "        splits += s(img)\n",
    "    mods = []\n",
    "    for ab in abers:\n",
    "        for s in splits:\n",
    "            mods += [ab(s)]\n",
    "    return mods"
   ]
  },
  {
   "cell_type": "code",
   "execution_count": 18,
   "id": "12341099",
   "metadata": {},
   "outputs": [],
   "source": [
    "splits=shard_image(images[0], [lambda x: split_image(x)], aberrations)"
   ]
  },
  {
   "cell_type": "code",
   "execution_count": 19,
   "id": "96796176",
   "metadata": {},
   "outputs": [
    {
     "data": {
      "text/plain": [
       "<matplotlib.image.AxesImage at 0x1fdc68de3c8>"
      ]
     },
     "execution_count": 19,
     "metadata": {},
     "output_type": "execute_result"
    },
    {
     "data": {
      "image/png": "[encoded data removed]",
      "text/plain": [
       "<Figure size 432x288 with 1 Axes>"
      ]
     },
     "metadata": {
      "needs_background": "light"
     },
     "output_type": "display_data"
    }
   ],
   "source": [
    "plt.imshow(splits[0])"
   ]
  },
  {
   "cell_type": "code",
   "execution_count": 13,
   "id": "f6b906ec",
   "metadata": {},
   "outputs": [
    {
     "data": {
      "text/plain": [
       "<matplotlib.image.AxesImage at 0x1fdc678d488>"
      ]
     },
     "execution_count": 13,
     "metadata": {},
     "output_type": "execute_result"
    },
    {
     "data": {
      "image/png": "[encoded data removed]",
      "text/plain": [
       "<Figure size 432x288 with 1 Axes>"
      ]
     },
     "metadata": {
      "needs_background": "light"
     },
     "output_type": "display_data"
    }
   ],
   "source": [
    "plt.imshow(splits[1])"
   ]
  },
  {
   "cell_type": "code",
   "execution_count": 14,
   "id": "2f557c29",
   "metadata": {},
   "outputs": [
    {
     "data": {
      "text/plain": [
       "<matplotlib.image.AxesImage at 0x1fdc67f9708>"
      ]
     },
     "execution_count": 14,
     "metadata": {},
     "output_type": "execute_result"
    },
    {
     "data": {
      "image/png": "[encoded data removed]",
      "text/plain": [
       "<Figure size 432x288 with 1 Axes>"
      ]
     },
     "metadata": {
      "needs_background": "light"
     },
     "output_type": "display_data"
    }
   ],
   "source": [
    "plt.imshow(splits[2])"
   ]
  },
  {
   "cell_type": "code",
   "execution_count": 25,
   "id": "45427bfb",
   "metadata": {},
   "outputs": [
    {
     "data": {
      "text/plain": [
       "<matplotlib.image.AxesImage at 0x1fdc71e3c08>"
      ]
     },
     "execution_count": 25,
     "metadata": {},
     "output_type": "execute_result"
    },
    {
     "data": {
      "image/png": "[encoded data removed]",
      "text/plain": [
       "<Figure size 432x288 with 1 Axes>"
      ]
     },
     "metadata": {
      "needs_background": "light"
     },
     "output_type": "display_data"
    }
   ],
   "source": [
    "plt.imshow(images[0])"
   ]
  },
  {
   "cell_type": "code",
   "execution_count": 20,
   "id": "f4bde32a",
   "metadata": {},
   "outputs": [
    {
     "data": {
      "text/plain": [
       "22"
      ]
     },
     "execution_count": 20,
     "metadata": {},
     "output_type": "execute_result"
    }
   ],
   "source": [
    "len(splits)"
   ]
  },
  {
   "cell_type": "code",
   "execution_count": 162,
   "id": "a57e32d2",
   "metadata": {},
   "outputs": [],
   "source": [
    "def get_stats(scores):\n",
    "    acc={}\n",
    "    for r in scores:\n",
    "        for m in scores[r]:\n",
    "            acc.setdefault(m,[]).append(scores[r][m])\n",
    "    res={}\n",
    "    for m in acc:\n",
    "        res[m] = (np.mean(acc[m]), np.std(acc[m]))\n",
    "    return res\n",
    "\n",
    "def combine_scores(scores, stats):\n",
    "    res = {}\n",
    "    for r in scores:\n",
    "        s=0\n",
    "        for m in scores[r]:\n",
    "            s += (scores[r][m]-stats[m][0])/stats[m][1]\n",
    "        res[r] = s\n",
    "    return res\n",
    "\n",
    "class ImageRecord:\n",
    "    def __init__(self, img, methods):\n",
    "        self.img = img\n",
    "        self.descriptors={}\n",
    "        self.descriptors = {m : methods[m].create_query(img) for m in methods}\n",
    "    def compare(self, other):\n",
    "        ret = {}\n",
    "        for m in self.descriptors:\n",
    "            if m in other.descriptors and m in method_classes:\n",
    "                ret[m] = method_classes[m].compare_queries(self.descriptors[m],other.descriptors[m])\n",
    "        return ret\n",
    "    \n",
    "class SplitRecord:\n",
    "    def __init__(self,img,methods,splitters,comparison_set=None):\n",
    "        self.original=ImageRecord(img,methods)\n",
    "        splits = []\n",
    "        for s in splitters:\n",
    "            splits += s(img)\n",
    "        self.shards = []\n",
    "        for s in splits:\n",
    "            self.shards += [ImageRecord(s, methods)]\n",
    "        self.stats=(1,1)\n",
    "        if comparison_set:\n",
    "            self.stats=self.condense_shards(comparison_set)\n",
    "    def condense_shards(self, comparison_set):\n",
    "        scores={}\n",
    "        for record in self.shards+comparison_set:\n",
    "            scores[record] = self.original.compare(record)\n",
    "        stats = get_stats(scores)\n",
    "        scores = combine_scores(scores,stats)\n",
    "        newshards=[]\n",
    "        s2=[]\n",
    "        for s in self.shards:\n",
    "            if scores[s]>0:\n",
    "                newshards.append(s)\n",
    "                s2.append(scores[s])\n",
    "        self.shards=newshards\n",
    "        return np.mean(s2), np.std(s2)\n",
    "    def compare(self,other,comparison_set):\n",
    "        scores={}\n",
    "        for record in [self.original,other.original]+self.shards+other.shards+comparison_set:\n",
    "            scores[record] = self.original.compare(record)\n",
    "        stats = get_stats(scores)\n",
    "        scores = combine_scores(scores,stats)\n",
    "        s1=[]\n",
    "        s2=[]\n",
    "        for s in self.shards:\n",
    "            if scores[s]>0:\n",
    "                s1.append(scores[s])\n",
    "        for s in other.shards:\n",
    "            if scores[s]>0:\n",
    "                s2.append(scores[s])\n",
    "        return np.mean(s1)-np.mean(s2)"
   ]
  },
  {
   "cell_type": "code",
   "execution_count": 30,
   "id": "43e352e2",
   "metadata": {},
   "outputs": [
    {
     "data": {
      "text/plain": [
       "{'Neural': <methods_v2.neural_method at 0x1fdc6a29408>,\n",
       " 'Small_Neural': <methods_v2.small_neural_method at 0x1fdc6a2d288>}"
      ]
     },
     "execution_count": 30,
     "metadata": {},
     "output_type": "execute_result"
    }
   ],
   "source": [
    "method_classes"
   ]
  },
  {
   "cell_type": "code",
   "execution_count": 52,
   "id": "e1d6c93b",
   "metadata": {},
   "outputs": [],
   "source": [
    "im=ImageRecord(images[0], method_classes)"
   ]
  },
  {
   "cell_type": "code",
   "execution_count": 42,
   "id": "69d57c57",
   "metadata": {},
   "outputs": [
    {
     "data": {
      "text/plain": [
       "'Neural'"
      ]
     },
     "execution_count": 42,
     "metadata": {},
     "output_type": "execute_result"
    }
   ],
   "source": [
    "method_classes['Neural'].name()"
   ]
  },
  {
   "cell_type": "code",
   "execution_count": 164,
   "id": "045db05e",
   "metadata": {},
   "outputs": [
    {
     "data": {
      "text/plain": [
       "7"
      ]
     },
     "execution_count": 164,
     "metadata": {},
     "output_type": "execute_result"
    }
   ],
   "source": [
    "s=SplitRecord(images[1],method_classes, [lambda x: split_image(x)], [ImageRecord(i,method_classes) for i in images[0:10]])\n",
    "len(s.shards)"
   ]
  },
  {
   "cell_type": "code",
   "execution_count": 174,
   "id": "31e6a373",
   "metadata": {},
   "outputs": [
    {
     "data": {
      "text/plain": [
       "<matplotlib.image.AxesImage at 0x1fdc9ea68c8>"
      ]
     },
     "execution_count": 174,
     "metadata": {},
     "output_type": "execute_result"
    },
    {
     "data": {
      "image/png": "[encoded data removed]",
      "text/plain": [
       "<Figure size 432x288 with 1 Axes>"
      ]
     },
     "metadata": {
      "needs_background": "light"
     },
     "output_type": "display_data"
    }
   ],
   "source": [
    "plt.imshow(s.shards[0].img)"
   ]
  },
  {
   "cell_type": "code",
   "execution_count": 179,
   "id": "a6980b21",
   "metadata": {},
   "outputs": [
    {
     "name": "stderr",
     "output_type": "stream",
     "text": [
      "C:\\Users\\Ty\\Anaconda3\\envs\\icon\\lib\\site-packages\\numpy\\core\\fromnumeric.py:3420: RuntimeWarning: Mean of empty slice.\n",
      "  out=out, **kwargs)\n",
      "C:\\Users\\Ty\\Anaconda3\\envs\\icon\\lib\\site-packages\\numpy\\core\\_methods.py:188: RuntimeWarning: invalid value encountered in double_scalars\n",
      "  ret = ret.dtype.type(ret / rcount)\n"
     ]
    },
    {
     "data": {
      "text/plain": [
       "nan"
      ]
     },
     "execution_count": 179,
     "metadata": {},
     "output_type": "execute_result"
    }
   ],
   "source": [
    "s.compare(s2 ,[ImageRecord(i,method_classes) for i in images[0:10]])"
   ]
  },
  {
   "cell_type": "code",
   "execution_count": 178,
   "id": "27c24fa3",
   "metadata": {},
   "outputs": [],
   "source": [
    "s2=SplitRecord(images[2],method_classes, [lambda x: split_image(x)], [ImageRecord(i,method_classes) for i in images[0:10]])"
   ]
  },
  {
   "cell_type": "code",
   "execution_count": 180,
   "id": "744bbc1a",
   "metadata": {},
   "outputs": [],
   "source": [
    "#plan:\n",
    "# image preprocessing\n",
    "# image splitting methods    \\\n",
    "# image modification methods / kind of the same thing\n",
    "# image comparison methods\n",
    "# weighting of individual method scores\n",
    "# combining of individiual splits scores\n"
   ]
  },
  {
   "cell_type": "code",
   "execution_count": 211,
   "id": "a0096dc0",
   "metadata": {},
   "outputs": [],
   "source": [
    "#image splitting\n",
    "def gsb(s):\n",
    "    x,y=np.where(s)\n",
    "    return x.min(), y.min(), x.max(), y.max()\n",
    "def cropresize(img,b, bg=None):\n",
    "    x1,y1,x2,y2=gsb(b)\n",
    "    if bg is not None:\n",
    "        img=img.copy()\n",
    "        img[b!=True]=bg\n",
    "    return cv2.resize(img[x1:x2,y1:y2,:],img.shape[:-1])\n",
    "def maskout(img,b,bg):\n",
    "    try:\n",
    "        return np.where(b.reshape(img.shape[:-1]+[1]),stdl, bg if bg is not None else 0)\n",
    "    except:\n",
    "        return None\n",
    "def split_contour(img,center=True,hulls=False):\n",
    "    # pass this an image, and it will return a list of sub-images.\n",
    "    # method: determines whether to split by color or using the contour method\n",
    "    # center: whether to center and resize the split parts, or to leave them in their original location in the image\n",
    "    # hulls: if true use the convex hull of the contour, otherwise use the raw contour \n",
    "    masks=[]\n",
    "    bgcolor=None\n",
    "    img2=prep_img(img, False)\n",
    "    contours,edges=find_contours(img2)\n",
    "    if hulls:\n",
    "        contours=[cv2.convexHull(c) for c in contours if len(c)>2]\n",
    "    for i in range(len(contours)):\n",
    "        masks += [cv2.drawContours(np.zeros_like(img2), contours, i, 1, 0)]\n",
    "    return masks\n",
    "    if center:\n",
    "        return [cropresize(img,b,bgcolor) for b in masks]\n",
    "    else:\n",
    "        return [maskout(img,b,bgcolor) for b in masks]    "
   ]
  },
  {
   "cell_type": "code",
   "execution_count": 212,
   "id": "677cb90c",
   "metadata": {},
   "outputs": [],
   "source": [
    "m= split_contour(images[0])"
   ]
  },
  {
   "cell_type": "code",
   "execution_count": 213,
   "id": "f511b4d1",
   "metadata": {},
   "outputs": [
    {
     "ename": "ValueError",
     "evalue": "too many values to unpack (expected 2)",
     "output_type": "error",
     "traceback": [
      "\u001b[1;31m---------------------------------------------------------------------------\u001b[0m",
      "\u001b[1;31mValueError\u001b[0m                                Traceback (most recent call last)",
      "\u001b[1;32m<ipython-input-213-ec0ad8acf8bb>\u001b[0m in \u001b[0;36m<module>\u001b[1;34m\u001b[0m\n\u001b[1;32m----> 1\u001b[1;33m \u001b[0mcropresize\u001b[0m\u001b[1;33m(\u001b[0m\u001b[0mimages\u001b[0m\u001b[1;33m[\u001b[0m\u001b[1;36m0\u001b[0m\u001b[1;33m]\u001b[0m\u001b[1;33m,\u001b[0m\u001b[0mm\u001b[0m\u001b[1;33m[\u001b[0m\u001b[1;36m0\u001b[0m\u001b[1;33m]\u001b[0m\u001b[1;33m,\u001b[0m\u001b[1;33m(\u001b[0m\u001b[1;36m1\u001b[0m\u001b[1;33m,\u001b[0m\u001b[1;36m1\u001b[0m\u001b[1;33m,\u001b[0m\u001b[1;36m1\u001b[0m\u001b[1;33m)\u001b[0m\u001b[1;33m)\u001b[0m\u001b[1;33m\u001b[0m\u001b[1;33m\u001b[0m\u001b[0m\n\u001b[0m",
      "\u001b[1;32m<ipython-input-211-5326c2d314ae>\u001b[0m in \u001b[0;36mcropresize\u001b[1;34m(img, b, bg)\u001b[0m\n\u001b[0;32m      4\u001b[0m     \u001b[1;32mreturn\u001b[0m \u001b[0mx\u001b[0m\u001b[1;33m.\u001b[0m\u001b[0mmin\u001b[0m\u001b[1;33m(\u001b[0m\u001b[1;33m)\u001b[0m\u001b[1;33m,\u001b[0m \u001b[0my\u001b[0m\u001b[1;33m.\u001b[0m\u001b[0mmin\u001b[0m\u001b[1;33m(\u001b[0m\u001b[1;33m)\u001b[0m\u001b[1;33m,\u001b[0m \u001b[0mx\u001b[0m\u001b[1;33m.\u001b[0m\u001b[0mmax\u001b[0m\u001b[1;33m(\u001b[0m\u001b[1;33m)\u001b[0m\u001b[1;33m,\u001b[0m \u001b[0my\u001b[0m\u001b[1;33m.\u001b[0m\u001b[0mmax\u001b[0m\u001b[1;33m(\u001b[0m\u001b[1;33m)\u001b[0m\u001b[1;33m\u001b[0m\u001b[1;33m\u001b[0m\u001b[0m\n\u001b[0;32m      5\u001b[0m \u001b[1;32mdef\u001b[0m \u001b[0mcropresize\u001b[0m\u001b[1;33m(\u001b[0m\u001b[0mimg\u001b[0m\u001b[1;33m,\u001b[0m\u001b[0mb\u001b[0m\u001b[1;33m,\u001b[0m \u001b[0mbg\u001b[0m\u001b[1;33m=\u001b[0m\u001b[1;32mNone\u001b[0m\u001b[1;33m)\u001b[0m\u001b[1;33m:\u001b[0m\u001b[1;33m\u001b[0m\u001b[1;33m\u001b[0m\u001b[0m\n\u001b[1;32m----> 6\u001b[1;33m     \u001b[0mx1\u001b[0m\u001b[1;33m,\u001b[0m\u001b[0my1\u001b[0m\u001b[1;33m,\u001b[0m\u001b[0mx2\u001b[0m\u001b[1;33m,\u001b[0m\u001b[0my2\u001b[0m\u001b[1;33m=\u001b[0m\u001b[0mgsb\u001b[0m\u001b[1;33m(\u001b[0m\u001b[0mb\u001b[0m\u001b[1;33m)\u001b[0m\u001b[1;33m\u001b[0m\u001b[1;33m\u001b[0m\u001b[0m\n\u001b[0m\u001b[0;32m      7\u001b[0m     \u001b[1;32mif\u001b[0m \u001b[0mbg\u001b[0m \u001b[1;32mis\u001b[0m \u001b[1;32mnot\u001b[0m \u001b[1;32mNone\u001b[0m\u001b[1;33m:\u001b[0m\u001b[1;33m\u001b[0m\u001b[1;33m\u001b[0m\u001b[0m\n\u001b[0;32m      8\u001b[0m         \u001b[0mimg\u001b[0m\u001b[1;33m=\u001b[0m\u001b[0mimg\u001b[0m\u001b[1;33m.\u001b[0m\u001b[0mcopy\u001b[0m\u001b[1;33m(\u001b[0m\u001b[1;33m)\u001b[0m\u001b[1;33m\u001b[0m\u001b[1;33m\u001b[0m\u001b[0m\n",
      "\u001b[1;32m<ipython-input-211-5326c2d314ae>\u001b[0m in \u001b[0;36mgsb\u001b[1;34m(s)\u001b[0m\n\u001b[0;32m      1\u001b[0m \u001b[1;31m#image splitting\u001b[0m\u001b[1;33m\u001b[0m\u001b[1;33m\u001b[0m\u001b[1;33m\u001b[0m\u001b[0m\n\u001b[0;32m      2\u001b[0m \u001b[1;32mdef\u001b[0m \u001b[0mgsb\u001b[0m\u001b[1;33m(\u001b[0m\u001b[0ms\u001b[0m\u001b[1;33m)\u001b[0m\u001b[1;33m:\u001b[0m\u001b[1;33m\u001b[0m\u001b[1;33m\u001b[0m\u001b[0m\n\u001b[1;32m----> 3\u001b[1;33m     \u001b[0mx\u001b[0m\u001b[1;33m,\u001b[0m\u001b[0my\u001b[0m\u001b[1;33m=\u001b[0m\u001b[0mnp\u001b[0m\u001b[1;33m.\u001b[0m\u001b[0mwhere\u001b[0m\u001b[1;33m(\u001b[0m\u001b[0ms\u001b[0m\u001b[1;33m)\u001b[0m\u001b[1;33m\u001b[0m\u001b[1;33m\u001b[0m\u001b[0m\n\u001b[0m\u001b[0;32m      4\u001b[0m     \u001b[1;32mreturn\u001b[0m \u001b[0mx\u001b[0m\u001b[1;33m.\u001b[0m\u001b[0mmin\u001b[0m\u001b[1;33m(\u001b[0m\u001b[1;33m)\u001b[0m\u001b[1;33m,\u001b[0m \u001b[0my\u001b[0m\u001b[1;33m.\u001b[0m\u001b[0mmin\u001b[0m\u001b[1;33m(\u001b[0m\u001b[1;33m)\u001b[0m\u001b[1;33m,\u001b[0m \u001b[0mx\u001b[0m\u001b[1;33m.\u001b[0m\u001b[0mmax\u001b[0m\u001b[1;33m(\u001b[0m\u001b[1;33m)\u001b[0m\u001b[1;33m,\u001b[0m \u001b[0my\u001b[0m\u001b[1;33m.\u001b[0m\u001b[0mmax\u001b[0m\u001b[1;33m(\u001b[0m\u001b[1;33m)\u001b[0m\u001b[1;33m\u001b[0m\u001b[1;33m\u001b[0m\u001b[0m\n\u001b[0;32m      5\u001b[0m \u001b[1;32mdef\u001b[0m \u001b[0mcropresize\u001b[0m\u001b[1;33m(\u001b[0m\u001b[0mimg\u001b[0m\u001b[1;33m,\u001b[0m\u001b[0mb\u001b[0m\u001b[1;33m,\u001b[0m \u001b[0mbg\u001b[0m\u001b[1;33m=\u001b[0m\u001b[1;32mNone\u001b[0m\u001b[1;33m)\u001b[0m\u001b[1;33m:\u001b[0m\u001b[1;33m\u001b[0m\u001b[1;33m\u001b[0m\u001b[0m\n",
      "\u001b[1;31mValueError\u001b[0m: too many values to unpack (expected 2)"
     ]
    }
   ],
   "source": [
    "cropresize(images[0],m[0],(1,1,1))"
   ]
  },
  {
   "cell_type": "code",
   "execution_count": 215,
   "id": "7ea6dbdf",
   "metadata": {},
   "outputs": [
    {
     "data": {
      "text/plain": [
       "(array([30, 30, 30, 30, 30, 30, 30, 31, 31, 31, 31, 31, 32, 32, 33, 33, 34,\n",
       "        34, 34, 35, 35, 35, 36, 36, 36, 37, 37, 37, 38, 38, 38, 38, 38, 38,\n",
       "        38, 38, 38, 38, 38, 38, 38, 38, 38, 38, 38, 38, 38, 38, 38, 38, 38,\n",
       "        38, 39, 39, 39, 39, 39, 39, 39, 39, 40, 40, 40, 40, 40, 40, 40, 40,\n",
       "        40, 40, 40, 40, 40, 40, 40, 40, 40, 40, 40, 40, 40, 40, 40, 40, 40,\n",
       "        41, 41, 41, 41, 41, 41, 41, 41, 41, 42, 42, 42, 42, 42, 42, 42, 42,\n",
       "        42, 42, 42, 43, 43, 43, 43, 43, 43, 43, 43, 43, 43, 44, 44, 44, 44,\n",
       "        44, 44, 44, 44, 44, 44, 45, 45, 45, 45, 45, 45, 45, 45, 46, 46, 46,\n",
       "        46, 46, 46, 47, 47, 47, 47, 47, 47, 47, 48, 48, 48, 48, 48, 48, 48,\n",
       "        48, 48, 49, 49, 49, 49, 49, 49, 49, 49, 49, 50, 50, 50, 50, 50, 50,\n",
       "        50, 50, 51, 51, 51, 51, 51, 51, 51, 51, 51, 52, 52, 52, 52, 52, 52,\n",
       "        52, 52, 52, 52, 52, 53, 53, 53, 53, 53, 53, 53, 53, 53, 53, 54, 54,\n",
       "        54, 54, 54, 54, 54, 54, 54, 54, 55, 55, 55, 55, 55, 55, 55, 55, 55,\n",
       "        56, 56, 56, 56, 56, 56, 56, 56, 57, 57, 57, 57, 57, 57, 57, 57, 57,\n",
       "        57, 58, 58, 58, 58, 58, 58, 58, 58, 58, 58, 59, 59, 59, 59, 59, 59,\n",
       "        59, 60, 60, 60, 60, 60, 60, 61, 61, 61, 61, 61, 61, 62, 62, 62, 62,\n",
       "        62, 62, 63, 63, 63, 63, 63, 63, 63, 63, 63, 63, 63, 63, 64, 64, 64,\n",
       "        64, 64, 64, 64, 65, 65, 65, 65, 65, 65, 65, 65, 65, 65, 65, 65, 65,\n",
       "        66, 66, 66, 66, 66, 66, 66, 66, 67, 67, 67, 67, 67, 67, 67, 67, 68,\n",
       "        68, 68, 68, 68, 68, 68, 68, 69, 69, 69, 69, 69, 69, 69, 69, 70, 70,\n",
       "        70, 70, 70, 70, 70, 70, 70, 70, 70, 70, 71, 71, 71, 71, 71, 71, 71,\n",
       "        71, 72, 72, 72, 72, 72, 72, 72, 72, 72, 72, 72, 72, 73, 73, 73, 73,\n",
       "        73, 73, 73, 73, 74, 74, 74, 74, 74, 74, 74, 74, 75, 75, 75, 75, 75,\n",
       "        75, 75, 76, 76, 76, 76, 76, 76, 77, 77, 77, 77, 77, 77, 77, 78, 78,\n",
       "        78, 78, 78, 78, 78, 78, 78, 79, 79, 79, 79, 79, 79, 79, 79, 79, 80,\n",
       "        80, 80, 80, 80, 80, 80, 80, 80, 80, 81, 81, 81, 81, 81, 81, 81, 81,\n",
       "        81, 81, 82, 82, 82, 82, 82, 82, 82, 82, 82, 82, 83, 83, 83, 83, 83,\n",
       "        83, 83, 83, 83, 83, 83, 84, 84, 84, 84, 84, 84, 84, 84, 84, 84, 84,\n",
       "        84, 85, 85, 85, 85, 85, 85, 85, 85, 85, 85, 86, 86, 86, 86, 86, 86,\n",
       "        86, 86, 86, 86, 87, 87, 87, 87, 87, 87, 87, 87, 87, 87, 87, 87, 87,\n",
       "        87, 87, 87, 87, 87, 87, 87, 87, 87, 88, 88, 88, 88, 88, 88, 88, 89,\n",
       "        89, 89, 89, 89, 89, 89, 89, 89, 89, 89, 89, 89, 89, 89, 89, 89, 89,\n",
       "        89, 89, 89, 89, 89, 90, 90, 90, 90, 90, 90, 90, 91, 91, 91, 91, 91,\n",
       "        91, 91, 92, 92, 92, 92, 92, 92, 92, 93, 93, 93, 93, 93, 93, 94, 94,\n",
       "        94, 94, 94, 94, 95, 95, 95, 95, 95, 95, 96, 96, 96, 96, 96, 96, 96,\n",
       "        96, 96, 96, 96, 97, 97, 97, 97, 97, 97, 97, 97, 97, 97, 97, 97, 97,\n",
       "        97, 97, 97, 97], dtype=int64),\n",
       " array([54, 55, 56, 57, 58, 59, 60, 52, 53, 61, 62, 63, 51, 64, 50, 63, 48,\n",
       "        49, 64, 47, 62, 63, 46, 60, 61, 45, 58, 59, 44, 57, 61, 62, 63, 64,\n",
       "        65, 66, 67, 68, 69, 70, 71, 72, 73, 74, 75, 76, 77, 78, 85, 86, 87,\n",
       "        88, 43, 56, 59, 60, 79, 80, 84, 89, 42, 55, 58, 62, 63, 64, 65, 66,\n",
       "        67, 68, 69, 70, 71, 72, 73, 74, 75, 76, 77, 81, 82, 85, 86, 87, 88,\n",
       "        41, 53, 54, 58, 61, 78, 79, 83, 84, 32, 33, 34, 40, 52, 56, 57, 60,\n",
       "        80, 81, 85, 31, 35, 39, 52, 55, 59, 82, 83, 86, 87, 31, 36, 38, 50,\n",
       "        51, 54, 57, 58, 84, 88, 30, 37, 49, 54, 56, 85, 86, 89, 30, 48, 54,\n",
       "        56, 87, 90, 30, 47, 54, 56, 87, 91, 96, 31, 47, 54, 56, 88, 89, 92,\n",
       "        95, 97, 32, 48, 49, 54, 56, 90, 92, 95, 97, 32, 50, 54, 56, 90, 93,\n",
       "        95, 97, 31, 44, 51, 53, 56, 91, 93, 95, 97, 31, 43, 45, 49, 50, 52,\n",
       "        55, 91, 93, 95, 97, 30, 42, 45, 48, 51, 54, 91, 93, 95, 97, 30, 41,\n",
       "        46, 48, 50, 53, 91, 93, 95, 97, 30, 40, 47, 50, 52, 91, 93, 95, 97,\n",
       "        31, 39, 49, 52, 91, 93, 95, 97, 31, 34, 37, 38, 48, 51, 91, 93, 95,\n",
       "        97, 31, 33, 35, 36, 47, 50, 90, 93, 95, 97, 32, 46, 49, 89, 92, 94,\n",
       "        97, 45, 48, 88, 91, 93, 97, 46, 48, 87, 90, 93, 97, 45, 48, 87, 89,\n",
       "        93, 96, 46, 49, 50, 51, 52, 53, 54, 55, 87, 89, 92, 95, 44, 47, 56,\n",
       "        86, 89, 91, 96, 43, 45, 48, 49, 50, 51, 52, 53, 57, 86, 88, 91, 96,\n",
       "        43, 45, 54, 56, 86, 88, 91, 97, 43, 45, 54, 56, 85, 88, 91, 97, 43,\n",
       "        45, 54, 56, 85, 87, 90, 97, 42, 45, 54, 56, 84, 87, 90, 97, 42, 44,\n",
       "        49, 50, 51, 52, 53, 56, 83, 86, 90, 97, 42, 44, 48, 55, 83, 85, 90,\n",
       "        97, 42, 45, 47, 50, 51, 52, 53, 54, 82, 85, 90, 97, 43, 45, 48, 49,\n",
       "        82, 84, 91, 97, 43, 46, 81, 84, 86, 87, 91, 97, 44, 47, 80, 85, 88,\n",
       "        92, 96, 45, 48, 79, 88, 92, 96, 43, 46, 48, 79, 89, 93, 96, 42, 44,\n",
       "        46, 48, 78, 81, 89, 94, 96, 42, 44, 46, 48, 77, 80, 82, 89, 95, 42,\n",
       "        44, 46, 48, 76, 79, 82, 89, 94, 96, 42, 44, 46, 48, 75, 78, 82, 89,\n",
       "        94, 96, 42, 44, 46, 48, 74, 77, 82, 89, 93, 96, 42, 44, 46, 48, 72,\n",
       "        73, 77, 82, 89, 92, 96, 42, 44, 46, 48, 70, 71, 75, 76, 82, 89, 91,\n",
       "        96, 43, 45, 49, 69, 73, 74, 82, 89, 91, 97, 42, 50, 67, 68, 71, 72,\n",
       "        82, 89, 91, 97, 41, 51, 52, 53, 54, 55, 56, 57, 58, 59, 60, 61, 62,\n",
       "        63, 64, 65, 66, 70, 82, 89, 91, 97, 40, 68, 69, 81, 89, 91, 96, 39,\n",
       "        50, 51, 52, 53, 54, 55, 56, 57, 58, 59, 60, 61, 62, 63, 64, 65, 66,\n",
       "        67, 80, 89, 91, 97, 37, 38, 49, 79, 89, 91, 97, 36, 48, 77, 78, 89,\n",
       "        91, 97, 35, 47, 75, 76, 88, 91, 97, 34, 46, 74, 88, 91, 97, 34, 45,\n",
       "        75, 88, 91, 97, 33, 45, 74, 87, 91, 97, 34, 35, 36, 44, 75, 76, 77,\n",
       "        85, 86, 92, 96, 37, 38, 39, 40, 41, 42, 43, 78, 79, 80, 81, 82, 83,\n",
       "        84, 93, 94, 95], dtype=int64),\n",
       " array([0, 0, 0, 0, 0, 0, 0, 0, 0, 0, 0, 0, 0, 0, 0, 0, 0, 0, 0, 0, 0, 0,\n",
       "        0, 0, 0, 0, 0, 0, 0, 0, 0, 0, 0, 0, 0, 0, 0, 0, 0, 0, 0, 0, 0, 0,\n",
       "        0, 0, 0, 0, 0, 0, 0, 0, 0, 0, 0, 0, 0, 0, 0, 0, 0, 0, 0, 0, 0, 0,\n",
       "        0, 0, 0, 0, 0, 0, 0, 0, 0, 0, 0, 0, 0, 0, 0, 0, 0, 0, 0, 0, 0, 0,\n",
       "        0, 0, 0, 0, 0, 0, 0, 0, 0, 0, 0, 0, 0, 0, 0, 0, 0, 0, 0, 0, 0, 0,\n",
       "        0, 0, 0, 0, 0, 0, 0, 0, 0, 0, 0, 0, 0, 0, 0, 0, 0, 0, 0, 0, 0, 0,\n",
       "        0, 0, 0, 0, 0, 0, 0, 0, 0, 0, 0, 0, 0, 0, 0, 0, 0, 0, 0, 0, 0, 0,\n",
       "        0, 0, 0, 0, 0, 0, 0, 0, 0, 0, 0, 0, 0, 0, 0, 0, 0, 0, 0, 0, 0, 0,\n",
       "        0, 0, 0, 0, 0, 0, 0, 0, 0, 0, 0, 0, 0, 0, 0, 0, 0, 0, 0, 0, 0, 0,\n",
       "        0, 0, 0, 0, 0, 0, 0, 0, 0, 0, 0, 0, 0, 0, 0, 0, 0, 0, 0, 0, 0, 0,\n",
       "        0, 0, 0, 0, 0, 0, 0, 0, 0, 0, 0, 0, 0, 0, 0, 0, 0, 0, 0, 0, 0, 0,\n",
       "        0, 0, 0, 0, 0, 0, 0, 0, 0, 0, 0, 0, 0, 0, 0, 0, 0, 0, 0, 0, 0, 0,\n",
       "        0, 0, 0, 0, 0, 0, 0, 0, 0, 0, 0, 0, 0, 0, 0, 0, 0, 0, 0, 0, 0, 0,\n",
       "        0, 0, 0, 0, 0, 0, 0, 0, 0, 0, 0, 0, 0, 0, 0, 0, 0, 0, 0, 0, 0, 0,\n",
       "        0, 0, 0, 0, 0, 0, 0, 0, 0, 0, 0, 0, 0, 0, 0, 0, 0, 0, 0, 0, 0, 0,\n",
       "        0, 0, 0, 0, 0, 0, 0, 0, 0, 0, 0, 0, 0, 0, 0, 0, 0, 0, 0, 0, 0, 0,\n",
       "        0, 0, 0, 0, 0, 0, 0, 0, 0, 0, 0, 0, 0, 0, 0, 0, 0, 0, 0, 0, 0, 0,\n",
       "        0, 0, 0, 0, 0, 0, 0, 0, 0, 0, 0, 0, 0, 0, 0, 0, 0, 0, 0, 0, 0, 0,\n",
       "        0, 0, 0, 0, 0, 0, 0, 0, 0, 0, 0, 0, 0, 0, 0, 0, 0, 0, 0, 0, 0, 0,\n",
       "        0, 0, 0, 0, 0, 0, 0, 0, 0, 0, 0, 0, 0, 0, 0, 0, 0, 0, 0, 0, 0, 0,\n",
       "        0, 0, 0, 0, 0, 0, 0, 0, 0, 0, 0, 0, 0, 0, 0, 0, 0, 0, 0, 0, 0, 0,\n",
       "        0, 0, 0, 0, 0, 0, 0, 0, 0, 0, 0, 0, 0, 0, 0, 0, 0, 0, 0, 0, 0, 0,\n",
       "        0, 0, 0, 0, 0, 0, 0, 0, 0, 0, 0, 0, 0, 0, 0, 0, 0, 0, 0, 0, 0, 0,\n",
       "        0, 0, 0, 0, 0, 0, 0, 0, 0, 0, 0, 0, 0, 0, 0, 0, 0, 0, 0, 0, 0, 0,\n",
       "        0, 0, 0, 0, 0, 0, 0, 0, 0, 0, 0, 0, 0, 0, 0, 0, 0, 0, 0, 0, 0, 0,\n",
       "        0, 0, 0, 0, 0, 0, 0, 0, 0, 0, 0, 0, 0, 0, 0, 0, 0, 0, 0, 0, 0, 0,\n",
       "        0, 0, 0, 0, 0, 0, 0, 0, 0, 0, 0, 0, 0, 0, 0, 0, 0, 0, 0, 0, 0, 0,\n",
       "        0, 0, 0, 0, 0, 0, 0, 0, 0, 0, 0, 0, 0, 0, 0, 0, 0, 0, 0, 0, 0, 0],\n",
       "       dtype=int64))"
      ]
     },
     "execution_count": 215,
     "metadata": {},
     "output_type": "execute_result"
    }
   ],
   "source": [
    "np.where(m[0])"
   ]
  },
  {
   "cell_type": "code",
   "execution_count": null,
   "id": "cce18092",
   "metadata": {},
   "outputs": [],
   "source": []
  }
 ],
 "metadata": {
  "kernelspec": {
   "display_name": "Python 3",
   "language": "python",
   "name": "python3"
  },
  "language_info": {
   "codemirror_mode": {
    "name": "ipython",
    "version": 3
   },
   "file_extension": ".py",
   "mimetype": "text/x-python",
   "name": "python",
   "nbconvert_exporter": "python",
   "pygments_lexer": "ipython3",
   "version": "3.7.10"
  }
 },
 "nbformat": 4,
 "nbformat_minor": 5
}
